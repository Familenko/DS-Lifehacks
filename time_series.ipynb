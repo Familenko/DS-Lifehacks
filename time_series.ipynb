{
 "cells": [
  {
   "cell_type": "code",
   "execution_count": 19,
   "id": "1eae3875",
   "metadata": {},
   "outputs": [],
   "source": [
    "import numpy as np\n",
    "import pandas as pd"
   ]
  },
  {
   "cell_type": "markdown",
   "id": "b90bf0e4",
   "metadata": {},
   "source": [
    "# одновимірне вікно"
   ]
  },
  {
   "cell_type": "code",
   "execution_count": 20,
   "id": "5450eb38",
   "metadata": {},
   "outputs": [],
   "source": [
    "def get_labelled_windows(x, horizon=1):\n",
    "    \"\"\"\n",
    "    Creates labels for windowed dataset.\n",
    "    \"\"\"\n",
    "    return x[:, :-horizon], x[:, -horizon:]\n",
    "\n",
    "def make_windows(x, window_size=7, horizon=1):\n",
    "    \"\"\"\n",
    "    Turns a 1D array into a 2D array of sequential windows of window_size.\n",
    "    \"\"\"\n",
    "    window_step = np.expand_dims(np.arange(window_size+horizon), axis=0)\n",
    "    window_indexes = window_step + np.expand_dims(np.arange(len(x)-(window_size+horizon-1)), axis=0).T\n",
    "    windowed_array = x[window_indexes]\n",
    "    windows, labels = get_labelled_windows(windowed_array, horizon=horizon)\n",
    "    return windows, labels\n",
    "\n",
    "def make_train_test_splits(windows, labels, test_split=0.2):\n",
    "    \"\"\"\n",
    "    Splits matching pairs of windows and labels into train and test splits.\n",
    "    \"\"\"\n",
    "    split_size = int(len(windows) * (1-test_split))\n",
    "    train_windows = windows[:split_size]\n",
    "    train_labels = labels[:split_size]\n",
    "    test_windows = windows[split_size:]\n",
    "    test_labels = labels[split_size:]\n",
    "    return train_windows, test_windows, train_labels, test_labels"
   ]
  },
  {
   "cell_type": "code",
   "execution_count": 21,
   "id": "988e2475",
   "metadata": {},
   "outputs": [
    {
     "data": {
      "application/vnd.microsoft.datawrangler.viewer.v0+json": {
       "columns": [
        {
         "name": "index",
         "rawType": "int64",
         "type": "integer"
        },
        {
         "name": "time",
         "rawType": "int64",
         "type": "integer"
        },
        {
         "name": "value",
         "rawType": "float64",
         "type": "float"
        }
       ],
       "ref": "9373c0d4-2ea6-44be-994f-a6142d921a03",
       "rows": [
        [
         "0",
         "0",
         "0.54"
        ],
        [
         "1",
         "1",
         "2.21"
        ],
        [
         "2",
         "2",
         "-0.23"
        ],
        [
         "3",
         "3",
         "5.36"
        ],
        [
         "4",
         "4",
         "3.62"
        ],
        [
         "5",
         "5",
         "2.3"
        ],
        [
         "6",
         "6",
         "6.02"
        ],
        [
         "7",
         "7",
         "6.87"
        ],
        [
         "8",
         "8",
         "7.97"
        ],
        [
         "9",
         "9",
         "8.53"
        ],
        [
         "10",
         "10",
         "9.66"
        ],
        [
         "11",
         "11",
         "7.94"
        ],
        [
         "12",
         "12",
         "14.17"
        ],
        [
         "13",
         "13",
         "14.06"
        ],
        [
         "14",
         "14",
         "15.75"
        ],
        [
         "15",
         "15",
         "12.78"
        ],
        [
         "16",
         "16",
         "17.8"
        ],
        [
         "17",
         "17",
         "12.66"
        ],
        [
         "18",
         "18",
         "17.91"
        ],
        [
         "19",
         "19",
         "19.92"
        ],
        [
         "20",
         "20",
         "19.85"
        ],
        [
         "21",
         "21",
         "16.96"
        ],
        [
         "22",
         "22",
         "19.4"
        ],
        [
         "23",
         "23",
         "26.59"
        ],
        [
         "24",
         "24",
         "22.15"
        ],
        [
         "25",
         "25",
         "22.59"
        ],
        [
         "26",
         "26",
         "30.57"
        ],
        [
         "27",
         "27",
         "24.49"
        ],
        [
         "28",
         "28",
         "27.14"
        ],
        [
         "29",
         "29",
         "28.31"
        ],
        [
         "30",
         "30",
         "29.38"
        ],
        [
         "31",
         "31",
         "31.87"
        ],
        [
         "32",
         "32",
         "33.89"
        ],
        [
         "33",
         "33",
         "33.38"
        ],
        [
         "34",
         "34",
         "32.64"
        ],
        [
         "35",
         "35",
         "33.46"
        ],
        [
         "36",
         "36",
         "36.42"
        ],
        [
         "37",
         "37",
         "37.27"
        ],
        [
         "38",
         "38",
         "36.96"
        ],
        [
         "39",
         "39",
         "41.25"
        ],
        [
         "40",
         "40",
         "40.22"
        ],
        [
         "41",
         "41",
         "42.42"
        ],
        [
         "42",
         "42",
         "43.24"
        ],
        [
         "43",
         "43",
         "44.84"
        ],
        [
         "44",
         "44",
         "42.22"
        ],
        [
         "45",
         "45",
         "49.81"
        ],
        [
         "46",
         "46",
         "45.3"
        ],
        [
         "47",
         "47",
         "48.44"
        ],
        [
         "48",
         "48",
         "46.75"
        ],
        [
         "49",
         "49",
         "48.7"
        ]
       ],
       "shape": {
        "columns": 2,
        "rows": 1000
       }
      },
      "text/html": [
       "<div>\n",
       "<style scoped>\n",
       "    .dataframe tbody tr th:only-of-type {\n",
       "        vertical-align: middle;\n",
       "    }\n",
       "\n",
       "    .dataframe tbody tr th {\n",
       "        vertical-align: top;\n",
       "    }\n",
       "\n",
       "    .dataframe thead th {\n",
       "        text-align: right;\n",
       "    }\n",
       "</style>\n",
       "<table border=\"1\" class=\"dataframe\">\n",
       "  <thead>\n",
       "    <tr style=\"text-align: right;\">\n",
       "      <th></th>\n",
       "      <th>time</th>\n",
       "      <th>value</th>\n",
       "    </tr>\n",
       "  </thead>\n",
       "  <tbody>\n",
       "    <tr>\n",
       "      <th>0</th>\n",
       "      <td>0</td>\n",
       "      <td>0.54</td>\n",
       "    </tr>\n",
       "    <tr>\n",
       "      <th>1</th>\n",
       "      <td>1</td>\n",
       "      <td>2.21</td>\n",
       "    </tr>\n",
       "    <tr>\n",
       "      <th>2</th>\n",
       "      <td>2</td>\n",
       "      <td>-0.23</td>\n",
       "    </tr>\n",
       "    <tr>\n",
       "      <th>3</th>\n",
       "      <td>3</td>\n",
       "      <td>5.36</td>\n",
       "    </tr>\n",
       "    <tr>\n",
       "      <th>4</th>\n",
       "      <td>4</td>\n",
       "      <td>3.62</td>\n",
       "    </tr>\n",
       "    <tr>\n",
       "      <th>...</th>\n",
       "      <td>...</td>\n",
       "      <td>...</td>\n",
       "    </tr>\n",
       "    <tr>\n",
       "      <th>995</th>\n",
       "      <td>995</td>\n",
       "      <td>997.32</td>\n",
       "    </tr>\n",
       "    <tr>\n",
       "      <th>996</th>\n",
       "      <td>996</td>\n",
       "      <td>997.24</td>\n",
       "    </tr>\n",
       "    <tr>\n",
       "      <th>997</th>\n",
       "      <td>997</td>\n",
       "      <td>1000.10</td>\n",
       "    </tr>\n",
       "    <tr>\n",
       "      <th>998</th>\n",
       "      <td>998</td>\n",
       "      <td>997.05</td>\n",
       "    </tr>\n",
       "    <tr>\n",
       "      <th>999</th>\n",
       "      <td>999</td>\n",
       "      <td>998.34</td>\n",
       "    </tr>\n",
       "  </tbody>\n",
       "</table>\n",
       "<p>1000 rows × 2 columns</p>\n",
       "</div>"
      ],
      "text/plain": [
       "     time    value\n",
       "0       0     0.54\n",
       "1       1     2.21\n",
       "2       2    -0.23\n",
       "3       3     5.36\n",
       "4       4     3.62\n",
       "..    ...      ...\n",
       "995   995   997.32\n",
       "996   996   997.24\n",
       "997   997  1000.10\n",
       "998   998   997.05\n",
       "999   999   998.34\n",
       "\n",
       "[1000 rows x 2 columns]"
      ]
     },
     "execution_count": 21,
     "metadata": {},
     "output_type": "execute_result"
    }
   ],
   "source": [
    "time = np.arange(1000)\n",
    "df = pd.DataFrame({\"time\": time, \"value\": time + np.random.normal(0, 2, size=len(time))})\n",
    "df = df.round(2)\n",
    "\n",
    "df"
   ]
  },
  {
   "cell_type": "code",
   "execution_count": 22,
   "id": "3adc1d1a",
   "metadata": {},
   "outputs": [],
   "source": [
    "WINDOW_SIZE = 5\n",
    "HORIZON = 2\n",
    "TEST_SPLIT = 0.2\n",
    "\n",
    "windows, labels = make_windows(df[\"value\"].values, window_size=WINDOW_SIZE, horizon=HORIZON)\n",
    "train_windows, test_windows, train_labels, test_labels = make_train_test_splits(windows, labels, test_split=TEST_SPLIT)"
   ]
  },
  {
   "cell_type": "code",
   "execution_count": 23,
   "id": "15bbf69b",
   "metadata": {},
   "outputs": [
    {
     "data": {
      "application/vnd.microsoft.datawrangler.viewer.v0+json": {
       "columns": [
        {
         "name": "index",
         "rawType": "int64",
         "type": "integer"
        },
        {
         "name": "windows",
         "rawType": "object",
         "type": "unknown"
        },
        {
         "name": "labels",
         "rawType": "object",
         "type": "unknown"
        }
       ],
       "ref": "4683fdff-6eb7-46a0-8c3b-48229dca3af6",
       "rows": [
        [
         "0",
         "[0.54, 2.21, -0.23, 5.36, 3.62]",
         "[2.3, 6.02]"
        ],
        [
         "1",
         "[2.21, -0.23, 5.36, 3.62, 2.3]",
         "[6.02, 6.87]"
        ],
        [
         "2",
         "[-0.23, 5.36, 3.62, 2.3, 6.02]",
         "[6.87, 7.97]"
        ],
        [
         "3",
         "[5.36, 3.62, 2.3, 6.02, 6.87]",
         "[7.97, 8.53]"
        ],
        [
         "4",
         "[3.62, 2.3, 6.02, 6.87, 7.97]",
         "[8.53, 9.66]"
        ]
       ],
       "shape": {
        "columns": 2,
        "rows": 5
       }
      },
      "text/html": [
       "<div>\n",
       "<style scoped>\n",
       "    .dataframe tbody tr th:only-of-type {\n",
       "        vertical-align: middle;\n",
       "    }\n",
       "\n",
       "    .dataframe tbody tr th {\n",
       "        vertical-align: top;\n",
       "    }\n",
       "\n",
       "    .dataframe thead th {\n",
       "        text-align: right;\n",
       "    }\n",
       "</style>\n",
       "<table border=\"1\" class=\"dataframe\">\n",
       "  <thead>\n",
       "    <tr style=\"text-align: right;\">\n",
       "      <th></th>\n",
       "      <th>windows</th>\n",
       "      <th>labels</th>\n",
       "    </tr>\n",
       "  </thead>\n",
       "  <tbody>\n",
       "    <tr>\n",
       "      <th>0</th>\n",
       "      <td>[0.54, 2.21, -0.23, 5.36, 3.62]</td>\n",
       "      <td>[2.3, 6.02]</td>\n",
       "    </tr>\n",
       "    <tr>\n",
       "      <th>1</th>\n",
       "      <td>[2.21, -0.23, 5.36, 3.62, 2.3]</td>\n",
       "      <td>[6.02, 6.87]</td>\n",
       "    </tr>\n",
       "    <tr>\n",
       "      <th>2</th>\n",
       "      <td>[-0.23, 5.36, 3.62, 2.3, 6.02]</td>\n",
       "      <td>[6.87, 7.97]</td>\n",
       "    </tr>\n",
       "    <tr>\n",
       "      <th>3</th>\n",
       "      <td>[5.36, 3.62, 2.3, 6.02, 6.87]</td>\n",
       "      <td>[7.97, 8.53]</td>\n",
       "    </tr>\n",
       "    <tr>\n",
       "      <th>4</th>\n",
       "      <td>[3.62, 2.3, 6.02, 6.87, 7.97]</td>\n",
       "      <td>[8.53, 9.66]</td>\n",
       "    </tr>\n",
       "  </tbody>\n",
       "</table>\n",
       "</div>"
      ],
      "text/plain": [
       "                           windows        labels\n",
       "0  [0.54, 2.21, -0.23, 5.36, 3.62]   [2.3, 6.02]\n",
       "1   [2.21, -0.23, 5.36, 3.62, 2.3]  [6.02, 6.87]\n",
       "2   [-0.23, 5.36, 3.62, 2.3, 6.02]  [6.87, 7.97]\n",
       "3    [5.36, 3.62, 2.3, 6.02, 6.87]  [7.97, 8.53]\n",
       "4    [3.62, 2.3, 6.02, 6.87, 7.97]  [8.53, 9.66]"
      ]
     },
     "execution_count": 23,
     "metadata": {},
     "output_type": "execute_result"
    }
   ],
   "source": [
    "pd.DataFrame({\n",
    "    \"windows\": [list(window) for window in train_windows],\n",
    "    \"labels\": [list(label) for label in train_labels]\n",
    "}).head()"
   ]
  },
  {
   "cell_type": "markdown",
   "id": "e98539d1",
   "metadata": {},
   "source": [
    "# багатовимірне вікно"
   ]
  },
  {
   "cell_type": "code",
   "execution_count": 29,
   "id": "3c5c9957",
   "metadata": {},
   "outputs": [
    {
     "data": {
      "application/vnd.microsoft.datawrangler.viewer.v0+json": {
       "columns": [
        {
         "name": "index",
         "rawType": "int64",
         "type": "integer"
        },
        {
         "name": "time",
         "rawType": "int64",
         "type": "integer"
        },
        {
         "name": "value_x",
         "rawType": "float64",
         "type": "float"
        },
        {
         "name": "value_y",
         "rawType": "float64",
         "type": "float"
        }
       ],
       "ref": "63f780ec-6264-471a-9df7-71e415156657",
       "rows": [
        [
         "0",
         "0",
         "1.99",
         "-0.15"
        ],
        [
         "1",
         "1",
         "-0.81",
         "0.05"
        ],
        [
         "2",
         "2",
         "2.94",
         "0.27"
        ],
        [
         "3",
         "3",
         "2.78",
         "0.35"
        ],
        [
         "4",
         "4",
         "3.61",
         "0.46"
        ],
        [
         "5",
         "5",
         "5.44",
         "0.36"
        ],
        [
         "6",
         "6",
         "6.51",
         "0.64"
        ],
        [
         "7",
         "7",
         "11.23",
         "0.73"
        ],
        [
         "8",
         "8",
         "7.33",
         "0.58"
        ],
        [
         "9",
         "9",
         "8.02",
         "0.84"
        ],
        [
         "10",
         "10",
         "9.04",
         "0.84"
        ],
        [
         "11",
         "11",
         "10.95",
         "0.84"
        ],
        [
         "12",
         "12",
         "11.2",
         "0.86"
        ],
        [
         "13",
         "13",
         "12.54",
         "0.97"
        ],
        [
         "14",
         "14",
         "11.27",
         "1.09"
        ],
        [
         "15",
         "15",
         "14.57",
         "0.85"
        ],
        [
         "16",
         "16",
         "17.0",
         "0.99"
        ],
        [
         "17",
         "17",
         "20.06",
         "0.94"
        ],
        [
         "18",
         "18",
         "19.56",
         "0.93"
        ],
        [
         "19",
         "19",
         "19.07",
         "1.07"
        ],
        [
         "20",
         "20",
         "19.47",
         "0.85"
        ],
        [
         "21",
         "21",
         "23.26",
         "1.05"
        ],
        [
         "22",
         "22",
         "21.57",
         "0.78"
        ],
        [
         "23",
         "23",
         "21.78",
         "0.85"
        ],
        [
         "24",
         "24",
         "23.2",
         "0.47"
        ],
        [
         "25",
         "25",
         "25.38",
         "0.54"
        ],
        [
         "26",
         "26",
         "23.44",
         "0.42"
        ],
        [
         "27",
         "27",
         "27.08",
         "0.37"
        ],
        [
         "28",
         "28",
         "26.58",
         "0.45"
        ],
        [
         "29",
         "29",
         "26.81",
         "0.13"
        ],
        [
         "30",
         "30",
         "30.08",
         "0.27"
        ],
        [
         "31",
         "31",
         "32.42",
         "-0.02"
        ],
        [
         "32",
         "32",
         "31.5",
         "-0.06"
        ],
        [
         "33",
         "33",
         "31.66",
         "-0.22"
        ],
        [
         "34",
         "34",
         "42.74",
         "-0.29"
        ],
        [
         "35",
         "35",
         "31.16",
         "-0.33"
        ],
        [
         "36",
         "36",
         "36.05",
         "-0.49"
        ],
        [
         "37",
         "37",
         "36.68",
         "-0.64"
        ],
        [
         "38",
         "38",
         "39.81",
         "-0.53"
        ],
        [
         "39",
         "39",
         "37.77",
         "-0.75"
        ],
        [
         "40",
         "40",
         "41.04",
         "-0.81"
        ],
        [
         "41",
         "41",
         "42.91",
         "-0.87"
        ],
        [
         "42",
         "42",
         "40.14",
         "-0.84"
        ],
        [
         "43",
         "43",
         "40.89",
         "-1.0"
        ],
        [
         "44",
         "44",
         "41.58",
         "-0.96"
        ],
        [
         "45",
         "45",
         "48.49",
         "-0.95"
        ],
        [
         "46",
         "46",
         "45.4",
         "-0.92"
        ],
        [
         "47",
         "47",
         "47.1",
         "-0.97"
        ],
        [
         "48",
         "48",
         "48.07",
         "-1.07"
        ],
        [
         "49",
         "49",
         "49.34",
         "-1.1"
        ]
       ],
       "shape": {
        "columns": 3,
        "rows": 1000
       }
      },
      "text/html": [
       "<div>\n",
       "<style scoped>\n",
       "    .dataframe tbody tr th:only-of-type {\n",
       "        vertical-align: middle;\n",
       "    }\n",
       "\n",
       "    .dataframe tbody tr th {\n",
       "        vertical-align: top;\n",
       "    }\n",
       "\n",
       "    .dataframe thead th {\n",
       "        text-align: right;\n",
       "    }\n",
       "</style>\n",
       "<table border=\"1\" class=\"dataframe\">\n",
       "  <thead>\n",
       "    <tr style=\"text-align: right;\">\n",
       "      <th></th>\n",
       "      <th>time</th>\n",
       "      <th>value_x</th>\n",
       "      <th>value_y</th>\n",
       "    </tr>\n",
       "  </thead>\n",
       "  <tbody>\n",
       "    <tr>\n",
       "      <th>0</th>\n",
       "      <td>0</td>\n",
       "      <td>1.99</td>\n",
       "      <td>-0.15</td>\n",
       "    </tr>\n",
       "    <tr>\n",
       "      <th>1</th>\n",
       "      <td>1</td>\n",
       "      <td>-0.81</td>\n",
       "      <td>0.05</td>\n",
       "    </tr>\n",
       "    <tr>\n",
       "      <th>2</th>\n",
       "      <td>2</td>\n",
       "      <td>2.94</td>\n",
       "      <td>0.27</td>\n",
       "    </tr>\n",
       "    <tr>\n",
       "      <th>3</th>\n",
       "      <td>3</td>\n",
       "      <td>2.78</td>\n",
       "      <td>0.35</td>\n",
       "    </tr>\n",
       "    <tr>\n",
       "      <th>4</th>\n",
       "      <td>4</td>\n",
       "      <td>3.61</td>\n",
       "      <td>0.46</td>\n",
       "    </tr>\n",
       "    <tr>\n",
       "      <th>...</th>\n",
       "      <td>...</td>\n",
       "      <td>...</td>\n",
       "      <td>...</td>\n",
       "    </tr>\n",
       "    <tr>\n",
       "      <th>995</th>\n",
       "      <td>995</td>\n",
       "      <td>996.48</td>\n",
       "      <td>-0.99</td>\n",
       "    </tr>\n",
       "    <tr>\n",
       "      <th>996</th>\n",
       "      <td>996</td>\n",
       "      <td>995.98</td>\n",
       "      <td>-0.75</td>\n",
       "    </tr>\n",
       "    <tr>\n",
       "      <th>997</th>\n",
       "      <td>997</td>\n",
       "      <td>994.84</td>\n",
       "      <td>-0.69</td>\n",
       "    </tr>\n",
       "    <tr>\n",
       "      <th>998</th>\n",
       "      <td>998</td>\n",
       "      <td>997.17</td>\n",
       "      <td>-0.49</td>\n",
       "    </tr>\n",
       "    <tr>\n",
       "      <th>999</th>\n",
       "      <td>999</td>\n",
       "      <td>998.47</td>\n",
       "      <td>-0.64</td>\n",
       "    </tr>\n",
       "  </tbody>\n",
       "</table>\n",
       "<p>1000 rows × 3 columns</p>\n",
       "</div>"
      ],
      "text/plain": [
       "     time  value_x  value_y\n",
       "0       0     1.99    -0.15\n",
       "1       1    -0.81     0.05\n",
       "2       2     2.94     0.27\n",
       "3       3     2.78     0.35\n",
       "4       4     3.61     0.46\n",
       "..    ...      ...      ...\n",
       "995   995   996.48    -0.99\n",
       "996   996   995.98    -0.75\n",
       "997   997   994.84    -0.69\n",
       "998   998   997.17    -0.49\n",
       "999   999   998.47    -0.64\n",
       "\n",
       "[1000 rows x 3 columns]"
      ]
     },
     "execution_count": 29,
     "metadata": {},
     "output_type": "execute_result"
    }
   ],
   "source": [
    "time = np.arange(1000)\n",
    "df = pd.DataFrame({\"time\": time, \n",
    "                   \"value_x\": time + np.random.normal(0, 2, size=len(time)),\n",
    "                   \"value_y\": np.sin(0.1 * time) + np.random.normal(0, 0.1, size=len(time))\n",
    "                   })\n",
    "df = df.round(2)\n",
    "\n",
    "df"
   ]
  },
  {
   "cell_type": "code",
   "execution_count": 30,
   "id": "dc8d9c16",
   "metadata": {},
   "outputs": [
    {
     "data": {
      "application/vnd.microsoft.datawrangler.viewer.v0+json": {
       "columns": [
        {
         "name": "index",
         "rawType": "int64",
         "type": "integer"
        },
        {
         "name": "time",
         "rawType": "int64",
         "type": "integer"
        },
        {
         "name": "value_x",
         "rawType": "float64",
         "type": "float"
        },
        {
         "name": "value_y",
         "rawType": "float64",
         "type": "float"
        },
        {
         "name": "value_x_1",
         "rawType": "float64",
         "type": "float"
        },
        {
         "name": "value_x_2",
         "rawType": "float64",
         "type": "float"
        },
        {
         "name": "value_x_3",
         "rawType": "float64",
         "type": "float"
        }
       ],
       "ref": "d6f1e0bf-661a-4e1c-ad48-b3148375ca7d",
       "rows": [
        [
         "0",
         "3",
         "2.78",
         "0.35",
         "2.94",
         "-0.81",
         "1.99"
        ],
        [
         "1",
         "4",
         "3.61",
         "0.46",
         "2.78",
         "2.94",
         "-0.81"
        ],
        [
         "2",
         "5",
         "5.44",
         "0.36",
         "3.61",
         "2.78",
         "2.94"
        ],
        [
         "3",
         "6",
         "6.51",
         "0.64",
         "5.44",
         "3.61",
         "2.78"
        ],
        [
         "4",
         "7",
         "11.23",
         "0.73",
         "6.51",
         "5.44",
         "3.61"
        ],
        [
         "5",
         "8",
         "7.33",
         "0.58",
         "11.23",
         "6.51",
         "5.44"
        ],
        [
         "6",
         "9",
         "8.02",
         "0.84",
         "7.33",
         "11.23",
         "6.51"
        ],
        [
         "7",
         "10",
         "9.04",
         "0.84",
         "8.02",
         "7.33",
         "11.23"
        ],
        [
         "8",
         "11",
         "10.95",
         "0.84",
         "9.04",
         "8.02",
         "7.33"
        ],
        [
         "9",
         "12",
         "11.2",
         "0.86",
         "10.95",
         "9.04",
         "8.02"
        ],
        [
         "10",
         "13",
         "12.54",
         "0.97",
         "11.2",
         "10.95",
         "9.04"
        ],
        [
         "11",
         "14",
         "11.27",
         "1.09",
         "12.54",
         "11.2",
         "10.95"
        ],
        [
         "12",
         "15",
         "14.57",
         "0.85",
         "11.27",
         "12.54",
         "11.2"
        ],
        [
         "13",
         "16",
         "17.0",
         "0.99",
         "14.57",
         "11.27",
         "12.54"
        ],
        [
         "14",
         "17",
         "20.06",
         "0.94",
         "17.0",
         "14.57",
         "11.27"
        ],
        [
         "15",
         "18",
         "19.56",
         "0.93",
         "20.06",
         "17.0",
         "14.57"
        ],
        [
         "16",
         "19",
         "19.07",
         "1.07",
         "19.56",
         "20.06",
         "17.0"
        ],
        [
         "17",
         "20",
         "19.47",
         "0.85",
         "19.07",
         "19.56",
         "20.06"
        ],
        [
         "18",
         "21",
         "23.26",
         "1.05",
         "19.47",
         "19.07",
         "19.56"
        ],
        [
         "19",
         "22",
         "21.57",
         "0.78",
         "23.26",
         "19.47",
         "19.07"
        ],
        [
         "20",
         "23",
         "21.78",
         "0.85",
         "21.57",
         "23.26",
         "19.47"
        ],
        [
         "21",
         "24",
         "23.2",
         "0.47",
         "21.78",
         "21.57",
         "23.26"
        ],
        [
         "22",
         "25",
         "25.38",
         "0.54",
         "23.2",
         "21.78",
         "21.57"
        ],
        [
         "23",
         "26",
         "23.44",
         "0.42",
         "25.38",
         "23.2",
         "21.78"
        ],
        [
         "24",
         "27",
         "27.08",
         "0.37",
         "23.44",
         "25.38",
         "23.2"
        ],
        [
         "25",
         "28",
         "26.58",
         "0.45",
         "27.08",
         "23.44",
         "25.38"
        ],
        [
         "26",
         "29",
         "26.81",
         "0.13",
         "26.58",
         "27.08",
         "23.44"
        ],
        [
         "27",
         "30",
         "30.08",
         "0.27",
         "26.81",
         "26.58",
         "27.08"
        ],
        [
         "28",
         "31",
         "32.42",
         "-0.02",
         "30.08",
         "26.81",
         "26.58"
        ],
        [
         "29",
         "32",
         "31.5",
         "-0.06",
         "32.42",
         "30.08",
         "26.81"
        ],
        [
         "30",
         "33",
         "31.66",
         "-0.22",
         "31.5",
         "32.42",
         "30.08"
        ],
        [
         "31",
         "34",
         "42.74",
         "-0.29",
         "31.66",
         "31.5",
         "32.42"
        ],
        [
         "32",
         "35",
         "31.16",
         "-0.33",
         "42.74",
         "31.66",
         "31.5"
        ],
        [
         "33",
         "36",
         "36.05",
         "-0.49",
         "31.16",
         "42.74",
         "31.66"
        ],
        [
         "34",
         "37",
         "36.68",
         "-0.64",
         "36.05",
         "31.16",
         "42.74"
        ],
        [
         "35",
         "38",
         "39.81",
         "-0.53",
         "36.68",
         "36.05",
         "31.16"
        ],
        [
         "36",
         "39",
         "37.77",
         "-0.75",
         "39.81",
         "36.68",
         "36.05"
        ],
        [
         "37",
         "40",
         "41.04",
         "-0.81",
         "37.77",
         "39.81",
         "36.68"
        ],
        [
         "38",
         "41",
         "42.91",
         "-0.87",
         "41.04",
         "37.77",
         "39.81"
        ],
        [
         "39",
         "42",
         "40.14",
         "-0.84",
         "42.91",
         "41.04",
         "37.77"
        ],
        [
         "40",
         "43",
         "40.89",
         "-1.0",
         "40.14",
         "42.91",
         "41.04"
        ],
        [
         "41",
         "44",
         "41.58",
         "-0.96",
         "40.89",
         "40.14",
         "42.91"
        ],
        [
         "42",
         "45",
         "48.49",
         "-0.95",
         "41.58",
         "40.89",
         "40.14"
        ],
        [
         "43",
         "46",
         "45.4",
         "-0.92",
         "48.49",
         "41.58",
         "40.89"
        ],
        [
         "44",
         "47",
         "47.1",
         "-0.97",
         "45.4",
         "48.49",
         "41.58"
        ],
        [
         "45",
         "48",
         "48.07",
         "-1.07",
         "47.1",
         "45.4",
         "48.49"
        ],
        [
         "46",
         "49",
         "49.34",
         "-1.1",
         "48.07",
         "47.1",
         "45.4"
        ],
        [
         "47",
         "50",
         "53.31",
         "-1.1",
         "49.34",
         "48.07",
         "47.1"
        ],
        [
         "48",
         "51",
         "48.28",
         "-0.82",
         "53.31",
         "49.34",
         "48.07"
        ],
        [
         "49",
         "52",
         "48.88",
         "-0.83",
         "48.28",
         "53.31",
         "49.34"
        ]
       ],
       "shape": {
        "columns": 6,
        "rows": 997
       }
      },
      "text/html": [
       "<div>\n",
       "<style scoped>\n",
       "    .dataframe tbody tr th:only-of-type {\n",
       "        vertical-align: middle;\n",
       "    }\n",
       "\n",
       "    .dataframe tbody tr th {\n",
       "        vertical-align: top;\n",
       "    }\n",
       "\n",
       "    .dataframe thead th {\n",
       "        text-align: right;\n",
       "    }\n",
       "</style>\n",
       "<table border=\"1\" class=\"dataframe\">\n",
       "  <thead>\n",
       "    <tr style=\"text-align: right;\">\n",
       "      <th></th>\n",
       "      <th>time</th>\n",
       "      <th>value_x</th>\n",
       "      <th>value_y</th>\n",
       "      <th>value_x_1</th>\n",
       "      <th>value_x_2</th>\n",
       "      <th>value_x_3</th>\n",
       "    </tr>\n",
       "  </thead>\n",
       "  <tbody>\n",
       "    <tr>\n",
       "      <th>0</th>\n",
       "      <td>3</td>\n",
       "      <td>2.78</td>\n",
       "      <td>0.35</td>\n",
       "      <td>2.94</td>\n",
       "      <td>-0.81</td>\n",
       "      <td>1.99</td>\n",
       "    </tr>\n",
       "    <tr>\n",
       "      <th>1</th>\n",
       "      <td>4</td>\n",
       "      <td>3.61</td>\n",
       "      <td>0.46</td>\n",
       "      <td>2.78</td>\n",
       "      <td>2.94</td>\n",
       "      <td>-0.81</td>\n",
       "    </tr>\n",
       "    <tr>\n",
       "      <th>2</th>\n",
       "      <td>5</td>\n",
       "      <td>5.44</td>\n",
       "      <td>0.36</td>\n",
       "      <td>3.61</td>\n",
       "      <td>2.78</td>\n",
       "      <td>2.94</td>\n",
       "    </tr>\n",
       "    <tr>\n",
       "      <th>3</th>\n",
       "      <td>6</td>\n",
       "      <td>6.51</td>\n",
       "      <td>0.64</td>\n",
       "      <td>5.44</td>\n",
       "      <td>3.61</td>\n",
       "      <td>2.78</td>\n",
       "    </tr>\n",
       "    <tr>\n",
       "      <th>4</th>\n",
       "      <td>7</td>\n",
       "      <td>11.23</td>\n",
       "      <td>0.73</td>\n",
       "      <td>6.51</td>\n",
       "      <td>5.44</td>\n",
       "      <td>3.61</td>\n",
       "    </tr>\n",
       "    <tr>\n",
       "      <th>...</th>\n",
       "      <td>...</td>\n",
       "      <td>...</td>\n",
       "      <td>...</td>\n",
       "      <td>...</td>\n",
       "      <td>...</td>\n",
       "      <td>...</td>\n",
       "    </tr>\n",
       "    <tr>\n",
       "      <th>992</th>\n",
       "      <td>995</td>\n",
       "      <td>996.48</td>\n",
       "      <td>-0.99</td>\n",
       "      <td>995.88</td>\n",
       "      <td>993.23</td>\n",
       "      <td>991.11</td>\n",
       "    </tr>\n",
       "    <tr>\n",
       "      <th>993</th>\n",
       "      <td>996</td>\n",
       "      <td>995.98</td>\n",
       "      <td>-0.75</td>\n",
       "      <td>996.48</td>\n",
       "      <td>995.88</td>\n",
       "      <td>993.23</td>\n",
       "    </tr>\n",
       "    <tr>\n",
       "      <th>994</th>\n",
       "      <td>997</td>\n",
       "      <td>994.84</td>\n",
       "      <td>-0.69</td>\n",
       "      <td>995.98</td>\n",
       "      <td>996.48</td>\n",
       "      <td>995.88</td>\n",
       "    </tr>\n",
       "    <tr>\n",
       "      <th>995</th>\n",
       "      <td>998</td>\n",
       "      <td>997.17</td>\n",
       "      <td>-0.49</td>\n",
       "      <td>994.84</td>\n",
       "      <td>995.98</td>\n",
       "      <td>996.48</td>\n",
       "    </tr>\n",
       "    <tr>\n",
       "      <th>996</th>\n",
       "      <td>999</td>\n",
       "      <td>998.47</td>\n",
       "      <td>-0.64</td>\n",
       "      <td>997.17</td>\n",
       "      <td>994.84</td>\n",
       "      <td>995.98</td>\n",
       "    </tr>\n",
       "  </tbody>\n",
       "</table>\n",
       "<p>997 rows × 6 columns</p>\n",
       "</div>"
      ],
      "text/plain": [
       "     time  value_x  value_y  value_x_1  value_x_2  value_x_3\n",
       "0       3     2.78     0.35       2.94      -0.81       1.99\n",
       "1       4     3.61     0.46       2.78       2.94      -0.81\n",
       "2       5     5.44     0.36       3.61       2.78       2.94\n",
       "3       6     6.51     0.64       5.44       3.61       2.78\n",
       "4       7    11.23     0.73       6.51       5.44       3.61\n",
       "..    ...      ...      ...        ...        ...        ...\n",
       "992   995   996.48    -0.99     995.88     993.23     991.11\n",
       "993   996   995.98    -0.75     996.48     995.88     993.23\n",
       "994   997   994.84    -0.69     995.98     996.48     995.88\n",
       "995   998   997.17    -0.49     994.84     995.98     996.48\n",
       "996   999   998.47    -0.64     997.17     994.84     995.98\n",
       "\n",
       "[997 rows x 6 columns]"
      ]
     },
     "execution_count": 30,
     "metadata": {},
     "output_type": "execute_result"
    }
   ],
   "source": [
    "HORIZON = 1\n",
    "WINDOW_SIZE = 3\n",
    "\n",
    "for i in range(WINDOW_SIZE):\n",
    "    df[f\"value_x_{i+1}\"] = df[\"value_x\"].shift(periods=i+1)\n",
    "\n",
    "df = df.dropna().reset_index(drop=True)\n",
    "df"
   ]
  },
  {
   "cell_type": "code",
   "execution_count": 31,
   "id": "cf6d9553",
   "metadata": {},
   "outputs": [],
   "source": [
    "windows = df.drop(columns=[\"time\", \"value_x\"]).values\n",
    "labels = df[\"value_x\"].values\n",
    "train_windows, test_windows, train_labels, test_labels = make_train_test_splits(windows, labels, test_split=TEST_SPLIT)"
   ]
  },
  {
   "cell_type": "code",
   "execution_count": 34,
   "id": "cfcbf2e7",
   "metadata": {},
   "outputs": [
    {
     "data": {
      "text/plain": [
       "(797, 797, 200, 200)"
      ]
     },
     "execution_count": 34,
     "metadata": {},
     "output_type": "execute_result"
    }
   ],
   "source": [
    "len(train_windows), len(train_labels), len(test_windows), len(test_labels)"
   ]
  },
  {
   "cell_type": "code",
   "execution_count": 37,
   "id": "eaa4da5d",
   "metadata": {},
   "outputs": [
    {
     "data": {
      "application/vnd.microsoft.datawrangler.viewer.v0+json": {
       "columns": [
        {
         "name": "index",
         "rawType": "int64",
         "type": "integer"
        },
        {
         "name": "windows",
         "rawType": "object",
         "type": "unknown"
        },
        {
         "name": "labels",
         "rawType": "float64",
         "type": "float"
        }
       ],
       "ref": "74bc1919-3df2-45f7-8ac7-a22d47d9016f",
       "rows": [
        [
         "0",
         "[0.35, 2.94, -0.81, 1.99]",
         "2.78"
        ],
        [
         "1",
         "[0.46, 2.78, 2.94, -0.81]",
         "3.61"
        ],
        [
         "2",
         "[0.36, 3.61, 2.78, 2.94]",
         "5.44"
        ],
        [
         "3",
         "[0.64, 5.44, 3.61, 2.78]",
         "6.51"
        ],
        [
         "4",
         "[0.73, 6.51, 5.44, 3.61]",
         "11.23"
        ]
       ],
       "shape": {
        "columns": 2,
        "rows": 5
       }
      },
      "text/html": [
       "<div>\n",
       "<style scoped>\n",
       "    .dataframe tbody tr th:only-of-type {\n",
       "        vertical-align: middle;\n",
       "    }\n",
       "\n",
       "    .dataframe tbody tr th {\n",
       "        vertical-align: top;\n",
       "    }\n",
       "\n",
       "    .dataframe thead th {\n",
       "        text-align: right;\n",
       "    }\n",
       "</style>\n",
       "<table border=\"1\" class=\"dataframe\">\n",
       "  <thead>\n",
       "    <tr style=\"text-align: right;\">\n",
       "      <th></th>\n",
       "      <th>windows</th>\n",
       "      <th>labels</th>\n",
       "    </tr>\n",
       "  </thead>\n",
       "  <tbody>\n",
       "    <tr>\n",
       "      <th>0</th>\n",
       "      <td>[0.35, 2.94, -0.81, 1.99]</td>\n",
       "      <td>2.78</td>\n",
       "    </tr>\n",
       "    <tr>\n",
       "      <th>1</th>\n",
       "      <td>[0.46, 2.78, 2.94, -0.81]</td>\n",
       "      <td>3.61</td>\n",
       "    </tr>\n",
       "    <tr>\n",
       "      <th>2</th>\n",
       "      <td>[0.36, 3.61, 2.78, 2.94]</td>\n",
       "      <td>5.44</td>\n",
       "    </tr>\n",
       "    <tr>\n",
       "      <th>3</th>\n",
       "      <td>[0.64, 5.44, 3.61, 2.78]</td>\n",
       "      <td>6.51</td>\n",
       "    </tr>\n",
       "    <tr>\n",
       "      <th>4</th>\n",
       "      <td>[0.73, 6.51, 5.44, 3.61]</td>\n",
       "      <td>11.23</td>\n",
       "    </tr>\n",
       "  </tbody>\n",
       "</table>\n",
       "</div>"
      ],
      "text/plain": [
       "                     windows  labels\n",
       "0  [0.35, 2.94, -0.81, 1.99]    2.78\n",
       "1  [0.46, 2.78, 2.94, -0.81]    3.61\n",
       "2   [0.36, 3.61, 2.78, 2.94]    5.44\n",
       "3   [0.64, 5.44, 3.61, 2.78]    6.51\n",
       "4   [0.73, 6.51, 5.44, 3.61]   11.23"
      ]
     },
     "execution_count": 37,
     "metadata": {},
     "output_type": "execute_result"
    }
   ],
   "source": [
    "pd.DataFrame({\n",
    "    \"windows\": [list(window) for window in train_windows],\n",
    "    \"labels\": [label for label in train_labels]\n",
    "}).head()"
   ]
  },
  {
   "cell_type": "markdown",
   "id": "9b307faf",
   "metadata": {},
   "source": [
    "# агрегація"
   ]
  },
  {
   "cell_type": "code",
   "execution_count": 41,
   "id": "6f984e9a",
   "metadata": {},
   "outputs": [
    {
     "data": {
      "application/vnd.microsoft.datawrangler.viewer.v0+json": {
       "columns": [
        {
         "name": "index",
         "rawType": "int64",
         "type": "integer"
        },
        {
         "name": "user_id",
         "rawType": "int64",
         "type": "integer"
        },
        {
         "name": "value_x",
         "rawType": "float64",
         "type": "float"
        },
        {
         "name": "value_y",
         "rawType": "float64",
         "type": "float"
        }
       ],
       "ref": "bfbbf2fc-40e7-4d05-9637-28760fe79a91",
       "rows": [
        [
         "0",
         "3",
         "0.12",
         "-0.07"
        ],
        [
         "1",
         "3",
         "-0.67",
         "0.16"
        ],
        [
         "2",
         "4",
         "1.95",
         "0.26"
        ],
        [
         "3",
         "3",
         "0.68",
         "0.36"
        ],
        [
         "4",
         "1",
         "3.2",
         "0.5"
        ],
        [
         "5",
         "4",
         "2.1",
         "0.25"
        ],
        [
         "6",
         "1",
         "8.69",
         "0.62"
        ],
        [
         "7",
         "3",
         "11.36",
         "0.66"
        ],
        [
         "8",
         "2",
         "8.24",
         "0.66"
        ],
        [
         "9",
         "2",
         "5.21",
         "0.73"
        ],
        [
         "10",
         "3",
         "12.23",
         "0.75"
        ],
        [
         "11",
         "1",
         "9.62",
         "0.86"
        ],
        [
         "12",
         "1",
         "14.69",
         "0.75"
        ],
        [
         "13",
         "4",
         "13.07",
         "0.95"
        ],
        [
         "14",
         "4",
         "14.23",
         "0.91"
        ],
        [
         "15",
         "3",
         "16.87",
         "1.06"
        ],
        [
         "16",
         "1",
         "12.19",
         "1.08"
        ],
        [
         "17",
         "2",
         "16.67",
         "1.06"
        ],
        [
         "18",
         "3",
         "17.57",
         "0.98"
        ],
        [
         "19",
         "3",
         "17.85",
         "0.98"
        ],
        [
         "20",
         "3",
         "17.66",
         "0.96"
        ],
        [
         "21",
         "2",
         "21.09",
         "0.97"
        ],
        [
         "22",
         "1",
         "18.7",
         "0.84"
        ],
        [
         "23",
         "3",
         "23.75",
         "0.82"
        ],
        [
         "24",
         "3",
         "22.54",
         "0.62"
        ],
        [
         "25",
         "4",
         "23.38",
         "0.58"
        ],
        [
         "26",
         "2",
         "23.91",
         "0.55"
        ],
        [
         "27",
         "4",
         "28.73",
         "0.33"
        ],
        [
         "28",
         "3",
         "27.96",
         "0.31"
        ],
        [
         "29",
         "4",
         "27.91",
         "0.15"
        ],
        [
         "30",
         "2",
         "26.26",
         "0.22"
        ],
        [
         "31",
         "3",
         "30.23",
         "0.01"
        ],
        [
         "32",
         "4",
         "35.33",
         "0.0"
        ],
        [
         "33",
         "1",
         "32.54",
         "-0.14"
        ],
        [
         "34",
         "3",
         "34.85",
         "-0.22"
        ],
        [
         "35",
         "2",
         "33.3",
         "-0.26"
        ],
        [
         "36",
         "1",
         "31.05",
         "-0.23"
        ],
        [
         "37",
         "3",
         "35.2",
         "-0.38"
        ],
        [
         "38",
         "4",
         "34.5",
         "-0.6"
        ],
        [
         "39",
         "3",
         "38.05",
         "-0.74"
        ],
        [
         "40",
         "3",
         "43.47",
         "-0.76"
        ],
        [
         "41",
         "1",
         "40.0",
         "-0.86"
        ],
        [
         "42",
         "3",
         "40.95",
         "-0.79"
        ],
        [
         "43",
         "3",
         "41.28",
         "-0.96"
        ],
        [
         "44",
         "4",
         "42.58",
         "-0.96"
        ],
        [
         "45",
         "4",
         "43.2",
         "-1.01"
        ],
        [
         "46",
         "3",
         "48.36",
         "-0.92"
        ],
        [
         "47",
         "2",
         "45.59",
         "-0.86"
        ],
        [
         "48",
         "1",
         "45.11",
         "-1.05"
        ],
        [
         "49",
         "2",
         "51.28",
         "-1.05"
        ]
       ],
       "shape": {
        "columns": 3,
        "rows": 1000
       }
      },
      "text/html": [
       "<div>\n",
       "<style scoped>\n",
       "    .dataframe tbody tr th:only-of-type {\n",
       "        vertical-align: middle;\n",
       "    }\n",
       "\n",
       "    .dataframe tbody tr th {\n",
       "        vertical-align: top;\n",
       "    }\n",
       "\n",
       "    .dataframe thead th {\n",
       "        text-align: right;\n",
       "    }\n",
       "</style>\n",
       "<table border=\"1\" class=\"dataframe\">\n",
       "  <thead>\n",
       "    <tr style=\"text-align: right;\">\n",
       "      <th></th>\n",
       "      <th>user_id</th>\n",
       "      <th>value_x</th>\n",
       "      <th>value_y</th>\n",
       "    </tr>\n",
       "  </thead>\n",
       "  <tbody>\n",
       "    <tr>\n",
       "      <th>0</th>\n",
       "      <td>3</td>\n",
       "      <td>0.12</td>\n",
       "      <td>-0.07</td>\n",
       "    </tr>\n",
       "    <tr>\n",
       "      <th>1</th>\n",
       "      <td>3</td>\n",
       "      <td>-0.67</td>\n",
       "      <td>0.16</td>\n",
       "    </tr>\n",
       "    <tr>\n",
       "      <th>2</th>\n",
       "      <td>4</td>\n",
       "      <td>1.95</td>\n",
       "      <td>0.26</td>\n",
       "    </tr>\n",
       "    <tr>\n",
       "      <th>3</th>\n",
       "      <td>3</td>\n",
       "      <td>0.68</td>\n",
       "      <td>0.36</td>\n",
       "    </tr>\n",
       "    <tr>\n",
       "      <th>4</th>\n",
       "      <td>1</td>\n",
       "      <td>3.20</td>\n",
       "      <td>0.50</td>\n",
       "    </tr>\n",
       "    <tr>\n",
       "      <th>...</th>\n",
       "      <td>...</td>\n",
       "      <td>...</td>\n",
       "      <td>...</td>\n",
       "    </tr>\n",
       "    <tr>\n",
       "      <th>995</th>\n",
       "      <td>3</td>\n",
       "      <td>998.94</td>\n",
       "      <td>-0.89</td>\n",
       "    </tr>\n",
       "    <tr>\n",
       "      <th>996</th>\n",
       "      <td>2</td>\n",
       "      <td>995.42</td>\n",
       "      <td>-0.78</td>\n",
       "    </tr>\n",
       "    <tr>\n",
       "      <th>997</th>\n",
       "      <td>1</td>\n",
       "      <td>999.50</td>\n",
       "      <td>-0.83</td>\n",
       "    </tr>\n",
       "    <tr>\n",
       "      <th>998</th>\n",
       "      <td>4</td>\n",
       "      <td>1001.63</td>\n",
       "      <td>-0.61</td>\n",
       "    </tr>\n",
       "    <tr>\n",
       "      <th>999</th>\n",
       "      <td>4</td>\n",
       "      <td>1000.92</td>\n",
       "      <td>-0.42</td>\n",
       "    </tr>\n",
       "  </tbody>\n",
       "</table>\n",
       "<p>1000 rows × 3 columns</p>\n",
       "</div>"
      ],
      "text/plain": [
       "     user_id  value_x  value_y\n",
       "0          3     0.12    -0.07\n",
       "1          3    -0.67     0.16\n",
       "2          4     1.95     0.26\n",
       "3          3     0.68     0.36\n",
       "4          1     3.20     0.50\n",
       "..       ...      ...      ...\n",
       "995        3   998.94    -0.89\n",
       "996        2   995.42    -0.78\n",
       "997        1   999.50    -0.83\n",
       "998        4  1001.63    -0.61\n",
       "999        4  1000.92    -0.42\n",
       "\n",
       "[1000 rows x 3 columns]"
      ]
     },
     "execution_count": 41,
     "metadata": {},
     "output_type": "execute_result"
    }
   ],
   "source": [
    "df = pd.DataFrame({\"user_id\": np.random.randint(1, 5, size=1000),\n",
    "                   \"value_x\": time + np.random.normal(0, 2, size=len(time)),\n",
    "                   \"value_y\": np.sin(0.1 * time) + np.random.normal(0, 0.1, size=len(time))\n",
    "                   })\n",
    "df = df.round(2)\n",
    "\n",
    "df"
   ]
  },
  {
   "cell_type": "code",
   "execution_count": 42,
   "id": "0ce48f50",
   "metadata": {},
   "outputs": [
    {
     "data": {
      "application/vnd.microsoft.datawrangler.viewer.v0+json": {
       "columns": [
        {
         "name": "index",
         "rawType": "int64",
         "type": "integer"
        },
        {
         "name": "user_id",
         "rawType": "int64",
         "type": "integer"
        },
        {
         "name": "value_x",
         "rawType": "object",
         "type": "unknown"
        },
        {
         "name": "value_y",
         "rawType": "object",
         "type": "unknown"
        }
       ],
       "ref": "5dca45d9-3fbc-4fef-8d32-588b225b09fb",
       "rows": [
        [
         "0",
         "1",
         "[3.2, 8.69, 9.62, 14.69, 12.19, 18.7, 32.54, 31.05, 40.0, 45.11, 54.83, 62.74, 67.13, 71.39, 67.68, 73.68, 82.14, 83.3, 96.26, 93.74, 96.6, 99.78, 100.48, 107.13, 109.45, 118.69, 118.16, 119.99, 125.04, 129.52, 129.17, 126.54, 134.38, 140.47, 146.41, 150.12, 152.49, 162.0, 166.6, 167.35, 166.72, 170.11, 169.31, 181.52, 191.2, 183.55, 187.97, 190.75, 198.1, 193.98, 194.57, 197.48, 209.51, 206.92, 211.91, 220.13, 220.58, 219.2, 224.9, 238.23, 244.08, 251.43, 249.77, 252.23, 257.68, 260.84, 268.38, 269.63, 277.13, 273.26, 274.88, 278.23, 286.15, 290.0, 300.87, 302.72, 302.75, 308.58, 315.92, 313.61, 311.39, 319.78, 323.85, 324.3, 334.19, 333.52, 337.76, 334.9, 340.71, 351.36, 356.41, 354.6, 360.03, 363.84, 368.55, 373.43, 380.11, 377.87, 380.23, 386.48, 393.49, 394.85, 396.64, 395.53, 401.67, 403.85, 411.07, 414.91, 417.04, 418.04, 428.25, 423.29, 428.98, 428.49, 434.45, 440.35, 440.83, 446.87, 449.57, 449.58, 451.21, 452.39, 458.97, 456.0, 456.28, 462.94, 469.11, 471.6, 474.81, 476.37, 478.43, 481.18, 488.76, 499.77, 500.14, 500.95, 501.0, 505.91, 508.46, 508.24, 515.88, 521.48, 528.44, 528.58, 531.92, 539.32, 540.34, 540.18, 554.61, 554.27, 562.47, 565.35, 565.69, 568.75, 566.83, 573.53, 574.46, 580.69, 580.93, 581.43, 590.88, 593.3, 598.63, 601.44, 604.42, 612.47, 609.27, 614.23, 618.76, 628.26, 628.53, 631.7, 634.74, 642.56, 649.49, 650.82, 651.79, 654.93, 650.1, 658.36, 658.89, 658.27, 659.49, 665.35, 666.57, 671.68, 675.38, 672.26, 675.58, 675.16, 683.34, 690.53, 693.01, 701.15, 696.81, 702.59, 703.46, 705.12, 707.81, 707.06, 706.65, 708.54, 715.05, 718.37, 718.43, 713.61, 722.4, 728.41, 729.69, 727.74, 728.99, 739.63, 752.36, 757.37, 763.09, 770.09, 770.17, 774.38, 774.59, 776.01, 777.7, 793.34, 797.84, 798.34, 801.28, 801.35, 804.77, 810.59, 820.88, 837.15, 860.5, 876.22, 882.96, 889.94, 886.07, 890.71, 895.48, 897.11, 906.45, 913.61, 915.95, 917.88, 919.84, 941.27, 940.81, 941.23, 946.41, 943.96, 948.11, 955.55, 959.4, 964.16, 970.38, 972.71, 977.43, 992.96, 995.61, 999.5]",
         "[0.5, 0.62, 0.86, 0.75, 1.08, 0.84, -0.14, -0.23, -0.86, -1.05, -0.56, -0.32, -0.02, 0.62, 0.93, 0.77, 1.0, 0.96, 0.02, -0.2, -0.05, -0.44, -0.71, -0.72, -1.03, -0.7, -0.63, -0.43, -0.05, 0.0, 0.42, 0.62, 1.06, 0.93, 0.79, 0.57, 0.16, -0.63, -0.76, -0.91, -1.12, -1.05, -1.07, -0.79, -0.22, -0.13, 0.03, 0.05, 0.32, 0.46, 0.52, 1.04, 0.97, 1.16, 0.86, 0.14, -0.04, 0.12, -0.47, -0.79, -0.49, -0.23, 0.08, 0.23, 0.68, 0.77, 0.95, 1.02, 0.83, 0.6, 0.67, 0.42, -0.07, -0.87, -0.98, -0.88, -0.74, -0.58, -0.39, -0.09, 0.04, 0.12, 0.71, 0.81, 0.94, 1.01, 0.82, 0.71, 0.42, -0.33, -0.91, -1.0, -1.01, -1.01, -0.73, -0.03, 0.13, 0.22, 0.43, 0.84, 0.88, 0.95, 0.86, 0.8, 0.61, 0.07, -0.21, -0.75, -0.73, -0.88, -0.96, -1.19, -0.92, -0.73, -0.58, -0.0, 0.18, 0.46, 0.63, 1.04, 0.85, 0.83, 0.87, 1.1, 1.15, 0.76, 0.38, 0.19, -0.46, -0.61, -0.76, -0.97, -1.11, -0.5, -0.36, -0.33, -0.09, 0.29, 0.45, 0.64, 0.92, 1.04, 0.71, 0.11, -0.13, -0.17, -0.56, -0.74, -1.03, -0.83, -0.3, -0.04, 0.09, 0.31, 0.29, 0.73, 0.7, 0.94, 1.08, 1.08, 0.86, 0.16, -0.11, -0.09, -0.49, -0.84, -0.97, -1.07, -0.73, -0.2, -0.13, 0.31, 0.54, 1.11, 0.95, 0.87, 0.9, 0.69, 0.76, 0.19, -0.23, -0.24, -0.28, -0.31, -0.37, -0.82, -0.89, -0.82, -1.11, -1.1, -0.26, 0.25, 0.35, 0.81, 0.77, 0.83, 0.91, 1.0, 0.95, 1.16, 1.01, 0.94, 0.72, 0.76, 0.49, 0.37, 0.02, -0.39, -0.69, -0.74, -0.76, -0.92, -0.04, 0.48, 0.91, 0.96, 1.02, 1.02, 0.84, 0.76, 0.7, -0.59, -0.9, -1.0, -1.24, -1.05, -1.06, -0.92, 0.73, 0.88, -0.95, -0.22, -0.07, 0.83, 0.98, 0.77, 0.92, 0.85, 0.43, -0.33, -0.74, -0.68, -0.87, -0.51, -0.31, -0.23, 0.26, 0.21, 0.56, 0.81, 1.04, 0.92, 0.37, -0.11, -0.47, -1.05, -0.9, -0.83]"
        ],
        [
         "1",
         "2",
         "[8.24, 5.21, 16.67, 21.09, 23.91, 26.26, 33.3, 45.59, 51.28, 50.13, 49.34, 51.84, 56.95, 58.07, 76.61, 79.29, 79.03, 79.9, 84.55, 89.34, 94.1, 92.43, 98.87, 103.89, 105.65, 112.17, 118.34, 128.97, 138.87, 145.68, 155.63, 157.89, 162.57, 172.62, 171.35, 192.24, 194.55, 201.2, 216.6, 214.91, 222.29, 223.63, 226.21, 230.56, 232.18, 232.93, 238.91, 242.16, 241.43, 257.46, 257.69, 260.5, 272.06, 278.73, 279.58, 279.69, 290.61, 291.54, 294.98, 291.26, 294.56, 298.65, 303.22, 309.86, 306.31, 320.84, 318.34, 321.39, 323.36, 324.78, 323.52, 323.6, 330.4, 333.98, 345.75, 347.48, 342.51, 348.06, 348.11, 350.53, 350.87, 360.17, 358.38, 361.06, 360.52, 366.28, 369.09, 368.08, 370.59, 377.53, 378.98, 385.86, 390.05, 389.77, 397.14, 399.35, 400.76, 403.25, 423.72, 428.3, 430.97, 438.62, 442.02, 443.59, 449.07, 450.9, 459.23, 494.64, 501.85, 502.18, 511.63, 519.12, 522.12, 525.67, 531.22, 536.76, 545.52, 545.23, 555.43, 561.42, 564.58, 569.75, 591.66, 598.37, 603.79, 610.54, 612.49, 616.63, 615.0, 621.2, 622.42, 627.84, 627.67, 634.01, 647.97, 643.61, 649.56, 659.74, 667.27, 675.31, 677.33, 681.44, 686.15, 687.41, 691.17, 693.49, 694.4, 694.34, 708.26, 714.36, 716.96, 722.4, 722.17, 730.11, 730.33, 735.87, 741.36, 745.94, 745.97, 745.08, 749.31, 755.2, 754.38, 759.64, 769.82, 784.1, 782.32, 778.36, 788.44, 793.93, 801.43, 802.83, 809.16, 809.6, 815.82, 812.28, 821.92, 823.55, 825.92, 824.86, 836.74, 845.58, 852.86, 853.64, 868.32, 866.44, 868.97, 869.98, 874.07, 881.69, 882.57, 894.66, 899.94, 900.92, 900.67, 904.9, 916.98, 922.1, 923.05, 927.74, 930.0, 942.69, 945.89, 948.09, 948.9, 953.82, 957.53, 956.81, 959.64, 963.22, 967.33, 974.58, 975.22, 971.4, 986.65, 983.33, 988.93, 987.13, 990.96, 989.68, 995.42]",
         "[0.66, 0.73, 1.06, 0.97, 0.55, 0.22, -0.26, -0.86, -1.05, -1.11, -0.84, -0.99, -0.59, -0.29, 0.98, 1.05, 0.95, 1.09, 0.84, 0.5, 0.19, -0.27, -0.68, -0.75, -0.82, -0.98, -0.31, 0.23, 1.02, 0.94, -0.08, -0.23, -0.47, -1.12, -1.1, 0.59, 0.74, 0.78, 0.42, 0.29, -0.25, -0.62, -0.57, -0.96, -1.04, -0.88, -0.89, -0.8, -1.05, 0.21, 0.52, 0.92, 0.77, 0.64, 0.13, 0.06, -0.63, -0.48, -0.98, -1.01, -0.99, -1.09, -0.96, -0.73, -0.53, 0.09, 0.3, 0.59, 0.84, 1.01, 0.93, 0.85, 1.1, 0.86, 0.26, -0.04, -0.28, -0.41, -0.48, -0.59, -0.73, -0.85, -1.06, -1.0, -0.78, -0.86, -0.81, -0.47, -0.27, -0.07, 0.11, 0.93, 1.08, 1.04, 0.99, 0.84, 0.75, 0.65, -0.94, -1.15, -0.48, -0.32, 0.41, 0.24, 1.0, 0.99, 0.97, -0.82, -0.28, 0.26, 0.9, 0.88, 0.93, 0.49, 0.34, -0.01, -1.03, -0.92, -0.96, -0.34, -0.68, 0.52, 0.57, -0.29, -0.54, -0.82, -1.04, -0.87, -0.62, -0.66, -0.4, -0.12, 0.21, 0.64, 0.96, 1.05, 0.83, 0.02, -0.75, -0.97, -0.87, -0.81, -0.44, -0.19, -0.04, 0.2, 0.37, 0.7, 1.14, 0.86, 0.66, -0.12, -0.29, -0.59, -1.02, -1.14, -0.89, -0.81, -0.69, -0.69, -0.59, -0.27, 0.13, 0.59, 0.99, 0.38, 0.36, 0.37, -0.46, -0.85, -1.08, -1.0, -0.58, -0.59, -0.25, -0.23, 0.35, 0.42, 0.8, 0.79, 0.83, 0.51, -0.33, -0.41, -1.04, -0.93, -1.06, -0.88, -0.74, 0.17, 0.53, 1.08, 1.07, 1.0, 0.82, 0.59, -0.42, -0.83, -0.89, -1.11, -0.86, -0.19, 0.24, 0.42, 0.55, 0.81, 0.95, 0.8, 1.01, 0.72, 0.32, 0.34, 0.1, 0.04, -0.78, -0.93, -1.09, -1.13, -0.95, -0.85, -0.78]"
        ],
        [
         "2",
         "3",
         "[0.12, -0.67, 0.68, 11.36, 12.23, 16.87, 17.57, 17.85, 17.66, 23.75, 22.54, 27.96, 30.23, 34.85, 35.2, 38.05, 43.47, 40.95, 41.28, 48.36, 50.79, 56.91, 55.95, 66.99, 67.46, 73.19, 79.9, 81.22, 89.1, 89.85, 88.78, 91.75, 103.66, 106.24, 108.27, 107.91, 112.72, 112.72, 113.71, 116.41, 122.88, 123.76, 128.77, 143.31, 135.98, 146.36, 149.83, 146.08, 157.39, 160.74, 169.5, 168.07, 174.93, 176.62, 179.37, 179.1, 191.26, 194.06, 196.09, 205.81, 203.99, 203.81, 211.72, 222.63, 228.34, 229.29, 230.22, 236.05, 238.38, 241.23, 243.45, 251.42, 256.29, 259.53, 260.88, 263.63, 271.21, 271.7, 286.93, 283.86, 286.7, 288.48, 299.81, 303.45, 297.91, 303.59, 306.36, 307.72, 316.71, 320.01, 323.07, 338.1, 340.32, 347.1, 353.44, 358.61, 364.93, 367.84, 368.94, 373.94, 378.66, 377.99, 385.81, 389.8, 387.09, 394.47, 406.2, 404.22, 407.19, 408.59, 410.63, 408.53, 413.77, 414.43, 418.49, 425.21, 426.21, 431.58, 434.65, 438.74, 438.68, 452.15, 459.38, 462.31, 466.05, 464.59, 468.78, 467.64, 467.87, 471.58, 472.08, 476.24, 481.01, 482.96, 485.47, 487.3, 492.54, 494.74, 493.61, 498.48, 504.08, 503.92, 510.24, 513.0, 516.3, 523.36, 521.85, 525.55, 528.55, 530.36, 534.77, 538.22, 538.5, 548.12, 542.6, 545.29, 547.61, 548.25, 553.41, 550.62, 557.59, 558.28, 563.28, 562.21, 567.95, 568.62, 575.35, 576.46, 581.3, 586.54, 593.07, 592.19, 599.24, 598.46, 604.14, 603.91, 613.18, 611.01, 619.71, 616.72, 623.62, 627.59, 631.06, 634.4, 635.38, 643.48, 652.52, 657.62, 660.8, 665.45, 668.53, 668.23, 671.75, 676.4, 680.9, 684.95, 685.76, 684.27, 692.16, 711.68, 713.12, 718.16, 723.74, 722.58, 729.15, 739.33, 734.51, 742.29, 749.25, 751.31, 750.21, 753.14, 758.0, 759.18, 766.21, 767.72, 768.67, 770.18, 777.67, 781.13, 782.36, 785.1, 790.67, 791.79, 809.25, 816.37, 818.46, 820.05, 830.67, 827.93, 830.93, 832.14, 831.96, 832.89, 836.77, 840.08, 842.95, 843.58, 852.07, 847.41, 852.2, 857.59, 857.08, 863.46, 866.53, 865.61, 873.76, 873.14, 876.36, 879.02, 880.35, 884.42, 886.56, 887.76, 903.29, 910.73, 908.71, 911.04, 917.95, 920.26, 927.9, 931.7, 935.72, 930.68, 938.39, 933.54, 945.36, 950.41, 952.51, 952.06, 951.41, 954.64, 955.63, 967.07, 968.06, 976.75, 974.78, 982.13, 987.18, 989.89, 993.52, 998.94]",
         "[-0.07, 0.16, 0.36, 0.66, 0.75, 1.06, 0.98, 0.98, 0.96, 0.82, 0.62, 0.31, 0.01, -0.22, -0.38, -0.74, -0.76, -0.79, -0.96, -0.92, -0.53, -0.82, -0.6, 0.09, 0.04, 0.92, 0.96, 0.79, 0.43, 0.28, 0.41, 0.29, -0.92, -0.85, -0.89, -0.96, -0.85, -1.01, -1.09, -0.9, -0.32, -0.25, 0.19, 0.97, 1.17, 0.85, 0.75, 0.59, 0.01, -0.38, -0.89, -1.08, -0.94, -0.88, -0.77, -0.71, 0.15, 0.32, 0.88, 0.84, 0.8, 1.05, 0.73, -0.52, -0.68, -0.91, -0.94, -1.14, -0.89, -0.82, -0.54, 0.28, 0.21, 0.79, 0.79, 1.09, 0.94, 0.77, 0.09, -0.26, -0.58, -0.57, -0.74, -0.96, -0.82, -0.73, -0.8, -0.26, 0.0, 0.42, 0.71, 0.73, 0.63, -0.18, -0.67, -0.53, -0.75, -0.65, -0.54, -0.32, 0.31, 0.55, 0.54, 0.5, 0.77, 0.86, 0.48, 0.21, -0.07, -0.16, -0.05, -0.29, -0.42, -0.41, -0.96, -1.03, -1.1, -0.64, -0.63, -0.04, -0.03, 0.93, 1.01, 0.74, 0.69, 0.63, 0.51, 0.37, 0.16, -0.01, -0.03, -0.76, -0.93, -0.76, -0.99, -0.86, -0.63, -0.62, -0.58, -0.41, 0.04, 0.3, 0.58, 0.73, 1.0, 0.7, 0.64, 0.66, 0.76, 0.23, -0.09, -0.27, -0.49, -0.8, -0.83, -0.92, -1.04, -0.97, -1.02, -0.79, -0.75, -0.78, -0.51, -0.5, 0.1, 0.75, 0.94, 1.01, 0.99, 0.95, 0.49, 0.36, 0.04, 0.16, -0.47, -0.78, -0.93, -0.87, -0.87, -0.84, -0.17, -0.39, 0.34, 0.64, 0.62, 1.0, 0.46, 0.47, 0.09, -0.39, -0.72, -0.72, -1.09, -0.95, -0.79, -0.66, -0.81, -0.54, -0.03, 1.15, 0.53, 0.12, 0.14, -0.07, -0.77, -1.03, -0.97, -0.7, -0.42, -0.33, -0.17, 0.14, 0.45, 0.71, 1.01, 0.92, 1.05, 1.0, 0.72, 0.64, 0.21, 0.02, -0.28, -0.56, -0.71, -0.04, -0.03, 0.33, 0.82, 1.02, 0.89, 1.12, 1.0, 0.88, 0.87, 0.76, 0.44, 0.3, 0.14, -0.15, -0.04, -0.42, -0.88, -0.99, -0.88, -0.87, -0.66, -0.5, -0.48, -0.17, 0.22, 0.36, 0.7, 0.65, 0.98, 0.29, 0.18, -0.43, -0.78, -0.96, -0.88, -1.01, -0.86, -0.77, -0.33, -0.28, 0.07, 0.77, 0.86, 0.97, 0.78, 1.04, 0.97, 0.78, 0.38, -0.28, -0.32, -0.74, -0.98, -1.0, -0.71, -0.89]"
        ],
        [
         "3",
         "4",
         "[1.95, 2.1, 13.07, 14.23, 23.38, 28.73, 27.91, 35.33, 34.5, 42.58, 43.2, 57.48, 58.96, 59.28, 61.86, 68.0, 69.27, 71.65, 69.01, 70.76, 83.81, 81.08, 84.23, 98.67, 102.04, 109.04, 120.73, 124.37, 120.26, 133.15, 132.29, 136.05, 136.19, 139.66, 140.96, 144.4, 144.3, 147.66, 152.33, 150.85, 154.65, 156.03, 158.41, 165.13, 161.45, 178.49, 174.62, 179.47, 182.11, 182.7, 184.87, 190.29, 203.71, 203.6, 201.02, 208.96, 211.59, 215.39, 215.91, 215.21, 218.04, 223.5, 233.7, 239.59, 245.09, 241.43, 243.79, 249.35, 249.0, 250.62, 255.62, 257.68, 264.55, 271.7, 272.6, 278.35, 277.82, 285.37, 291.24, 292.91, 311.33, 326.92, 331.58, 329.59, 330.55, 341.84, 344.87, 343.69, 346.55, 356.98, 371.3, 390.7, 388.24, 393.03, 407.76, 405.34, 414.07, 421.96, 419.67, 421.89, 436.7, 430.66, 442.72, 444.42, 446.33, 453.79, 462.0, 473.1, 475.76, 475.77, 479.72, 485.36, 486.03, 485.87, 488.03, 490.36, 492.5, 509.15, 510.14, 515.35, 514.78, 518.88, 517.02, 521.94, 535.84, 539.46, 549.46, 553.87, 564.1, 576.71, 574.77, 578.63, 578.55, 579.86, 588.87, 589.16, 587.83, 587.99, 597.88, 600.94, 604.34, 607.73, 608.73, 618.31, 625.81, 628.66, 638.21, 640.82, 641.71, 639.2, 641.75, 649.32, 653.92, 656.67, 677.44, 677.29, 689.65, 689.95, 693.11, 699.65, 702.57, 712.47, 727.93, 729.26, 744.02, 740.74, 744.18, 742.16, 748.24, 753.55, 761.39, 763.75, 765.87, 769.87, 782.38, 786.08, 786.03, 785.61, 786.77, 794.23, 795.01, 801.43, 800.14, 805.32, 810.55, 811.09, 814.23, 817.36, 824.83, 826.86, 826.12, 830.29, 833.66, 843.9, 837.49, 842.7, 847.49, 843.75, 853.94, 855.11, 855.56, 858.18, 859.74, 864.35, 863.7, 869.67, 870.11, 876.75, 880.64, 884.18, 889.82, 890.6, 896.02, 896.19, 898.28, 905.97, 903.82, 906.32, 908.87, 912.03, 912.34, 916.27, 918.96, 925.36, 930.94, 927.62, 931.47, 934.27, 933.42, 956.01, 958.49, 967.01, 975.06, 977.83, 976.58, 980.5, 979.66, 1001.63, 1000.92]",
         "[0.26, 0.25, 0.95, 0.91, 0.58, 0.33, 0.15, 0.0, -0.6, -0.96, -1.01, -0.5, -0.1, -0.11, 0.16, 0.49, 0.42, 0.49, 0.79, 0.89, 0.99, 0.83, 0.62, -0.25, -0.45, -1.06, -0.61, -0.12, 0.1, 0.44, 0.68, 0.8, 0.71, 1.12, 0.8, 1.12, 0.87, 0.49, 0.45, 0.44, 0.15, -0.14, -0.03, -0.61, -0.74, -0.91, -0.62, -0.57, -0.63, -0.35, -0.23, 0.08, 1.09, 0.87, 1.19, 0.94, 0.73, 0.73, 0.33, 0.29, 0.03, -0.09, -0.97, -1.08, -0.86, -0.86, -0.56, -0.22, -0.07, 0.13, 0.66, 0.78, 1.06, 1.03, 0.96, 0.39, 0.18, -0.34, -0.62, -0.92, -0.4, 1.02, 0.94, 0.99, 0.89, 0.53, 0.34, 0.07, -0.21, -0.85, -1.0, 0.7, 0.76, 0.92, 0.18, 0.03, -0.44, -0.84, -1.02, -1.01, -0.44, -0.18, 0.1, 0.4, 0.71, 1.08, 0.8, -0.37, -0.4, -0.36, -0.83, -1.16, -1.15, -1.17, -1.04, -0.79, -0.81, 0.43, 0.68, 0.94, 0.96, 1.12, 1.16, 0.76, -0.4, -0.76, -1.05, -0.79, 0.08, 0.77, 0.81, 1.21, 0.89, 1.09, 0.77, 0.9, 0.74, 0.61, 0.04, -0.21, -0.81, -0.81, -0.96, -0.8, -0.4, 0.25, 0.77, 1.06, 0.87, 0.82, 0.95, 0.91, 0.23, 0.06, -0.84, -0.81, -0.14, -0.09, 0.67, 0.84, 0.89, 0.82, -0.24, -0.22, -1.01, -0.86, -1.0, -0.97, -0.4, 0.1, 0.29, 0.9, 0.92, 1.14, 0.23, -0.12, -0.18, -0.3, -0.38, -0.73, -0.78, -0.92, -1.0, -0.91, -0.72, -0.41, 0.09, 0.17, 0.45, 0.78, 0.66, 0.81, 1.09, 0.65, 0.58, 0.35, 0.26, 0.08, -0.49, -0.54, -0.65, -0.77, -0.75, -0.75, -1.17, -0.82, -0.83, -0.48, -0.17, 0.56, 1.22, 1.06, 0.9, 1.24, 1.05, 0.71, 0.76, 0.22, 0.08, -0.08, -0.13, -0.49, -0.72, -0.91, -0.84, -1.03, -0.83, -0.7, -0.53, 1.09, 0.76, 0.54, -0.03, -0.35, -0.32, -0.4, -0.86, -0.61, -0.42]"
        ]
       ],
       "shape": {
        "columns": 3,
        "rows": 4
       }
      },
      "text/html": [
       "<div>\n",
       "<style scoped>\n",
       "    .dataframe tbody tr th:only-of-type {\n",
       "        vertical-align: middle;\n",
       "    }\n",
       "\n",
       "    .dataframe tbody tr th {\n",
       "        vertical-align: top;\n",
       "    }\n",
       "\n",
       "    .dataframe thead th {\n",
       "        text-align: right;\n",
       "    }\n",
       "</style>\n",
       "<table border=\"1\" class=\"dataframe\">\n",
       "  <thead>\n",
       "    <tr style=\"text-align: right;\">\n",
       "      <th></th>\n",
       "      <th>user_id</th>\n",
       "      <th>value_x</th>\n",
       "      <th>value_y</th>\n",
       "    </tr>\n",
       "  </thead>\n",
       "  <tbody>\n",
       "    <tr>\n",
       "      <th>0</th>\n",
       "      <td>1</td>\n",
       "      <td>[3.2, 8.69, 9.62, 14.69, 12.19, 18.7, 32.54, 3...</td>\n",
       "      <td>[0.5, 0.62, 0.86, 0.75, 1.08, 0.84, -0.14, -0....</td>\n",
       "    </tr>\n",
       "    <tr>\n",
       "      <th>1</th>\n",
       "      <td>2</td>\n",
       "      <td>[8.24, 5.21, 16.67, 21.09, 23.91, 26.26, 33.3,...</td>\n",
       "      <td>[0.66, 0.73, 1.06, 0.97, 0.55, 0.22, -0.26, -0...</td>\n",
       "    </tr>\n",
       "    <tr>\n",
       "      <th>2</th>\n",
       "      <td>3</td>\n",
       "      <td>[0.12, -0.67, 0.68, 11.36, 12.23, 16.87, 17.57...</td>\n",
       "      <td>[-0.07, 0.16, 0.36, 0.66, 0.75, 1.06, 0.98, 0....</td>\n",
       "    </tr>\n",
       "    <tr>\n",
       "      <th>3</th>\n",
       "      <td>4</td>\n",
       "      <td>[1.95, 2.1, 13.07, 14.23, 23.38, 28.73, 27.91,...</td>\n",
       "      <td>[0.26, 0.25, 0.95, 0.91, 0.58, 0.33, 0.15, 0.0...</td>\n",
       "    </tr>\n",
       "  </tbody>\n",
       "</table>\n",
       "</div>"
      ],
      "text/plain": [
       "   user_id                                            value_x  \\\n",
       "0        1  [3.2, 8.69, 9.62, 14.69, 12.19, 18.7, 32.54, 3...   \n",
       "1        2  [8.24, 5.21, 16.67, 21.09, 23.91, 26.26, 33.3,...   \n",
       "2        3  [0.12, -0.67, 0.68, 11.36, 12.23, 16.87, 17.57...   \n",
       "3        4  [1.95, 2.1, 13.07, 14.23, 23.38, 28.73, 27.91,...   \n",
       "\n",
       "                                             value_y  \n",
       "0  [0.5, 0.62, 0.86, 0.75, 1.08, 0.84, -0.14, -0....  \n",
       "1  [0.66, 0.73, 1.06, 0.97, 0.55, 0.22, -0.26, -0...  \n",
       "2  [-0.07, 0.16, 0.36, 0.66, 0.75, 1.06, 0.98, 0....  \n",
       "3  [0.26, 0.25, 0.95, 0.91, 0.58, 0.33, 0.15, 0.0...  "
      ]
     },
     "execution_count": 42,
     "metadata": {},
     "output_type": "execute_result"
    }
   ],
   "source": [
    "df.groupby('user_id').agg({\n",
    "    'value_x': list,\n",
    "    'value_y': list\n",
    "}).reset_index().head()"
   ]
  }
 ],
 "metadata": {
  "kernelspec": {
   "display_name": "my_env",
   "language": "python",
   "name": "python3"
  },
  "language_info": {
   "codemirror_mode": {
    "name": "ipython",
    "version": 3
   },
   "file_extension": ".py",
   "mimetype": "text/x-python",
   "name": "python",
   "nbconvert_exporter": "python",
   "pygments_lexer": "ipython3",
   "version": "3.10.16"
  }
 },
 "nbformat": 4,
 "nbformat_minor": 5
}
