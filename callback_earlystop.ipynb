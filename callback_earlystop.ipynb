{
  "cells": [
    {
      "cell_type": "code",
      "execution_count": 1,
      "metadata": {},
      "outputs": [],
      "source": [
        "from sklearn.datasets import load_breast_cancer\n",
        "from sklearn.model_selection import train_test_split\n",
        "from sklearn.preprocessing import StandardScaler\n",
        "\n",
        "from skopt import BayesSearchCV\n",
        "from skopt.space import Integer, Real\n",
        "\n",
        "from xgboost import XGBClassifier\n",
        "from sklearn.model_selection import StratifiedKFold\n",
        "from sklearn.metrics import accuracy_score\n",
        "import numpy as np"
      ]
    },
    {
      "cell_type": "code",
      "execution_count": 2,
      "metadata": {},
      "outputs": [],
      "source": [
        "data = load_breast_cancer()\n",
        "X, y = data.data, data.target\n",
        "\n",
        "scaler = StandardScaler()\n",
        "X = scaler.fit_transform(X)\n",
        "\n",
        "X_train, X_test, y_train, y_test = train_test_split(X, y, test_size=0.2, random_state=42)"
      ]
    },
    {
      "cell_type": "code",
      "execution_count": 3,
      "metadata": {},
      "outputs": [],
      "source": [
        "class CustomEarlyStopper:\n",
        "    def __init__(self, no_improvement_rounds=3):\n",
        "        self.no_improvement_rounds = no_improvement_rounds\n",
        "        self.best_score = -np.inf\n",
        "        self.rounds_without_improvement = 0\n",
        "\n",
        "    def __call__(self, result):\n",
        "        current_score = result.func_vals[-1]\n",
        "        if current_score > self.best_score:\n",
        "            self.best_score = current_score\n",
        "            self.rounds_without_improvement = 0\n",
        "        else:\n",
        "            self.rounds_without_improvement += 1\n",
        "\n",
        "        if self.rounds_without_improvement >= self.no_improvement_rounds:\n",
        "            return True\n",
        "        return False"
      ]
    },
    {
      "cell_type": "code",
      "execution_count": 4,
      "metadata": {},
      "outputs": [],
      "source": [
        "param_dist = {\n",
        "    'n_estimators': Integer(32, 128),\n",
        "    'max_depth': Integer(2, 10),   \n",
        "    'min_child_weight': Integer(1, 5),\n",
        "    'subsample': Real(0.1, 0.5),         \n",
        "    'colsample_bytree': Real(0.1, 0.9),  \n",
        "    'gamma': Real(0, 0.5),\n",
        "    'reg_alpha': [0, 0.01, 0.1, 1],\n",
        "    'reg_lambda': [1, 1.5, 2, 3],\n",
        "    'learning_rate': Real(0.001, 0.1),\n",
        "}\n",
        "\n",
        "cv = StratifiedKFold(n_splits=3, shuffle=True, random_state=42)\n",
        "model = XGBClassifier()"
      ]
    },
    {
      "cell_type": "code",
      "execution_count": 5,
      "metadata": {},
      "outputs": [],
      "source": [
        "opt = BayesSearchCV(\n",
        "    model,\n",
        "    param_dist,\n",
        "    n_iter=20,\n",
        "    cv=cv,\n",
        "    n_jobs=-1,\n",
        "    scoring='roc_auc',\n",
        ")\n",
        "\n",
        "early_stop = CustomEarlyStopper(no_improvement_rounds=3)\n",
        "opt.fit(X_train, y_train, callback=early_stop)\n",
        "model = opt.best_estimator_"
      ]
    },
    {
      "cell_type": "code",
      "execution_count": 6,
      "metadata": {},
      "outputs": [
        {
          "name": "stdout",
          "output_type": "stream",
          "text": [
            "Точність на тесті: 0.9824561403508771\n"
          ]
        }
      ],
      "source": [
        "y_pred = model.predict(X_test)\n",
        "print(\"Точність на тесті:\", accuracy_score(y_test, y_pred))"
      ]
    }
  ],
  "metadata": {
    "colab": {
      "provenance": []
    },
    "kernelspec": {
      "display_name": "goit",
      "language": "python",
      "name": "python3"
    },
    "language_info": {
      "codemirror_mode": {
        "name": "ipython",
        "version": 3
      },
      "file_extension": ".py",
      "mimetype": "text/x-python",
      "name": "python",
      "nbconvert_exporter": "python",
      "pygments_lexer": "ipython3",
      "version": "3.10.16"
    }
  },
  "nbformat": 4,
  "nbformat_minor": 0
}
