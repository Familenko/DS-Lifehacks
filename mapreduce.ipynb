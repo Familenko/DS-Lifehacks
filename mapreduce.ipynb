{
 "cells": [
  {
   "cell_type": "code",
   "execution_count": 1,
   "id": "4381a547",
   "metadata": {},
   "outputs": [],
   "source": [
    "from concurrent.futures import ThreadPoolExecutor\n",
    "from collections import defaultdict"
   ]
  },
  {
   "cell_type": "code",
   "execution_count": 2,
   "id": "c2a6cbac",
   "metadata": {},
   "outputs": [],
   "source": [
    "def map_function(word):\n",
    "    return word, 1\n",
    "\n",
    "def shuffle_function(mapped_values):\n",
    "    shuffled = defaultdict(list)\n",
    "    for key, value in mapped_values:\n",
    "        shuffled[key].append(value)\n",
    "    return shuffled.items()\n",
    "\n",
    "def reduce_function(key_values):\n",
    "    key, values = key_values\n",
    "    return key, sum(values)\n",
    "\n",
    "# Виконання MapReduce\n",
    "def map_reduce(text):\n",
    "    words = text.split()\n",
    "\n",
    "    # Паралельний Мапінг\n",
    "    with ThreadPoolExecutor() as executor:\n",
    "        mapped_values = list(executor.map(map_function, words))\n",
    "\n",
    "    # Крок 2: Shuffle\n",
    "    shuffled_values = shuffle_function(mapped_values)\n",
    "\n",
    "    # Паралельна Редукція\n",
    "    with ThreadPoolExecutor() as executor:\n",
    "        reduced_values = list(executor.map(reduce_function, shuffled_values))\n",
    "\n",
    "    return dict(reduced_values)"
   ]
  },
  {
   "cell_type": "code",
   "execution_count": 3,
   "id": "7f3692df",
   "metadata": {},
   "outputs": [
    {
     "name": "stdout",
     "output_type": "stream",
     "text": [
      "Результат підрахунку слів: {'hello': 3, 'world': 1, 'Python': 1, 'Student': 1}\n"
     ]
    }
   ],
   "source": [
    "text = \"hello world hello Python hello Student\"\n",
    "result = map_reduce(text)\n",
    "print(\"Результат підрахунку слів:\", result)"
   ]
  }
 ],
 "metadata": {
  "kernelspec": {
   "display_name": "my_env",
   "language": "python",
   "name": "python3"
  },
  "language_info": {
   "codemirror_mode": {
    "name": "ipython",
    "version": 3
   },
   "file_extension": ".py",
   "mimetype": "text/x-python",
   "name": "python",
   "nbconvert_exporter": "python",
   "pygments_lexer": "ipython3",
   "version": "3.10.16"
  }
 },
 "nbformat": 4,
 "nbformat_minor": 5
}
