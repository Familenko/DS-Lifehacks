{
 "cells": [
  {
   "cell_type": "markdown",
   "metadata": {},
   "source": [
    "<a id=\"top\"></a>\n",
    "<div style=\"text-align:center; border-radius:15px 50px; padding:12px; color:white; margin:0; font-size:150%; font-family:Comic Sans MS, cursive; background-color:#0f7a7a\">\n",
    "<b>🧪 Data</b>\n",
    "</div>"
   ]
  },
  {
   "cell_type": "markdown",
   "metadata": {},
   "source": [
    "- [викиди](#outliers)\n",
    "- [кореляція](#correlation)\n",
    "- [розподіл](#distribution)\n",
    "- [модифікація полів](#field)\n",
    "- [синтетичні дані](#syntetic)"
   ]
  },
  {
   "cell_type": "markdown",
   "metadata": {},
   "source": [
    "---\n",
    "### викиди\n",
    "<a id=\"outliers\"></a>"
   ]
  },
  {
   "cell_type": "markdown",
   "metadata": {},
   "source": [
    "<details>\n",
    "<summary>нашо</summary>\n",
    "\n",
    "Аномалії (викиди) – це значення, які суттєво відрізняються від більшості інших даних. Вони можуть з'являтися через помилки збору даних, рідкісні події або природну варіативність. Для їх виявлення існують різні методи, які визначають «нормальний» діапазон значень та виділяють ті, що виходять за межі цього діапазону.\n",
    "\n",
    "Підходи до виявлення аномалій:\n",
    "- Метод IQR (Interquartile Range)\n",
    "\n",
    "    Використовує статистичні межі, засновані на розподілі даних.\n",
    "    Визначає діапазон, у якому знаходиться основна частина значень.\n",
    "    Всі значення, що виходять за межі цього діапазону, вважаються аномальними.\n",
    "    Добре працює, якщо дані мають нерівномірний розподіл і містять природні групування.\n",
    "- Метод Z-оцінки (Z-Score)\n",
    "\n",
    "    Оцінює, наскільки кожне значення відхиляється від середнього.\n",
    "    Чим більше відхилення, тим вища ймовірність, що значення є аномальним.\n",
    "    Підходить для даних із нормальним (дзвоноподібним) розподілом, але чутливий до різких змін.\n",
    "    \n",
    "Коли який метод використовувати?\n",
    "\n",
    "IQR підходить для невеликих наборів даних і розподілів із чіткими межами.\n",
    "Z-Score краще працює для великих вибірок, де дані приблизно розподілені рівномірно.\n",
    "\n",
    "</details>"
   ]
  },
  {
   "cell_type": "markdown",
   "metadata": {},
   "source": [
    "- [IQR_zscore](IQR_zscore.ipynb) - база\n",
    "- [outliers](outliers.ipynb) - робота з df\n",
    "- [IsolationForest](IsolationForest.ipynb) - модель для визначення викидів"
   ]
  },
  {
   "cell_type": "markdown",
   "metadata": {},
   "source": [
    "---\n",
    "### кореляція\n",
    "<a id=\"correlation\"></a>"
   ]
  },
  {
   "cell_type": "markdown",
   "metadata": {},
   "source": [
    "- [corr_df](corr_df.ipynb) - графік кореляції\n",
    "- [find_correlated_columns](find_correlated_columns.ipynb) - знаходження корельоованих полів\n",
    "- [mutual_info](mutual_info.ipynb) - взаємна інформація\n",
    "- [target_corr](target_corr.ipynb) - перевірка на всі звязки з `y`"
   ]
  },
  {
   "cell_type": "markdown",
   "metadata": {},
   "source": [
    "---\n",
    "### розподіл\n",
    "<a id=\"distribution\"></a>"
   ]
  },
  {
   "cell_type": "markdown",
   "metadata": {},
   "source": [
    "- [log1p](log1p.ipynb) - нормалізація через логарифм\n",
    "- [normal_test](normal_test.ipynb) - перевірка на нормальність\n",
    "- [PowerTransformer](PowerTransformer.ipynb) - призведення до нормального розподілу (зменшення асиметрії)\n",
    "- [skew_kurt](skew_kurt.ipynb) - перевірка на асиметрію"
   ]
  },
  {
   "cell_type": "markdown",
   "metadata": {},
   "source": [
    "---\n",
    "### модифікація полів\n",
    "<a id=\"field\"></a>"
   ]
  },
  {
   "cell_type": "markdown",
   "metadata": {},
   "source": [
    "- [bins](bins.ipynb) - бінізація даних\n",
    "- [category_encoder](category_encoder.ipynb) - обробка категоріальних полів\n",
    "- [polynomial](polynomial.ipynb) - створення поліномів\n",
    "- [plot_pca](plot_pca.ipynb) - побудова графіка для визначення оптимальної кількості головних компонентів\n",
    "- [delete_features](delete_features.ipynb) - видалення зайвих полів\n",
    "- [pipeline](pipeline.ipynb) - створення пайплайну та трансформатора через декоратор"
   ]
  },
  {
   "cell_type": "markdown",
   "metadata": {},
   "source": [
    "---\n",
    "### синтетичні дані\n",
    "<a id=\"syntetic\"></a>"
   ]
  },
  {
   "cell_type": "markdown",
   "metadata": {},
   "source": [
    "- [smote](smote.ipynb) - збалансування класів за рахунок синтетичних даних\n",
    "- [syntetic_data](syntetic_data.ipynb) - створення синтетичних датафреймів\n",
    "- [KNN_imputer](KNN_imputer.ipynb) - заповнення пропущених значень на основі сусідів"
   ]
  },
  {
   "cell_type": "markdown",
   "metadata": {},
   "source": [
    "<a id=\"top\"></a>\n",
    "<div style=\"text-align:center; border-radius:15px 50px; padding:12px; color:white; margin:0; font-size:150%; font-family:Comic Sans MS, cursive; background-color:#0f7a7a\">\n",
    "<b>🛠️ Models</b>\n",
    "</div>"
   ]
  },
  {
   "cell_type": "markdown",
   "metadata": {},
   "source": [
    "- [кластеризація](#cluster)\n",
    "- [NLP](#nlp)\n",
    "- [побудова моделі](#model_build)\n",
    "- [оцінка моделі](#model_eval)\n",
    "- [оптимізатори](#optimaiser)"
   ]
  },
  {
   "cell_type": "markdown",
   "metadata": {},
   "source": [
    "---\n",
    "### кластеризація\n",
    "<a id=\"cluster\"></a>"
   ]
  },
  {
   "cell_type": "markdown",
   "metadata": {},
   "source": [
    "- [elbow](elbow.ipynb) - метод ліктя\n",
    "- [silhouette_knifes](silhouette_knifes.ipynb) - метод \"ножів\""
   ]
  },
  {
   "cell_type": "markdown",
   "metadata": {},
   "source": [
    "---\n",
    "### NLP\n",
    "<a id=\"nlp\"></a>"
   ]
  },
  {
   "cell_type": "markdown",
   "metadata": {},
   "source": [
    "- [sentiment](sentiment.ipynb) - оцінка позитивне/негативне речення"
   ]
  },
  {
   "cell_type": "markdown",
   "metadata": {},
   "source": [
    "---\n",
    "### побудова моделі\n",
    "<a id=\"model_build\"></a>"
   ]
  },
  {
   "cell_type": "markdown",
   "metadata": {},
   "source": [
    "- [cross_validation](cross_validation.ipynb) - різні крос валідації\n",
    "- [tuning_classifier_&_regressor](tuning_classifier_&_regressor.ipynb) - підгонка гіперпараметрів"
   ]
  },
  {
   "cell_type": "markdown",
   "metadata": {},
   "source": [
    "---\n",
    "### оцінка моделі\n",
    "<a id=\"model_eval\"></a>"
   ]
  },
  {
   "cell_type": "markdown",
   "metadata": {},
   "source": [
    "- [cv_results](cv_results.ipynb) - оцінка кросвалідації та визначення оптимальної кількості ітерацій\n",
    "- [probplot](probplot.ipynb) - оцінка нормальності (статистичної ймовірності) отриманих результатів\n",
    "- [shap](shap.ipynb) - оцінка результатів моделі, кожного конкретного семпла\n",
    "- [learning_curve](learning_curve.ipynb) - оцінка навченості моделі на різних обьємах даних"
   ]
  },
  {
   "cell_type": "markdown",
   "metadata": {},
   "source": [
    "---\n",
    "### оптимізатори\n",
    "<a id=\"optimaiser\"></a>"
   ]
  },
  {
   "cell_type": "markdown",
   "metadata": {},
   "source": [
    "- [optuna_bayes](optuna_bayes.ipynb) - оптимізатори на основі вірогідності\n",
    "- [callback_earlystop](callback_earlystop.ipynb) - коллбек для запобігання перенавченості"
   ]
  },
  {
   "cell_type": "markdown",
   "metadata": {},
   "source": [
    "<a id=\"top\"></a>\n",
    "<div style=\"text-align:center; border-radius:15px 50px; padding:12px; color:white; margin:0; font-size:150%; font-family:Comic Sans MS, cursive; background-color:#0f7a7a\">\n",
    "<b>🚀 Auto</b>\n",
    "</div>"
   ]
  },
  {
   "cell_type": "markdown",
   "metadata": {},
   "source": [
    "- [pycaret](pycaret.ipynb) - автоматична побудова всіх моделей і їх підгонка\n",
    "- [ydata-profiling](ydata-profiling.ipynb) - автоматична оцінка даних"
   ]
  },
  {
   "cell_type": "markdown",
   "metadata": {},
   "source": [
    "<a id=\"top\"></a>\n",
    "<div style=\"text-align:center; border-radius:15px 50px; padding:12px; color:white; margin:0; font-size:150%; font-family:Comic Sans MS, cursive; background-color:#0f7a7a\">\n",
    "<b>📈 Statistic</b>\n",
    "</div>"
   ]
  },
  {
   "cell_type": "markdown",
   "metadata": {},
   "source": [
    "- [confidence_interval](confidence_interval.ipynb) - визначення довірчого інтервалу\n",
    "- [bootstrap](bootstrap.ipynb) - перевірка таргета та контрольної групи на статистичну значимість через рандомну підвибірку\n",
    "- [math](math.ipynb) - математика"
   ]
  },
  {
   "cell_type": "markdown",
   "metadata": {},
   "source": [
    "<a id=\"top\"></a>\n",
    "<div style=\"text-align:center; border-radius:15px 50px; padding:12px; color:white; margin:0; font-size:150%; font-family:Comic Sans MS, cursive; background-color:#0f7a7a\">\n",
    "<b>📊 Excel</b>\n",
    "</div>"
   ]
  },
  {
   "cell_type": "markdown",
   "metadata": {},
   "source": [
    "- [save_df_to_excel](save_df_to_excel.ipynb) - збереження декількох df в окремі аркуші"
   ]
  },
  {
   "cell_type": "markdown",
   "metadata": {},
   "source": [
    "<a id=\"top\"></a>\n",
    "<div style=\"text-align:center; border-radius:15px 50px; padding:12px; color:white; margin:0; font-size:150%; font-family:Comic Sans MS, cursive; background-color:#0f7a7a\">\n",
    "<b>🧠 Pytorch</b>\n",
    "</div>"
   ]
  },
  {
   "cell_type": "markdown",
   "metadata": {},
   "source": [
    "- [model_build](pytorch/model_build.ipynb) - побудова нейромереж\n",
    "- [optuna](pytorch/optuna.ipynb) - використання optuna\n",
    "- [find_lr](pytorch/find_lr.ipynb) - використання callbacks\n",
    "- [transfer_learning](pytorch/transfer_learning.ipynb) - використання transfer_learning (навчених шарів)"
   ]
  }
 ],
 "metadata": {
  "language_info": {
   "name": "python"
  }
 },
 "nbformat": 4,
 "nbformat_minor": 2
}
