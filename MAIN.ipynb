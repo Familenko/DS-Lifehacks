{
 "cells": [
  {
   "cell_type": "markdown",
   "metadata": {},
   "source": [
    "# кластеризація"
   ]
  },
  {
   "cell_type": "markdown",
   "metadata": {},
   "source": [
    "- [elbow](elbow.ipynb) - метод ліктя\n",
    "- [silhouette_knifes](silhouette_knifes.ipynb) - метод \"ножів\""
   ]
  },
  {
   "cell_type": "markdown",
   "metadata": {},
   "source": [
    "# викиди"
   ]
  },
  {
   "cell_type": "markdown",
   "metadata": {},
   "source": [
    "- [IQR_zscore](IQR_zscore.ipynb) - база\n",
    "- [outliers](outliers.ipynb) - робота з df"
   ]
  },
  {
   "cell_type": "markdown",
   "metadata": {},
   "source": [
    "# кореляція"
   ]
  },
  {
   "cell_type": "markdown",
   "metadata": {},
   "source": [
    "- [corr_df](corr_df.ipynb) - графік кореляції\n",
    "- [find_correlated_columns](find_correlated_columns.ipynb) - знаходження корельоованих полів\n",
    "- [mutual_info](mutual_info) - взаємна інформація\n",
    "- [target_corr](target_corr.ipynb) - перевірка на всі звязки з `y`"
   ]
  },
  {
   "cell_type": "markdown",
   "metadata": {},
   "source": [
    "# розподіл"
   ]
  },
  {
   "cell_type": "markdown",
   "metadata": {},
   "source": [
    "- [confidence_interval](confidence_interval) - визначення довірчого інтервалу\n",
    "- [log1p](log1p.ipynb) - нормалізація через логарифм\n",
    "- [normal_test](normal_test.ipynb) - перевірка на нормальність\n",
    "- [PowerTransformer](PowerTransformer.ipynb) - призведення до нормального розподілу (зменшення асиметрії)\n",
    "- [skew_kurt](skew_kurt.ipynb) - перевірка на асиметрію"
   ]
  }
 ],
 "metadata": {
  "language_info": {
   "name": "python"
  }
 },
 "nbformat": 4,
 "nbformat_minor": 2
}
