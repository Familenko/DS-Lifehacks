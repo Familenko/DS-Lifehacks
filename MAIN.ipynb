{
 "cells": [
  {
   "cell_type": "markdown",
   "metadata": {},
   "source": [
    "# data"
   ]
  },
  {
   "cell_type": "markdown",
   "metadata": {},
   "source": [
    "### викиди"
   ]
  },
  {
   "cell_type": "markdown",
   "metadata": {},
   "source": [
    "Аномалії (викиди) – це значення, які суттєво відрізняються від більшості інших даних. Вони можуть з'являтися через помилки збору даних, рідкісні події або природну варіативність. Для їх виявлення існують різні методи, які визначають «нормальний» діапазон значень та виділяють ті, що виходять за межі цього діапазону.\n",
    "\n",
    "Підходи до виявлення аномалій:\n",
    "- Метод IQR (Interquartile Range)\n",
    "\n",
    "    Використовує статистичні межі, засновані на розподілі даних.\n",
    "    Визначає діапазон, у якому знаходиться основна частина значень.\n",
    "    Всі значення, що виходять за межі цього діапазону, вважаються аномальними.\n",
    "    Добре працює, якщо дані мають нерівномірний розподіл і містять природні групування.\n",
    "- Метод Z-оцінки (Z-Score)\n",
    "\n",
    "    Оцінює, наскільки кожне значення відхиляється від середнього.\n",
    "    Чим більше відхилення, тим вища ймовірність, що значення є аномальним.\n",
    "    Підходить для даних із нормальним (дзвоноподібним) розподілом, але чутливий до різких змін.\n",
    "    \n",
    "Коли який метод використовувати?\n",
    "\n",
    "IQR підходить для невеликих наборів даних і розподілів із чіткими межами.\n",
    "Z-Score краще працює для великих вибірок, де дані приблизно розподілені рівномірно."
   ]
  },
  {
   "cell_type": "markdown",
   "metadata": {},
   "source": [
    "- [IQR_zscore](IQR_zscore.ipynb) - база\n",
    "- [outliers](outliers.ipynb) - робота з df\n",
    "- [IsolationForest](IsolationForest.ipynb) - модель для визначення викидів"
   ]
  },
  {
   "cell_type": "markdown",
   "metadata": {},
   "source": [
    "### кореляція"
   ]
  },
  {
   "cell_type": "markdown",
   "metadata": {},
   "source": [
    "- [corr_df](corr_df.ipynb) - графік кореляції\n",
    "- [find_correlated_columns](find_correlated_columns.ipynb) - знаходження корельоованих полів\n",
    "- [mutual_info](mutual_info.ipynb) - взаємна інформація\n",
    "- [target_corr](target_corr.ipynb) - перевірка на всі звязки з `y`"
   ]
  },
  {
   "cell_type": "markdown",
   "metadata": {},
   "source": [
    "### розподіл"
   ]
  },
  {
   "cell_type": "markdown",
   "metadata": {},
   "source": [
    "- [log1p](log1p.ipynb) - нормалізація через логарифм\n",
    "- [normal_test](normal_test.ipynb) - перевірка на нормальність\n",
    "- [PowerTransformer](PowerTransformer.ipynb) - призведення до нормального розподілу (зменшення асиметрії)\n",
    "- [skew_kurt](skew_kurt.ipynb) - перевірка на асиметрію"
   ]
  },
  {
   "cell_type": "markdown",
   "metadata": {},
   "source": [
    "### модифікація полів"
   ]
  },
  {
   "cell_type": "markdown",
   "metadata": {},
   "source": [
    "- [bins](bins.ipynb) - бінізація даних\n",
    "- [category_encoder](category_encoder.ipynb) - обробка категоріальних полів\n",
    "- [polynomial](polynomial.ipynb) - створення поліномів\n",
    "- [plot_pca](plot_pca.ipynb) - побудова графіка для визначення оптимальної кількості головних компонентів\n",
    "- [delete_features](delete_features.ipynb) - видалення зайвих полів\n",
    "- [pipeline](pipeline.ipynb) - створення пайплайну та трансформатора через декоратор"
   ]
  },
  {
   "cell_type": "markdown",
   "metadata": {},
   "source": [
    "### синтетичні дані"
   ]
  },
  {
   "cell_type": "markdown",
   "metadata": {},
   "source": [
    "- [smote](smote.ipynb) - збалансування класів за рахунок синтетичних даних\n",
    "- [syntetic_data](syntetic_data.ipynb) - створення синтетичних датафреймів\n",
    "- [KNN_imputer](KNN_imputer.ipynb) - заповнення пропущених значень на основі сусідів"
   ]
  },
  {
   "cell_type": "markdown",
   "metadata": {},
   "source": [
    "# models"
   ]
  },
  {
   "cell_type": "markdown",
   "metadata": {},
   "source": [
    "### кластеризація"
   ]
  },
  {
   "cell_type": "markdown",
   "metadata": {},
   "source": [
    "- [elbow](elbow.ipynb) - метод ліктя\n",
    "- [silhouette_knifes](silhouette_knifes.ipynb) - метод \"ножів\""
   ]
  },
  {
   "cell_type": "markdown",
   "metadata": {},
   "source": [
    "### NLP"
   ]
  },
  {
   "cell_type": "markdown",
   "metadata": {},
   "source": [
    "- [sentiment](sentiment.ipynb) - оцінка позитивне/негативне речення"
   ]
  },
  {
   "cell_type": "markdown",
   "metadata": {},
   "source": [
    "### побудова моделі"
   ]
  },
  {
   "cell_type": "markdown",
   "metadata": {},
   "source": [
    "- [cross_validation](cross_validation.ipynb) - різні крос валідації\n",
    "- [tuning_classifier_&_regressor](tuning_classifier_&_regressor.ipynb) - підгонка гіперпараметрів"
   ]
  },
  {
   "cell_type": "markdown",
   "metadata": {},
   "source": [
    "### оцінка моделі"
   ]
  },
  {
   "cell_type": "markdown",
   "metadata": {},
   "source": [
    "- [cv_results](cv_results.ipynb) - оцінка кросвалідації та визначення оптимальної кількості ітерацій\n",
    "- [probplot](probplot.ipynb) - оцінка нормальності (статистичної ймовірності) отриманих результатів\n",
    "- [shap](shap.ipynb) - оцінка результатів моделі, кожного конкретного семпла\n",
    "- [learning_curve](learning_curve.ipynb) - оцінка навченості моделі на різних обьємах даних"
   ]
  },
  {
   "cell_type": "markdown",
   "metadata": {},
   "source": [
    "### оптимізатори"
   ]
  },
  {
   "cell_type": "markdown",
   "metadata": {},
   "source": [
    "- [optuna_bayes](optuna_bayes.ipynb) - оптимізатори на основі вірогідності\n",
    "- [callback_earlystop](callback_earlystop.ipynb) - коллбек для запобігання перенавченості"
   ]
  },
  {
   "cell_type": "markdown",
   "metadata": {},
   "source": [
    "# auto"
   ]
  },
  {
   "cell_type": "markdown",
   "metadata": {},
   "source": [
    "- [pycaret](pycaret.ipynb) - автоматична побудова всіх моделей і їх підгонка\n",
    "- [ydata-profiling](ydata-profiling.ipynb) - автоматична оцінка даних"
   ]
  },
  {
   "cell_type": "markdown",
   "metadata": {},
   "source": [
    "# statistic"
   ]
  },
  {
   "cell_type": "markdown",
   "metadata": {},
   "source": [
    "- [confidence_interval](confidence_interval.ipynb) - визначення довірчого інтервалу"
   ]
  },
  {
   "cell_type": "markdown",
   "metadata": {},
   "source": [
    "# excel"
   ]
  },
  {
   "cell_type": "markdown",
   "metadata": {},
   "source": [
    "- [save_df_to_excel](save_df_to_excel.ipynb) - збереження декількох df в окремі аркуші"
   ]
  }
 ],
 "metadata": {
  "language_info": {
   "name": "python"
  }
 },
 "nbformat": 4,
 "nbformat_minor": 2
}
