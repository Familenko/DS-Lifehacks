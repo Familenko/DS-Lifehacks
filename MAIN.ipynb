{
 "cells": [
  {
   "cell_type": "markdown",
   "metadata": {},
   "source": [
    "# Посилання"
   ]
  },
  {
   "cell_type": "markdown",
   "metadata": {},
   "source": [
    "[corr_df](corr_df.ipynb) - різні методи графічного представлення кореляції"
   ]
  },
  {
   "cell_type": "markdown",
   "metadata": {},
   "source": [
    "[confidence_interval](confidence_interval.ipynb) - функція для визначення довірчого інтервалу"
   ]
  },
  {
   "cell_type": "markdown",
   "metadata": {},
   "source": [
    "# кластеризація"
   ]
  },
  {
   "cell_type": "markdown",
   "metadata": {},
   "source": [
    "- [elbow](elbow.ipynb) - метод ліктя\n",
    "- [silhouette_knifes](silhouette_knifes.ipynb) - метод \"ножів\""
   ]
  }
 ],
 "metadata": {
  "language_info": {
   "name": "python"
  }
 },
 "nbformat": 4,
 "nbformat_minor": 2
}
