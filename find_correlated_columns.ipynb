{
  "cells": [
    {
      "cell_type": "code",
      "execution_count": 1,
      "metadata": {},
      "outputs": [],
      "source": [
        "from sklearn.datasets import fetch_california_housing\n",
        "import pandas as pd\n",
        "import numpy as np\n",
        "import matplotlib.pyplot as plt\n",
        "import seaborn as sns"
      ]
    },
    {
      "cell_type": "code",
      "execution_count": 2,
      "metadata": {},
      "outputs": [],
      "source": [
        "california_housing = fetch_california_housing()\n",
        "df = pd.DataFrame(california_housing.data, columns=california_housing.feature_names)\n",
        "df['MedHouseVal'] = california_housing.target\n",
        "\n",
        "df_corr_check = df.drop(['Longitude', 'Latitude', 'MedHouseVal'], axis=1)"
      ]
    },
    {
      "cell_type": "code",
      "execution_count": 3,
      "metadata": {},
      "outputs": [],
      "source": [
        "def find_high_corr_pairs(df, threshold=0.5, corr_method='pearson'):\n",
        "    high_corr_pairs_list = []\n",
        "    corr_matrix = df.corr(method=corr_method)\n",
        "\n",
        "    for i in range(len(corr_matrix.columns)):\n",
        "        for j in range(i + 1, len(corr_matrix.columns)):\n",
        "            col1 = corr_matrix.columns[i]\n",
        "            col2 = corr_matrix.columns[j]\n",
        "            corr = corr_matrix.iloc[i, j]\n",
        "            if abs(corr) > threshold:\n",
        "                high_corr_pairs = {'col1': col1, 'col2': col2, 'corr': corr}\n",
        "                high_corr_pairs_list.append(high_corr_pairs)\n",
        "    \n",
        "    result = pd.DataFrame(high_corr_pairs_list).sort_values(by='corr', ascending=False)\n",
        "    return result"
      ]
    },
    {
      "cell_type": "code",
      "execution_count": 4,
      "metadata": {},
      "outputs": [
        {
          "data": {
            "application/vnd.microsoft.datawrangler.viewer.v0+json": {
              "columns": [
                {
                  "name": "index",
                  "rawType": "int64",
                  "type": "integer"
                },
                {
                  "name": "col1",
                  "rawType": "object",
                  "type": "string"
                },
                {
                  "name": "col2",
                  "rawType": "object",
                  "type": "string"
                },
                {
                  "name": "corr",
                  "rawType": "float64",
                  "type": "float"
                }
              ],
              "conversionMethod": "pd.DataFrame",
              "ref": "d1e50711-ba36-4319-ae2c-3a6c6d3ce3f6",
              "rows": [
                [
                  "2",
                  "AveRooms",
                  "AveBedrms",
                  "0.8476213257130424"
                ],
                [
                  "0",
                  "MedInc",
                  "AveRooms",
                  "0.32689543164129786"
                ],
                [
                  "1",
                  "HouseAge",
                  "Population",
                  "-0.29624423977353637"
                ]
              ],
              "shape": {
                "columns": 3,
                "rows": 3
              }
            },
            "text/html": [
              "<div>\n",
              "<style scoped>\n",
              "    .dataframe tbody tr th:only-of-type {\n",
              "        vertical-align: middle;\n",
              "    }\n",
              "\n",
              "    .dataframe tbody tr th {\n",
              "        vertical-align: top;\n",
              "    }\n",
              "\n",
              "    .dataframe thead th {\n",
              "        text-align: right;\n",
              "    }\n",
              "</style>\n",
              "<table border=\"1\" class=\"dataframe\">\n",
              "  <thead>\n",
              "    <tr style=\"text-align: right;\">\n",
              "      <th></th>\n",
              "      <th>col1</th>\n",
              "      <th>col2</th>\n",
              "      <th>corr</th>\n",
              "    </tr>\n",
              "  </thead>\n",
              "  <tbody>\n",
              "    <tr>\n",
              "      <th>2</th>\n",
              "      <td>AveRooms</td>\n",
              "      <td>AveBedrms</td>\n",
              "      <td>0.847621</td>\n",
              "    </tr>\n",
              "    <tr>\n",
              "      <th>0</th>\n",
              "      <td>MedInc</td>\n",
              "      <td>AveRooms</td>\n",
              "      <td>0.326895</td>\n",
              "    </tr>\n",
              "    <tr>\n",
              "      <th>1</th>\n",
              "      <td>HouseAge</td>\n",
              "      <td>Population</td>\n",
              "      <td>-0.296244</td>\n",
              "    </tr>\n",
              "  </tbody>\n",
              "</table>\n",
              "</div>"
            ],
            "text/plain": [
              "       col1        col2      corr\n",
              "2  AveRooms   AveBedrms  0.847621\n",
              "0    MedInc    AveRooms  0.326895\n",
              "1  HouseAge  Population -0.296244"
            ]
          },
          "execution_count": 4,
          "metadata": {},
          "output_type": "execute_result"
        }
      ],
      "source": [
        "find_high_corr_pairs(df_corr_check, 0.25)"
      ]
    }
  ],
  "metadata": {
    "colab": {
      "provenance": []
    },
    "kernelspec": {
      "display_name": "goit",
      "language": "python",
      "name": "python3"
    },
    "language_info": {
      "codemirror_mode": {
        "name": "ipython",
        "version": 3
      },
      "file_extension": ".py",
      "mimetype": "text/x-python",
      "name": "python",
      "nbconvert_exporter": "python",
      "pygments_lexer": "ipython3",
      "version": "3.10.16"
    }
  },
  "nbformat": 4,
  "nbformat_minor": 0
}
