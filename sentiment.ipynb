{
  "cells": [
    {
      "cell_type": "code",
      "execution_count": 1,
      "metadata": {},
      "outputs": [],
      "source": [
        "import numpy as np\n",
        "import pandas as pd\n",
        "from sklearn.metrics import accuracy_score,classification_report\n",
        "from nltk.sentiment.vader import SentimentIntensityAnalyzer\n",
        "import nltk"
      ]
    },
    {
      "cell_type": "code",
      "execution_count": 2,
      "metadata": {},
      "outputs": [
        {
          "name": "stderr",
          "output_type": "stream",
          "text": [
            "[nltk_data] Downloading package vader_lexicon to\n",
            "[nltk_data]     /Users/aleksejkitajskij/nltk_data...\n",
            "[nltk_data]   Package vader_lexicon is already up-to-date!\n"
          ]
        }
      ],
      "source": [
        "nltk.download('vader_lexicon')\n",
        "sid = SentimentIntensityAnalyzer()"
      ]
    },
    {
      "cell_type": "code",
      "execution_count": 3,
      "metadata": {},
      "outputs": [
        {
          "data": {
            "application/vnd.microsoft.datawrangler.viewer.v0+json": {
              "columns": [
                {
                  "name": "index",
                  "rawType": "int64",
                  "type": "integer"
                },
                {
                  "name": "label",
                  "rawType": "object",
                  "type": "string"
                },
                {
                  "name": "review",
                  "rawType": "object",
                  "type": "string"
                }
              ],
              "conversionMethod": "pd.DataFrame",
              "ref": "6ada9417-708b-41ea-ad51-89f392f0e1a5",
              "rows": [
                [
                  "0",
                  "pos",
                  "Stuning even for the non-gamer: This sound track was beautiful! It paints the senery in your mind so well I would recomend it even to people who hate vid. game music! I have played the game Chrono Cross but out of all of the games I have ever played it has the best music! It backs away from crude keyboarding and takes a fresher step with grate guitars and soulful orchestras. It would impress anyone who cares to listen! ^_^"
                ],
                [
                  "1",
                  "pos",
                  "The best soundtrack ever to anything.: I'm reading a lot of reviews saying that this is the best 'game soundtrack' and I figured that I'd write a review to disagree a bit. This in my opinino is Yasunori Mitsuda's ultimate masterpiece. The music is timeless and I'm been listening to it for years now and its beauty simply refuses to fade.The price tag on this is pretty staggering I must say, but if you are going to buy any cd for this much money, this is the only one that I feel would be worth every penny."
                ],
                [
                  "2",
                  "pos",
                  "Amazing!: This soundtrack is my favorite music of all time, hands down. The intense sadness of \"Prisoners of Fate\" (which means all the more if you've played the game) and the hope in \"A Distant Promise\" and \"Girl who Stole the Star\" have been an important inspiration to me personally throughout my teen years. The higher energy tracks like \"Chrono Cross ~ Time's Scar~\", \"Time of the Dreamwatch\", and \"Chronomantique\" (indefinably remeniscent of Chrono Trigger) are all absolutely superb as well.This soundtrack is amazing music, probably the best of this composer's work (I haven't heard the Xenogears soundtrack, so I can't say for sure), and even if you've never played the game, it would be worth twice the price to buy it.I wish I could give it 6 stars."
                ],
                [
                  "3",
                  "pos",
                  "Excellent Soundtrack: I truly like this soundtrack and I enjoy video game music. I have played this game and most of the music on here I enjoy and it's truly relaxing and peaceful.On disk one. my favorites are Scars Of Time, Between Life and Death, Forest Of Illusion, Fortress of Ancient Dragons, Lost Fragment, and Drowned Valley.Disk Two: The Draggons, Galdorb - Home, Chronomantique, Prisoners of Fate, Gale, and my girlfriend likes ZelbessDisk Three: The best of the three. Garden Of God, Chronopolis, Fates, Jellyfish sea, Burning Orphange, Dragon's Prayer, Tower Of Stars, Dragon God, and Radical Dreamers - Unstealable Jewel.Overall, this is a excellent soundtrack and should be brought by those that like video game music.Xander Cross"
                ],
                [
                  "4",
                  "pos",
                  "Remember, Pull Your Jaw Off The Floor After Hearing it: If you've played the game, you know how divine the music is! Every single song tells a story of the game, it's that good! The greatest songs are without a doubt, Chrono Cross: Time's Scar, Magical Dreamers: The Wind, The Stars, and the Sea and Radical Dreamers: Unstolen Jewel. (Translation varies) This music is perfect if you ask me, the best it can be. Yasunori Mitsuda just poured his heart on and wrote it down on paper."
                ]
              ],
              "shape": {
                "columns": 2,
                "rows": 5
              }
            },
            "text/html": [
              "<div>\n",
              "<style scoped>\n",
              "    .dataframe tbody tr th:only-of-type {\n",
              "        vertical-align: middle;\n",
              "    }\n",
              "\n",
              "    .dataframe tbody tr th {\n",
              "        vertical-align: top;\n",
              "    }\n",
              "\n",
              "    .dataframe thead th {\n",
              "        text-align: right;\n",
              "    }\n",
              "</style>\n",
              "<table border=\"1\" class=\"dataframe\">\n",
              "  <thead>\n",
              "    <tr style=\"text-align: right;\">\n",
              "      <th></th>\n",
              "      <th>label</th>\n",
              "      <th>review</th>\n",
              "    </tr>\n",
              "  </thead>\n",
              "  <tbody>\n",
              "    <tr>\n",
              "      <th>0</th>\n",
              "      <td>pos</td>\n",
              "      <td>Stuning even for the non-gamer: This sound tra...</td>\n",
              "    </tr>\n",
              "    <tr>\n",
              "      <th>1</th>\n",
              "      <td>pos</td>\n",
              "      <td>The best soundtrack ever to anything.: I'm rea...</td>\n",
              "    </tr>\n",
              "    <tr>\n",
              "      <th>2</th>\n",
              "      <td>pos</td>\n",
              "      <td>Amazing!: This soundtrack is my favorite music...</td>\n",
              "    </tr>\n",
              "    <tr>\n",
              "      <th>3</th>\n",
              "      <td>pos</td>\n",
              "      <td>Excellent Soundtrack: I truly like this soundt...</td>\n",
              "    </tr>\n",
              "    <tr>\n",
              "      <th>4</th>\n",
              "      <td>pos</td>\n",
              "      <td>Remember, Pull Your Jaw Off The Floor After He...</td>\n",
              "    </tr>\n",
              "  </tbody>\n",
              "</table>\n",
              "</div>"
            ],
            "text/plain": [
              "  label                                             review\n",
              "0   pos  Stuning even for the non-gamer: This sound tra...\n",
              "1   pos  The best soundtrack ever to anything.: I'm rea...\n",
              "2   pos  Amazing!: This soundtrack is my favorite music...\n",
              "3   pos  Excellent Soundtrack: I truly like this soundt...\n",
              "4   pos  Remember, Pull Your Jaw Off The Floor After He..."
            ]
          },
          "execution_count": 3,
          "metadata": {},
          "output_type": "execute_result"
        }
      ],
      "source": [
        "df = pd.read_csv('data/amazonreviews.tsv', sep='\\t')\n",
        "df.head()"
      ]
    },
    {
      "cell_type": "code",
      "execution_count": 4,
      "metadata": {},
      "outputs": [
        {
          "data": {
            "text/plain": [
              "{'neg': 0.0, 'neu': 0.508, 'pos': 0.492, 'compound': 0.4404}"
            ]
          },
          "execution_count": 4,
          "metadata": {},
          "output_type": "execute_result"
        }
      ],
      "source": [
        "a = 'This was a good movie.'\n",
        "sid.polarity_scores(a)"
      ]
    },
    {
      "cell_type": "code",
      "execution_count": 5,
      "metadata": {},
      "outputs": [
        {
          "data": {
            "text/plain": [
              "{'neg': 0.477, 'neu': 0.523, 'pos': 0.0, 'compound': -0.8074}"
            ]
          },
          "execution_count": 5,
          "metadata": {},
          "output_type": "execute_result"
        }
      ],
      "source": [
        "a = 'This was the worst film to ever disgrace the screen.'\n",
        "sid.polarity_scores(a)"
      ]
    },
    {
      "cell_type": "code",
      "execution_count": 6,
      "metadata": {},
      "outputs": [],
      "source": [
        "df['pred'] = df['review'].apply(lambda review: sid.polarity_scores(review))\n",
        "df['pred']  = df['pred'].apply(lambda score_dict: score_dict['compound'])\n",
        "df['pred'] = df['pred'].apply(lambda c: 'pos' if c >=0 else 'neg')"
      ]
    },
    {
      "cell_type": "code",
      "execution_count": 7,
      "metadata": {},
      "outputs": [
        {
          "data": {
            "application/vnd.microsoft.datawrangler.viewer.v0+json": {
              "columns": [
                {
                  "name": "index",
                  "rawType": "int64",
                  "type": "integer"
                },
                {
                  "name": "label",
                  "rawType": "object",
                  "type": "string"
                },
                {
                  "name": "review",
                  "rawType": "object",
                  "type": "string"
                },
                {
                  "name": "pred",
                  "rawType": "object",
                  "type": "string"
                }
              ],
              "conversionMethod": "pd.DataFrame",
              "ref": "adc8f222-1733-436e-8fa5-313ef652db82",
              "rows": [
                [
                  "1927",
                  "neg",
                  "Chinese American Film at its worst: This is the worst film I have ever seen made by and about Chinese Americans. It may be of interest to people of mixed Asian ancestry since most of the cast is of mixed race. The premise may have been taken from an episode of ... Little House on the Prairie(!) wherein Charles helps a woman fake her own funeral to bring her \"distant\" kids home to see her.",
                  "neg"
                ],
                [
                  "7421",
                  "neg",
                  "Dark and dreary: A dead girl is found in a field and that leads us to several stories that kind of involve her. Each one is dark and dreary and slow. Toni Collette and Piper Laurie reinact Carrie in the first segment which adds nothing to the film. Actually only the \"Wife\" and the \"Dead Girl\" seem really worth watching and both of those are very dark and again slow and dreary. Lots of good people in this, but no real mystery or suspense. Really just kind of depressing and that's does not make for entertainment. The real world is depressing enough.",
                  "neg"
                ],
                [
                  "6116",
                  "neg",
                  "DO NOT AGREE: THE SPECIFICATIONS OF THE Fluke 617727 Clamp-on Current Probe INDICATES CLEAR GOOD THAT: Fluke Clamp-on Current Probe is to 1000 amp AC/DC current clamp for ideal DMMs and is the digital tool to extend the current ranges of multimeters. THEY SENT ME THE MODEL I410 WHO IS GIVES 400 AMP OF RANGE, NOT THE ONE THAT BUYS THAT SUPPOSEDLY IT(HE,SHE) IS GIVES 1000 AMP OF RANGE, I FEEL DEFRAUDED BECAUSE I PAID FOR A Clamp-on Current Probe GIVE MORE CAPACITY AND THEY GAVE TO ME ONE OF MINOR CAPACITY.",
                  "pos"
                ],
                [
                  "345",
                  "pos",
                  "SHE HAS DONE IT AGAIN!!!!!!: OH MY,OH MY,SHE HAS DONE IT AGAIN.TO THE ONES THAT HAVE MS.FEEHAN'S OTHER BOOKS YOU NEED NO INTDUCTION, TO HER FINE WORK.TO THE ONES THAT DON'T KNOW ABOUT HER DARK SERIES .THIS IS A GOOD BOOK TO GET TO KNOW ABOUT MS.FEEHAN WORK.NICOTETTA AND GIOVANNI STORY IS SO POWERFUL,THAT YOU DON'T WANT THIS BOOK TO END,ONLY LOVE AND MAGIC COULD KEEP THEM AT EACH OTHER SIDE.A KEEPER .....4 STARS",
                  "pos"
                ],
                [
                  "8550",
                  "pos",
                  "Easy to understand advice about diabetes: Type 2 diabetes is a national epidemic. Lifestyle changes, including diet and exercise, are necessary to prevent complications (heart disease, stroke, vascular disease, blindness) in those with Type 2 diabetes and prevent the disease from occurring in those at high risk. Medical advice regarding diet often leaves patients confused and therefore unable to follow their advice. Kristine Napier defines Type II diabetes and the steps needed to control this disease in a way that is easy to understand. She provides advice and examples to help the reader incorporate her guidelines into their everyday life. Her 28 day guide of menus will help those get started and as always, Kris's recipes are easy to follow and delicious. Last, but not least of importance, is that all of Kris's advice is based on scientific evidence and conforms to national guidelines.",
                  "pos"
                ]
              ],
              "shape": {
                "columns": 3,
                "rows": 5
              }
            },
            "text/html": [
              "<div>\n",
              "<style scoped>\n",
              "    .dataframe tbody tr th:only-of-type {\n",
              "        vertical-align: middle;\n",
              "    }\n",
              "\n",
              "    .dataframe tbody tr th {\n",
              "        vertical-align: top;\n",
              "    }\n",
              "\n",
              "    .dataframe thead th {\n",
              "        text-align: right;\n",
              "    }\n",
              "</style>\n",
              "<table border=\"1\" class=\"dataframe\">\n",
              "  <thead>\n",
              "    <tr style=\"text-align: right;\">\n",
              "      <th></th>\n",
              "      <th>label</th>\n",
              "      <th>review</th>\n",
              "      <th>pred</th>\n",
              "    </tr>\n",
              "  </thead>\n",
              "  <tbody>\n",
              "    <tr>\n",
              "      <th>1927</th>\n",
              "      <td>neg</td>\n",
              "      <td>Chinese American Film at its worst: This is th...</td>\n",
              "      <td>neg</td>\n",
              "    </tr>\n",
              "    <tr>\n",
              "      <th>7421</th>\n",
              "      <td>neg</td>\n",
              "      <td>Dark and dreary: A dead girl is found in a fie...</td>\n",
              "      <td>neg</td>\n",
              "    </tr>\n",
              "    <tr>\n",
              "      <th>6116</th>\n",
              "      <td>neg</td>\n",
              "      <td>DO NOT AGREE: THE SPECIFICATIONS OF THE Fluke ...</td>\n",
              "      <td>pos</td>\n",
              "    </tr>\n",
              "    <tr>\n",
              "      <th>345</th>\n",
              "      <td>pos</td>\n",
              "      <td>SHE HAS DONE IT AGAIN!!!!!!: OH MY,OH MY,SHE H...</td>\n",
              "      <td>pos</td>\n",
              "    </tr>\n",
              "    <tr>\n",
              "      <th>8550</th>\n",
              "      <td>pos</td>\n",
              "      <td>Easy to understand advice about diabetes: Type...</td>\n",
              "      <td>pos</td>\n",
              "    </tr>\n",
              "  </tbody>\n",
              "</table>\n",
              "</div>"
            ],
            "text/plain": [
              "     label                                             review pred\n",
              "1927   neg  Chinese American Film at its worst: This is th...  neg\n",
              "7421   neg  Dark and dreary: A dead girl is found in a fie...  neg\n",
              "6116   neg  DO NOT AGREE: THE SPECIFICATIONS OF THE Fluke ...  pos\n",
              "345    pos  SHE HAS DONE IT AGAIN!!!!!!: OH MY,OH MY,SHE H...  pos\n",
              "8550   pos  Easy to understand advice about diabetes: Type...  pos"
            ]
          },
          "execution_count": 7,
          "metadata": {},
          "output_type": "execute_result"
        }
      ],
      "source": [
        "df.sample(5)"
      ]
    },
    {
      "cell_type": "code",
      "execution_count": 8,
      "metadata": {},
      "outputs": [
        {
          "data": {
            "application/vnd.microsoft.datawrangler.viewer.v0+json": {
              "columns": [
                {
                  "name": "index",
                  "rawType": "int64",
                  "type": "integer"
                },
                {
                  "name": "label",
                  "rawType": "object",
                  "type": "string"
                },
                {
                  "name": "review",
                  "rawType": "object",
                  "type": "string"
                },
                {
                  "name": "pred",
                  "rawType": "object",
                  "type": "string"
                }
              ],
              "conversionMethod": "pd.DataFrame",
              "ref": "26df0f5b-aa82-43d4-8132-a0faa7a2f12b",
              "rows": [
                [
                  "8560",
                  "pos",
                  "First Pratchett I've read and I'm very impressed.: A well-crafted, sharp-witted tale that will be especially appealing to anyone who has ever read Tolkien and his ilk. Discworld is at once absurd and complex, yet held against the fabric of our reality, it's just as plausible. I'm hard pressed to think of a more likable character than Corporal Carrot. The modest anti-gun message was subtle enough to remain unobtrusive.",
                  "neg"
                ],
                [
                  "2844",
                  "neg",
                  "DONT BUYYYYYYYYYY!!!: Dont give money to these filmakers that later on down the road release a better version of the same movie..If you want extra features this version WILL NOT have it on the disc!! Wait for the deluxe version!",
                  "pos"
                ],
                [
                  "2897",
                  "neg",
                  "Avoid.. Falsely advertised: Very disappointed with this purchase. I bought this based on product details on Amazon which listed special features and extras - a major reason for my choice. There is only the movie on bluray and DVD. Please correct item details Amazon.",
                  "pos"
                ],
                [
                  "4924",
                  "neg",
                  "I think I hate it: I had high expectations for this player. I have the Sandisk m240 and m250 and they have amazing sound quality so I thought, being from Sandisk, it would follow suit. It didn't. Very disappointed with the sound quality. It even breaks up. And forget about organizing you music and videos. You can't create folders on your own. Have to use Windows Media Player. And I still haven't figured out how to make video playlists. WMP won't accept mp4 files in the Video playlist. Plus, when scrolling through your library, the scroll wheel only goes forward so, if you want to play a song that begins with \"Y\" and don't what to start from \"A\" and scroll through 8GB WORTH OF SONGS all the way down to \"Y\" but want to scroll up from \"Z\" to \"Y\", you can't.",
                  "pos"
                ],
                [
                  "6962",
                  "pos",
                  "Frighting............: A frighting look at how the future could turn out. A world where Independent thought is a crime, because it is not sactioned by the goverment. A world where Big Brother is always right, because there is no way to prove it is wrong. A world where your kids may turn you in for being an Enemy of the State, simply because you said the words \"Down with Big Brother\". A protrait of a world that could very easily become our own unless we do everything in our power to fight it. Those who believe that Big Brother could never happen, will most likely be the first ones into Room 101. Thomas Jefferson and Ben Franklin both once said \"Those who give up Freedom for Security, will not have, niether do they deserve, either.\" 1984 is a perfect description of a society that gave up their freedom hoping for safety. Instead, they lost both, trading in the criminal in the streets, for criminals in the Halls of Government, and in essence, the innocent have become the criminals.",
                  "neg"
                ]
              ],
              "shape": {
                "columns": 3,
                "rows": 5
              }
            },
            "text/html": [
              "<div>\n",
              "<style scoped>\n",
              "    .dataframe tbody tr th:only-of-type {\n",
              "        vertical-align: middle;\n",
              "    }\n",
              "\n",
              "    .dataframe tbody tr th {\n",
              "        vertical-align: top;\n",
              "    }\n",
              "\n",
              "    .dataframe thead th {\n",
              "        text-align: right;\n",
              "    }\n",
              "</style>\n",
              "<table border=\"1\" class=\"dataframe\">\n",
              "  <thead>\n",
              "    <tr style=\"text-align: right;\">\n",
              "      <th></th>\n",
              "      <th>label</th>\n",
              "      <th>review</th>\n",
              "      <th>pred</th>\n",
              "    </tr>\n",
              "  </thead>\n",
              "  <tbody>\n",
              "    <tr>\n",
              "      <th>8560</th>\n",
              "      <td>pos</td>\n",
              "      <td>First Pratchett I've read and I'm very impress...</td>\n",
              "      <td>neg</td>\n",
              "    </tr>\n",
              "    <tr>\n",
              "      <th>2844</th>\n",
              "      <td>neg</td>\n",
              "      <td>DONT BUYYYYYYYYYY!!!: Dont give money to these...</td>\n",
              "      <td>pos</td>\n",
              "    </tr>\n",
              "    <tr>\n",
              "      <th>2897</th>\n",
              "      <td>neg</td>\n",
              "      <td>Avoid.. Falsely advertised: Very disappointed ...</td>\n",
              "      <td>pos</td>\n",
              "    </tr>\n",
              "    <tr>\n",
              "      <th>4924</th>\n",
              "      <td>neg</td>\n",
              "      <td>I think I hate it: I had high expectations for...</td>\n",
              "      <td>pos</td>\n",
              "    </tr>\n",
              "    <tr>\n",
              "      <th>6962</th>\n",
              "      <td>pos</td>\n",
              "      <td>Frighting............: A frighting look at how...</td>\n",
              "      <td>neg</td>\n",
              "    </tr>\n",
              "  </tbody>\n",
              "</table>\n",
              "</div>"
            ],
            "text/plain": [
              "     label                                             review pred\n",
              "8560   pos  First Pratchett I've read and I'm very impress...  neg\n",
              "2844   neg  DONT BUYYYYYYYYYY!!!: Dont give money to these...  pos\n",
              "2897   neg  Avoid.. Falsely advertised: Very disappointed ...  pos\n",
              "4924   neg  I think I hate it: I had high expectations for...  pos\n",
              "6962   pos  Frighting............: A frighting look at how...  neg"
            ]
          },
          "execution_count": 8,
          "metadata": {},
          "output_type": "execute_result"
        }
      ],
      "source": [
        "df[df['label'] != df['pred']].sample(5)"
      ]
    },
    {
      "cell_type": "code",
      "execution_count": 9,
      "metadata": {},
      "outputs": [
        {
          "data": {
            "text/plain": [
              "0.7097"
            ]
          },
          "execution_count": 9,
          "metadata": {},
          "output_type": "execute_result"
        }
      ],
      "source": [
        "accuracy_score(df['label'],df['pred'])"
      ]
    },
    {
      "cell_type": "code",
      "execution_count": 10,
      "metadata": {},
      "outputs": [
        {
          "name": "stdout",
          "output_type": "stream",
          "text": [
            "              precision    recall  f1-score   support\n",
            "\n",
            "         neg       0.86      0.52      0.64      5097\n",
            "         pos       0.64      0.91      0.75      4903\n",
            "\n",
            "    accuracy                           0.71     10000\n",
            "   macro avg       0.75      0.71      0.70     10000\n",
            "weighted avg       0.75      0.71      0.70     10000\n",
            "\n"
          ]
        }
      ],
      "source": [
        "print(classification_report(df['label'],df['pred']))"
      ]
    }
  ],
  "metadata": {
    "colab": {
      "provenance": []
    },
    "kernelspec": {
      "display_name": "goit",
      "language": "python",
      "name": "python3"
    },
    "language_info": {
      "codemirror_mode": {
        "name": "ipython",
        "version": 3
      },
      "file_extension": ".py",
      "mimetype": "text/x-python",
      "name": "python",
      "nbconvert_exporter": "python",
      "pygments_lexer": "ipython3",
      "version": "3.10.16"
    }
  },
  "nbformat": 4,
  "nbformat_minor": 0
}
