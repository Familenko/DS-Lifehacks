{
 "cells": [
  {
   "cell_type": "code",
   "execution_count": 14,
   "metadata": {},
   "outputs": [],
   "source": [
    "import pandas as pd\n",
    "import numpy as np\n",
    "import matplotlib.pyplot as plt\n",
    "\n",
    "from scipy.stats import ttest_ind, mannwhitneyu\n",
    "\n",
    "from sklearn.datasets import make_classification"
   ]
  },
  {
   "cell_type": "code",
   "execution_count": 19,
   "metadata": {},
   "outputs": [],
   "source": [
    "def evaluate_groups(\n",
    "    df, \n",
    "    target_col='target', \n",
    "    value_col='gross_summ', \n",
    "    n_iter=100, \n",
    "    bootstrap_size=None, \n",
    "    plot=True, \n",
    "    alternative=\"two-sided\"\n",
    "):\n",
    "    \"\"\"\n",
    "    Оцінює різницю між двома групами (target vs control) за допомогою бутстрепу \n",
    "    та статистичних тестів (t-тест і критерій Манна-Вітні).\n",
    "    \n",
    "    Параметри\n",
    "    ---------\n",
    "    df : pandas.DataFrame\n",
    "        Вхідний датафрейм з даними, що містить стовпці для групування та метрики.\n",
    "    \n",
    "    target_col : str, за замовчуванням 'target'\n",
    "        Назва стовпця, що визначає групу. \n",
    "        Очікується, що там є два значення: \n",
    "        - 1 для target (експериментальної групи),\n",
    "        - 0 для control (контрольної групи).\n",
    "    \n",
    "    value_col : str, за замовчуванням 'gross_summ'\n",
    "        Назва стовпця з метрикою/значеннями, які потрібно порівняти між групами.\n",
    "    \n",
    "    n_iter : int, за замовчуванням 100\n",
    "        Кількість ітерацій бутстрепу (перегенерацій випадкових вибірок).\n",
    "    \n",
    "    bootstrap_size : int або None, за замовчуванням None\n",
    "        Розмір випадкової вибірки для бутстрепу. \n",
    "        Якщо None → використовується 1/10 від розміру всього датафрейму.\n",
    "    \n",
    "    plot : bool, за замовчуванням True\n",
    "        Якщо True → будується гістограма розподілу різниць середніх, \n",
    "        з позначенням середнього значення та довірчого інтервалу.\n",
    "    \n",
    "    alternative : {'two-sided', 'greater', 'less'}, за замовчуванням 'two-sided'\n",
    "        Тип статистичного тесту:\n",
    "        - 'two-sided' → перевіряється, чи відрізняються середні (будь-який напрямок).\n",
    "        - 'greater' → перевіряється, чи середнє у групі target > control.\n",
    "        - 'less' → перевіряється, чи середнє у групі target < control.\n",
    "    \n",
    "    Повертає\n",
    "    --------\n",
    "    pandas.DataFrame\n",
    "        Таблиця з результатами оцінки, яка містить:\n",
    "        - Metric/Field : назва метрики (value_col),\n",
    "        - Mean Difference : середня різниця між групами (target - control),\n",
    "        - CI Lower : нижня межа 95% бутстрепного довірчого інтервалу,\n",
    "        - CI Upper : верхня межа 95% бутстрепного довірчого інтервалу,\n",
    "        - T-test p-value (...) : p-value для t-тесту з відповідним `alternative`,\n",
    "        - Mann-Whitney p-value (...) : p-value для тесту Манна-Вітні з відповідним `alternative`.\n",
    "\n",
    "    графік (якщо plot=True)\n",
    "        - Гістограма розподілу різниць середніх з позначенням середнього та довірчого інтервалу.\n",
    "        Якщо нуль поза межами довірчого інтервалу → можна вважати, що різниця статистично значуща.\n",
    "\n",
    "    Зауваження\n",
    "    ----------\n",
    "    - Бутстреп дає емпіричний розподіл різниць середніх, що дозволяє оцінити довірчий інтервал.\n",
    "    - t-тест вважає, що дані приблизно нормально розподілені, хоча може бути стійким до відхилень.\n",
    "    - Критерій Манна-Вітні не робить припущень про нормальність і підходить для порівняння медіан.\n",
    "    - Усі p-value за замовчуванням двосторонні, якщо не вказати інше через `alternative`.\n",
    "    \n",
    "    Приклади\n",
    "    --------\n",
    "    >>> evaluate_groups(df, value_col=\"revenue\", alternative=\"two-sided\")\n",
    "    >>> evaluate_groups(df, value_col=\"deposit\", n_iter=500, alternative=\"greater\", plot=False)\n",
    "    \"\"\"\n",
    "\n",
    "    tr_values = df[df[target_col] == 1][value_col].values\n",
    "    co_values = df[df[target_col] == 0][value_col].values\n",
    "\n",
    "    if not bootstrap_size:\n",
    "        bootstrap_size = int(len(df) / 10)\n",
    "\n",
    "    diffs = []\n",
    "    for _ in range(n_iter):\n",
    "        tr_sample = np.random.choice(tr_values, size=bootstrap_size, replace=True)\n",
    "        co_sample = np.random.choice(co_values, size=bootstrap_size, replace=True)\n",
    "        diff = tr_sample.mean() - co_sample.mean()\n",
    "        diffs.append(diff)\n",
    "\n",
    "    mean_diff = np.mean(diffs)\n",
    "    \n",
    "    if alternative == \"two-sided\":\n",
    "        ci_lower, ci_upper = np.percentile(diffs, [2.5, 97.5])\n",
    "    elif alternative == \"greater\":  # target > control\n",
    "        ci_lower = np.percentile(diffs, 5)\n",
    "        ci_upper = np.inf\n",
    "    else:  # 'less', target < control\n",
    "        ci_lower = -np.inf\n",
    "        ci_upper = np.percentile(diffs, 95)\n",
    "\n",
    "    # t-test з вибором хвостів\n",
    "    t_stat, t_p = ttest_ind(tr_values, co_values, alternative=alternative)\n",
    "\n",
    "    # Mann-Whitney з вибором хвостів\n",
    "    mw_stat, mw_p = mannwhitneyu(tr_values, co_values, alternative=alternative)\n",
    "\n",
    "    result = {\n",
    "        'Metric/Field': value_col,\n",
    "        'Mean Difference': round(mean_diff, 3),\n",
    "        'CI Lower': round(ci_lower, 3),\n",
    "        'CI Upper': round(ci_upper, 3),\n",
    "        f'T-test p-value ({alternative})': round(t_p, 3),\n",
    "        f'Mann-Whitney p-value ({alternative})': round(mw_p, 3)\n",
    "    }\n",
    "    result = pd.DataFrame(result, index=[0]).T.round(3)\n",
    "\n",
    "    if plot:\n",
    "        plt.figure(figsize=(8, 4))\n",
    "        plt.hist(diffs, bins=40, color='skyblue', edgecolor='black')\n",
    "        plt.axvline(mean_diff, color='red', linestyle='--', label=f'Mean diff: {mean_diff:.2f}')\n",
    "        plt.axvline(ci_lower, color='green', linestyle=':')\n",
    "        plt.axvline(ci_upper, color='green', linestyle=':')\n",
    "\n",
    "        plt.axvspan(ci_lower if np.isfinite(ci_lower) else min(diffs),\n",
    "                    ci_upper if np.isfinite(ci_upper) else max(diffs),\n",
    "                    color='lightgreen', alpha=0.15, label='95% CI')\n",
    "\n",
    "        plt.title(f'Bootstrap distribution of mean diff ({value_col})')\n",
    "        plt.xlabel('Difference')\n",
    "        plt.ylabel('Frequency')\n",
    "        plt.legend()\n",
    "        plt.tight_layout()\n",
    "        plt.show()\n",
    "\n",
    "    return result"
   ]
  },
  {
   "cell_type": "code",
   "execution_count": 20,
   "metadata": {},
   "outputs": [
    {
     "data": {
      "application/vnd.microsoft.datawrangler.viewer.v0+json": {
       "columns": [
        {
         "name": "index",
         "rawType": "int64",
         "type": "integer"
        },
        {
         "name": "user_id",
         "rawType": "int64",
         "type": "integer"
        },
        {
         "name": "gross_summ",
         "rawType": "float64",
         "type": "float"
        },
        {
         "name": "target",
         "rawType": "int64",
         "type": "integer"
        }
       ],
       "ref": "720c80c2-3e85-4583-a5c5-206f9c0ac483",
       "rows": [
        [
         "0",
         "110",
         "98.65494670457647",
         "0"
        ],
        [
         "1",
         "130",
         "25.14580220763748",
         "0"
        ],
        [
         "2",
         "11",
         "38.42833097753818",
         "1"
        ],
        [
         "3",
         "116",
         "41.87736434659172",
         "0"
        ],
        [
         "4",
         "86",
         "44.4881543677906",
         "1"
        ]
       ],
       "shape": {
        "columns": 3,
        "rows": 5
       }
      },
      "text/html": [
       "<div>\n",
       "<style scoped>\n",
       "    .dataframe tbody tr th:only-of-type {\n",
       "        vertical-align: middle;\n",
       "    }\n",
       "\n",
       "    .dataframe tbody tr th {\n",
       "        vertical-align: top;\n",
       "    }\n",
       "\n",
       "    .dataframe thead th {\n",
       "        text-align: right;\n",
       "    }\n",
       "</style>\n",
       "<table border=\"1\" class=\"dataframe\">\n",
       "  <thead>\n",
       "    <tr style=\"text-align: right;\">\n",
       "      <th></th>\n",
       "      <th>user_id</th>\n",
       "      <th>gross_summ</th>\n",
       "      <th>target</th>\n",
       "    </tr>\n",
       "  </thead>\n",
       "  <tbody>\n",
       "    <tr>\n",
       "      <th>0</th>\n",
       "      <td>110</td>\n",
       "      <td>98.654947</td>\n",
       "      <td>0</td>\n",
       "    </tr>\n",
       "    <tr>\n",
       "      <th>1</th>\n",
       "      <td>130</td>\n",
       "      <td>25.145802</td>\n",
       "      <td>0</td>\n",
       "    </tr>\n",
       "    <tr>\n",
       "      <th>2</th>\n",
       "      <td>11</td>\n",
       "      <td>38.428331</td>\n",
       "      <td>1</td>\n",
       "    </tr>\n",
       "    <tr>\n",
       "      <th>3</th>\n",
       "      <td>116</td>\n",
       "      <td>41.877364</td>\n",
       "      <td>0</td>\n",
       "    </tr>\n",
       "    <tr>\n",
       "      <th>4</th>\n",
       "      <td>86</td>\n",
       "      <td>44.488154</td>\n",
       "      <td>1</td>\n",
       "    </tr>\n",
       "  </tbody>\n",
       "</table>\n",
       "</div>"
      ],
      "text/plain": [
       "   user_id  gross_summ  target\n",
       "0      110   98.654947       0\n",
       "1      130   25.145802       0\n",
       "2       11   38.428331       1\n",
       "3      116   41.877364       0\n",
       "4       86   44.488154       1"
      ]
     },
     "execution_count": 20,
     "metadata": {},
     "output_type": "execute_result"
    }
   ],
   "source": [
    "# Класичні класифікаційні дані\n",
    "X, y = make_classification(\n",
    "    n_samples=10000,\n",
    "    n_features=4,\n",
    "    n_informative=4,\n",
    "    n_redundant=0,\n",
    "    n_clusters_per_class=4,\n",
    "    random_state=42\n",
    ")\n",
    "\n",
    "# Робимо gross_summ з легкою різницею між класами\n",
    "gross_summ = X[:, 0]*50 + np.random.normal(0, 15, size=10000)  # більше шуму\n",
    "gross_summ += np.where(y==1, 25, 0)  # слабкий ефект для класу 1\n",
    "\n",
    "df_fake = pd.DataFrame({\n",
    "    'user_id': np.random.randint(1, 200, size=10000),\n",
    "    'gross_summ': np.abs(gross_summ),\n",
    "    'target': y\n",
    "})\n",
    "\n",
    "df_fake.head()"
   ]
  },
  {
   "cell_type": "code",
   "execution_count": 21,
   "metadata": {},
   "outputs": [
    {
     "data": {
      "image/png": "[encoded data removed]",
      "text/plain": [
       "<Figure size 800x400 with 1 Axes>"
      ]
     },
     "metadata": {},
     "output_type": "display_data"
    },
    {
     "data": {
      "application/vnd.microsoft.datawrangler.viewer.v0+json": {
       "columns": [
        {
         "name": "index",
         "rawType": "object",
         "type": "string"
        },
        {
         "name": "0",
         "rawType": "object",
         "type": "unknown"
        }
       ],
       "ref": "fa54a1a8-168b-4293-b24b-57b6ad544847",
       "rows": [
        [
         "Metric/Field",
         "gross_summ"
        ],
        [
         "Mean Difference",
         "2.215"
        ],
        [
         "CI Lower",
         "-1.13"
        ],
        [
         "CI Upper",
         "inf"
        ],
        [
         "T-test p-value (greater)",
         "0.01"
        ],
        [
         "Mann-Whitney p-value (greater)",
         "0.073"
        ]
       ],
       "shape": {
        "columns": 1,
        "rows": 6
       }
      },
      "text/html": [
       "<div>\n",
       "<style scoped>\n",
       "    .dataframe tbody tr th:only-of-type {\n",
       "        vertical-align: middle;\n",
       "    }\n",
       "\n",
       "    .dataframe tbody tr th {\n",
       "        vertical-align: top;\n",
       "    }\n",
       "\n",
       "    .dataframe thead th {\n",
       "        text-align: right;\n",
       "    }\n",
       "</style>\n",
       "<table border=\"1\" class=\"dataframe\">\n",
       "  <thead>\n",
       "    <tr style=\"text-align: right;\">\n",
       "      <th></th>\n",
       "      <th>0</th>\n",
       "    </tr>\n",
       "  </thead>\n",
       "  <tbody>\n",
       "    <tr>\n",
       "      <th>Metric/Field</th>\n",
       "      <td>gross_summ</td>\n",
       "    </tr>\n",
       "    <tr>\n",
       "      <th>Mean Difference</th>\n",
       "      <td>2.215</td>\n",
       "    </tr>\n",
       "    <tr>\n",
       "      <th>CI Lower</th>\n",
       "      <td>-1.13</td>\n",
       "    </tr>\n",
       "    <tr>\n",
       "      <th>CI Upper</th>\n",
       "      <td>inf</td>\n",
       "    </tr>\n",
       "    <tr>\n",
       "      <th>T-test p-value (greater)</th>\n",
       "      <td>0.01</td>\n",
       "    </tr>\n",
       "    <tr>\n",
       "      <th>Mann-Whitney p-value (greater)</th>\n",
       "      <td>0.073</td>\n",
       "    </tr>\n",
       "  </tbody>\n",
       "</table>\n",
       "</div>"
      ],
      "text/plain": [
       "                                         0\n",
       "Metric/Field                    gross_summ\n",
       "Mean Difference                      2.215\n",
       "CI Lower                             -1.13\n",
       "CI Upper                               inf\n",
       "T-test p-value (greater)              0.01\n",
       "Mann-Whitney p-value (greater)       0.073"
      ]
     },
     "execution_count": 21,
     "metadata": {},
     "output_type": "execute_result"
    }
   ],
   "source": [
    "evaluate_groups(df_fake, alternative=\"greater\")"
   ]
  },
  {
   "cell_type": "code",
   "execution_count": 18,
   "metadata": {},
   "outputs": [
    {
     "data": {
      "application/vnd.microsoft.datawrangler.viewer.v0+json": {
       "columns": [
        {
         "name": "index",
         "rawType": "object",
         "type": "string"
        },
        {
         "name": "0",
         "rawType": "float64",
         "type": "float"
        },
        {
         "name": "1",
         "rawType": "float64",
         "type": "float"
        }
       ],
       "ref": "aa964b87-64c4-4287-97be-457fb673734c",
       "rows": [
        [
         "count",
         "5000.0",
         "5000.0"
        ],
        [
         "mean",
         "62.120055172468746",
         "63.88944509267733"
        ],
        [
         "std",
         "43.53383613897677",
         "45.783447896374106"
        ],
        [
         "min",
         "0.022222467321480366",
         "0.01241182015985487"
        ],
        [
         "25%",
         "27.063031654769055",
         "27.360045818751257"
        ],
        [
         "50%",
         "55.67846358077577",
         "55.551335447802046"
        ],
        [
         "75%",
         "88.33844255667906",
         "93.79706627298981"
        ],
        [
         "max",
         "259.62113453689886",
         "364.59961914906324"
        ]
       ],
       "shape": {
        "columns": 2,
        "rows": 8
       }
      },
      "text/html": [
       "<div>\n",
       "<style scoped>\n",
       "    .dataframe tbody tr th:only-of-type {\n",
       "        vertical-align: middle;\n",
       "    }\n",
       "\n",
       "    .dataframe tbody tr th {\n",
       "        vertical-align: top;\n",
       "    }\n",
       "\n",
       "    .dataframe thead th {\n",
       "        text-align: right;\n",
       "    }\n",
       "</style>\n",
       "<table border=\"1\" class=\"dataframe\">\n",
       "  <thead>\n",
       "    <tr style=\"text-align: right;\">\n",
       "      <th>target</th>\n",
       "      <th>0</th>\n",
       "      <th>1</th>\n",
       "    </tr>\n",
       "  </thead>\n",
       "  <tbody>\n",
       "    <tr>\n",
       "      <th>count</th>\n",
       "      <td>5000.000000</td>\n",
       "      <td>5000.000000</td>\n",
       "    </tr>\n",
       "    <tr>\n",
       "      <th>mean</th>\n",
       "      <td>62.120055</td>\n",
       "      <td>63.889445</td>\n",
       "    </tr>\n",
       "    <tr>\n",
       "      <th>std</th>\n",
       "      <td>43.533836</td>\n",
       "      <td>45.783448</td>\n",
       "    </tr>\n",
       "    <tr>\n",
       "      <th>min</th>\n",
       "      <td>0.022222</td>\n",
       "      <td>0.012412</td>\n",
       "    </tr>\n",
       "    <tr>\n",
       "      <th>25%</th>\n",
       "      <td>27.063032</td>\n",
       "      <td>27.360046</td>\n",
       "    </tr>\n",
       "    <tr>\n",
       "      <th>50%</th>\n",
       "      <td>55.678464</td>\n",
       "      <td>55.551335</td>\n",
       "    </tr>\n",
       "    <tr>\n",
       "      <th>75%</th>\n",
       "      <td>88.338443</td>\n",
       "      <td>93.797066</td>\n",
       "    </tr>\n",
       "    <tr>\n",
       "      <th>max</th>\n",
       "      <td>259.621135</td>\n",
       "      <td>364.599619</td>\n",
       "    </tr>\n",
       "  </tbody>\n",
       "</table>\n",
       "</div>"
      ],
      "text/plain": [
       "target            0            1\n",
       "count   5000.000000  5000.000000\n",
       "mean      62.120055    63.889445\n",
       "std       43.533836    45.783448\n",
       "min        0.022222     0.012412\n",
       "25%       27.063032    27.360046\n",
       "50%       55.678464    55.551335\n",
       "75%       88.338443    93.797066\n",
       "max      259.621135   364.599619"
      ]
     },
     "execution_count": 18,
     "metadata": {},
     "output_type": "execute_result"
    }
   ],
   "source": [
    "df_fake.groupby('target').gross_summ.describe().T"
   ]
  },
  {
   "cell_type": "code",
   "execution_count": null,
   "metadata": {},
   "outputs": [],
   "source": []
  }
 ],
 "metadata": {
  "kernelspec": {
   "display_name": "my_env",
   "language": "python",
   "name": "python3"
  },
  "language_info": {
   "codemirror_mode": {
    "name": "ipython",
    "version": 3
   },
   "file_extension": ".py",
   "mimetype": "text/x-python",
   "name": "python",
   "nbconvert_exporter": "python",
   "pygments_lexer": "ipython3",
   "version": "3.10.16"
  }
 },
 "nbformat": 4,
 "nbformat_minor": 2
}
