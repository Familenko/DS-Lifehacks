{
 "cells": [
  {
   "cell_type": "code",
   "execution_count": 1,
   "metadata": {},
   "outputs": [],
   "source": [
    "import pandas as pd\n",
    "import numpy as np\n",
    "import matplotlib.pyplot as plt\n",
    "\n",
    "from scipy.stats import ttest_ind, mannwhitneyu\n",
    "\n",
    "from sklearn.datasets import make_classification"
   ]
  },
  {
   "cell_type": "code",
   "execution_count": 2,
   "metadata": {},
   "outputs": [],
   "source": [
    "def evaluate_groups(\n",
    "    df, \n",
    "    target_col='target', \n",
    "    value_col='gross_summ', \n",
    "    n_iter=100, \n",
    "    bootstrap_size=None, \n",
    "    plot=True, \n",
    "    alternative=\"two-sided\"\n",
    "):\n",
    "    \"\"\"\n",
    "    Оцінює різницю між двома групами (treatment vs control) за допомогою бутстрепу \n",
    "    та статистичних тестів (t-тест і критерій Манна-Вітні).\n",
    "    \n",
    "    Параметри\n",
    "    ---------\n",
    "    df : pandas.DataFrame\n",
    "        Вхідний датафрейм з даними, що містить стовпці для групування та метрики.\n",
    "    \n",
    "    target_col : str, за замовчуванням 'target'\n",
    "        Назва стовпця, що визначає групу. \n",
    "        Очікується, що там є два значення: \n",
    "        - 1 для treatment (експериментальної групи),\n",
    "        - 0 для control (контрольної групи).\n",
    "    \n",
    "    value_col : str, за замовчуванням 'gross_summ'\n",
    "        Назва стовпця з метрикою/значеннями, які потрібно порівняти між групами.\n",
    "    \n",
    "    n_iter : int, за замовчуванням 100\n",
    "        Кількість ітерацій бутстрепу (перегенерацій випадкових вибірок).\n",
    "    \n",
    "    bootstrap_size : int або None, за замовчуванням None\n",
    "        Розмір випадкової вибірки для бутстрепу. \n",
    "        Якщо None → використовується 1/10 від розміру всього датафрейму.\n",
    "    \n",
    "    plot : bool, за замовчуванням True\n",
    "        Якщо True → будується гістограма розподілу різниць середніх, \n",
    "        з позначенням середнього значення та довірчого інтервалу.\n",
    "    \n",
    "    alternative : {'two-sided', 'greater', 'less'}, за замовчуванням 'two-sided'\n",
    "        Тип статистичного тесту:\n",
    "        - 'two-sided' → перевіряється, чи відрізняються середні (будь-який напрямок).\n",
    "        - 'greater' → перевіряється, чи середнє у групі treatment > control.\n",
    "        - 'less' → перевіряється, чи середнє у групі treatment < control.\n",
    "    \n",
    "    Повертає\n",
    "    --------\n",
    "    pandas.DataFrame\n",
    "        Таблиця з результатами оцінки, яка містить:\n",
    "        - Metric/Field : назва метрики (value_col),\n",
    "        - Mean Difference : середня різниця між групами (treatment - control),\n",
    "        - CI Lower : нижня межа 95% бутстрепного довірчого інтервалу,\n",
    "        - CI Upper : верхня межа 95% бутстрепного довірчого інтервалу,\n",
    "        - T-test p-value (...) : p-value для t-тесту з відповідним `alternative`,\n",
    "        - Mann-Whitney p-value (...) : p-value для тесту Манна-Вітні з відповідним `alternative`.\n",
    "\n",
    "    Зауваження\n",
    "    ----------\n",
    "    - Бутстреп дає емпіричний розподіл різниць середніх, що дозволяє оцінити довірчий інтервал.\n",
    "    - t-тест вважає, що дані приблизно нормально розподілені, хоча може бути стійким до відхилень.\n",
    "    - Критерій Манна-Вітні не робить припущень про нормальність і підходить для порівняння медіан.\n",
    "    - Усі p-value за замовчуванням двосторонні, якщо не вказати інше через `alternative`.\n",
    "    \n",
    "    Приклади\n",
    "    --------\n",
    "    >>> evaluate_groups(df, value_col=\"revenue\", alternative=\"two-sided\")\n",
    "    >>> evaluate_groups(df, value_col=\"deposit\", n_iter=500, alternative=\"greater\", plot=False)\n",
    "    \"\"\"\n",
    "\n",
    "    tr_values = df[df[target_col] == 1][value_col].values\n",
    "    co_values = df[df[target_col] == 0][value_col].values\n",
    "\n",
    "    if not bootstrap_size:\n",
    "        bootstrap_size = int(len(df) / 10)\n",
    "\n",
    "    diffs = []\n",
    "    for _ in range(n_iter):\n",
    "        tr_sample = np.random.choice(tr_values, size=bootstrap_size, replace=True)\n",
    "        co_sample = np.random.choice(co_values, size=bootstrap_size, replace=True)\n",
    "        diff = tr_sample.mean() - co_sample.mean()\n",
    "        diffs.append(diff)\n",
    "\n",
    "    mean_diff = np.mean(diffs)\n",
    "    ci_lower = np.percentile(diffs, 2.5)\n",
    "    ci_upper = np.percentile(diffs, 97.5)\n",
    "\n",
    "    # t-test з вибором хвостів\n",
    "    t_stat, t_p = ttest_ind(tr_values, co_values, alternative=alternative)\n",
    "\n",
    "    # Mann-Whitney з вибором хвостів\n",
    "    mw_stat, mw_p = mannwhitneyu(tr_values, co_values, alternative=alternative)\n",
    "\n",
    "    result = {\n",
    "        'Metric/Field': value_col,\n",
    "        'Mean Difference': round(mean_diff, 3),\n",
    "        'CI Lower': round(ci_lower, 3),\n",
    "        'CI Upper': round(ci_upper, 3),\n",
    "        f'T-test p-value ({alternative})': round(t_p, 3),\n",
    "        f'Mann-Whitney p-value ({alternative})': round(mw_p, 3)\n",
    "    }\n",
    "    result = pd.DataFrame(result, index=[0]).T.round(3)\n",
    "\n",
    "    if plot:\n",
    "        plt.figure(figsize=(8, 4))\n",
    "        plt.hist(diffs, bins=20, color='skyblue', edgecolor='black')\n",
    "        plt.axvline(mean_diff, color='red', linestyle='--', label=f'Mean diff: {mean_diff:.2f}')\n",
    "        plt.axvline(ci_lower, color='green', linestyle=':', label='95% CI lower')\n",
    "        plt.axvline(ci_upper, color='green', linestyle=':', label='95% CI upper')\n",
    "        plt.title(f'Bootstrap distribution of mean diff ({value_col})')\n",
    "        plt.xlabel('Difference')\n",
    "        plt.ylabel('Frequency')\n",
    "        plt.legend()\n",
    "        plt.tight_layout()\n",
    "        plt.show()\n",
    "\n",
    "    return result\n"
   ]
  },
  {
   "cell_type": "code",
   "execution_count": 3,
   "metadata": {},
   "outputs": [
    {
     "data": {
      "application/vnd.microsoft.datawrangler.viewer.v0+json": {
       "columns": [
        {
         "name": "index",
         "rawType": "int64",
         "type": "integer"
        },
        {
         "name": "user_id",
         "rawType": "int64",
         "type": "integer"
        },
        {
         "name": "gross_summ",
         "rawType": "float64",
         "type": "float"
        },
        {
         "name": "target",
         "rawType": "int64",
         "type": "integer"
        }
       ],
       "ref": "9a95d740-7a61-4f88-9d51-1bc5fc52dffa",
       "rows": [
        [
         "0",
         "168",
         "84.90808284250224",
         "0"
        ],
        [
         "1",
         "194",
         "24.865692040984918",
         "0"
        ],
        [
         "2",
         "146",
         "65.80064363308934",
         "1"
        ],
        [
         "3",
         "14",
         "82.80960924510552",
         "0"
        ],
        [
         "4",
         "81",
         "155.98072111012314",
         "1"
        ]
       ],
       "shape": {
        "columns": 3,
        "rows": 5
       }
      },
      "text/html": [
       "<div>\n",
       "<style scoped>\n",
       "    .dataframe tbody tr th:only-of-type {\n",
       "        vertical-align: middle;\n",
       "    }\n",
       "\n",
       "    .dataframe tbody tr th {\n",
       "        vertical-align: top;\n",
       "    }\n",
       "\n",
       "    .dataframe thead th {\n",
       "        text-align: right;\n",
       "    }\n",
       "</style>\n",
       "<table border=\"1\" class=\"dataframe\">\n",
       "  <thead>\n",
       "    <tr style=\"text-align: right;\">\n",
       "      <th></th>\n",
       "      <th>user_id</th>\n",
       "      <th>gross_summ</th>\n",
       "      <th>target</th>\n",
       "    </tr>\n",
       "  </thead>\n",
       "  <tbody>\n",
       "    <tr>\n",
       "      <th>0</th>\n",
       "      <td>168</td>\n",
       "      <td>84.908083</td>\n",
       "      <td>0</td>\n",
       "    </tr>\n",
       "    <tr>\n",
       "      <th>1</th>\n",
       "      <td>194</td>\n",
       "      <td>24.865692</td>\n",
       "      <td>0</td>\n",
       "    </tr>\n",
       "    <tr>\n",
       "      <th>2</th>\n",
       "      <td>146</td>\n",
       "      <td>65.800644</td>\n",
       "      <td>1</td>\n",
       "    </tr>\n",
       "    <tr>\n",
       "      <th>3</th>\n",
       "      <td>14</td>\n",
       "      <td>82.809609</td>\n",
       "      <td>0</td>\n",
       "    </tr>\n",
       "    <tr>\n",
       "      <th>4</th>\n",
       "      <td>81</td>\n",
       "      <td>155.980721</td>\n",
       "      <td>1</td>\n",
       "    </tr>\n",
       "  </tbody>\n",
       "</table>\n",
       "</div>"
      ],
      "text/plain": [
       "   user_id  gross_summ  target\n",
       "0      168   84.908083       0\n",
       "1      194   24.865692       0\n",
       "2      146   65.800644       1\n",
       "3       14   82.809609       0\n",
       "4       81  155.980721       1"
      ]
     },
     "execution_count": 3,
     "metadata": {},
     "output_type": "execute_result"
    }
   ],
   "source": [
    "X, y = make_classification(\n",
    "    n_samples=10000,\n",
    "    n_features=4,\n",
    "    n_informative=4,\n",
    "    n_redundant=0,\n",
    "    n_clusters_per_class=4,\n",
    "    random_state=42\n",
    ")\n",
    "\n",
    "df_fake = pd.DataFrame({\n",
    "    'user_id': np.random.randint(1, 200, size=10000),\n",
    "    'gross_summ': np.abs(X[:, 0] * 100 + np.random.normal(0, 10, size=10000)),\n",
    "    'target': y\n",
    "})\n",
    "df_fake.head()"
   ]
  },
  {
   "cell_type": "code",
   "execution_count": 6,
   "metadata": {},
   "outputs": [
    {
     "data": {
      "image/png": "[encoded data removed]",
      "text/plain": [
       "<Figure size 800x400 with 1 Axes>"
      ]
     },
     "metadata": {},
     "output_type": "display_data"
    },
    {
     "data": {
      "application/vnd.microsoft.datawrangler.viewer.v0+json": {
       "columns": [
        {
         "name": "index",
         "rawType": "object",
         "type": "string"
        },
        {
         "name": "0",
         "rawType": "object",
         "type": "unknown"
        }
       ],
       "ref": "9d6530fc-6090-46bf-8383-56eeb721f7d6",
       "rows": [
        [
         "Metric/Field",
         "gross_summ"
        ],
        [
         "Mean Difference",
         "-2.684"
        ],
        [
         "CI Lower",
         "-10.005"
        ],
        [
         "CI Upper",
         "4.148"
        ],
        [
         "T-test p-value (two-sided)",
         "0.139"
        ],
        [
         "Mann-Whitney p-value (two-sided)",
         "0.24"
        ]
       ],
       "shape": {
        "columns": 1,
        "rows": 6
       }
      },
      "text/html": [
       "<div>\n",
       "<style scoped>\n",
       "    .dataframe tbody tr th:only-of-type {\n",
       "        vertical-align: middle;\n",
       "    }\n",
       "\n",
       "    .dataframe tbody tr th {\n",
       "        vertical-align: top;\n",
       "    }\n",
       "\n",
       "    .dataframe thead th {\n",
       "        text-align: right;\n",
       "    }\n",
       "</style>\n",
       "<table border=\"1\" class=\"dataframe\">\n",
       "  <thead>\n",
       "    <tr style=\"text-align: right;\">\n",
       "      <th></th>\n",
       "      <th>0</th>\n",
       "    </tr>\n",
       "  </thead>\n",
       "  <tbody>\n",
       "    <tr>\n",
       "      <th>Metric/Field</th>\n",
       "      <td>gross_summ</td>\n",
       "    </tr>\n",
       "    <tr>\n",
       "      <th>Mean Difference</th>\n",
       "      <td>-2.684</td>\n",
       "    </tr>\n",
       "    <tr>\n",
       "      <th>CI Lower</th>\n",
       "      <td>-10.005</td>\n",
       "    </tr>\n",
       "    <tr>\n",
       "      <th>CI Upper</th>\n",
       "      <td>4.148</td>\n",
       "    </tr>\n",
       "    <tr>\n",
       "      <th>T-test p-value (two-sided)</th>\n",
       "      <td>0.139</td>\n",
       "    </tr>\n",
       "    <tr>\n",
       "      <th>Mann-Whitney p-value (two-sided)</th>\n",
       "      <td>0.24</td>\n",
       "    </tr>\n",
       "  </tbody>\n",
       "</table>\n",
       "</div>"
      ],
      "text/plain": [
       "                                           0\n",
       "Metric/Field                      gross_summ\n",
       "Mean Difference                       -2.684\n",
       "CI Lower                             -10.005\n",
       "CI Upper                               4.148\n",
       "T-test p-value (two-sided)             0.139\n",
       "Mann-Whitney p-value (two-sided)        0.24"
      ]
     },
     "execution_count": 6,
     "metadata": {},
     "output_type": "execute_result"
    }
   ],
   "source": [
    "evaluate_groups(df_fake)"
   ]
  }
 ],
 "metadata": {
  "kernelspec": {
   "display_name": "my_env",
   "language": "python",
   "name": "python3"
  },
  "language_info": {
   "codemirror_mode": {
    "name": "ipython",
    "version": 3
   },
   "file_extension": ".py",
   "mimetype": "text/x-python",
   "name": "python",
   "nbconvert_exporter": "python",
   "pygments_lexer": "ipython3",
   "version": "3.10.16"
  }
 },
 "nbformat": 4,
 "nbformat_minor": 2
}
