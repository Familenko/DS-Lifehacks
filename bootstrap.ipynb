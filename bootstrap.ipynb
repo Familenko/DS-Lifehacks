{
 "cells": [
  {
   "cell_type": "code",
   "execution_count": 107,
   "metadata": {},
   "outputs": [],
   "source": [
    "import pandas as pd\n",
    "import numpy as np\n",
    "import matplotlib.pyplot as plt\n",
    "\n",
    "from scipy.stats import ttest_ind, mannwhitneyu\n",
    "\n",
    "from sklearn.datasets import make_classification"
   ]
  },
  {
   "cell_type": "code",
   "execution_count": null,
   "metadata": {},
   "outputs": [],
   "source": [
    "def evaluate_groups(\n",
    "    df, \n",
    "    target_col='target', \n",
    "    value_col='gross_summ', \n",
    "    n_iter=100, \n",
    "    bootstrap_size=None, \n",
    "    plot=True, \n",
    "    alternative=\"two-sided\"\n",
    "):\n",
    "    \"\"\"\n",
    "    Оцінює різницю між двома групами (target vs control) за допомогою бутстрепу \n",
    "    та статистичних тестів (t-тест і критерій Манна-Вітні).\n",
    "    \n",
    "    Параметри\n",
    "    ---------\n",
    "    df : pandas.DataFrame\n",
    "        Вхідний датафрейм з даними, що містить стовпці для групування та метрики.\n",
    "    \n",
    "    target_col : str, за замовчуванням 'target'\n",
    "        Назва стовпця, що визначає групу. \n",
    "        Очікується, що там є два значення: \n",
    "        - 1 для target (експериментальної групи),\n",
    "        - 0 для control (контрольної групи).\n",
    "    \n",
    "    value_col : str, за замовчуванням 'gross_summ'\n",
    "        Назва стовпця з метрикою/значеннями, які потрібно порівняти між групами.\n",
    "    \n",
    "    n_iter : int, за замовчуванням 100\n",
    "        Кількість ітерацій бутстрепу (перегенерацій випадкових вибірок).\n",
    "    \n",
    "    bootstrap_size : int або None, за замовчуванням None\n",
    "        Розмір випадкової вибірки для бутстрепу. \n",
    "        Якщо None → використовується 1/10 від розміру всього датафрейму.\n",
    "    \n",
    "    plot : bool, за замовчуванням True\n",
    "        Якщо True → будується гістограма розподілу різниць середніх, \n",
    "        з позначенням середнього значення та довірчого інтервалу.\n",
    "    \n",
    "    alternative : {'two-sided', 'greater', 'less'}, за замовчуванням 'two-sided'\n",
    "        Тип статистичного тесту:\n",
    "        - 'two-sided' → перевіряється, чи відрізняються середні (будь-який напрямок).\n",
    "        - 'greater' → перевіряється, чи середнє у групі target > control.\n",
    "        - 'less' → перевіряється, чи середнє у групі target < control.\n",
    "    \n",
    "    Повертає\n",
    "    --------\n",
    "    pandas.DataFrame\n",
    "        Таблиця з результатами оцінки, яка містить:\n",
    "        - Metric/Field : назва метрики (value_col),\n",
    "        - Mean Difference : середня різниця між групами (target - control),\n",
    "        - CI Lower : нижня межа 95% бутстрепного довірчого інтервалу,\n",
    "        - CI Upper : верхня межа 95% бутстрепного довірчого інтервалу,\n",
    "        - T-test p-value (...) : p-value для t-тесту з відповідним `alternative`,\n",
    "        - Mann-Whitney p-value (...) : p-value для тесту Манна-Вітні з відповідним `alternative`.\n",
    "\n",
    "    графік (якщо plot=True)\n",
    "        - Гістограма розподілу різниць середніх з позначенням середнього та довірчого інтервалу.\n",
    "        Якщо нуль поза межами довірчого інтервалу → можна вважати, що різниця статистично значуща.\n",
    "\n",
    "    Зауваження\n",
    "    ----------\n",
    "    - Бутстреп дає емпіричний розподіл різниць середніх, що дозволяє оцінити довірчий інтервал.\n",
    "    - t-тест вважає, що дані приблизно нормально розподілені, хоча може бути стійким до відхилень.\n",
    "    - Критерій Манна-Вітні не робить припущень про нормальність і підходить для порівняння медіан.\n",
    "    - Усі p-value за замовчуванням двосторонні, якщо не вказати інше через `alternative`.\n",
    "    \n",
    "    Приклади\n",
    "    --------\n",
    "    >>> evaluate_groups(df, value_col=\"revenue\", alternative=\"two-sided\")\n",
    "    >>> evaluate_groups(df, value_col=\"deposit\", n_iter=500, alternative=\"greater\", plot=False)\n",
    "    \"\"\"\n",
    "\n",
    "    tr_values = df[df[target_col] == 1][value_col].values\n",
    "    co_values = df[df[target_col] == 0][value_col].values\n",
    "\n",
    "    if not bootstrap_size:\n",
    "        bootstrap_size = int(len(df) / 10)\n",
    "\n",
    "    diffs = []\n",
    "    for _ in range(n_iter):\n",
    "        tr_sample = np.random.choice(tr_values, size=bootstrap_size, replace=True)\n",
    "        co_sample = np.random.choice(co_values, size=bootstrap_size, replace=True)\n",
    "        diff = tr_sample.mean() - co_sample.mean()\n",
    "        diffs.append(diff)\n",
    "\n",
    "    mean_diff = np.mean(diffs)\n",
    "    \n",
    "    if alternative == \"two-sided\":\n",
    "        ci_lower, ci_upper = np.percentile(diffs, [2.5, 97.5])\n",
    "    elif alternative == \"greater\":  # target > control\n",
    "        ci_lower = np.percentile(diffs, 5)\n",
    "        ci_upper = np.inf\n",
    "    else:  # 'less', target < control\n",
    "        ci_lower = -np.inf\n",
    "        ci_upper = np.percentile(diffs, 95)\n",
    "\n",
    "    # t-test з вибором хвостів\n",
    "    t_stat, t_p = ttest_ind(tr_values, co_values, alternative=alternative)\n",
    "\n",
    "    # Mann-Whitney з вибором хвостів\n",
    "    mw_stat, mw_p = mannwhitneyu(tr_values, co_values, alternative=alternative)\n",
    "\n",
    "    result = {\n",
    "        'Metric/Field': value_col,\n",
    "        'Mean Difference': round(mean_diff, 3),\n",
    "        'CI Lower': round(ci_lower, 3),\n",
    "        'CI Upper': round(ci_upper, 3),\n",
    "        f'T-test p-value ({alternative})': round(t_p, 3),\n",
    "        f'Mann-Whitney p-value ({alternative})': round(mw_p, 3)\n",
    "    }\n",
    "    result = pd.DataFrame(result, index=[0]).T.round(3)\n",
    "\n",
    "    if plot:\n",
    "        plt.figure(figsize=(8, 4))\n",
    "        plt.hist(diffs, bins=20, color='skyblue', edgecolor='black')\n",
    "        plt.axvline(mean_diff, color='red', linestyle='--', label=f'Mean diff: {mean_diff:.2f}')\n",
    "        plt.axvline(ci_lower, color='green', linestyle=':')\n",
    "        plt.axvline(ci_upper, color='green', linestyle=':')\n",
    "\n",
    "        plt.axvspan(ci_lower if np.isfinite(ci_lower) else min(diffs),\n",
    "                    ci_upper if np.isfinite(ci_upper) else max(diffs),\n",
    "                    color='lightgreen', alpha=0.15, label='95% CI')\n",
    "\n",
    "        plt.title(f'Bootstrap distribution of mean diff ({value_col})')\n",
    "        plt.xlabel('Difference')\n",
    "        plt.ylabel('Frequency')\n",
    "        plt.legend()\n",
    "        plt.tight_layout()\n",
    "        plt.show()\n",
    "\n",
    "    return result"
   ]
  },
  {
   "cell_type": "code",
   "execution_count": 109,
   "metadata": {},
   "outputs": [
    {
     "data": {
      "application/vnd.microsoft.datawrangler.viewer.v0+json": {
       "columns": [
        {
         "name": "index",
         "rawType": "int64",
         "type": "integer"
        },
        {
         "name": "user_id",
         "rawType": "int64",
         "type": "integer"
        },
        {
         "name": "gross_summ",
         "rawType": "float64",
         "type": "float"
        },
        {
         "name": "target",
         "rawType": "int64",
         "type": "integer"
        }
       ],
       "ref": "c30c26fc-36f9-4652-b081-fb73ef217e27",
       "rows": [
        [
         "0",
         "148",
         "24.42609402297107",
         "0"
        ],
        [
         "1",
         "180",
         "27.282564826847477",
         "0"
        ],
        [
         "2",
         "138",
         "17.45277539048893",
         "1"
        ],
        [
         "3",
         "95",
         "5.732915704816961",
         "0"
        ],
        [
         "4",
         "89",
         "43.314203177038095",
         "1"
        ]
       ],
       "shape": {
        "columns": 3,
        "rows": 5
       }
      },
      "text/html": [
       "<div>\n",
       "<style scoped>\n",
       "    .dataframe tbody tr th:only-of-type {\n",
       "        vertical-align: middle;\n",
       "    }\n",
       "\n",
       "    .dataframe tbody tr th {\n",
       "        vertical-align: top;\n",
       "    }\n",
       "\n",
       "    .dataframe thead th {\n",
       "        text-align: right;\n",
       "    }\n",
       "</style>\n",
       "<table border=\"1\" class=\"dataframe\">\n",
       "  <thead>\n",
       "    <tr style=\"text-align: right;\">\n",
       "      <th></th>\n",
       "      <th>user_id</th>\n",
       "      <th>gross_summ</th>\n",
       "      <th>target</th>\n",
       "    </tr>\n",
       "  </thead>\n",
       "  <tbody>\n",
       "    <tr>\n",
       "      <th>0</th>\n",
       "      <td>148</td>\n",
       "      <td>24.426094</td>\n",
       "      <td>0</td>\n",
       "    </tr>\n",
       "    <tr>\n",
       "      <th>1</th>\n",
       "      <td>180</td>\n",
       "      <td>27.282565</td>\n",
       "      <td>0</td>\n",
       "    </tr>\n",
       "    <tr>\n",
       "      <th>2</th>\n",
       "      <td>138</td>\n",
       "      <td>17.452775</td>\n",
       "      <td>1</td>\n",
       "    </tr>\n",
       "    <tr>\n",
       "      <th>3</th>\n",
       "      <td>95</td>\n",
       "      <td>5.732916</td>\n",
       "      <td>0</td>\n",
       "    </tr>\n",
       "    <tr>\n",
       "      <th>4</th>\n",
       "      <td>89</td>\n",
       "      <td>43.314203</td>\n",
       "      <td>1</td>\n",
       "    </tr>\n",
       "  </tbody>\n",
       "</table>\n",
       "</div>"
      ],
      "text/plain": [
       "   user_id  gross_summ  target\n",
       "0      148   24.426094       0\n",
       "1      180   27.282565       0\n",
       "2      138   17.452775       1\n",
       "3       95    5.732916       0\n",
       "4       89   43.314203       1"
      ]
     },
     "execution_count": 109,
     "metadata": {},
     "output_type": "execute_result"
    }
   ],
   "source": [
    "# Класичні класифікаційні дані\n",
    "X, y = make_classification(\n",
    "    n_samples=10000,\n",
    "    n_features=4,\n",
    "    n_informative=4,\n",
    "    n_redundant=0,\n",
    "    n_clusters_per_class=4,\n",
    "    random_state=42\n",
    ")\n",
    "\n",
    "# Робимо gross_summ з легкою різницею між класами\n",
    "gross_summ = X[:, 0]*50 + np.random.normal(0, 15, size=10000)  # більше шуму\n",
    "gross_summ += np.where(y==1, 25, 0)  # слабкий ефект для класу 1\n",
    "\n",
    "df_fake = pd.DataFrame({\n",
    "    'user_id': np.random.randint(1, 200, size=10000),\n",
    "    'gross_summ': np.abs(gross_summ),\n",
    "    'target': y\n",
    "})\n",
    "\n",
    "df_fake.head()"
   ]
  },
  {
   "cell_type": "code",
   "execution_count": 110,
   "metadata": {},
   "outputs": [
    {
     "data": {
      "image/png": "[encoded data removed]",
      "text/plain": [
       "<Figure size 800x400 with 1 Axes>"
      ]
     },
     "metadata": {},
     "output_type": "display_data"
    },
    {
     "data": {
      "application/vnd.microsoft.datawrangler.viewer.v0+json": {
       "columns": [
        {
         "name": "index",
         "rawType": "object",
         "type": "string"
        },
        {
         "name": "0",
         "rawType": "object",
         "type": "unknown"
        }
       ],
       "ref": "e0baa4bb-6f81-4912-947f-11d5eda18135",
       "rows": [
        [
         "Metric/Field",
         "gross_summ"
        ],
        [
         "Mean Difference",
         "1.638"
        ],
        [
         "CI Lower",
         "-1.54"
        ],
        [
         "CI Upper",
         "inf"
        ],
        [
         "T-test p-value (greater)",
         "0.048"
        ],
        [
         "Mann-Whitney p-value (greater)",
         "0.217"
        ]
       ],
       "shape": {
        "columns": 1,
        "rows": 6
       }
      },
      "text/html": [
       "<div>\n",
       "<style scoped>\n",
       "    .dataframe tbody tr th:only-of-type {\n",
       "        vertical-align: middle;\n",
       "    }\n",
       "\n",
       "    .dataframe tbody tr th {\n",
       "        vertical-align: top;\n",
       "    }\n",
       "\n",
       "    .dataframe thead th {\n",
       "        text-align: right;\n",
       "    }\n",
       "</style>\n",
       "<table border=\"1\" class=\"dataframe\">\n",
       "  <thead>\n",
       "    <tr style=\"text-align: right;\">\n",
       "      <th></th>\n",
       "      <th>0</th>\n",
       "    </tr>\n",
       "  </thead>\n",
       "  <tbody>\n",
       "    <tr>\n",
       "      <th>Metric/Field</th>\n",
       "      <td>gross_summ</td>\n",
       "    </tr>\n",
       "    <tr>\n",
       "      <th>Mean Difference</th>\n",
       "      <td>1.638</td>\n",
       "    </tr>\n",
       "    <tr>\n",
       "      <th>CI Lower</th>\n",
       "      <td>-1.54</td>\n",
       "    </tr>\n",
       "    <tr>\n",
       "      <th>CI Upper</th>\n",
       "      <td>inf</td>\n",
       "    </tr>\n",
       "    <tr>\n",
       "      <th>T-test p-value (greater)</th>\n",
       "      <td>0.048</td>\n",
       "    </tr>\n",
       "    <tr>\n",
       "      <th>Mann-Whitney p-value (greater)</th>\n",
       "      <td>0.217</td>\n",
       "    </tr>\n",
       "  </tbody>\n",
       "</table>\n",
       "</div>"
      ],
      "text/plain": [
       "                                         0\n",
       "Metric/Field                    gross_summ\n",
       "Mean Difference                      1.638\n",
       "CI Lower                             -1.54\n",
       "CI Upper                               inf\n",
       "T-test p-value (greater)             0.048\n",
       "Mann-Whitney p-value (greater)       0.217"
      ]
     },
     "execution_count": 110,
     "metadata": {},
     "output_type": "execute_result"
    }
   ],
   "source": [
    "evaluate_groups(df_fake, alternative=\"greater\")"
   ]
  },
  {
   "cell_type": "code",
   "execution_count": 111,
   "metadata": {},
   "outputs": [
    {
     "data": {
      "application/vnd.microsoft.datawrangler.viewer.v0+json": {
       "columns": [
        {
         "name": "index",
         "rawType": "object",
         "type": "string"
        },
        {
         "name": "0",
         "rawType": "float64",
         "type": "float"
        },
        {
         "name": "1",
         "rawType": "float64",
         "type": "float"
        }
       ],
       "ref": "a8e58629-c5db-4327-85cd-d29174cf1442",
       "rows": [
        [
         "count",
         "5000.0",
         "5000.0"
        ],
        [
         "mean",
         "62.10818784936488",
         "63.59885138704029"
        ],
        [
         "std",
         "43.60676727461274",
         "46.07342692673199"
        ],
        [
         "min",
         "0.01429835583183392",
         "0.007306172384073051"
        ],
        [
         "25%",
         "26.47336483657063",
         "26.55452147810992"
        ],
        [
         "50%",
         "55.18446941887299",
         "55.75201353635147"
        ],
        [
         "75%",
         "89.05734504953578",
         "91.45060759111365"
        ],
        [
         "max",
         "310.6987231841274",
         "393.02881269418305"
        ]
       ],
       "shape": {
        "columns": 2,
        "rows": 8
       }
      },
      "text/html": [
       "<div>\n",
       "<style scoped>\n",
       "    .dataframe tbody tr th:only-of-type {\n",
       "        vertical-align: middle;\n",
       "    }\n",
       "\n",
       "    .dataframe tbody tr th {\n",
       "        vertical-align: top;\n",
       "    }\n",
       "\n",
       "    .dataframe thead th {\n",
       "        text-align: right;\n",
       "    }\n",
       "</style>\n",
       "<table border=\"1\" class=\"dataframe\">\n",
       "  <thead>\n",
       "    <tr style=\"text-align: right;\">\n",
       "      <th>target</th>\n",
       "      <th>0</th>\n",
       "      <th>1</th>\n",
       "    </tr>\n",
       "  </thead>\n",
       "  <tbody>\n",
       "    <tr>\n",
       "      <th>count</th>\n",
       "      <td>5000.000000</td>\n",
       "      <td>5000.000000</td>\n",
       "    </tr>\n",
       "    <tr>\n",
       "      <th>mean</th>\n",
       "      <td>62.108188</td>\n",
       "      <td>63.598851</td>\n",
       "    </tr>\n",
       "    <tr>\n",
       "      <th>std</th>\n",
       "      <td>43.606767</td>\n",
       "      <td>46.073427</td>\n",
       "    </tr>\n",
       "    <tr>\n",
       "      <th>min</th>\n",
       "      <td>0.014298</td>\n",
       "      <td>0.007306</td>\n",
       "    </tr>\n",
       "    <tr>\n",
       "      <th>25%</th>\n",
       "      <td>26.473365</td>\n",
       "      <td>26.554521</td>\n",
       "    </tr>\n",
       "    <tr>\n",
       "      <th>50%</th>\n",
       "      <td>55.184469</td>\n",
       "      <td>55.752014</td>\n",
       "    </tr>\n",
       "    <tr>\n",
       "      <th>75%</th>\n",
       "      <td>89.057345</td>\n",
       "      <td>91.450608</td>\n",
       "    </tr>\n",
       "    <tr>\n",
       "      <th>max</th>\n",
       "      <td>310.698723</td>\n",
       "      <td>393.028813</td>\n",
       "    </tr>\n",
       "  </tbody>\n",
       "</table>\n",
       "</div>"
      ],
      "text/plain": [
       "target            0            1\n",
       "count   5000.000000  5000.000000\n",
       "mean      62.108188    63.598851\n",
       "std       43.606767    46.073427\n",
       "min        0.014298     0.007306\n",
       "25%       26.473365    26.554521\n",
       "50%       55.184469    55.752014\n",
       "75%       89.057345    91.450608\n",
       "max      310.698723   393.028813"
      ]
     },
     "execution_count": 111,
     "metadata": {},
     "output_type": "execute_result"
    }
   ],
   "source": [
    "df_fake.groupby('target').gross_summ.describe().T"
   ]
  },
  {
   "cell_type": "code",
   "execution_count": null,
   "metadata": {},
   "outputs": [],
   "source": []
  }
 ],
 "metadata": {
  "kernelspec": {
   "display_name": "my_env",
   "language": "python",
   "name": "python3"
  },
  "language_info": {
   "codemirror_mode": {
    "name": "ipython",
    "version": 3
   },
   "file_extension": ".py",
   "mimetype": "text/x-python",
   "name": "python",
   "nbconvert_exporter": "python",
   "pygments_lexer": "ipython3",
   "version": "3.10.16"
  }
 },
 "nbformat": 4,
 "nbformat_minor": 2
}
