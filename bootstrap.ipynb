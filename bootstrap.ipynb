{
 "cells": [
  {
   "cell_type": "code",
   "execution_count": 1,
   "metadata": {},
   "outputs": [],
   "source": [
    "import pandas as pd\n",
    "import numpy as np\n",
    "import matplotlib.pyplot as plt\n",
    "\n",
    "from scipy.stats import ttest_ind, mannwhitneyu\n",
    "\n",
    "from sklearn.datasets import make_classification"
   ]
  },
  {
   "cell_type": "code",
   "execution_count": 2,
   "metadata": {},
   "outputs": [],
   "source": [
    "def evaluate_groups(df, target_col='target', value_col='gross_summ', n_iter=100, bootstrap_size = None, plot=True):\n",
    "    tr_values = df[df[target_col] == 1][value_col].values\n",
    "    co_values = df[df[target_col] == 0][value_col].values\n",
    "\n",
    "    if not bootstrap_size:\n",
    "        bootstrap_size = int(len(df) / 10)\n",
    "\n",
    "    diffs = []\n",
    "    for _ in range(n_iter):\n",
    "        tr_sample = np.random.choice(tr_values, size=bootstrap_size, replace=True)\n",
    "        co_sample = np.random.choice(co_values, size=bootstrap_size, replace=True)\n",
    "        diff = tr_sample.mean() - co_sample.mean()\n",
    "        diffs.append(diff)\n",
    "\n",
    "    mean_diff = np.mean(diffs)\n",
    "    ci_lower = np.percentile(diffs, 2.5)\n",
    "    ci_upper = np.percentile(diffs, 97.5)\n",
    "\n",
    "    result = {\n",
    "        'Metric/Field': value_col,\n",
    "        'Mean Difference': round(mean_diff, 3),\n",
    "        'CI Lower': round(ci_lower, 3),\n",
    "        'CI Upper': round(ci_upper, 3),\n",
    "        'T-test p-value': round(ttest_ind(tr_values, co_values).pvalue, 3),\n",
    "        'Mann-Whitney p-value': round(mannwhitneyu(tr_values, co_values).pvalue, 3)\n",
    "    }\n",
    "    result = pd.DataFrame(result, index =[0]).T.round(3)\n",
    "\n",
    "    if plot:\n",
    "        plt.figure(figsize=(8, 4))\n",
    "        plt.hist(diffs, bins=20, color='skyblue', edgecolor='black')\n",
    "        plt.axvline(mean_diff, color='red', linestyle='--', label=f'Mean diff: {mean_diff:.2f}')\n",
    "        plt.axvline(ci_lower, color='green', linestyle=':', label='95% CI lower')\n",
    "        plt.axvline(ci_upper, color='green', linestyle=':', label='95% CI upper')\n",
    "        plt.title(f'Bootstrap distribution of mean diff ({value_col})')\n",
    "        plt.xlabel('Difference')\n",
    "        plt.ylabel('Frequency')\n",
    "        plt.legend()\n",
    "        plt.tight_layout()\n",
    "        plt.show()\n",
    "\n",
    "    return result\n"
   ]
  },
  {
   "cell_type": "code",
   "execution_count": 3,
   "metadata": {},
   "outputs": [
    {
     "data": {
      "application/vnd.microsoft.datawrangler.viewer.v0+json": {
       "columns": [
        {
         "name": "index",
         "rawType": "int64",
         "type": "integer"
        },
        {
         "name": "user_id",
         "rawType": "int64",
         "type": "integer"
        },
        {
         "name": "gross_summ",
         "rawType": "float64",
         "type": "float"
        },
        {
         "name": "target",
         "rawType": "int64",
         "type": "integer"
        }
       ],
       "conversionMethod": "pd.DataFrame",
       "ref": "fa94e4dc-026f-4be3-b88b-6869dd86782e",
       "rows": [
        [
         "0",
         "84",
         "89.56882371242142",
         "0"
        ],
        [
         "1",
         "24",
         "64.39449470595791",
         "0"
        ],
        [
         "2",
         "40",
         "73.27041117242317",
         "1"
        ],
        [
         "3",
         "123",
         "70.67438329517869",
         "0"
        ],
        [
         "4",
         "2",
         "147.81229840901247",
         "1"
        ]
       ],
       "shape": {
        "columns": 3,
        "rows": 5
       }
      },
      "text/html": [
       "<div>\n",
       "<style scoped>\n",
       "    .dataframe tbody tr th:only-of-type {\n",
       "        vertical-align: middle;\n",
       "    }\n",
       "\n",
       "    .dataframe tbody tr th {\n",
       "        vertical-align: top;\n",
       "    }\n",
       "\n",
       "    .dataframe thead th {\n",
       "        text-align: right;\n",
       "    }\n",
       "</style>\n",
       "<table border=\"1\" class=\"dataframe\">\n",
       "  <thead>\n",
       "    <tr style=\"text-align: right;\">\n",
       "      <th></th>\n",
       "      <th>user_id</th>\n",
       "      <th>gross_summ</th>\n",
       "      <th>target</th>\n",
       "    </tr>\n",
       "  </thead>\n",
       "  <tbody>\n",
       "    <tr>\n",
       "      <th>0</th>\n",
       "      <td>84</td>\n",
       "      <td>89.568824</td>\n",
       "      <td>0</td>\n",
       "    </tr>\n",
       "    <tr>\n",
       "      <th>1</th>\n",
       "      <td>24</td>\n",
       "      <td>64.394495</td>\n",
       "      <td>0</td>\n",
       "    </tr>\n",
       "    <tr>\n",
       "      <th>2</th>\n",
       "      <td>40</td>\n",
       "      <td>73.270411</td>\n",
       "      <td>1</td>\n",
       "    </tr>\n",
       "    <tr>\n",
       "      <th>3</th>\n",
       "      <td>123</td>\n",
       "      <td>70.674383</td>\n",
       "      <td>0</td>\n",
       "    </tr>\n",
       "    <tr>\n",
       "      <th>4</th>\n",
       "      <td>2</td>\n",
       "      <td>147.812298</td>\n",
       "      <td>1</td>\n",
       "    </tr>\n",
       "  </tbody>\n",
       "</table>\n",
       "</div>"
      ],
      "text/plain": [
       "   user_id  gross_summ  target\n",
       "0       84   89.568824       0\n",
       "1       24   64.394495       0\n",
       "2       40   73.270411       1\n",
       "3      123   70.674383       0\n",
       "4        2  147.812298       1"
      ]
     },
     "execution_count": 3,
     "metadata": {},
     "output_type": "execute_result"
    }
   ],
   "source": [
    "X, y = make_classification(\n",
    "    n_samples=10000,\n",
    "    n_features=4,\n",
    "    n_informative=4,\n",
    "    n_redundant=0,\n",
    "    n_clusters_per_class=4,\n",
    "    random_state=42\n",
    ")\n",
    "\n",
    "df_fake = pd.DataFrame({\n",
    "    'user_id': np.random.randint(1, 200, size=10000),\n",
    "    'gross_summ': np.abs(X[:, 0] * 100 + np.random.normal(0, 10, size=10000)),\n",
    "    'target': y\n",
    "})\n",
    "df_fake.head()"
   ]
  },
  {
   "cell_type": "code",
   "execution_count": 4,
   "metadata": {},
   "outputs": [
    {
     "data": {
      "image/png": "[encoded data removed]",
      "text/plain": [
       "<Figure size 800x400 with 1 Axes>"
      ]
     },
     "metadata": {},
     "output_type": "display_data"
    },
    {
     "data": {
      "application/vnd.microsoft.datawrangler.viewer.v0+json": {
       "columns": [
        {
         "name": "index",
         "rawType": "object",
         "type": "string"
        },
        {
         "name": "0",
         "rawType": "object",
         "type": "unknown"
        }
       ],
       "conversionMethod": "pd.DataFrame",
       "ref": "c9a3ac49-c091-4b53-8e63-8f29b283b819",
       "rows": [
        [
         "Metric/Field",
         "gross_summ"
        ],
        [
         "Mean Difference",
         "-2.035"
        ],
        [
         "CI Lower",
         "-10.64"
        ],
        [
         "CI Upper",
         "5.315"
        ],
        [
         "T-test p-value",
         "0.107"
        ],
        [
         "Mann-Whitney p-value",
         "0.207"
        ]
       ],
       "shape": {
        "columns": 1,
        "rows": 6
       }
      },
      "text/html": [
       "<div>\n",
       "<style scoped>\n",
       "    .dataframe tbody tr th:only-of-type {\n",
       "        vertical-align: middle;\n",
       "    }\n",
       "\n",
       "    .dataframe tbody tr th {\n",
       "        vertical-align: top;\n",
       "    }\n",
       "\n",
       "    .dataframe thead th {\n",
       "        text-align: right;\n",
       "    }\n",
       "</style>\n",
       "<table border=\"1\" class=\"dataframe\">\n",
       "  <thead>\n",
       "    <tr style=\"text-align: right;\">\n",
       "      <th></th>\n",
       "      <th>0</th>\n",
       "    </tr>\n",
       "  </thead>\n",
       "  <tbody>\n",
       "    <tr>\n",
       "      <th>Metric/Field</th>\n",
       "      <td>gross_summ</td>\n",
       "    </tr>\n",
       "    <tr>\n",
       "      <th>Mean Difference</th>\n",
       "      <td>-2.035</td>\n",
       "    </tr>\n",
       "    <tr>\n",
       "      <th>CI Lower</th>\n",
       "      <td>-10.64</td>\n",
       "    </tr>\n",
       "    <tr>\n",
       "      <th>CI Upper</th>\n",
       "      <td>5.315</td>\n",
       "    </tr>\n",
       "    <tr>\n",
       "      <th>T-test p-value</th>\n",
       "      <td>0.107</td>\n",
       "    </tr>\n",
       "    <tr>\n",
       "      <th>Mann-Whitney p-value</th>\n",
       "      <td>0.207</td>\n",
       "    </tr>\n",
       "  </tbody>\n",
       "</table>\n",
       "</div>"
      ],
      "text/plain": [
       "                               0\n",
       "Metric/Field          gross_summ\n",
       "Mean Difference           -2.035\n",
       "CI Lower                  -10.64\n",
       "CI Upper                   5.315\n",
       "T-test p-value             0.107\n",
       "Mann-Whitney p-value       0.207"
      ]
     },
     "execution_count": 4,
     "metadata": {},
     "output_type": "execute_result"
    }
   ],
   "source": [
    "evaluate_groups(df_fake)"
   ]
  }
 ],
 "metadata": {
  "kernelspec": {
   "display_name": "my_env",
   "language": "python",
   "name": "python3"
  },
  "language_info": {
   "codemirror_mode": {
    "name": "ipython",
    "version": 3
   },
   "file_extension": ".py",
   "mimetype": "text/x-python",
   "name": "python",
   "nbconvert_exporter": "python",
   "pygments_lexer": "ipython3",
   "version": "3.10.16"
  }
 },
 "nbformat": 4,
 "nbformat_minor": 2
}
