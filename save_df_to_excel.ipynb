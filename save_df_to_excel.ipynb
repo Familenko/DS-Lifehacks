{
 "cells": [
  {
   "cell_type": "code",
   "execution_count": null,
   "metadata": {},
   "outputs": [],
   "source": [
    "import pandas as pd\n",
    "import openpyxl\n",
    "from openpyxl.utils import get_column_letter"
   ]
  },
  {
   "cell_type": "code",
   "execution_count": null,
   "metadata": {},
   "outputs": [],
   "source": [
    "with pd.ExcelWriter('result.xlsx', engine='openpyxl') as writer:\n",
    "    df_1.to_excel(writer, sheet_name='Stat Check', index=True)\n",
    "    df_2.to_excel(writer, sheet_name='Country Check', index=True)\n",
    "    df_3.to_excel(writer, sheet_name='Price Point Check', index=False)\n",
    "    df_4.to_excel(writer, sheet_name='P-value Check', index=False)\n",
    "    \n",
    "    for sheet_name in writer.sheets:\n",
    "        worksheet = writer.sheets[sheet_name]\n",
    "        for col in worksheet.columns:\n",
    "            max_length = 0\n",
    "            col_letter = get_column_letter(col[0].column)\n",
    "            for cell in col:\n",
    "                try:\n",
    "                    if cell.value:\n",
    "                        max_length = max(max_length, len(str(cell.value)))\n",
    "                except:\n",
    "                    pass\n",
    "            worksheet.column_dimensions[col_letter].width = max_length + 2"
   ]
  }
 ],
 "metadata": {
  "kernelspec": {
   "display_name": "venv",
   "language": "python",
   "name": "python3"
  },
  "language_info": {
   "codemirror_mode": {
    "name": "ipython",
    "version": 3
   },
   "file_extension": ".py",
   "mimetype": "text/x-python",
   "name": "python",
   "nbconvert_exporter": "python",
   "pygments_lexer": "ipython3",
   "version": "3.12.7"
  }
 },
 "nbformat": 4,
 "nbformat_minor": 2
}
