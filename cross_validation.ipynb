{
  "cells": [
    {
      "cell_type": "code",
      "execution_count": 4,
      "metadata": {},
      "outputs": [],
      "source": [
        "from sklearn.datasets import load_iris\n",
        "from sklearn.model_selection import train_test_split\n",
        "\n",
        "import pandas as pd\n",
        "from sklearn.ensemble import GradientBoostingRegressor\n",
        "\n",
        "from sklearn.model_selection import (\n",
        "    KFold,\n",
        "    RepeatedKFold,\n",
        "    LeaveOneOut,\n",
        "    LeavePOut,\n",
        "    StratifiedKFold)\n",
        "\n",
        "from sklearn.model_selection import cross_val_score\n",
        "from sklearn.model_selection import GridSearchCV"
      ]
    },
    {
      "cell_type": "code",
      "execution_count": 7,
      "metadata": {},
      "outputs": [],
      "source": [
        "iris = load_iris()\n",
        "X_train, X_val, y_train, y_val = train_test_split(\n",
        "    iris.data, iris.target, random_state=49\n",
        ")\n",
        "\n",
        "gbrt = GradientBoostingRegressor(max_depth=6)"
      ]
    },
    {
      "cell_type": "code",
      "execution_count": 8,
      "metadata": {},
      "outputs": [
        {
          "name": "stdout",
          "output_type": "stream",
          "text": [
            "Fitting 5 folds for each of 2 candidates, totalling 10 fits\n",
            "Fitting 50 folds for each of 2 candidates, totalling 100 fits\n",
            "Fitting 6216 folds for each of 2 candidates, totalling 12432 fits\n",
            "Fitting 5 folds for each of 2 candidates, totalling 10 fits\n"
          ]
        },
        {
          "data": {
            "application/vnd.microsoft.datawrangler.viewer.v0+json": {
              "columns": [
                {
                  "name": "index",
                  "rawType": "int64",
                  "type": "integer"
                },
                {
                  "name": "Best_Score",
                  "rawType": "float64",
                  "type": "float"
                },
                {
                  "name": "Best_Params",
                  "rawType": "object",
                  "type": "unknown"
                },
                {
                  "name": "CV_Type",
                  "rawType": "object",
                  "type": "string"
                }
              ],
              "conversionMethod": "pd.DataFrame",
              "ref": "7d3d92a9-f313-4466-9425-2d97e23cb018",
              "rows": [
                [
                  "0",
                  "0.9415633707107979",
                  "{'max_depth': 2}",
                  "KFold"
                ],
                [
                  "1",
                  "0.9329507531390084",
                  "{'max_depth': 2}",
                  "RepeatedKFold"
                ],
                [
                  "3",
                  "0.9249247109326084",
                  "{'max_depth': 10}",
                  "StratifiedKFold"
                ],
                [
                  "2",
                  "0.5798776196051532",
                  "{'max_depth': 2}",
                  "LeavePOut"
                ]
              ],
              "shape": {
                "columns": 3,
                "rows": 4
              }
            },
            "text/html": [
              "<div>\n",
              "<style scoped>\n",
              "    .dataframe tbody tr th:only-of-type {\n",
              "        vertical-align: middle;\n",
              "    }\n",
              "\n",
              "    .dataframe tbody tr th {\n",
              "        vertical-align: top;\n",
              "    }\n",
              "\n",
              "    .dataframe thead th {\n",
              "        text-align: right;\n",
              "    }\n",
              "</style>\n",
              "<table border=\"1\" class=\"dataframe\">\n",
              "  <thead>\n",
              "    <tr style=\"text-align: right;\">\n",
              "      <th></th>\n",
              "      <th>Best_Score</th>\n",
              "      <th>Best_Params</th>\n",
              "      <th>CV_Type</th>\n",
              "    </tr>\n",
              "  </thead>\n",
              "  <tbody>\n",
              "    <tr>\n",
              "      <th>0</th>\n",
              "      <td>0.941563</td>\n",
              "      <td>{'max_depth': 2}</td>\n",
              "      <td>KFold</td>\n",
              "    </tr>\n",
              "    <tr>\n",
              "      <th>1</th>\n",
              "      <td>0.932951</td>\n",
              "      <td>{'max_depth': 2}</td>\n",
              "      <td>RepeatedKFold</td>\n",
              "    </tr>\n",
              "    <tr>\n",
              "      <th>3</th>\n",
              "      <td>0.924925</td>\n",
              "      <td>{'max_depth': 10}</td>\n",
              "      <td>StratifiedKFold</td>\n",
              "    </tr>\n",
              "    <tr>\n",
              "      <th>2</th>\n",
              "      <td>0.579878</td>\n",
              "      <td>{'max_depth': 2}</td>\n",
              "      <td>LeavePOut</td>\n",
              "    </tr>\n",
              "  </tbody>\n",
              "</table>\n",
              "</div>"
            ],
            "text/plain": [
              "   Best_Score        Best_Params          CV_Type\n",
              "0    0.941563   {'max_depth': 2}            KFold\n",
              "1    0.932951   {'max_depth': 2}    RepeatedKFold\n",
              "3    0.924925  {'max_depth': 10}  StratifiedKFold\n",
              "2    0.579878   {'max_depth': 2}        LeavePOut"
            ]
          },
          "execution_count": 8,
          "metadata": {},
          "output_type": "execute_result"
        }
      ],
      "source": [
        "kf = KFold(n_splits=5, shuffle=True, random_state=4)\n",
        "rkf = RepeatedKFold(n_splits=5,n_repeats=10,random_state=4)\n",
        "lpo = LeavePOut(p=2)\n",
        "skf = StratifiedKFold(n_splits=5, shuffle=True, random_state=4)\n",
        "\n",
        "cv_list = [kf, rkf, lpo, skf]\n",
        "\n",
        "\n",
        "param_space = {\n",
        "    'max_depth': (2, 10)\n",
        "}\n",
        "\n",
        "cv_result = []\n",
        "for cv in cv_list:\n",
        "    grid_search = GridSearchCV(gbrt, param_space, cv=cv, n_jobs=-1, verbose=1)\n",
        "    grid_search.fit(X_train, y_train)\n",
        "\n",
        "    result_dict = {\n",
        "        'Best_Score': grid_search.best_score_,\n",
        "        'Best_Params': grid_search.best_params_,\n",
        "        'CV_Type': str(cv).split('(')[0]\n",
        "    }\n",
        "\n",
        "    cv_result.append(result_dict)\n",
        "\n",
        "cv_result_df = pd.DataFrame(cv_result)\n",
        "cv_result_df.sort_values(by='Best_Score', ascending=False)"
      ]
    }
  ],
  "metadata": {
    "colab": {
      "provenance": []
    },
    "kernelspec": {
      "display_name": "Python 3",
      "name": "python3"
    },
    "language_info": {
      "codemirror_mode": {
        "name": "ipython",
        "version": 3
      },
      "file_extension": ".py",
      "mimetype": "text/x-python",
      "name": "python",
      "nbconvert_exporter": "python",
      "pygments_lexer": "ipython3",
      "version": "3.11.3"
    }
  },
  "nbformat": 4,
  "nbformat_minor": 0
}
