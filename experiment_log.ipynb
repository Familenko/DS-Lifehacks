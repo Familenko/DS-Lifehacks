{
  "cells": [
    {
      "cell_type": "code",
      "execution_count": 22,
      "metadata": {},
      "outputs": [],
      "source": [
        "import numpy as np\n",
        "import pandas as pd\n",
        "import seaborn as sns\n",
        "from sklearn.ensemble import RandomForestClassifier\n",
        "from sklearn.model_selection import train_test_split\n",
        "from sklearn.metrics import accuracy_score"
      ]
    },
    {
      "cell_type": "code",
      "execution_count": 23,
      "metadata": {},
      "outputs": [],
      "source": [
        "df = sns.load_dataset(\"titanic\").drop(columns=[\"alive\"])"
      ]
    },
    {
      "cell_type": "code",
      "execution_count": 24,
      "metadata": {},
      "outputs": [],
      "source": [
        "num_features = [\"age\", \"fare\"]\n",
        "cat_features = [\"sex\", \"class\", \"embark_town\"]\n",
        "\n",
        "for col in num_features:\n",
        "    df[col].interpolate(method=\"linear\", inplace=True)\n",
        "\n",
        "for col in cat_features:\n",
        "    df[col].fillna(df[col].mode()[0], inplace=True)\n",
        "\n",
        "bins = [0, 12, 20, 40, 60, np.inf]\n",
        "labels = [\"child\", \"teen\", \"young\", \"middle\", \"senior\"]\n",
        "df[\"age_group\"] = pd.cut(df[\"age\"], bins=bins, labels=labels)\n",
        "\n",
        "df = pd.get_dummies(df, columns=cat_features + [\"age_group\"], drop_first=True)\n",
        "df.drop(columns=[\"deck\", \"embarked\", \"who\"], inplace=True)"
      ]
    },
    {
      "cell_type": "code",
      "execution_count": 25,
      "metadata": {},
      "outputs": [],
      "source": [
        "X = df.drop(columns=[\"survived\"])\n",
        "y = df[\"survived\"].fillna(0)\n",
        "\n",
        "model = RandomForestClassifier(n_estimators=128, random_state=42)\n",
        "\n",
        "X_train, X_test, y_train, y_test = train_test_split(X, y, test_size=0.2, random_state=42)\n",
        "model.fit(X_train, y_train)\n",
        "y_pred = model.predict(X_test)"
      ]
    },
    {
      "cell_type": "code",
      "execution_count": 26,
      "metadata": {},
      "outputs": [
        {
          "name": "stdout",
          "output_type": "stream",
          "text": [
            "Accuracy: 0.8045\n"
          ]
        }
      ],
      "source": [
        "accuracy = accuracy_score(y_test, y_pred)\n",
        "print(f\"Accuracy: {accuracy:.4f}\")"
      ]
    },
    {
      "cell_type": "code",
      "execution_count": 27,
      "metadata": {},
      "outputs": [],
      "source": [
        "import os\n",
        "import shutil\n",
        "import datetime\n",
        "\n",
        "\n",
        "def save_notebook(title, good=False):\n",
        "    now = datetime.datetime.now().strftime(\"%Y-%m-%d_%H-%M-%S\")\n",
        "    experiments_dir = f\"experiments_{title}\"\n",
        "    good_dir = f\"{experiments_dir}/good\"\n",
        "    \n",
        "    if not os.path.exists(experiments_dir):\n",
        "        os.makedirs(experiments_dir)\n",
        "\n",
        "    if good:\n",
        "        if not os.path.exists(good_dir):\n",
        "            os.makedirs(good_dir)\n",
        "        new_filename = f\"{good_dir}/{now}.ipynb\"\n",
        "    else:\n",
        "        new_filename = f\"{experiments_dir}/{now}.ipynb\"\n",
        "\n",
        "    shutil.copy(title, new_filename)\n",
        "    print(f\"Файл збережено як {new_filename}\")"
      ]
    },
    {
      "cell_type": "code",
      "execution_count": null,
      "metadata": {},
      "outputs": [
        {
          "name": "stdout",
          "output_type": "stream",
          "text": [
            "Файл збережено як experiments_pipeline.ipynb/good/2025-03-24_18-49-27.ipynb\n"
          ]
        }
      ],
      "source": [
        "save_notebook('pipeline.ipynb', 0)"
      ]
    }
  ],
  "metadata": {
    "colab": {
      "provenance": []
    },
    "kernelspec": {
      "display_name": "goit",
      "language": "python",
      "name": "python3"
    },
    "language_info": {
      "codemirror_mode": {
        "name": "ipython",
        "version": 3
      },
      "file_extension": ".py",
      "mimetype": "text/x-python",
      "name": "python",
      "nbconvert_exporter": "python",
      "pygments_lexer": "ipython3",
      "version": "3.10.16"
    }
  },
  "nbformat": 4,
  "nbformat_minor": 0
}
