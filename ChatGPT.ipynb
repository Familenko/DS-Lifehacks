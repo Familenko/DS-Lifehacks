{
  "cells": [
    {
      "cell_type": "code",
      "execution_count": 1,
      "metadata": {},
      "outputs": [],
      "source": [
        "import pandas as pd\n",
        "from openai import OpenAI\n",
        "\n",
        "from dotenv import load_dotenv\n",
        "load_dotenv()\n",
        "import os"
      ]
    },
    {
      "cell_type": "code",
      "execution_count": 2,
      "metadata": {},
      "outputs": [],
      "source": [
        "openai_api_key = os.getenv(\"openai_api_key\")"
      ]
    },
    {
      "cell_type": "code",
      "execution_count": 3,
      "metadata": {},
      "outputs": [
        {
          "data": {
            "application/vnd.microsoft.datawrangler.viewer.v0+json": {
              "columns": [
                {
                  "name": "index",
                  "rawType": "int64",
                  "type": "integer"
                },
                {
                  "name": "post",
                  "rawType": "object",
                  "type": "string"
                }
              ],
              "conversionMethod": "pd.DataFrame",
              "ref": "18f26679-cba3-451f-a499-2d7f4ddba322",
              "rows": [
                [
                  "0",
                  "Цей продукт дуже хороший!"
                ],
                [
                  "1",
                  "Не рекомендую, поганий сервіс."
                ],
                [
                  "2",
                  "Ціна нормальна, але доставка довга."
                ],
                [
                  "3",
                  "Дорогувато, але якість на висоті."
                ],
                [
                  "4",
                  "Дорого, богато"
                ],
                [
                  "5",
                  "Зламалось майже зразу але сервіс вийшов на звязок і ми це питання вирішили"
                ]
              ],
              "shape": {
                "columns": 1,
                "rows": 6
              }
            },
            "text/html": [
              "<div>\n",
              "<style scoped>\n",
              "    .dataframe tbody tr th:only-of-type {\n",
              "        vertical-align: middle;\n",
              "    }\n",
              "\n",
              "    .dataframe tbody tr th {\n",
              "        vertical-align: top;\n",
              "    }\n",
              "\n",
              "    .dataframe thead th {\n",
              "        text-align: right;\n",
              "    }\n",
              "</style>\n",
              "<table border=\"1\" class=\"dataframe\">\n",
              "  <thead>\n",
              "    <tr style=\"text-align: right;\">\n",
              "      <th></th>\n",
              "      <th>post</th>\n",
              "    </tr>\n",
              "  </thead>\n",
              "  <tbody>\n",
              "    <tr>\n",
              "      <th>0</th>\n",
              "      <td>Цей продукт дуже хороший!</td>\n",
              "    </tr>\n",
              "    <tr>\n",
              "      <th>1</th>\n",
              "      <td>Не рекомендую, поганий сервіс.</td>\n",
              "    </tr>\n",
              "    <tr>\n",
              "      <th>2</th>\n",
              "      <td>Ціна нормальна, але доставка довга.</td>\n",
              "    </tr>\n",
              "    <tr>\n",
              "      <th>3</th>\n",
              "      <td>Дорогувато, але якість на висоті.</td>\n",
              "    </tr>\n",
              "    <tr>\n",
              "      <th>4</th>\n",
              "      <td>Дорого, богато</td>\n",
              "    </tr>\n",
              "    <tr>\n",
              "      <th>5</th>\n",
              "      <td>Зламалось майже зразу але сервіс вийшов на звя...</td>\n",
              "    </tr>\n",
              "  </tbody>\n",
              "</table>\n",
              "</div>"
            ],
            "text/plain": [
              "                                                post\n",
              "0                          Цей продукт дуже хороший!\n",
              "1                     Не рекомендую, поганий сервіс.\n",
              "2                Ціна нормальна, але доставка довга.\n",
              "3                  Дорогувато, але якість на висоті.\n",
              "4                                     Дорого, богато\n",
              "5  Зламалось майже зразу але сервіс вийшов на звя..."
            ]
          },
          "execution_count": 3,
          "metadata": {},
          "output_type": "execute_result"
        }
      ],
      "source": [
        "data = {\n",
        "    \"post\": [\n",
        "        \"Цей продукт дуже хороший!\",\n",
        "        \"Не рекомендую, поганий сервіс.\",\n",
        "        \"Ціна нормальна, але доставка довга.\",\n",
        "        \"Дорогувато, але якість на висоті.\",\n",
        "        \"Дорого, богато\",\n",
        "        \"Зламалось майже зразу але сервіс вийшов на звязок і ми це питання вирішили\"\n",
        "    ]\n",
        "}\n",
        "df = pd.DataFrame(data)\n",
        "df"
      ]
    },
    {
      "cell_type": "code",
      "execution_count": 4,
      "metadata": {},
      "outputs": [
        {
          "data": {
            "application/vnd.microsoft.datawrangler.viewer.v0+json": {
              "columns": [
                {
                  "name": "index",
                  "rawType": "int64",
                  "type": "integer"
                },
                {
                  "name": "post",
                  "rawType": "object",
                  "type": "string"
                },
                {
                  "name": "label",
                  "rawType": "int64",
                  "type": "integer"
                }
              ],
              "conversionMethod": "pd.DataFrame",
              "ref": "0d187316-8245-4e54-bba2-a07ab6114166",
              "rows": [
                [
                  "0",
                  "Цей продукт дуже хороший!",
                  "1"
                ],
                [
                  "1",
                  "Не рекомендую, поганий сервіс.",
                  "3"
                ],
                [
                  "2",
                  "Ціна нормальна, але доставка довга.",
                  "2"
                ],
                [
                  "3",
                  "Дорогувато, але якість на висоті.",
                  "1"
                ],
                [
                  "4",
                  "Дорого, богато",
                  "3"
                ],
                [
                  "5",
                  "Зламалось майже зразу але сервіс вийшов на звязок і ми це питання вирішили",
                  "1"
                ]
              ],
              "shape": {
                "columns": 2,
                "rows": 6
              }
            },
            "text/html": [
              "<div>\n",
              "<style scoped>\n",
              "    .dataframe tbody tr th:only-of-type {\n",
              "        vertical-align: middle;\n",
              "    }\n",
              "\n",
              "    .dataframe tbody tr th {\n",
              "        vertical-align: top;\n",
              "    }\n",
              "\n",
              "    .dataframe thead th {\n",
              "        text-align: right;\n",
              "    }\n",
              "</style>\n",
              "<table border=\"1\" class=\"dataframe\">\n",
              "  <thead>\n",
              "    <tr style=\"text-align: right;\">\n",
              "      <th></th>\n",
              "      <th>post</th>\n",
              "      <th>label</th>\n",
              "    </tr>\n",
              "  </thead>\n",
              "  <tbody>\n",
              "    <tr>\n",
              "      <th>0</th>\n",
              "      <td>Цей продукт дуже хороший!</td>\n",
              "      <td>1</td>\n",
              "    </tr>\n",
              "    <tr>\n",
              "      <th>1</th>\n",
              "      <td>Не рекомендую, поганий сервіс.</td>\n",
              "      <td>3</td>\n",
              "    </tr>\n",
              "    <tr>\n",
              "      <th>2</th>\n",
              "      <td>Ціна нормальна, але доставка довга.</td>\n",
              "      <td>2</td>\n",
              "    </tr>\n",
              "    <tr>\n",
              "      <th>3</th>\n",
              "      <td>Дорогувато, але якість на висоті.</td>\n",
              "      <td>1</td>\n",
              "    </tr>\n",
              "    <tr>\n",
              "      <th>4</th>\n",
              "      <td>Дорого, богато</td>\n",
              "      <td>3</td>\n",
              "    </tr>\n",
              "    <tr>\n",
              "      <th>5</th>\n",
              "      <td>Зламалось майже зразу але сервіс вийшов на звя...</td>\n",
              "      <td>1</td>\n",
              "    </tr>\n",
              "  </tbody>\n",
              "</table>\n",
              "</div>"
            ],
            "text/plain": [
              "                                                post  label\n",
              "0                          Цей продукт дуже хороший!      1\n",
              "1                     Не рекомендую, поганий сервіс.      3\n",
              "2                Ціна нормальна, але доставка довга.      2\n",
              "3                  Дорогувато, але якість на висоті.      1\n",
              "4                                     Дорого, богато      3\n",
              "5  Зламалось майже зразу але сервіс вийшов на звя...      1"
            ]
          },
          "execution_count": 4,
          "metadata": {},
          "output_type": "execute_result"
        }
      ],
      "source": [
        "client = OpenAI(\n",
        "    api_key=openai_api_key,\n",
        ")\n",
        "\n",
        "\n",
        "def label_posts_in_batches(df, batch_size=10):\n",
        "    all_labels = []\n",
        "    for i in range(0, len(df), batch_size):\n",
        "        batch = df[\"post\"].iloc[i:i + batch_size].tolist()\n",
        "        prompt = f\"\"\"\n",
        "        Оцініть наступні тексти і дайте їм категорії:\n",
        "        1. Позитивний\n",
        "        2. Нейтральний\n",
        "        3. Негативний\n",
        "        Тексти: {batch}\n",
        "        Ваша відповідь повинна бути списком чисел (1, 2 або 3), де кожне число відповідає тексту у тому ж порядку.\n",
        "        \"\"\"\n",
        "        response = client.chat.completions.create(\n",
        "            model=\"gpt-3.5-turbo\",\n",
        "            messages=[\n",
        "                {\"role\": \"system\", \"content\": \"Ви - помічник, який класифікує тексти.\"},\n",
        "                {\"role\": \"user\", \"content\": prompt}\n",
        "            ],\n",
        "            max_tokens=1000,\n",
        "            temperature=0\n",
        "        )\n",
        "        labels = eval(response.choices[0].message.content.strip())\n",
        "        all_labels.extend(labels)\n",
        "    return all_labels\n",
        "\n",
        "\n",
        "labels = label_posts_in_batches(df, batch_size=10)\n",
        "df[\"label\"] = labels\n",
        "\n",
        "df"
      ]
    }
  ],
  "metadata": {
    "colab": {
      "provenance": []
    },
    "kernelspec": {
      "display_name": "goit",
      "language": "python",
      "name": "python3"
    },
    "language_info": {
      "codemirror_mode": {
        "name": "ipython",
        "version": 3
      },
      "file_extension": ".py",
      "mimetype": "text/x-python",
      "name": "python",
      "nbconvert_exporter": "python",
      "pygments_lexer": "ipython3",
      "version": "3.10.16"
    }
  },
  "nbformat": 4,
  "nbformat_minor": 0
}
