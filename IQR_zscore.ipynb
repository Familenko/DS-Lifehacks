{
  "cells": [
    {
      "cell_type": "code",
      "execution_count": 3,
      "metadata": {},
      "outputs": [],
      "source": [
        "import pandas as pd\n",
        "from scipy.stats import zscore"
      ]
    },
    {
      "cell_type": "markdown",
      "metadata": {},
      "source": [
        "### IQR"
      ]
    },
    {
      "cell_type": "code",
      "execution_count": 4,
      "metadata": {},
      "outputs": [],
      "source": [
        "def detect_outliers_in_column(column: pd.Series, threshold: float = 1.5) -> list:\n",
        "    \"\"\"\n",
        "    Detect outliers in a column of a dataframe using IQR (interquartile range) method\n",
        "    :param column: column of a dataframe (pd.Series)\n",
        "    :param threshold: threshold for outlier detection\n",
        "    :return: list of indices of outliers\n",
        "    \"\"\"\n",
        "    q1 = column.quantile(0.25)\n",
        "    q3 = column.quantile(0.75)\n",
        "    iqr = q3 - q1\n",
        "    lower_bound = q1 - threshold * iqr\n",
        "    upper_bound = q3 + threshold * iqr\n",
        "\n",
        "    outlier_indices = column[(column < lower_bound) | (column > upper_bound)].index.tolist()\n",
        "\n",
        "    return outlier_indices"
      ]
    },
    {
      "cell_type": "markdown",
      "metadata": {},
      "source": [
        "### zscore"
      ]
    },
    {
      "cell_type": "code",
      "execution_count": 5,
      "metadata": {},
      "outputs": [],
      "source": [
        "def detect_outliers_zscore(column: pd.Series, threshold: float = 3) -> list:\n",
        "    \"\"\"\n",
        "    Detect outliers in a column of a dataframe using Z-score method.\n",
        "    \n",
        "    :param column: column of a dataframe (pd.Series)\n",
        "    :param threshold: threshold for outlier detection (default is 3)\n",
        "    :return: list of indices of outliers\n",
        "    \"\"\"\n",
        "    z_scores = zscore(column, nan_policy='omit')  \n",
        "    outlier_indices = column[abs(z_scores) > threshold].index.tolist()\n",
        "    \n",
        "    return outlier_indices"
      ]
    },
    {
      "cell_type": "code",
      "execution_count": 6,
      "metadata": {},
      "outputs": [
        {
          "name": "stdout",
          "output_type": "stream",
          "text": [
            "Індекси аномалій: [4]\n",
            "Аномалії: 4    250\n",
            "Name: A, dtype: int64\n"
          ]
        }
      ],
      "source": [
        "data = {\n",
        "    \"A\": [10, 12, 11, 10, 250, 12, 13, 11, 9, 10],\n",
        "    \"B\": [1, 2, 3, 4, 5, 6, 7, 8, 9, 10]\n",
        "}\n",
        "df = pd.DataFrame(data)\n",
        "\n",
        "outliers = detect_outliers_in_column(df[\"A\"], threshold=1.5)\n",
        "print(\"Індекси аномалій:\", outliers)\n",
        "print(\"Аномалії:\", df.loc[outliers, \"A\"])"
      ]
    },
    {
      "cell_type": "code",
      "execution_count": 8,
      "metadata": {},
      "outputs": [
        {
          "name": "stdout",
          "output_type": "stream",
          "text": [
            "Індекси аномалій: [4]\n",
            "Аномалії: 4    250\n",
            "Name: A, dtype: int64\n"
          ]
        }
      ],
      "source": [
        "data = {\n",
        "    \"A\": [10, 12, 11, 10, 250, 12, 13, 11, 9, 10],\n",
        "    \"B\": [1, 2, 3, 4, 5, 6, 7, 8, 9, 10]\n",
        "}\n",
        "df = pd.DataFrame(data)\n",
        "\n",
        "outliers = detect_outliers_zscore(df[\"A\"], threshold=2)\n",
        "print(\"Індекси аномалій:\", outliers)\n",
        "print(\"Аномалії:\", df.loc[outliers, \"A\"])"
      ]
    },
    {
      "cell_type": "markdown",
      "metadata": {},
      "source": [
        "### оцінка зі скользащою"
      ]
    },
    {
      "cell_type": "code",
      "execution_count": 5,
      "metadata": {},
      "outputs": [],
      "source": [
        "def zscore_adv(x, window):\n",
        "    r = x.rolling(window=window)\n",
        "    m = r.mean().shift(1)\n",
        "    s = r.std(ddof=0).shift(1)\n",
        "    z = (x-m)/s\n",
        "    return z"
      ]
    },
    {
      "cell_type": "code",
      "execution_count": 8,
      "metadata": {},
      "outputs": [
        {
          "data": {
            "application/vnd.microsoft.datawrangler.viewer.v0+json": {
              "columns": [
                {
                  "name": "index",
                  "rawType": "int64",
                  "type": "integer"
                },
                {
                  "name": "A",
                  "rawType": "int64",
                  "type": "integer"
                },
                {
                  "name": "B",
                  "rawType": "int64",
                  "type": "integer"
                },
                {
                  "name": "A_zscore",
                  "rawType": "float64",
                  "type": "float"
                }
              ],
              "conversionMethod": "pd.DataFrame",
              "ref": "9059ca1c-95b5-469d-aedc-73ec98258de6",
              "rows": [
                [
                  "0",
                  "10",
                  "1",
                  null
                ],
                [
                  "1",
                  "12",
                  "2",
                  null
                ],
                [
                  "2",
                  "11",
                  "3",
                  null
                ],
                [
                  "3",
                  "10",
                  "4",
                  "-1.224744871391589"
                ],
                [
                  "4",
                  "16",
                  "5",
                  "6.123724356957945"
                ],
                [
                  "5",
                  "12",
                  "6",
                  "-0.12700012700019073"
                ],
                [
                  "6",
                  "13",
                  "7",
                  "0.13363062095621245"
                ],
                [
                  "7",
                  "11",
                  "8",
                  "-1.568929081105472"
                ],
                [
                  "8",
                  "9",
                  "9",
                  "-3.6742346141747686"
                ],
                [
                  "9",
                  "10",
                  "10",
                  "-0.6123724356957946"
                ]
              ],
              "shape": {
                "columns": 3,
                "rows": 10
              }
            },
            "text/html": [
              "<div>\n",
              "<style scoped>\n",
              "    .dataframe tbody tr th:only-of-type {\n",
              "        vertical-align: middle;\n",
              "    }\n",
              "\n",
              "    .dataframe tbody tr th {\n",
              "        vertical-align: top;\n",
              "    }\n",
              "\n",
              "    .dataframe thead th {\n",
              "        text-align: right;\n",
              "    }\n",
              "</style>\n",
              "<table border=\"1\" class=\"dataframe\">\n",
              "  <thead>\n",
              "    <tr style=\"text-align: right;\">\n",
              "      <th></th>\n",
              "      <th>A</th>\n",
              "      <th>B</th>\n",
              "      <th>A_zscore</th>\n",
              "    </tr>\n",
              "  </thead>\n",
              "  <tbody>\n",
              "    <tr>\n",
              "      <th>0</th>\n",
              "      <td>10</td>\n",
              "      <td>1</td>\n",
              "      <td>NaN</td>\n",
              "    </tr>\n",
              "    <tr>\n",
              "      <th>1</th>\n",
              "      <td>12</td>\n",
              "      <td>2</td>\n",
              "      <td>NaN</td>\n",
              "    </tr>\n",
              "    <tr>\n",
              "      <th>2</th>\n",
              "      <td>11</td>\n",
              "      <td>3</td>\n",
              "      <td>NaN</td>\n",
              "    </tr>\n",
              "    <tr>\n",
              "      <th>3</th>\n",
              "      <td>10</td>\n",
              "      <td>4</td>\n",
              "      <td>-1.224745</td>\n",
              "    </tr>\n",
              "    <tr>\n",
              "      <th>4</th>\n",
              "      <td>16</td>\n",
              "      <td>5</td>\n",
              "      <td>6.123724</td>\n",
              "    </tr>\n",
              "    <tr>\n",
              "      <th>5</th>\n",
              "      <td>12</td>\n",
              "      <td>6</td>\n",
              "      <td>-0.127000</td>\n",
              "    </tr>\n",
              "    <tr>\n",
              "      <th>6</th>\n",
              "      <td>13</td>\n",
              "      <td>7</td>\n",
              "      <td>0.133631</td>\n",
              "    </tr>\n",
              "    <tr>\n",
              "      <th>7</th>\n",
              "      <td>11</td>\n",
              "      <td>8</td>\n",
              "      <td>-1.568929</td>\n",
              "    </tr>\n",
              "    <tr>\n",
              "      <th>8</th>\n",
              "      <td>9</td>\n",
              "      <td>9</td>\n",
              "      <td>-3.674235</td>\n",
              "    </tr>\n",
              "    <tr>\n",
              "      <th>9</th>\n",
              "      <td>10</td>\n",
              "      <td>10</td>\n",
              "      <td>-0.612372</td>\n",
              "    </tr>\n",
              "  </tbody>\n",
              "</table>\n",
              "</div>"
            ],
            "text/plain": [
              "    A   B  A_zscore\n",
              "0  10   1       NaN\n",
              "1  12   2       NaN\n",
              "2  11   3       NaN\n",
              "3  10   4 -1.224745\n",
              "4  16   5  6.123724\n",
              "5  12   6 -0.127000\n",
              "6  13   7  0.133631\n",
              "7  11   8 -1.568929\n",
              "8   9   9 -3.674235\n",
              "9  10  10 -0.612372"
            ]
          },
          "execution_count": 8,
          "metadata": {},
          "output_type": "execute_result"
        }
      ],
      "source": [
        "data = {\n",
        "    \"A\": [10, 12, 11, 10, 16, 12, 13, 11, 9, 10],\n",
        "    \"B\": [1, 2, 3, 4, 5, 6, 7, 8, 9, 10]\n",
        "}\n",
        "\n",
        "df = pd.DataFrame(data)\n",
        "window = 3\n",
        "df[\"A_zscore\"] = zscore_adv(df[\"A\"], window)\n",
        "\n",
        "df"
      ]
    }
  ],
  "metadata": {
    "colab": {
      "provenance": []
    },
    "kernelspec": {
      "display_name": "goit",
      "language": "python",
      "name": "python3"
    },
    "language_info": {
      "codemirror_mode": {
        "name": "ipython",
        "version": 3
      },
      "file_extension": ".py",
      "mimetype": "text/x-python",
      "name": "python",
      "nbconvert_exporter": "python",
      "pygments_lexer": "ipython3",
      "version": "3.10.16"
    }
  },
  "nbformat": 4,
  "nbformat_minor": 0
}
