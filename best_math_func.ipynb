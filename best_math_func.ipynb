{
 "cells": [
  {
   "cell_type": "code",
   "execution_count": 1,
   "id": "7c55b248",
   "metadata": {},
   "outputs": [],
   "source": [
    "import numpy as np\n",
    "import matplotlib.pyplot as plt\n",
    "from sklearn.metrics import r2_score, mean_squared_error\n",
    "from scipy.optimize import curve_fit"
   ]
  },
  {
   "cell_type": "markdown",
   "id": "dce8beba",
   "metadata": {},
   "source": [
    "тестові дані"
   ]
  },
  {
   "cell_type": "code",
   "execution_count": 2,
   "id": "f9135207",
   "metadata": {},
   "outputs": [],
   "source": [
    "np.random.seed(0)\n",
    "x = np.linspace(1, 10, 50)\n",
    "y = 3 * np.log(x) + np.random.normal(0, 0.3, size=len(x))"
   ]
  },
  {
   "cell_type": "markdown",
   "id": "98714edc",
   "metadata": {},
   "source": [
    "функції"
   ]
  },
  {
   "cell_type": "code",
   "execution_count": null,
   "id": "f61e6d84",
   "metadata": {},
   "outputs": [],
   "source": [
    "# Лінійні та поліноми\n",
    "def linear(x, a, b):\n",
    "    return a * x + b\n",
    "\n",
    "def quadratic(x, a, b, c):\n",
    "    return a * x**2 + b * x + c\n",
    "\n",
    "def cubic(x, a, b, c, d):\n",
    "    return a * x**3 + b * x**2 + c * x + d\n",
    "\n",
    "def quartic(x, a, b, c, d, e):\n",
    "    return a*x**4 + b*x**3 + c*x**2 + d*x + e\n",
    "\n",
    "# Експоненційні та логарифмічні\n",
    "def exponential(x, a, b):\n",
    "    return a * np.exp(b * x)\n",
    "\n",
    "def exp_plus_linear(x, a, b, c):\n",
    "    return a * np.exp(b * x) + c * x\n",
    "\n",
    "def logarithmic(x, a, b):\n",
    "    return a * np.log(x) + b\n",
    "\n",
    "def log_plus_linear(x, a, b, c):\n",
    "    return a * np.log(x) + b * x + c\n",
    "\n",
    "# Тригонометрія\n",
    "def sinusoidal(x, a, b, c):\n",
    "    return a * np.sin(b * x) + c\n",
    "\n",
    "def cosinusoidal(x, a, b, c):\n",
    "    return a * np.cos(b * x) + c\n",
    "\n",
    "def sin_plus_linear(x, a, b, c, d):\n",
    "    return a * np.sin(b * x) + c * x + d\n",
    "\n",
    "def sin_plus_cos(x, a, b, c, d):\n",
    "    return a * np.sin(b * x) + c * np.cos(d * x)\n",
    "\n",
    "# Гібридні / комбіновані\n",
    "def linear_plus_exp(x, a, b, c):\n",
    "    return a * x + b * np.exp(c * x)\n",
    "\n",
    "def poly2_plus_sin(x, a, b, c, d):\n",
    "    return a * x**2 + b * x + c * np.sin(d * x)\n",
    "\n",
    "# Створюємо словник кандидатів\n",
    "candidates = {\n",
    "    \"Linear\": linear,\n",
    "    \"Quadratic\": quadratic,\n",
    "    \"Cubic\": cubic,\n",
    "    \"Quartic\": quartic,\n",
    "    \"Exponential\": exponential,\n",
    "    \"Exponential + Linear\": exp_plus_linear,\n",
    "    \"Logarithmic\": logarithmic,\n",
    "    \"Log + Linear\": log_plus_linear,\n",
    "    \"Sinusoidal\": sinusoidal,\n",
    "    \"Cosinusoidal\": cosinusoidal,\n",
    "    \"Sin + Linear\": sin_plus_linear,\n",
    "    \"Sin + Cos\": sin_plus_cos,\n",
    "    \"Linear + Exp\": linear_plus_exp,\n",
    "    \"Poly2 + Sin\": poly2_plus_sin\n",
    "}"
   ]
  },
  {
   "cell_type": "markdown",
   "id": "e610acde",
   "metadata": {},
   "source": [
    "пошук найкращої моделі"
   ]
  },
  {
   "cell_type": "code",
   "execution_count": 4,
   "id": "e4191b9e",
   "metadata": {},
   "outputs": [
    {
     "name": "stdout",
     "output_type": "stream",
     "text": [
      "Fitted Linear with params: [0.61362596 1.317255  ]\n",
      "Fitted Quadratic with params: [-0.0717847   1.40325771 -0.34990812]\n",
      "Fitted Cubic with params: [ 0.00880301 -0.2170343   2.0908678  -1.20256339]\n",
      "Fitted Quartic with params: [-1.39341631e-03  3.94581685e-02 -4.44800104e-01  2.74165412e+00\n",
      " -1.77004822e+00]\n",
      "Fitted Exponential with params: [2.34989581 0.11798873]\n",
      "Fitted Exponential + Linear with params: [-0.22576957  0.32168461  1.18183667]\n",
      "Fitted Logarithmic with params: [2.78650255 0.37309096]\n",
      "Fitted Log + Linear with params: [ 2.78846686e+00 -4.68842513e-04  3.72624894e-01]\n",
      "Fitted Sinusoidal with params: [-0.84541412  1.21323179  4.65445268]\n",
      "Fitted Cosinusoidal with params: [ 0.83841502 -0.78441887  4.65207728]\n",
      "Fitted Sin + Linear with params: [-0.50581155  0.8620169   0.61482794  1.40384123]\n",
      "Fitted Sin + Cos with params: [ 6.56325134  0.16554511 -0.2417706  -0.85853394]\n",
      "Fitted Linear + Exp with params: [ 1.18183667 -0.22576957  0.32168461]\n",
      "Fitted Poly2 + Sin with params: [-0.06202368  1.27720974 -0.12958394  1.09201502]\n"
     ]
    }
   ],
   "source": [
    "results = []\n",
    "for name, func in candidates.items():\n",
    "    try:\n",
    "        popt, _ = curve_fit(func, x, y, maxfev=10000)\n",
    "        print(f\"Fitted {name} with params: {popt}\")\n",
    "        y_pred = func(x, *popt)\n",
    "        r2 = r2_score(y, y_pred)\n",
    "        mse = mean_squared_error(y, y_pred)\n",
    "        results.append((name, r2, mse, popt))\n",
    "    except Exception as e:\n",
    "        results.append((name, -np.inf, np.inf, None))\n",
    "\n",
    "results.sort(key=lambda t: t[1], reverse=True)"
   ]
  },
  {
   "cell_type": "code",
   "execution_count": 5,
   "id": "47fd67b0",
   "metadata": {},
   "outputs": [
    {
     "name": "stdout",
     "output_type": "stream",
     "text": [
      "Найкраща модель: Log + Linear\n",
      "Log + Linear | R²=0.967, MSE=0.097, params=[ 2.78846686e+00 -4.68842513e-04  3.72624894e-01]\n",
      "Logarithmic | R²=0.967, MSE=0.097, params=[2.78650255 0.37309096]\n",
      "Quartic    | R²=0.967, MSE=0.097, params=[-1.39341631e-03  3.94581685e-02 -4.44800104e-01  2.74165412e+00\n",
      " -1.77004822e+00]\n",
      "Cubic      | R²=0.966, MSE=0.099, params=[ 0.00880301 -0.2170343   2.0908678  -1.20256339]\n",
      "Sin + Cos  | R²=0.964, MSE=0.106, params=[ 6.56325134  0.16554511 -0.2417706  -0.85853394]\n",
      "Poly2 + Sin | R²=0.962, MSE=0.114, params=[-0.06202368  1.27720974 -0.12958394  1.09201502]\n",
      "Quadratic  | R²=0.961, MSE=0.116, params=[-0.0717847   1.40325771 -0.34990812]\n",
      "Exponential + Linear | R²=0.940, MSE=0.178, params=[-0.22576957  0.32168461  1.18183667]\n",
      "Linear + Exp | R²=0.940, MSE=0.178, params=[ 1.18183667 -0.22576957  0.32168461]\n",
      "Sin + Linear | R²=0.938, MSE=0.184, params=[-0.50581155  0.8620169   0.61482794  1.40384123]\n",
      "Linear     | R²=0.892, MSE=0.319, params=[0.61362596 1.317255  ]\n",
      "Exponential | R²=0.808, MSE=0.569, params=[2.34989581 0.11798873]\n",
      "Sinusoidal | R²=0.128, MSE=2.586, params=[-0.84541412  1.21323179  4.65445268]\n",
      "Cosinusoidal | R²=0.109, MSE=2.642, params=[ 0.83841502 -0.78441887  4.65207728]\n"
     ]
    },
    {
     "data": {
      "image/png": "[encoded data removed]",
      "text/plain": [
       "<Figure size 640x480 with 1 Axes>"
      ]
     },
     "metadata": {},
     "output_type": "display_data"
    }
   ],
   "source": [
    "print(\"Найкраща модель:\", results[0][0])\n",
    "for name, r2, mse, params in results:\n",
    "    print(f\"{name:10s} | R²={r2:.3f}, MSE={mse:.3f}, params={params}\")\n",
    "\n",
    "# --- графік ---\n",
    "best_name, _, _, best_params = results[0]\n",
    "best_func = candidates[best_name]\n",
    "plt.scatter(x, y, label=\"Дані\")\n",
    "plt.plot(x, best_func(x, *best_params), color=\"red\", label=f\"Найкраща модель: {best_name}\")\n",
    "plt.legend()\n",
    "plt.show()"
   ]
  },
  {
   "cell_type": "code",
   "execution_count": 7,
   "id": "beee11a0",
   "metadata": {},
   "outputs": [
    {
     "data": {
      "text/plain": [
       "array([0.37215605, 2.30450515, 3.43466232, 4.2363854 , 4.85814496])"
      ]
     },
     "execution_count": 7,
     "metadata": {},
     "output_type": "execute_result"
    }
   ],
   "source": [
    "x_new = np.array([1, 2, 3, 4, 5])\n",
    "y_pred = best_func(x_new, *best_params) \n",
    "y_pred"
   ]
  }
 ],
 "metadata": {
  "kernelspec": {
   "display_name": "my_env",
   "language": "python",
   "name": "python3"
  },
  "language_info": {
   "codemirror_mode": {
    "name": "ipython",
    "version": 3
   },
   "file_extension": ".py",
   "mimetype": "text/x-python",
   "name": "python",
   "nbconvert_exporter": "python",
   "pygments_lexer": "ipython3",
   "version": "3.10.16"
  }
 },
 "nbformat": 4,
 "nbformat_minor": 5
}
