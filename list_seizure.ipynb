{
 "cells": [
  {
   "cell_type": "code",
   "execution_count": 4,
   "id": "bd37ccbf",
   "metadata": {},
   "outputs": [],
   "source": [
    "def resize_list(lst, new_size=20, agg=lambda x: sum(x)/len(x)):\n",
    "    n, k = len(lst), new_size\n",
    "    if n == 0: return [0]*k\n",
    "    if n <= k:\n",
    "        return lst + [0]*(k - n)\n",
    "\n",
    "    base, rem = divmod(n, k)\n",
    "    out, i = [], 0\n",
    "    for b in range(k):\n",
    "        size = base + (1 if b < rem else 0)  \n",
    "        chunk = lst[i:i+size]\n",
    "        out.append(agg(chunk))               \n",
    "        i += size\n",
    "    return out"
   ]
  },
  {
   "cell_type": "code",
   "execution_count": null,
   "id": "99cfde1e",
   "metadata": {},
   "outputs": [
    {
     "name": "stdout",
     "output_type": "stream",
     "text": [
      "[1, 2, 3, 4, 5, 6, 7, 8, 9, 10, 11, 12, 13, 14, 15, 16, 17, 18, 19, 20, 21, 22, 23, 24, 25, 26, 27, 28, 29, 30] 30\n",
      "[2.0, 5.0, 8.0, 11.0, 14.0, 17.0, 20.0, 23.0, 26.0, 29.0] 10\n"
     ]
    }
   ],
   "source": [
    "data = [i for i in range(1, 31)]\n",
    "print(data, len(data))\n",
    "\n",
    "result = resize_list(data, 10)\n",
    "print(result, len(result))"
   ]
  }
 ],
 "metadata": {
  "kernelspec": {
   "display_name": "my_env",
   "language": "python",
   "name": "python3"
  },
  "language_info": {
   "codemirror_mode": {
    "name": "ipython",
    "version": 3
   },
   "file_extension": ".py",
   "mimetype": "text/x-python",
   "name": "python",
   "nbconvert_exporter": "python",
   "pygments_lexer": "ipython3",
   "version": "3.10.16"
  }
 },
 "nbformat": 4,
 "nbformat_minor": 5
}
