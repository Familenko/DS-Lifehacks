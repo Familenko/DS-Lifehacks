{
  "cells": [
    {
      "cell_type": "code",
      "execution_count": 1,
      "metadata": {},
      "outputs": [
        {
          "name": "stderr",
          "output_type": "stream",
          "text": [
            "/Users/aleksejkitajskij/Desktop/DS-Lifehacks/pytorch/train_models.py:6: TqdmExperimentalWarning: Using `tqdm.autonotebook.tqdm` in notebook mode. Use `tqdm.tqdm` instead to force console mode (e.g. in jupyter console)\n",
            "  from tqdm.autonotebook import tqdm\n"
          ]
        }
      ],
      "source": [
        "from create_dataset import CreateDataset\n",
        "from callbacks import LRSchedulerCallback\n",
        "from train_models import ClassifierTrainer"
      ]
    },
    {
      "cell_type": "markdown",
      "metadata": {},
      "source": [
        "## multyclass classification"
      ]
    },
    {
      "cell_type": "code",
      "execution_count": 2,
      "metadata": {},
      "outputs": [],
      "source": [
        "import pandas as pd\n",
        "import numpy as np\n",
        "\n",
        "from sklearn.impute import SimpleImputer\n",
        "from sklearn.preprocessing import TargetEncoder, StandardScaler, LabelEncoder\n",
        "from sklearn.metrics import root_mean_squared_error as RMSE\n",
        "from sklearn.metrics import accuracy_score\n",
        "from sklearn.model_selection import train_test_split\n",
        "\n",
        "import torch\n",
        "from torch import nn\n",
        "from torch.utils.data import Dataset, DataLoader\n",
        "\n",
        "import matplotlib.pyplot as plt\n",
        "import seaborn as sns\n",
        "\n",
        "import warnings\n",
        "warnings.filterwarnings('ignore')"
      ]
    },
    {
      "cell_type": "code",
      "execution_count": 3,
      "metadata": {},
      "outputs": [],
      "source": [
        "df = pd.read_csv('data/Module_2_Lecture_2_Class_penguins.csv')\n",
        "df = df.dropna().reset_index(drop=True)\n",
        "features = ['species', 'bill_length_mm', 'bill_depth_mm', 'flipper_length_mm', 'body_mass_g']\n",
        "df = df.loc[:, features]\n",
        "df.loc[df['species']=='Adelie', 'species']=0\n",
        "df.loc[df['species']=='Gentoo', 'species']=1\n",
        "df.loc[df['species']=='Chinstrap', 'species']=2\n",
        "df = df.apply(pd.to_numeric)"
      ]
    },
    {
      "cell_type": "code",
      "execution_count": 4,
      "metadata": {},
      "outputs": [],
      "source": [
        "X = df.drop('species', axis =1).values\n",
        "y = df['species'].values\n",
        "\n",
        "scaler = StandardScaler()\n",
        "X = scaler.fit_transform(X)\n",
        "\n",
        "X_train, X_test, y_train, y_test = train_test_split(X, y, random_state = 42, test_size =0.33, stratify=y)\n",
        "\n",
        "X_train = torch.Tensor(X_train).float()\n",
        "y_train = torch.Tensor(y_train).long()\n",
        "X_test = torch.Tensor(X_test).float()\n",
        "y_test = torch.Tensor(y_test).long()"
      ]
    },
    {
      "cell_type": "code",
      "execution_count": 5,
      "metadata": {},
      "outputs": [],
      "source": [
        "train_dataset = CreateDataset(X_train, y_train, scaler='StandardScaler')\n",
        "test_dataset = CreateDataset(X_test, y_test)\n",
        "\n",
        "train_dataloader = DataLoader(train_dataset,\n",
        "                              batch_size=20,\n",
        "                              num_workers=0\n",
        "                             )\n",
        "\n",
        "test_dataloader = DataLoader(test_dataset,\n",
        "                              batch_size=20,\n",
        "                              num_workers=0\n",
        "                             )"
      ]
    },
    {
      "cell_type": "code",
      "execution_count": 6,
      "metadata": {},
      "outputs": [
        {
          "data": {
            "text/plain": [
              "3"
            ]
          },
          "execution_count": 6,
          "metadata": {},
          "output_type": "execute_result"
        }
      ],
      "source": [
        "num_classes = len(np.unique(y_train))\n",
        "num_classes"
      ]
    },
    {
      "cell_type": "code",
      "execution_count": 7,
      "metadata": {},
      "outputs": [],
      "source": [
        "class Net(torch.nn.Module):\n",
        "    def __init__(self, in_dim, hidden_dim=20, out_dim=3):\n",
        "        super().__init__()\n",
        "        \n",
        "        self.features = torch.nn.Sequential(\n",
        "            \n",
        "            nn.Linear(in_dim, hidden_dim),\n",
        "            torch.nn.ReLU(),\n",
        "            \n",
        "            nn.Linear(hidden_dim, out_dim),\n",
        "            nn.Softmax()\n",
        "        )    \n",
        "        \n",
        "    def forward(self, x):\n",
        "        output = self.features(x)\n",
        "        return output"
      ]
    },
    {
      "cell_type": "code",
      "execution_count": 8,
      "metadata": {},
      "outputs": [],
      "source": [
        "model = Net(X_train.shape[1], 20, num_classes)\n",
        "optimizer = torch.optim.SGD(model.parameters(), lr=0.01)\n",
        "criterion = nn.CrossEntropyLoss()"
      ]
    },
    {
      "cell_type": "code",
      "execution_count": 9,
      "metadata": {},
      "outputs": [],
      "source": [
        "scheduler_callback = LRSchedulerCallback(optimizer, \n",
        "                                         lr_min=1e-8, \n",
        "                                         lr_max=1e-1, \n",
        "                                         epochs_total=300, \n",
        "                                         growth_rate=0.1)"
      ]
    },
    {
      "cell_type": "code",
      "execution_count": 10,
      "metadata": {},
      "outputs": [],
      "source": [
        "callbacks = [scheduler_callback]"
      ]
    },
    {
      "cell_type": "code",
      "execution_count": 11,
      "metadata": {},
      "outputs": [
        {
          "data": {
            "application/vnd.jupyter.widget-view+json": {
              "model_id": "758b05cf786046fab17e03af70f187de",
              "version_major": 2,
              "version_minor": 0
            },
            "text/plain": [
              "  0%|          | 0/500 [00:00<?, ?it/s]"
            ]
          },
          "metadata": {},
          "output_type": "display_data"
        },
        {
          "name": "stdout",
          "output_type": "stream",
          "text": [
            "Epoch [20/500] Train Loss: 1.1250 Acc: 0.3231 Rec: 0.3231 Prec: 0.2004\n",
            "Epoch [40/500] Train Loss: 1.0635 Acc: 0.3333 Rec: 0.3333 Prec: 0.1825\n",
            "Epoch [60/500] Train Loss: 0.9302 Acc: 0.6250 Rec: 0.6250 Prec: 0.5374\n",
            "Epoch [80/500] Train Loss: 0.7879 Acc: 0.6633 Rec: 0.6633 Prec: 0.5333\n",
            "Epoch [100/500] Train Loss: 0.7316 Acc: 0.6633 Rec: 0.6633 Prec: 0.5333\n",
            "Epoch [120/500] Train Loss: 0.6935 Acc: 0.8114 Rec: 0.8114 Prec: 0.9198\n",
            "Epoch [140/500] Train Loss: 0.6405 Acc: 0.9447 Rec: 0.9447 Prec: 0.9690\n",
            "Epoch [160/500] Train Loss: 0.6024 Acc: 0.9710 Rec: 0.9710 Prec: 0.9747\n",
            "Epoch [180/500] Train Loss: 0.5860 Acc: 0.9784 Rec: 0.9784 Prec: 0.9784\n",
            "Epoch [200/500] Train Loss: 0.5780 Acc: 0.9784 Rec: 0.9784 Prec: 0.9784\n",
            "Epoch [220/500] Train Loss: 0.5733 Acc: 0.9784 Rec: 0.9784 Prec: 0.9784\n",
            "Epoch [240/500] Train Loss: 0.5703 Acc: 0.9784 Rec: 0.9784 Prec: 0.9784\n",
            "Epoch [260/500] Train Loss: 0.5681 Acc: 0.9818 Rec: 0.9818 Prec: 0.9857\n",
            "Epoch [280/500] Train Loss: 0.5663 Acc: 0.9818 Rec: 0.9818 Prec: 0.9857\n",
            "Epoch [300/500] Train Loss: 0.5648 Acc: 0.9818 Rec: 0.9818 Prec: 0.9857\n",
            "Epoch [320/500] Train Loss: 0.5635 Acc: 0.9852 Rec: 0.9852 Prec: 0.9933\n",
            "Epoch [340/500] Train Loss: 0.5625 Acc: 0.9926 Rec: 0.9926 Prec: 0.9966\n",
            "Epoch [360/500] Train Loss: 0.5616 Acc: 0.9926 Rec: 0.9926 Prec: 0.9966\n",
            "Epoch [380/500] Train Loss: 0.5608 Acc: 0.9926 Rec: 0.9926 Prec: 0.9966\n",
            "Epoch [400/500] Train Loss: 0.5601 Acc: 0.9926 Rec: 0.9926 Prec: 0.9966\n",
            "Epoch [420/500] Train Loss: 0.5594 Acc: 1.0000 Rec: 1.0000 Prec: 1.0000\n",
            "Epoch [440/500] Train Loss: 0.5588 Acc: 1.0000 Rec: 1.0000 Prec: 1.0000\n",
            "Epoch [460/500] Train Loss: 0.5582 Acc: 1.0000 Rec: 1.0000 Prec: 1.0000\n",
            "Epoch [480/500] Train Loss: 0.5577 Acc: 1.0000 Rec: 1.0000 Prec: 1.0000\n",
            "Epoch [500/500] Train Loss: 0.5572 Acc: 1.0000 Rec: 1.0000 Prec: 1.0000\n"
          ]
        }
      ],
      "source": [
        "trainer = ClassifierTrainer(model=model,\n",
        "                            criterion=criterion,\n",
        "                            optimizer=optimizer,\n",
        "                            num_classes=num_classes,\n",
        "                            device='cpu',\n",
        "                            callbacks=callbacks)\n",
        "\n",
        "trainer.fit(train_dataloader,\n",
        "            test_dataloader,\n",
        "            num_epoch=500,\n",
        "            info_every_iter=20,\n",
        "            show_val_metrics=False)"
      ]
    },
    {
      "cell_type": "code",
      "execution_count": 12,
      "metadata": {},
      "outputs": [],
      "source": [
        "model = trainer.model\n",
        "metrics = trainer.metrics"
      ]
    },
    {
      "cell_type": "markdown",
      "metadata": {},
      "source": [
        "за допомогою побудованого графіку можна проаналізувати яка швидкість навчання є оптимальною. у випадку якщо лінія демонструє певну турбулентність, різкі скачки вниз і вгору це означає що даний діапазон швидкості навчання нестабільний і необхідно взяти значення до цього періоду"
      ]
    },
    {
      "cell_type": "code",
      "execution_count": 13,
      "metadata": {},
      "outputs": [
        {
          "data": {
            "image/png": "[encoded data removed]",
            "text/plain": [
              "<Figure size 1000x600 with 1 Axes>"
            ]
          },
          "metadata": {},
          "output_type": "display_data"
        }
      ],
      "source": [
        "scheduler_callback.plot_lr(x1=1e-4, y1=0.5)"
      ]
    }
  ],
  "metadata": {
    "colab": {
      "provenance": []
    },
    "kernelspec": {
      "display_name": "goit",
      "language": "python",
      "name": "python3"
    },
    "language_info": {
      "codemirror_mode": {
        "name": "ipython",
        "version": 3
      },
      "file_extension": ".py",
      "mimetype": "text/x-python",
      "name": "python",
      "nbconvert_exporter": "python",
      "pygments_lexer": "ipython3",
      "version": "3.10.16"
    }
  },
  "nbformat": 4,
  "nbformat_minor": 0
}
