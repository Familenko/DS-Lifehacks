{
 "cells": [
  {
   "cell_type": "code",
   "execution_count": 1,
   "id": "e676858e",
   "metadata": {},
   "outputs": [],
   "source": [
    "import os\n",
    "import gc\n",
    "import math\n",
    "import random\n",
    "from collections import defaultdict\n",
    "\n",
    "import pandas as pd\n",
    "import numpy as np\n",
    "\n",
    "import matplotlib.pyplot as plt\n",
    "\n",
    "import torch\n",
    "from torch.utils.data import Dataset, DataLoader\n",
    "import torch.nn as nn\n",
    "from torch.nn.utils.rnn import pack_padded_sequence, pad_packed_sequence\n",
    "\n",
    "from torch.optim import Adam\n",
    "from tqdm import tqdm_notebook as tqdm\n",
    "\n",
    "from sklearn.metrics import classification_report, f1_score\n",
    "\n",
    "import warnings\n",
    "warnings.filterwarnings('ignore')\n",
    "\n",
    "from train_models import ClassifierTrainer"
   ]
  },
  {
   "cell_type": "code",
   "execution_count": 2,
   "id": "414003ae",
   "metadata": {},
   "outputs": [],
   "source": [
    "data_path = 'data/Module_6_Lecture_1_CoNLL2003/'"
   ]
  },
  {
   "cell_type": "code",
   "execution_count": 3,
   "id": "05b7692f",
   "metadata": {},
   "outputs": [],
   "source": [
    "def load_sentences(filepath):\n",
    "    final = []\n",
    "    sentences = []\n",
    "    with open(filepath, 'r') as f:\n",
    "        for line in f.readlines():\n",
    "            if (line == ('-DOCSTART- -X- -X- O\\n') or line == '\\n'):\n",
    "                if len(sentences) > 0:\n",
    "                    final.append(sentences)\n",
    "                    sentences = []\n",
    "            else:\n",
    "                l = line.split(' ')\n",
    "                sentences.append((l[0], l[3].strip('\\n')))\n",
    "    return final"
   ]
  },
  {
   "cell_type": "code",
   "execution_count": 4,
   "id": "9c997bcc",
   "metadata": {},
   "outputs": [],
   "source": [
    "train_sents = load_sentences(data_path + 'train.txt')\n",
    "test_sents = load_sentences(data_path + 'test.txt')\n",
    "val_sents = load_sentences(data_path + 'valid.txt')"
   ]
  },
  {
   "cell_type": "code",
   "execution_count": 5,
   "id": "c661c043",
   "metadata": {},
   "outputs": [
    {
     "data": {
      "text/plain": [
       "[[('EU', 'B-ORG'),\n",
       "  ('rejects', 'O'),\n",
       "  ('German', 'B-MISC'),\n",
       "  ('call', 'O'),\n",
       "  ('to', 'O'),\n",
       "  ('boycott', 'O'),\n",
       "  ('British', 'B-MISC'),\n",
       "  ('lamb', 'O'),\n",
       "  ('.', 'O')],\n",
       " [('Peter', 'B-PER'), ('Blackburn', 'I-PER')],\n",
       " [('BRUSSELS', 'B-LOC'), ('1996-08-22', 'O')]]"
      ]
     },
     "execution_count": 5,
     "metadata": {},
     "output_type": "execute_result"
    }
   ],
   "source": [
    "train_sents[:3]"
   ]
  },
  {
   "cell_type": "code",
   "execution_count": 6,
   "id": "90f2a186",
   "metadata": {},
   "outputs": [],
   "source": [
    "ner_labels = ['O', 'B-PER', 'I-PER', 'B-ORG', 'I-ORG', 'B-LOC', 'I-LOC', 'B-MISC', 'I-MISC']\n",
    "id2label = {str(i): label for i, label in enumerate(ner_labels)}\n",
    "label2id = {value: int(key) for key, value in id2label.items()}"
   ]
  },
  {
   "cell_type": "code",
   "execution_count": 7,
   "id": "5e7e6493",
   "metadata": {},
   "outputs": [],
   "source": [
    "def get_df(samples):\n",
    "    df,label = [], []\n",
    "    for lines in samples:\n",
    "        cur_line, cur_label = list(zip(*lines))\n",
    "        df.append(list(cur_line))\n",
    "        label.append([label2id[i] for i in cur_label])\n",
    "    return {'text':df, 'label':label}"
   ]
  },
  {
   "cell_type": "code",
   "execution_count": 8,
   "id": "ffba8594",
   "metadata": {},
   "outputs": [],
   "source": [
    "train_df = get_df(train_sents)\n",
    "test_df = get_df(test_sents)\n",
    "val_df = get_df(val_sents)"
   ]
  },
  {
   "cell_type": "code",
   "execution_count": 9,
   "id": "8230216a",
   "metadata": {},
   "outputs": [],
   "source": [
    "word_dict = defaultdict(int)\n",
    "\n",
    "for line in train_df['text']:\n",
    "    for word in line:\n",
    "        word_dict[word] += 1\n",
    "\n",
    "lower_freq_word = []\n",
    "for k,v in word_dict.items():\n",
    "    if v < 2:\n",
    "        lower_freq_word.append(k)\n",
    "\n",
    "for word in lower_freq_word:\n",
    "    del word_dict[word]\n",
    "    \n",
    "word_dict['<UNK>'] = -1\n",
    "word_dict['<PAD>'] = -2\n",
    "\n",
    "word2id = {}\n",
    "\n",
    "for idx, word in enumerate(word_dict.keys()):\n",
    "    word2id[word] = idx"
   ]
  },
  {
   "cell_type": "code",
   "execution_count": 10,
   "id": "d02f2dc8",
   "metadata": {},
   "outputs": [],
   "source": [
    "def prepare_sequence(seq, to_ix):\n",
    "    idxs = []\n",
    "    for w in seq:\n",
    "        if w in to_ix.keys():\n",
    "            idxs.append(to_ix[w])\n",
    "        else:\n",
    "            idxs.append(to_ix['<UNK>'])\n",
    "\n",
    "    return idxs"
   ]
  },
  {
   "cell_type": "code",
   "execution_count": 11,
   "id": "8b6190dd",
   "metadata": {},
   "outputs": [
    {
     "name": "stdout",
     "output_type": "stream",
     "text": [
      "Prepared data: [613, 16, 43, 664, 605, 73, 665, 67, 666, 630, 67, 377, 18, 53, 667, 3, 620, 80, 637, 3, 668, 632, 669, 670, 7]\n",
      "Label: [5, 0, 0, 0, 5, 0, 0, 0, 0, 5, 0, 0, 0, 0, 0, 0, 0, 0, 0, 0, 0, 0, 0, 0, 0]\n",
      "Raw data: ['Israel', 'on', 'Wednesday', 'sent', 'Syria', 'a', 'message', ',', 'via', 'Washington', ',', 'saying', 'it', 'was', 'committed', 'to', 'peace', 'and', 'wanted', 'to', 'open', 'negotiations', 'without', 'preconditions', '.']\n",
      "Too raw data: [('Israel', 'B-LOC'), ('on', 'O'), ('Wednesday', 'O'), ('sent', 'O'), ('Syria', 'B-LOC'), ('a', 'O'), ('message', 'O'), (',', 'O'), ('via', 'O'), ('Washington', 'B-LOC'), (',', 'O'), ('saying', 'O'), ('it', 'O'), ('was', 'O'), ('committed', 'O'), ('to', 'O'), ('peace', 'O'), ('and', 'O'), ('wanted', 'O'), ('to', 'O'), ('open', 'O'), ('negotiations', 'O'), ('without', 'O'), ('preconditions', 'O'), ('.', 'O')]\n"
     ]
    }
   ],
   "source": [
    "to_check = 102\n",
    "\n",
    "prepared_data = prepare_sequence(train_df['text'][to_check], word2id)\n",
    "label = train_df['label'][to_check]\n",
    "raw_data = train_df['text'][to_check]\n",
    "too_raw_data = train_sents[to_check]\n",
    "\n",
    "print(f'Prepared data: {prepared_data}')\n",
    "print(f'Label: {label}')\n",
    "print(f'Raw data: {raw_data}')\n",
    "print(f'Too raw data: {too_raw_data}')"
   ]
  },
  {
   "cell_type": "code",
   "execution_count": 12,
   "id": "efd1d0de",
   "metadata": {
    "code_folding": []
   },
   "outputs": [],
   "source": [
    "class CoNLLDataset(Dataset):\n",
    "    def __init__(self, df):\n",
    "        self.texts = df['text']\n",
    "        self.labels = df['label']\n",
    "\n",
    "    def __len__(self):\n",
    "        return len(self.texts)\n",
    "\n",
    "    def __getitem__(self, item):\n",
    "        inputs = prepare_sequence(self.texts[item], word2id)\n",
    "        label = self.labels[item]\n",
    "        return {\n",
    "            'input_ids': inputs,\n",
    "            'labels': label\n",
    "        }\n",
    "\n",
    "class Collate:\n",
    "    def __init__(self, train):\n",
    "        self.train = train\n",
    "\n",
    "    def __call__(self, batch):\n",
    "        output = dict()\n",
    "        output[\"input_ids\"] = [sample[\"input_ids\"] for sample in batch]\n",
    "        if self.train:\n",
    "            output[\"labels\"] = [sample[\"labels\"] for sample in batch]\n",
    "\n",
    "        batch_max = max([len(ids) for ids in output[\"input_ids\"]])\n",
    "\n",
    "        output[\"input_ids\"] = [s + (batch_max - len(s)) * [word2id['<PAD>']] for s in output[\"input_ids\"]]\n",
    "        if self.train:\n",
    "            output['labels'] = [s + (batch_max - len(s)) * [-100] for s in output[\"labels\"]]\n",
    "\n",
    "        output[\"input_ids\"] = torch.tensor(output[\"input_ids\"], dtype=torch.long)\n",
    "        if self.train:\n",
    "            output[\"labels\"] = torch.tensor(output[\"labels\"], dtype=torch.long)\n",
    "\n",
    "        return output"
   ]
  },
  {
   "cell_type": "code",
   "execution_count": 13,
   "id": "8ec9835c",
   "metadata": {
    "code_folding": []
   },
   "outputs": [],
   "source": [
    "class BiLSTMTagger(nn.Module):\n",
    "\n",
    "    def __init__(self, embedding_dim, hidden_dim, vocab_size, output_size, embeddings=None):\n",
    "        super(BiLSTMTagger, self).__init__()\n",
    "        \n",
    "        # 1. Embedding Layer\n",
    "        if embeddings is None:\n",
    "            self.embeddings = nn.Embedding(vocab_size, embedding_dim)\n",
    "        else:\n",
    "            self.embeddings = nn.Embedding.from_pretrained(embeddings)#, freeze=True)\n",
    "        \n",
    "        # 2. LSTM Layer\n",
    "        self.lstm = nn.LSTM(embedding_dim, hidden_dim, bidirectional=True, num_layers=3, batch_first=True)\n",
    "\n",
    "        # 3. Dense Layer\n",
    "        self.fc = nn.Linear(2*hidden_dim, output_size)\n",
    "        \n",
    "    def forward(self, batch_text):\n",
    "\n",
    "        embeddings = self.embeddings(batch_text)\n",
    "        \n",
    "        lstm_output, _ = self.lstm(embeddings) \n",
    "\n",
    "        logits = self.fc(lstm_output)\n",
    "        return logits"
   ]
  },
  {
   "cell_type": "code",
   "execution_count": 14,
   "id": "6c81bae9",
   "metadata": {},
   "outputs": [],
   "source": [
    "EMBEDDING_DIM = 100\n",
    "HIDDEN_DIM = 64\n",
    "NUM_CLASSES = len(id2label)\n",
    "MAX_EPOCHS = 50\n",
    "PATIENCE = 3\n",
    "BATCH_SIZE = 32\n",
    "VOCAB_SIZE = len(word2id)"
   ]
  },
  {
   "cell_type": "code",
   "execution_count": 15,
   "id": "eb5a959a",
   "metadata": {},
   "outputs": [],
   "source": [
    "train_dataset = CoNLLDataset(train_df)\n",
    "val_dataset = CoNLLDataset(val_df)\n",
    "test_dataset = CoNLLDataset(test_df)"
   ]
  },
  {
   "cell_type": "code",
   "execution_count": 16,
   "id": "40f49cfd",
   "metadata": {},
   "outputs": [],
   "source": [
    "collate_fn = Collate(True)  "
   ]
  },
  {
   "cell_type": "code",
   "execution_count": 17,
   "id": "5bb47000",
   "metadata": {
    "code_folding": []
   },
   "outputs": [],
   "source": [
    "train_loader = DataLoader(train_dataset,\n",
    "                              batch_size=BATCH_SIZE,\n",
    "                              shuffle=False,\n",
    "                              collate_fn=collate_fn,\n",
    "                              num_workers=0,\n",
    "                              pin_memory=True,\n",
    "                              drop_last=False)\n",
    "\n",
    "val_loader = DataLoader(val_dataset,\n",
    "                              batch_size=BATCH_SIZE,\n",
    "                              shuffle=False,\n",
    "                              collate_fn=collate_fn,\n",
    "                              num_workers=0,\n",
    "                              pin_memory=True,\n",
    "                              drop_last=False)\n",
    "\n",
    "test_loader = DataLoader(test_dataset,\n",
    "                              batch_size=BATCH_SIZE,\n",
    "                              shuffle=False,\n",
    "                              collate_fn=collate_fn,\n",
    "                              num_workers=0,\n",
    "                              pin_memory=True,\n",
    "                              drop_last=False)"
   ]
  },
  {
   "cell_type": "code",
   "execution_count": null,
   "id": "791fc360",
   "metadata": {},
   "outputs": [],
   "source": [
    "class BiLSTMNERTagger(nn.Module):\n",
    "    def __init__(self, embedding_dim, hidden_dim, vocab_size, output_size, embeddings=None):\n",
    "        super().__init__()\n",
    "        self.embedding = nn.Embedding(vocab_size, embedding_dim) if embeddings is None \\\n",
    "                         else nn.Embedding.from_pretrained(embeddings)\n",
    "        self.lstm = nn.LSTM(embedding_dim, hidden_dim, bidirectional=True, num_layers=3, batch_first=True)\n",
    "        self.classifier = nn.Linear(2 * hidden_dim, output_size)\n",
    "\n",
    "    def forward(self, input_ids, attention_mask=None):\n",
    "        if input_ids.dtype != torch.long:\n",
    "            input_ids = input_ids.long()\n",
    "        x = self.embedding(input_ids)\n",
    "        x, _ = self.lstm(x)\n",
    "        return self.classifier(x)\n",
    "\n",
    "    \n",
    "model = BiLSTMNERTagger(\n",
    "    embedding_dim=100,\n",
    "    hidden_dim=64,\n",
    "    vocab_size=VOCAB_SIZE,\n",
    "    output_size=NUM_CLASSES,\n",
    ")"
   ]
  },
  {
   "cell_type": "code",
   "execution_count": 19,
   "id": "6f39e8ed",
   "metadata": {},
   "outputs": [],
   "source": [
    "parameters = list(model.parameters())\n",
    "criterion = nn.CrossEntropyLoss(ignore_index=-100)\n",
    "optimizer = Adam(parameters)"
   ]
  },
  {
   "cell_type": "code",
   "execution_count": null,
   "id": "b4847637",
   "metadata": {},
   "outputs": [],
   "source": [
    "trainer = ClassifierTrainer(model=model,\n",
    "                            criterion=criterion,\n",
    "                            optimizer=optimizer,\n",
    "                            num_classes=NUM_CLASSES,\n",
    "                            device='cpu')"
   ]
  },
  {
   "cell_type": "code",
   "execution_count": 21,
   "id": "492f862c",
   "metadata": {},
   "outputs": [
    {
     "data": {
      "application/vnd.jupyter.widget-view+json": {
       "model_id": "eac9e414ebf44121a17809b23572ceba",
       "version_major": 2,
       "version_minor": 0
      },
      "text/plain": [
       "  0%|          | 0/10 [00:00<?, ?it/s]"
      ]
     },
     "metadata": {},
     "output_type": "display_data"
    },
    {
     "name": "stdout",
     "output_type": "stream",
     "text": [
      "Epoch [1/10] Train Loss: 0.7824 Acc: 0.1204 Rec: 0.1204 Prec: 0.2695\n",
      "Epoch [2/10] Train Loss: 0.3808 Acc: 0.4107 Rec: 0.4107 Prec: 0.5802\n",
      "Epoch [3/10] Train Loss: 0.2084 Acc: 0.6465 Rec: 0.6465 Prec: 0.7329\n",
      "Epoch [4/10] Train Loss: 0.1277 Acc: 0.7792 Rec: 0.7792 Prec: 0.8324\n",
      "Epoch [5/10] Train Loss: 0.0824 Acc: 0.8587 Rec: 0.8587 Prec: 0.8945\n",
      "Epoch [6/10] Train Loss: 0.0562 Acc: 0.9084 Rec: 0.9084 Prec: 0.9333\n",
      "Epoch [7/10] Train Loss: 0.0402 Acc: 0.9358 Rec: 0.9358 Prec: 0.9522\n",
      "Epoch [8/10] Train Loss: 0.0291 Acc: 0.9553 Rec: 0.9553 Prec: 0.9674\n",
      "Epoch [9/10] Train Loss: 0.0253 Acc: 0.9651 Rec: 0.9651 Prec: 0.9731\n",
      "Epoch [10/10] Train Loss: 0.0185 Acc: 0.9735 Rec: 0.9735 Prec: 0.9803\n"
     ]
    }
   ],
   "source": [
    "trainer.fit(train_loader,\n",
    "            val_loader,\n",
    "            num_epoch=10,\n",
    "            info_every_iter=1,\n",
    "            show_val_metrics=False)"
   ]
  },
  {
   "cell_type": "code",
   "execution_count": 22,
   "id": "e9a59eaa",
   "metadata": {},
   "outputs": [],
   "source": [
    "def remove_predictions_for_masked_items(predicted_labels, correct_labels): \n",
    "\n",
    "    predicted_labels_without_mask = []\n",
    "    correct_labels_without_mask = []\n",
    "        \n",
    "    for p, c in zip(predicted_labels, correct_labels):\n",
    "        if c > 0:\n",
    "            predicted_labels_without_mask.append(p)\n",
    "            correct_labels_without_mask.append(c)\n",
    "            \n",
    "    return predicted_labels_without_mask, correct_labels_without_mask\n",
    "\n",
    "def test(model, data, labels, target_names): \n",
    "    predictions, correct = [], []\n",
    "    \n",
    "    model.eval()\n",
    "    with torch.no_grad():    \n",
    "        for batch in data:\n",
    "            cur_batch_size, text_length = batch['input_ids'].shape\n",
    "\n",
    "            pred = model(batch['input_ids'].to('cpu')).view(cur_batch_size*text_length, NUM_CLASSES)\n",
    "\n",
    "            _, pred_indices = torch.max(pred, 1)\n",
    "            predicted_labels = list(pred_indices.cpu().numpy())\n",
    "            correct_labels = list(batch['labels'].view(cur_batch_size*text_length).numpy())\n",
    "\n",
    "            predicted_labels, correct_labels = remove_predictions_for_masked_items(predicted_labels, correct_labels)\n",
    "\n",
    "            predictions += predicted_labels\n",
    "            correct += correct_labels\n",
    "    \n",
    "    print(classification_report(correct, predictions, labels=labels, target_names=target_names))"
   ]
  },
  {
   "cell_type": "code",
   "execution_count": 23,
   "id": "68a11561",
   "metadata": {},
   "outputs": [
    {
     "name": "stdout",
     "output_type": "stream",
     "text": [
      "              precision    recall  f1-score   support\n",
      "\n",
      "       B-PER       0.86      0.67      0.76      1617\n",
      "       I-PER       0.89      0.78      0.83      1156\n",
      "       B-ORG       0.83      0.63      0.71      1661\n",
      "       I-ORG       0.82      0.72      0.77       835\n",
      "       B-LOC       0.90      0.76      0.82      1668\n",
      "       I-LOC       0.78      0.63      0.70       257\n",
      "      B-MISC       0.79      0.65      0.72       702\n",
      "      I-MISC       0.75      0.60      0.67       216\n",
      "\n",
      "   micro avg       0.85      0.70      0.77      8112\n",
      "   macro avg       0.83      0.68      0.75      8112\n",
      "weighted avg       0.85      0.70      0.77      8112\n",
      "\n"
     ]
    }
   ],
   "source": [
    "labels = list(label2id.keys())[1:]\n",
    "label_idxs = list(label2id.values())[1:]\n",
    "\n",
    "test(model, test_loader, labels = label_idxs, target_names = labels)"
   ]
  },
  {
   "cell_type": "code",
   "execution_count": 24,
   "id": "9473b284",
   "metadata": {},
   "outputs": [
    {
     "data": {
      "image/png": "[encoded data removed]",
      "text/plain": [
       "<Figure size 1000x600 with 4 Axes>"
      ]
     },
     "metadata": {},
     "output_type": "display_data"
    }
   ],
   "source": [
    "trainer.plot_metrics()"
   ]
  },
  {
   "cell_type": "code",
   "execution_count": null,
   "id": "f690cdcb",
   "metadata": {},
   "outputs": [],
   "source": []
  }
 ],
 "metadata": {
  "kernelspec": {
   "display_name": "goit",
   "language": "python",
   "name": "python3"
  },
  "language_info": {
   "codemirror_mode": {
    "name": "ipython",
    "version": 3
   },
   "file_extension": ".py",
   "mimetype": "text/x-python",
   "name": "python",
   "nbconvert_exporter": "python",
   "pygments_lexer": "ipython3",
   "version": "3.10.16"
  },
  "toc": {
   "base_numbering": 1,
   "nav_menu": {},
   "number_sections": true,
   "sideBar": true,
   "skip_h1_title": false,
   "title_cell": "Table of Contents",
   "title_sidebar": "Contents",
   "toc_cell": false,
   "toc_position": {},
   "toc_section_display": true,
   "toc_window_display": false
  }
 },
 "nbformat": 4,
 "nbformat_minor": 5
}
