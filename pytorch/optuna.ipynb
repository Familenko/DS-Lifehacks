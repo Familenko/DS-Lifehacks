{
  "cells": [
    {
      "cell_type": "code",
      "execution_count": 10,
      "metadata": {},
      "outputs": [],
      "source": [
        "from collections import defaultdict\n",
        "\n",
        "import pandas as pd\n",
        "import numpy as np\n",
        "import matplotlib.pyplot as plt\n",
        "import seaborn as sns\n",
        "\n",
        "from ydata_profiling import ProfileReport\n",
        "\n",
        "from torch.utils.data import Dataset, DataLoader\n",
        "from torch import nn\n",
        "import torch\n",
        "\n",
        "from sklearn.preprocessing import StandardScaler, MinMaxScaler\n",
        "from sklearn.model_selection import train_test_split\n",
        "\n",
        "from sklearn.metrics import r2_score, mean_squared_error, mean_absolute_error\n",
        "from torchmetrics import MeanSquaredError, MeanAbsoluteError\n",
        "\n",
        "import optuna\n",
        "\n",
        "from pytorch_tools import CreateDataset, train_model_cls, train_model_reg, plot_metrics"
      ]
    },
    {
      "cell_type": "code",
      "execution_count": 11,
      "metadata": {},
      "outputs": [],
      "source": [
        "df = pd.read_csv('data/ConcreteStrengthData.csv')"
      ]
    },
    {
      "cell_type": "code",
      "execution_count": 12,
      "metadata": {},
      "outputs": [
        {
          "data": {
            "application/vnd.microsoft.datawrangler.viewer.v0+json": {
              "columns": [
                {
                  "name": "index",
                  "rawType": "int64",
                  "type": "integer"
                },
                {
                  "name": "CementComponent ",
                  "rawType": "float64",
                  "type": "float"
                },
                {
                  "name": "BlastFurnaceSlag",
                  "rawType": "float64",
                  "type": "float"
                },
                {
                  "name": "FlyAshComponent",
                  "rawType": "float64",
                  "type": "float"
                },
                {
                  "name": "WaterComponent",
                  "rawType": "float64",
                  "type": "float"
                },
                {
                  "name": "SuperplasticizerComponent",
                  "rawType": "float64",
                  "type": "float"
                },
                {
                  "name": "CoarseAggregateComponent",
                  "rawType": "float64",
                  "type": "float"
                },
                {
                  "name": "FineAggregateComponent",
                  "rawType": "float64",
                  "type": "float"
                },
                {
                  "name": "AgeInDays",
                  "rawType": "int64",
                  "type": "integer"
                },
                {
                  "name": "Strength",
                  "rawType": "float64",
                  "type": "float"
                }
              ],
              "conversionMethod": "pd.DataFrame",
              "ref": "0b3328cd-09a5-4e64-87d1-3e128907c113",
              "rows": [
                [
                  "0",
                  "540.0",
                  "0.0",
                  "0.0",
                  "162.0",
                  "2.5",
                  "1040.0",
                  "676.0",
                  "28",
                  "79.99"
                ],
                [
                  "1",
                  "540.0",
                  "0.0",
                  "0.0",
                  "162.0",
                  "2.5",
                  "1055.0",
                  "676.0",
                  "28",
                  "61.89"
                ],
                [
                  "2",
                  "332.5",
                  "142.5",
                  "0.0",
                  "228.0",
                  "0.0",
                  "932.0",
                  "594.0",
                  "270",
                  "40.27"
                ],
                [
                  "3",
                  "332.5",
                  "142.5",
                  "0.0",
                  "228.0",
                  "0.0",
                  "932.0",
                  "594.0",
                  "365",
                  "41.05"
                ],
                [
                  "4",
                  "198.6",
                  "132.4",
                  "0.0",
                  "192.0",
                  "0.0",
                  "978.4",
                  "825.5",
                  "360",
                  "44.3"
                ],
                [
                  "5",
                  "266.0",
                  "114.0",
                  "0.0",
                  "228.0",
                  "0.0",
                  "932.0",
                  "670.0",
                  "90",
                  "47.03"
                ],
                [
                  "6",
                  "380.0",
                  "95.0",
                  "0.0",
                  "228.0",
                  "0.0",
                  "932.0",
                  "594.0",
                  "365",
                  "43.7"
                ],
                [
                  "7",
                  "380.0",
                  "95.0",
                  "0.0",
                  "228.0",
                  "0.0",
                  "932.0",
                  "594.0",
                  "28",
                  "36.45"
                ],
                [
                  "8",
                  "266.0",
                  "114.0",
                  "0.0",
                  "228.0",
                  "0.0",
                  "932.0",
                  "670.0",
                  "28",
                  "45.85"
                ],
                [
                  "9",
                  "475.0",
                  "0.0",
                  "0.0",
                  "228.0",
                  "0.0",
                  "932.0",
                  "594.0",
                  "28",
                  "39.29"
                ],
                [
                  "10",
                  "198.6",
                  "132.4",
                  "0.0",
                  "192.0",
                  "0.0",
                  "978.4",
                  "825.5",
                  "90",
                  "38.07"
                ],
                [
                  "11",
                  "198.6",
                  "132.4",
                  "0.0",
                  "192.0",
                  "0.0",
                  "978.4",
                  "825.5",
                  "28",
                  "28.02"
                ],
                [
                  "12",
                  "427.5",
                  "47.5",
                  "0.0",
                  "228.0",
                  "0.0",
                  "932.0",
                  "594.0",
                  "270",
                  "43.01"
                ],
                [
                  "13",
                  "190.0",
                  "190.0",
                  "0.0",
                  "228.0",
                  "0.0",
                  "932.0",
                  "670.0",
                  "90",
                  "42.33"
                ],
                [
                  "14",
                  "304.0",
                  "76.0",
                  "0.0",
                  "228.0",
                  "0.0",
                  "932.0",
                  "670.0",
                  "28",
                  "47.81"
                ],
                [
                  "15",
                  "380.0",
                  "0.0",
                  "0.0",
                  "228.0",
                  "0.0",
                  "932.0",
                  "670.0",
                  "90",
                  "52.91"
                ],
                [
                  "16",
                  "139.6",
                  "209.4",
                  "0.0",
                  "192.0",
                  "0.0",
                  "1047.0",
                  "806.9",
                  "90",
                  "39.36"
                ],
                [
                  "17",
                  "342.0",
                  "38.0",
                  "0.0",
                  "228.0",
                  "0.0",
                  "932.0",
                  "670.0",
                  "365",
                  "56.14"
                ],
                [
                  "18",
                  "380.0",
                  "95.0",
                  "0.0",
                  "228.0",
                  "0.0",
                  "932.0",
                  "594.0",
                  "90",
                  "40.56"
                ],
                [
                  "19",
                  "475.0",
                  "0.0",
                  "0.0",
                  "228.0",
                  "0.0",
                  "932.0",
                  "594.0",
                  "180",
                  "42.62"
                ],
                [
                  "20",
                  "427.5",
                  "47.5",
                  "0.0",
                  "228.0",
                  "0.0",
                  "932.0",
                  "594.0",
                  "180",
                  "41.84"
                ],
                [
                  "21",
                  "139.6",
                  "209.4",
                  "0.0",
                  "192.0",
                  "0.0",
                  "1047.0",
                  "806.9",
                  "28",
                  "28.24"
                ],
                [
                  "22",
                  "139.6",
                  "209.4",
                  "0.0",
                  "192.0",
                  "0.0",
                  "1047.0",
                  "806.9",
                  "3",
                  "8.06"
                ],
                [
                  "23",
                  "139.6",
                  "209.4",
                  "0.0",
                  "192.0",
                  "0.0",
                  "1047.0",
                  "806.9",
                  "180",
                  "44.21"
                ],
                [
                  "24",
                  "380.0",
                  "0.0",
                  "0.0",
                  "228.0",
                  "0.0",
                  "932.0",
                  "670.0",
                  "365",
                  "52.52"
                ],
                [
                  "25",
                  "380.0",
                  "0.0",
                  "0.0",
                  "228.0",
                  "0.0",
                  "932.0",
                  "670.0",
                  "270",
                  "53.3"
                ],
                [
                  "26",
                  "380.0",
                  "95.0",
                  "0.0",
                  "228.0",
                  "0.0",
                  "932.0",
                  "594.0",
                  "270",
                  "41.15"
                ],
                [
                  "27",
                  "342.0",
                  "38.0",
                  "0.0",
                  "228.0",
                  "0.0",
                  "932.0",
                  "670.0",
                  "180",
                  "52.12"
                ],
                [
                  "28",
                  "427.5",
                  "47.5",
                  "0.0",
                  "228.0",
                  "0.0",
                  "932.0",
                  "594.0",
                  "28",
                  "37.43"
                ],
                [
                  "29",
                  "475.0",
                  "0.0",
                  "0.0",
                  "228.0",
                  "0.0",
                  "932.0",
                  "594.0",
                  "7",
                  "38.6"
                ],
                [
                  "30",
                  "304.0",
                  "76.0",
                  "0.0",
                  "228.0",
                  "0.0",
                  "932.0",
                  "670.0",
                  "365",
                  "55.26"
                ],
                [
                  "31",
                  "266.0",
                  "114.0",
                  "0.0",
                  "228.0",
                  "0.0",
                  "932.0",
                  "670.0",
                  "365",
                  "52.91"
                ],
                [
                  "32",
                  "198.6",
                  "132.4",
                  "0.0",
                  "192.0",
                  "0.0",
                  "978.4",
                  "825.5",
                  "180",
                  "41.72"
                ],
                [
                  "33",
                  "475.0",
                  "0.0",
                  "0.0",
                  "228.0",
                  "0.0",
                  "932.0",
                  "594.0",
                  "270",
                  "42.13"
                ],
                [
                  "34",
                  "190.0",
                  "190.0",
                  "0.0",
                  "228.0",
                  "0.0",
                  "932.0",
                  "670.0",
                  "365",
                  "53.69"
                ],
                [
                  "35",
                  "237.5",
                  "237.5",
                  "0.0",
                  "228.0",
                  "0.0",
                  "932.0",
                  "594.0",
                  "270",
                  "38.41"
                ],
                [
                  "36",
                  "237.5",
                  "237.5",
                  "0.0",
                  "228.0",
                  "0.0",
                  "932.0",
                  "594.0",
                  "28",
                  "30.08"
                ],
                [
                  "37",
                  "332.5",
                  "142.5",
                  "0.0",
                  "228.0",
                  "0.0",
                  "932.0",
                  "594.0",
                  "90",
                  "37.72"
                ],
                [
                  "38",
                  "475.0",
                  "0.0",
                  "0.0",
                  "228.0",
                  "0.0",
                  "932.0",
                  "594.0",
                  "90",
                  "42.23"
                ],
                [
                  "39",
                  "237.5",
                  "237.5",
                  "0.0",
                  "228.0",
                  "0.0",
                  "932.0",
                  "594.0",
                  "180",
                  "36.25"
                ],
                [
                  "40",
                  "342.0",
                  "38.0",
                  "0.0",
                  "228.0",
                  "0.0",
                  "932.0",
                  "670.0",
                  "90",
                  "50.46"
                ],
                [
                  "41",
                  "427.5",
                  "47.5",
                  "0.0",
                  "228.0",
                  "0.0",
                  "932.0",
                  "594.0",
                  "365",
                  "43.7"
                ],
                [
                  "42",
                  "237.5",
                  "237.5",
                  "0.0",
                  "228.0",
                  "0.0",
                  "932.0",
                  "594.0",
                  "365",
                  "39.0"
                ],
                [
                  "43",
                  "380.0",
                  "0.0",
                  "0.0",
                  "228.0",
                  "0.0",
                  "932.0",
                  "670.0",
                  "180",
                  "53.1"
                ],
                [
                  "44",
                  "427.5",
                  "47.5",
                  "0.0",
                  "228.0",
                  "0.0",
                  "932.0",
                  "594.0",
                  "90",
                  "41.54"
                ],
                [
                  "45",
                  "427.5",
                  "47.5",
                  "0.0",
                  "228.0",
                  "0.0",
                  "932.0",
                  "594.0",
                  "7",
                  "35.08"
                ],
                [
                  "46",
                  "349.0",
                  "0.0",
                  "0.0",
                  "192.0",
                  "0.0",
                  "1047.0",
                  "806.9",
                  "3",
                  "15.05"
                ],
                [
                  "47",
                  "380.0",
                  "95.0",
                  "0.0",
                  "228.0",
                  "0.0",
                  "932.0",
                  "594.0",
                  "180",
                  "40.76"
                ],
                [
                  "48",
                  "237.5",
                  "237.5",
                  "0.0",
                  "228.0",
                  "0.0",
                  "932.0",
                  "594.0",
                  "7",
                  "26.26"
                ],
                [
                  "49",
                  "380.0",
                  "95.0",
                  "0.0",
                  "228.0",
                  "0.0",
                  "932.0",
                  "594.0",
                  "7",
                  "32.82"
                ]
              ],
              "shape": {
                "columns": 9,
                "rows": 1030
              }
            },
            "text/html": [
              "<div>\n",
              "<style scoped>\n",
              "    .dataframe tbody tr th:only-of-type {\n",
              "        vertical-align: middle;\n",
              "    }\n",
              "\n",
              "    .dataframe tbody tr th {\n",
              "        vertical-align: top;\n",
              "    }\n",
              "\n",
              "    .dataframe thead th {\n",
              "        text-align: right;\n",
              "    }\n",
              "</style>\n",
              "<table border=\"1\" class=\"dataframe\">\n",
              "  <thead>\n",
              "    <tr style=\"text-align: right;\">\n",
              "      <th></th>\n",
              "      <th>CementComponent</th>\n",
              "      <th>BlastFurnaceSlag</th>\n",
              "      <th>FlyAshComponent</th>\n",
              "      <th>WaterComponent</th>\n",
              "      <th>SuperplasticizerComponent</th>\n",
              "      <th>CoarseAggregateComponent</th>\n",
              "      <th>FineAggregateComponent</th>\n",
              "      <th>AgeInDays</th>\n",
              "      <th>Strength</th>\n",
              "    </tr>\n",
              "  </thead>\n",
              "  <tbody>\n",
              "    <tr>\n",
              "      <th>0</th>\n",
              "      <td>540.0</td>\n",
              "      <td>0.0</td>\n",
              "      <td>0.0</td>\n",
              "      <td>162.0</td>\n",
              "      <td>2.5</td>\n",
              "      <td>1040.0</td>\n",
              "      <td>676.0</td>\n",
              "      <td>28</td>\n",
              "      <td>79.99</td>\n",
              "    </tr>\n",
              "    <tr>\n",
              "      <th>1</th>\n",
              "      <td>540.0</td>\n",
              "      <td>0.0</td>\n",
              "      <td>0.0</td>\n",
              "      <td>162.0</td>\n",
              "      <td>2.5</td>\n",
              "      <td>1055.0</td>\n",
              "      <td>676.0</td>\n",
              "      <td>28</td>\n",
              "      <td>61.89</td>\n",
              "    </tr>\n",
              "    <tr>\n",
              "      <th>2</th>\n",
              "      <td>332.5</td>\n",
              "      <td>142.5</td>\n",
              "      <td>0.0</td>\n",
              "      <td>228.0</td>\n",
              "      <td>0.0</td>\n",
              "      <td>932.0</td>\n",
              "      <td>594.0</td>\n",
              "      <td>270</td>\n",
              "      <td>40.27</td>\n",
              "    </tr>\n",
              "    <tr>\n",
              "      <th>3</th>\n",
              "      <td>332.5</td>\n",
              "      <td>142.5</td>\n",
              "      <td>0.0</td>\n",
              "      <td>228.0</td>\n",
              "      <td>0.0</td>\n",
              "      <td>932.0</td>\n",
              "      <td>594.0</td>\n",
              "      <td>365</td>\n",
              "      <td>41.05</td>\n",
              "    </tr>\n",
              "    <tr>\n",
              "      <th>4</th>\n",
              "      <td>198.6</td>\n",
              "      <td>132.4</td>\n",
              "      <td>0.0</td>\n",
              "      <td>192.0</td>\n",
              "      <td>0.0</td>\n",
              "      <td>978.4</td>\n",
              "      <td>825.5</td>\n",
              "      <td>360</td>\n",
              "      <td>44.30</td>\n",
              "    </tr>\n",
              "    <tr>\n",
              "      <th>...</th>\n",
              "      <td>...</td>\n",
              "      <td>...</td>\n",
              "      <td>...</td>\n",
              "      <td>...</td>\n",
              "      <td>...</td>\n",
              "      <td>...</td>\n",
              "      <td>...</td>\n",
              "      <td>...</td>\n",
              "      <td>...</td>\n",
              "    </tr>\n",
              "    <tr>\n",
              "      <th>1025</th>\n",
              "      <td>276.4</td>\n",
              "      <td>116.0</td>\n",
              "      <td>90.3</td>\n",
              "      <td>179.6</td>\n",
              "      <td>8.9</td>\n",
              "      <td>870.1</td>\n",
              "      <td>768.3</td>\n",
              "      <td>28</td>\n",
              "      <td>44.28</td>\n",
              "    </tr>\n",
              "    <tr>\n",
              "      <th>1026</th>\n",
              "      <td>322.2</td>\n",
              "      <td>0.0</td>\n",
              "      <td>115.6</td>\n",
              "      <td>196.0</td>\n",
              "      <td>10.4</td>\n",
              "      <td>817.9</td>\n",
              "      <td>813.4</td>\n",
              "      <td>28</td>\n",
              "      <td>31.18</td>\n",
              "    </tr>\n",
              "    <tr>\n",
              "      <th>1027</th>\n",
              "      <td>148.5</td>\n",
              "      <td>139.4</td>\n",
              "      <td>108.6</td>\n",
              "      <td>192.7</td>\n",
              "      <td>6.1</td>\n",
              "      <td>892.4</td>\n",
              "      <td>780.0</td>\n",
              "      <td>28</td>\n",
              "      <td>23.70</td>\n",
              "    </tr>\n",
              "    <tr>\n",
              "      <th>1028</th>\n",
              "      <td>159.1</td>\n",
              "      <td>186.7</td>\n",
              "      <td>0.0</td>\n",
              "      <td>175.6</td>\n",
              "      <td>11.3</td>\n",
              "      <td>989.6</td>\n",
              "      <td>788.9</td>\n",
              "      <td>28</td>\n",
              "      <td>32.77</td>\n",
              "    </tr>\n",
              "    <tr>\n",
              "      <th>1029</th>\n",
              "      <td>260.9</td>\n",
              "      <td>100.5</td>\n",
              "      <td>78.3</td>\n",
              "      <td>200.6</td>\n",
              "      <td>8.6</td>\n",
              "      <td>864.5</td>\n",
              "      <td>761.5</td>\n",
              "      <td>28</td>\n",
              "      <td>32.40</td>\n",
              "    </tr>\n",
              "  </tbody>\n",
              "</table>\n",
              "<p>1030 rows × 9 columns</p>\n",
              "</div>"
            ],
            "text/plain": [
              "      CementComponent   BlastFurnaceSlag  FlyAshComponent  WaterComponent  \\\n",
              "0                540.0               0.0              0.0           162.0   \n",
              "1                540.0               0.0              0.0           162.0   \n",
              "2                332.5             142.5              0.0           228.0   \n",
              "3                332.5             142.5              0.0           228.0   \n",
              "4                198.6             132.4              0.0           192.0   \n",
              "...                ...               ...              ...             ...   \n",
              "1025             276.4             116.0             90.3           179.6   \n",
              "1026             322.2               0.0            115.6           196.0   \n",
              "1027             148.5             139.4            108.6           192.7   \n",
              "1028             159.1             186.7              0.0           175.6   \n",
              "1029             260.9             100.5             78.3           200.6   \n",
              "\n",
              "      SuperplasticizerComponent  CoarseAggregateComponent  \\\n",
              "0                           2.5                    1040.0   \n",
              "1                           2.5                    1055.0   \n",
              "2                           0.0                     932.0   \n",
              "3                           0.0                     932.0   \n",
              "4                           0.0                     978.4   \n",
              "...                         ...                       ...   \n",
              "1025                        8.9                     870.1   \n",
              "1026                       10.4                     817.9   \n",
              "1027                        6.1                     892.4   \n",
              "1028                       11.3                     989.6   \n",
              "1029                        8.6                     864.5   \n",
              "\n",
              "      FineAggregateComponent  AgeInDays  Strength  \n",
              "0                      676.0         28     79.99  \n",
              "1                      676.0         28     61.89  \n",
              "2                      594.0        270     40.27  \n",
              "3                      594.0        365     41.05  \n",
              "4                      825.5        360     44.30  \n",
              "...                      ...        ...       ...  \n",
              "1025                   768.3         28     44.28  \n",
              "1026                   813.4         28     31.18  \n",
              "1027                   780.0         28     23.70  \n",
              "1028                   788.9         28     32.77  \n",
              "1029                   761.5         28     32.40  \n",
              "\n",
              "[1030 rows x 9 columns]"
            ]
          },
          "execution_count": 12,
          "metadata": {},
          "output_type": "execute_result"
        }
      ],
      "source": [
        "df"
      ]
    },
    {
      "cell_type": "code",
      "execution_count": 13,
      "metadata": {},
      "outputs": [
        {
          "data": {
            "text/plain": [
              "((824, 8), (206, 8), (824,), (206,))"
            ]
          },
          "execution_count": 13,
          "metadata": {},
          "output_type": "execute_result"
        }
      ],
      "source": [
        "X = df.drop(columns=['Strength'])\n",
        "y = df['Strength']\n",
        "\n",
        "X_train, X_test, y_train, y_test = train_test_split(X, y, test_size=0.2, random_state=42)\n",
        "X_train.shape, X_test.shape, y_train.shape, y_test.shape"
      ]
    },
    {
      "cell_type": "code",
      "execution_count": 14,
      "metadata": {},
      "outputs": [],
      "source": [
        "train_dataset = CreateDataset(X_train, y_train)\n",
        "test_dataset = CreateDataset(X_test, y_test)\n",
        "\n",
        "train_dataloader = DataLoader(train_dataset,\n",
        "                              batch_size=40,\n",
        "                              num_workers=0\n",
        "                             )\n",
        "\n",
        "test_dataloader = DataLoader(test_dataset,\n",
        "                              batch_size=40,\n",
        "                              num_workers=0\n",
        "                             )"
      ]
    },
    {
      "cell_type": "code",
      "execution_count": 15,
      "metadata": {},
      "outputs": [],
      "source": [
        "def objective(trial):\n",
        "    lr = trial.suggest_float(\"lr\", 1e-5, 1e-2, log=True)\n",
        "    hidden1 = trial.suggest_int(\"hidden1\", 64, 512)\n",
        "    hidden2 = trial.suggest_int(\"hidden2\", 32, hidden1)\n",
        "    hidden3 = trial.suggest_int(\"hidden3\", 16, hidden2)\n",
        "\n",
        "    class LinearModel(nn.Module):\n",
        "        def __init__(self, in_dim, out_dim=1):\n",
        "            super().__init__()\n",
        "            self.features = nn.Sequential(\n",
        "                nn.Linear(in_dim, hidden1),\n",
        "                nn.ReLU(),\n",
        "                nn.Linear(hidden1, hidden2),\n",
        "                nn.ReLU(),\n",
        "                nn.Linear(hidden2, hidden3),\n",
        "                nn.ReLU(),\n",
        "                nn.Linear(hidden3, out_dim),\n",
        "            )\n",
        "        def forward(self, x):\n",
        "            return self.features(x)\n",
        "\n",
        "    model = LinearModel(in_dim=X_train.shape[1], out_dim=1)\n",
        "    optimizer = torch.optim.Adam(model.parameters(), lr=lr)\n",
        "    criterion = nn.MSELoss()\n",
        "\n",
        "    metrics, _ = train_model_reg(\n",
        "        num_epoch=20,\n",
        "        train_dataloader=train_dataloader,\n",
        "        test_dataloader=test_dataloader,\n",
        "        model=model,\n",
        "        criterion=criterion,\n",
        "        optimizer=optimizer,\n",
        "        device=torch.device(\"cpu\")\n",
        "    )\n",
        "\n",
        "    return metrics['test_mse'][-1]"
      ]
    },
    {
      "cell_type": "code",
      "execution_count": 16,
      "metadata": {},
      "outputs": [
        {
          "name": "stderr",
          "output_type": "stream",
          "text": [
            "[I 2025-04-23 19:43:19,761] A new study created in memory with name: no-name-3c3c22f6-28c1-4aba-8e08-63b5dd98de19\n"
          ]
        },
        {
          "name": "stdout",
          "output_type": "stream",
          "text": [
            "Epoch [10/20] Train Loss: 46.5907 MSE: 46.5907 MAE: 5.2210 RMSE: 6.8257\n"
          ]
        },
        {
          "name": "stderr",
          "output_type": "stream",
          "text": [
            "[I 2025-04-23 19:43:20,290] Trial 0 finished with value: 51.60118058584269 and parameters: {'lr': 0.006289204037020523, 'hidden1': 191, 'hidden2': 121, 'hidden3': 70}. Best is trial 0 with value: 51.60118058584269.\n"
          ]
        },
        {
          "name": "stdout",
          "output_type": "stream",
          "text": [
            "Epoch [20/20] Train Loss: 26.5198 MSE: 26.5198 MAE: 3.9198 RMSE: 5.1497\n",
            "Epoch [10/20] Train Loss: 99.7098 MSE: 99.7098 MAE: 7.8434 RMSE: 9.9855\n"
          ]
        },
        {
          "name": "stderr",
          "output_type": "stream",
          "text": [
            "[I 2025-04-23 19:43:20,815] Trial 1 finished with value: 57.82598617701854 and parameters: {'lr': 0.0050882860740876674, 'hidden1': 142, 'hidden2': 58, 'hidden3': 33}. Best is trial 0 with value: 51.60118058584269.\n"
          ]
        },
        {
          "name": "stdout",
          "output_type": "stream",
          "text": [
            "Epoch [20/20] Train Loss: 38.1979 MSE: 38.1979 MAE: 4.6494 RMSE: 6.1804\n",
            "Epoch [10/20] Train Loss: 128.8422 MSE: 128.8422 MAE: 9.1984 RMSE: 11.3509\n"
          ]
        },
        {
          "name": "stderr",
          "output_type": "stream",
          "text": [
            "[I 2025-04-23 19:43:21,353] Trial 2 finished with value: 59.67184833415504 and parameters: {'lr': 0.0026799108087435237, 'hidden1': 112, 'hidden2': 59, 'hidden3': 40}. Best is trial 0 with value: 51.60118058584269.\n"
          ]
        },
        {
          "name": "stdout",
          "output_type": "stream",
          "text": [
            "Epoch [20/20] Train Loss: 48.6618 MSE: 48.6618 MAE: 5.2547 RMSE: 6.9758\n",
            "Epoch [10/20] Train Loss: 1506.9938 MSE: 1506.9938 MAE: 34.9671 RMSE: 38.8200\n"
          ]
        },
        {
          "name": "stderr",
          "output_type": "stream",
          "text": [
            "[I 2025-04-23 19:43:21,889] Trial 3 finished with value: 1282.9610560148665 and parameters: {'lr': 2.331855073421897e-05, 'hidden1': 224, 'hidden2': 128, 'hidden3': 55}. Best is trial 0 with value: 51.60118058584269.\n"
          ]
        },
        {
          "name": "stdout",
          "output_type": "stream",
          "text": [
            "Epoch [20/20] Train Loss: 1336.3749 MSE: 1336.3749 MAE: 32.4477 RMSE: 36.5565\n",
            "Epoch [10/20] Train Loss: 349.7418 MSE: 349.7418 MAE: 14.5017 RMSE: 18.7014\n"
          ]
        },
        {
          "name": "stderr",
          "output_type": "stream",
          "text": [
            "[I 2025-04-23 19:43:22,433] Trial 4 finished with value: 171.1981226356284 and parameters: {'lr': 0.00018977872915194914, 'hidden1': 248, 'hidden2': 52, 'hidden3': 37}. Best is trial 0 with value: 51.60118058584269.\n"
          ]
        },
        {
          "name": "stdout",
          "output_type": "stream",
          "text": [
            "Epoch [20/20] Train Loss: 199.3764 MSE: 199.3764 MAE: 11.3991 RMSE: 14.1201\n",
            "Epoch [10/20] Train Loss: 161.0464 MSE: 161.0464 MAE: 10.3117 RMSE: 12.6904\n"
          ]
        },
        {
          "name": "stderr",
          "output_type": "stream",
          "text": [
            "[I 2025-04-23 19:43:23,005] Trial 5 finished with value: 79.53551179459951 and parameters: {'lr': 0.000755569926485612, 'hidden1': 156, 'hidden2': 124, 'hidden3': 75}. Best is trial 0 with value: 51.60118058584269.\n"
          ]
        },
        {
          "name": "stdout",
          "output_type": "stream",
          "text": [
            "Epoch [20/20] Train Loss: 72.9956 MSE: 72.9956 MAE: 6.4902 RMSE: 8.5437\n",
            "Epoch [10/20] Train Loss: 44.4546 MSE: 44.4546 MAE: 5.1165 RMSE: 6.6674\n"
          ]
        },
        {
          "name": "stderr",
          "output_type": "stream",
          "text": [
            "[I 2025-04-23 19:43:23,635] Trial 6 finished with value: 50.07806457593603 and parameters: {'lr': 0.004499353405785745, 'hidden1': 449, 'hidden2': 316, 'hidden3': 39}. Best is trial 6 with value: 50.07806457593603.\n"
          ]
        },
        {
          "name": "stdout",
          "output_type": "stream",
          "text": [
            "Epoch [20/20] Train Loss: 25.7695 MSE: 25.7695 MAE: 3.8393 RMSE: 5.0764\n",
            "Epoch [10/20] Train Loss: 141.7851 MSE: 141.7851 MAE: 9.6718 RMSE: 11.9074\n"
          ]
        },
        {
          "name": "stderr",
          "output_type": "stream",
          "text": [
            "[I 2025-04-23 19:43:24,209] Trial 7 finished with value: 52.85474795739628 and parameters: {'lr': 0.0008714267509666363, 'hidden1': 368, 'hidden2': 97, 'hidden3': 92}. Best is trial 6 with value: 50.07806457593603.\n"
          ]
        },
        {
          "name": "stdout",
          "output_type": "stream",
          "text": [
            "Epoch [20/20] Train Loss: 46.3261 MSE: 46.3261 MAE: 5.1494 RMSE: 6.8063\n",
            "Epoch [10/20] Train Loss: 920.0948 MSE: 920.0948 MAE: 25.6687 RMSE: 30.3331\n"
          ]
        },
        {
          "name": "stderr",
          "output_type": "stream",
          "text": [
            "[I 2025-04-23 19:43:24,759] Trial 8 finished with value: 208.7791282876024 and parameters: {'lr': 0.00011648378125503171, 'hidden1': 292, 'hidden2': 84, 'hidden3': 46}. Best is trial 6 with value: 50.07806457593603.\n"
          ]
        },
        {
          "name": "stdout",
          "output_type": "stream",
          "text": [
            "Epoch [20/20] Train Loss: 236.9876 MSE: 236.9876 MAE: 12.5108 RMSE: 15.3944\n",
            "Epoch [10/20] Train Loss: 141.0551 MSE: 141.0551 MAE: 9.6728 RMSE: 11.8767\n"
          ]
        },
        {
          "name": "stderr",
          "output_type": "stream",
          "text": [
            "[I 2025-04-23 19:43:25,412] Trial 9 finished with value: 58.95726731679972 and parameters: {'lr': 0.0005118459252191325, 'hidden1': 315, 'hidden2': 290, 'hidden3': 251}. Best is trial 6 with value: 50.07806457593603.\n"
          ]
        },
        {
          "name": "stdout",
          "output_type": "stream",
          "text": [
            "Epoch [20/20] Train Loss: 45.9102 MSE: 45.9102 MAE: 5.1436 RMSE: 6.7757\n"
          ]
        }
      ],
      "source": [
        "study = optuna.create_study(direction=\"minimize\")\n",
        "study.optimize(objective, n_trials=10)"
      ]
    },
    {
      "cell_type": "code",
      "execution_count": 17,
      "metadata": {},
      "outputs": [
        {
          "name": "stdout",
          "output_type": "stream",
          "text": [
            "Best trial:\n",
            "{'lr': 0.004499353405785745, 'hidden1': 449, 'hidden2': 316, 'hidden3': 39}\n"
          ]
        }
      ],
      "source": [
        "print(\"Best trial:\")\n",
        "print(study.best_trial.params)"
      ]
    },
    {
      "cell_type": "code",
      "execution_count": 18,
      "metadata": {},
      "outputs": [
        {
          "name": "stdout",
          "output_type": "stream",
          "text": [
            "Epoch [10/20] Train Loss: 100.0167 MSE: 100.0167 MAE: 7.8522 RMSE: 10.0008\n",
            "Epoch [20/20] Train Loss: 38.0902 MSE: 38.0902 MAE: 4.6711 RMSE: 6.1717\n"
          ]
        }
      ],
      "source": [
        "class Model(torch.nn.Module):\n",
        "    def __init__(self, in_dim, out_dim=1):\n",
        "        super().__init__()\n",
        "        \n",
        "        self.features = torch.nn.Sequential(\n",
        "            nn.Linear(in_dim, 144),\n",
        "            torch.nn.ReLU(),\n",
        "            \n",
        "            nn.Linear(144, 72),\n",
        "            torch.nn.ReLU(),\n",
        "            \n",
        "            nn.Linear(72, 72),\n",
        "            torch.nn.ReLU(),\n",
        "            \n",
        "            nn.Linear(72, out_dim),\n",
        "        )\n",
        "    \n",
        "        \n",
        "    def forward(self, x):\n",
        "        output = self.features(x)\n",
        "        return output\n",
        "    \n",
        "\n",
        "model = Model(in_dim=X_train.shape[1], out_dim=1)\n",
        "  \n",
        "criterion = nn.MSELoss()\n",
        "optimizer = torch.optim.Adam(model.parameters(), lr=0.002)\n",
        "\n",
        "metrics, model = train_model_reg(num_epoch=20,\n",
        "                    train_dataloader = train_dataloader,\n",
        "                    test_dataloader = test_dataloader,\n",
        "                    model=model,\n",
        "                    criterion=criterion,\n",
        "                    optimizer=optimizer,\n",
        "                    )"
      ]
    },
    {
      "cell_type": "code",
      "execution_count": 20,
      "metadata": {},
      "outputs": [
        {
          "name": "stdout",
          "output_type": "stream",
          "text": [
            "R²: 0.8052\n",
            "MSE: 50.1873\n",
            "MAE: 5.4734\n"
          ]
        }
      ],
      "source": [
        "y_true = []\n",
        "y_pred = []\n",
        "\n",
        "with torch.no_grad():\n",
        "    for X_batch, y_batch in test_dataloader:\n",
        "        predictions = model(X_batch).squeeze()\n",
        "        \n",
        "        y_true.extend(y_batch.numpy())\n",
        "        y_pred.extend(predictions.numpy())\n",
        "\n",
        "r2 = r2_score(y_true, y_pred)\n",
        "mse = mean_squared_error(y_true, y_pred)\n",
        "mae = mean_absolute_error(y_true, y_pred)\n",
        "\n",
        "print(f\"R²: {r2:.4f}\")\n",
        "print(f\"MSE: {mse:.4f}\")\n",
        "print(f\"MAE: {mae:.4f}\")"
      ]
    }
  ],
  "metadata": {
    "colab": {
      "provenance": []
    },
    "kernelspec": {
      "display_name": "goit",
      "language": "python",
      "name": "python3"
    },
    "language_info": {
      "codemirror_mode": {
        "name": "ipython",
        "version": 3
      },
      "file_extension": ".py",
      "mimetype": "text/x-python",
      "name": "python",
      "nbconvert_exporter": "python",
      "pygments_lexer": "ipython3",
      "version": "3.10.16"
    }
  },
  "nbformat": 4,
  "nbformat_minor": 0
}
