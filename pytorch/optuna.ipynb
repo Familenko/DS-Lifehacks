{
  "cells": [
    {
      "cell_type": "code",
      "execution_count": 1,
      "metadata": {},
      "outputs": [
        {
          "name": "stderr",
          "output_type": "stream",
          "text": [
            "/opt/anaconda3/envs/goit/lib/python3.10/site-packages/albumentations/__init__.py:28: UserWarning: A new version of Albumentations is available: '2.0.6' (you have '2.0.5'). Upgrade using: pip install -U albumentations. To disable automatic update checks, set the environment variable NO_ALBUMENTATIONS_UPDATE to 1.\n",
            "  check_for_updates()\n"
          ]
        }
      ],
      "source": [
        "from collections import defaultdict\n",
        "\n",
        "import pandas as pd\n",
        "import numpy as np\n",
        "import matplotlib.pyplot as plt\n",
        "import seaborn as sns\n",
        "\n",
        "from ydata_profiling import ProfileReport\n",
        "\n",
        "from torch.utils.data import Dataset, DataLoader\n",
        "from torch import nn\n",
        "import torch\n",
        "\n",
        "from sklearn.preprocessing import StandardScaler, MinMaxScaler\n",
        "from sklearn.model_selection import train_test_split\n",
        "\n",
        "from sklearn.metrics import r2_score, mean_squared_error, mean_absolute_error\n",
        "from torchmetrics import MeanSquaredError, MeanAbsoluteError\n",
        "\n",
        "import optuna\n",
        "\n",
        "from pytorch_tools import CreateDataset, train_model_cls, train_model_reg, plot_metrics\n",
        "from train_models import RegressorTrainer"
      ]
    },
    {
      "cell_type": "code",
      "execution_count": 2,
      "metadata": {},
      "outputs": [],
      "source": [
        "df = pd.read_csv('data/ConcreteStrengthData.csv')"
      ]
    },
    {
      "cell_type": "code",
      "execution_count": 3,
      "metadata": {},
      "outputs": [
        {
          "data": {
            "application/vnd.microsoft.datawrangler.viewer.v0+json": {
              "columns": [
                {
                  "name": "index",
                  "rawType": "int64",
                  "type": "integer"
                },
                {
                  "name": "CementComponent ",
                  "rawType": "float64",
                  "type": "float"
                },
                {
                  "name": "BlastFurnaceSlag",
                  "rawType": "float64",
                  "type": "float"
                },
                {
                  "name": "FlyAshComponent",
                  "rawType": "float64",
                  "type": "float"
                },
                {
                  "name": "WaterComponent",
                  "rawType": "float64",
                  "type": "float"
                },
                {
                  "name": "SuperplasticizerComponent",
                  "rawType": "float64",
                  "type": "float"
                },
                {
                  "name": "CoarseAggregateComponent",
                  "rawType": "float64",
                  "type": "float"
                },
                {
                  "name": "FineAggregateComponent",
                  "rawType": "float64",
                  "type": "float"
                },
                {
                  "name": "AgeInDays",
                  "rawType": "int64",
                  "type": "integer"
                },
                {
                  "name": "Strength",
                  "rawType": "float64",
                  "type": "float"
                }
              ],
              "conversionMethod": "pd.DataFrame",
              "ref": "75dab927-7f51-436d-9cef-7b370869cba3",
              "rows": [
                [
                  "0",
                  "540.0",
                  "0.0",
                  "0.0",
                  "162.0",
                  "2.5",
                  "1040.0",
                  "676.0",
                  "28",
                  "79.99"
                ],
                [
                  "1",
                  "540.0",
                  "0.0",
                  "0.0",
                  "162.0",
                  "2.5",
                  "1055.0",
                  "676.0",
                  "28",
                  "61.89"
                ],
                [
                  "2",
                  "332.5",
                  "142.5",
                  "0.0",
                  "228.0",
                  "0.0",
                  "932.0",
                  "594.0",
                  "270",
                  "40.27"
                ],
                [
                  "3",
                  "332.5",
                  "142.5",
                  "0.0",
                  "228.0",
                  "0.0",
                  "932.0",
                  "594.0",
                  "365",
                  "41.05"
                ],
                [
                  "4",
                  "198.6",
                  "132.4",
                  "0.0",
                  "192.0",
                  "0.0",
                  "978.4",
                  "825.5",
                  "360",
                  "44.3"
                ],
                [
                  "5",
                  "266.0",
                  "114.0",
                  "0.0",
                  "228.0",
                  "0.0",
                  "932.0",
                  "670.0",
                  "90",
                  "47.03"
                ],
                [
                  "6",
                  "380.0",
                  "95.0",
                  "0.0",
                  "228.0",
                  "0.0",
                  "932.0",
                  "594.0",
                  "365",
                  "43.7"
                ],
                [
                  "7",
                  "380.0",
                  "95.0",
                  "0.0",
                  "228.0",
                  "0.0",
                  "932.0",
                  "594.0",
                  "28",
                  "36.45"
                ],
                [
                  "8",
                  "266.0",
                  "114.0",
                  "0.0",
                  "228.0",
                  "0.0",
                  "932.0",
                  "670.0",
                  "28",
                  "45.85"
                ],
                [
                  "9",
                  "475.0",
                  "0.0",
                  "0.0",
                  "228.0",
                  "0.0",
                  "932.0",
                  "594.0",
                  "28",
                  "39.29"
                ],
                [
                  "10",
                  "198.6",
                  "132.4",
                  "0.0",
                  "192.0",
                  "0.0",
                  "978.4",
                  "825.5",
                  "90",
                  "38.07"
                ],
                [
                  "11",
                  "198.6",
                  "132.4",
                  "0.0",
                  "192.0",
                  "0.0",
                  "978.4",
                  "825.5",
                  "28",
                  "28.02"
                ],
                [
                  "12",
                  "427.5",
                  "47.5",
                  "0.0",
                  "228.0",
                  "0.0",
                  "932.0",
                  "594.0",
                  "270",
                  "43.01"
                ],
                [
                  "13",
                  "190.0",
                  "190.0",
                  "0.0",
                  "228.0",
                  "0.0",
                  "932.0",
                  "670.0",
                  "90",
                  "42.33"
                ],
                [
                  "14",
                  "304.0",
                  "76.0",
                  "0.0",
                  "228.0",
                  "0.0",
                  "932.0",
                  "670.0",
                  "28",
                  "47.81"
                ],
                [
                  "15",
                  "380.0",
                  "0.0",
                  "0.0",
                  "228.0",
                  "0.0",
                  "932.0",
                  "670.0",
                  "90",
                  "52.91"
                ],
                [
                  "16",
                  "139.6",
                  "209.4",
                  "0.0",
                  "192.0",
                  "0.0",
                  "1047.0",
                  "806.9",
                  "90",
                  "39.36"
                ],
                [
                  "17",
                  "342.0",
                  "38.0",
                  "0.0",
                  "228.0",
                  "0.0",
                  "932.0",
                  "670.0",
                  "365",
                  "56.14"
                ],
                [
                  "18",
                  "380.0",
                  "95.0",
                  "0.0",
                  "228.0",
                  "0.0",
                  "932.0",
                  "594.0",
                  "90",
                  "40.56"
                ],
                [
                  "19",
                  "475.0",
                  "0.0",
                  "0.0",
                  "228.0",
                  "0.0",
                  "932.0",
                  "594.0",
                  "180",
                  "42.62"
                ],
                [
                  "20",
                  "427.5",
                  "47.5",
                  "0.0",
                  "228.0",
                  "0.0",
                  "932.0",
                  "594.0",
                  "180",
                  "41.84"
                ],
                [
                  "21",
                  "139.6",
                  "209.4",
                  "0.0",
                  "192.0",
                  "0.0",
                  "1047.0",
                  "806.9",
                  "28",
                  "28.24"
                ],
                [
                  "22",
                  "139.6",
                  "209.4",
                  "0.0",
                  "192.0",
                  "0.0",
                  "1047.0",
                  "806.9",
                  "3",
                  "8.06"
                ],
                [
                  "23",
                  "139.6",
                  "209.4",
                  "0.0",
                  "192.0",
                  "0.0",
                  "1047.0",
                  "806.9",
                  "180",
                  "44.21"
                ],
                [
                  "24",
                  "380.0",
                  "0.0",
                  "0.0",
                  "228.0",
                  "0.0",
                  "932.0",
                  "670.0",
                  "365",
                  "52.52"
                ],
                [
                  "25",
                  "380.0",
                  "0.0",
                  "0.0",
                  "228.0",
                  "0.0",
                  "932.0",
                  "670.0",
                  "270",
                  "53.3"
                ],
                [
                  "26",
                  "380.0",
                  "95.0",
                  "0.0",
                  "228.0",
                  "0.0",
                  "932.0",
                  "594.0",
                  "270",
                  "41.15"
                ],
                [
                  "27",
                  "342.0",
                  "38.0",
                  "0.0",
                  "228.0",
                  "0.0",
                  "932.0",
                  "670.0",
                  "180",
                  "52.12"
                ],
                [
                  "28",
                  "427.5",
                  "47.5",
                  "0.0",
                  "228.0",
                  "0.0",
                  "932.0",
                  "594.0",
                  "28",
                  "37.43"
                ],
                [
                  "29",
                  "475.0",
                  "0.0",
                  "0.0",
                  "228.0",
                  "0.0",
                  "932.0",
                  "594.0",
                  "7",
                  "38.6"
                ],
                [
                  "30",
                  "304.0",
                  "76.0",
                  "0.0",
                  "228.0",
                  "0.0",
                  "932.0",
                  "670.0",
                  "365",
                  "55.26"
                ],
                [
                  "31",
                  "266.0",
                  "114.0",
                  "0.0",
                  "228.0",
                  "0.0",
                  "932.0",
                  "670.0",
                  "365",
                  "52.91"
                ],
                [
                  "32",
                  "198.6",
                  "132.4",
                  "0.0",
                  "192.0",
                  "0.0",
                  "978.4",
                  "825.5",
                  "180",
                  "41.72"
                ],
                [
                  "33",
                  "475.0",
                  "0.0",
                  "0.0",
                  "228.0",
                  "0.0",
                  "932.0",
                  "594.0",
                  "270",
                  "42.13"
                ],
                [
                  "34",
                  "190.0",
                  "190.0",
                  "0.0",
                  "228.0",
                  "0.0",
                  "932.0",
                  "670.0",
                  "365",
                  "53.69"
                ],
                [
                  "35",
                  "237.5",
                  "237.5",
                  "0.0",
                  "228.0",
                  "0.0",
                  "932.0",
                  "594.0",
                  "270",
                  "38.41"
                ],
                [
                  "36",
                  "237.5",
                  "237.5",
                  "0.0",
                  "228.0",
                  "0.0",
                  "932.0",
                  "594.0",
                  "28",
                  "30.08"
                ],
                [
                  "37",
                  "332.5",
                  "142.5",
                  "0.0",
                  "228.0",
                  "0.0",
                  "932.0",
                  "594.0",
                  "90",
                  "37.72"
                ],
                [
                  "38",
                  "475.0",
                  "0.0",
                  "0.0",
                  "228.0",
                  "0.0",
                  "932.0",
                  "594.0",
                  "90",
                  "42.23"
                ],
                [
                  "39",
                  "237.5",
                  "237.5",
                  "0.0",
                  "228.0",
                  "0.0",
                  "932.0",
                  "594.0",
                  "180",
                  "36.25"
                ],
                [
                  "40",
                  "342.0",
                  "38.0",
                  "0.0",
                  "228.0",
                  "0.0",
                  "932.0",
                  "670.0",
                  "90",
                  "50.46"
                ],
                [
                  "41",
                  "427.5",
                  "47.5",
                  "0.0",
                  "228.0",
                  "0.0",
                  "932.0",
                  "594.0",
                  "365",
                  "43.7"
                ],
                [
                  "42",
                  "237.5",
                  "237.5",
                  "0.0",
                  "228.0",
                  "0.0",
                  "932.0",
                  "594.0",
                  "365",
                  "39.0"
                ],
                [
                  "43",
                  "380.0",
                  "0.0",
                  "0.0",
                  "228.0",
                  "0.0",
                  "932.0",
                  "670.0",
                  "180",
                  "53.1"
                ],
                [
                  "44",
                  "427.5",
                  "47.5",
                  "0.0",
                  "228.0",
                  "0.0",
                  "932.0",
                  "594.0",
                  "90",
                  "41.54"
                ],
                [
                  "45",
                  "427.5",
                  "47.5",
                  "0.0",
                  "228.0",
                  "0.0",
                  "932.0",
                  "594.0",
                  "7",
                  "35.08"
                ],
                [
                  "46",
                  "349.0",
                  "0.0",
                  "0.0",
                  "192.0",
                  "0.0",
                  "1047.0",
                  "806.9",
                  "3",
                  "15.05"
                ],
                [
                  "47",
                  "380.0",
                  "95.0",
                  "0.0",
                  "228.0",
                  "0.0",
                  "932.0",
                  "594.0",
                  "180",
                  "40.76"
                ],
                [
                  "48",
                  "237.5",
                  "237.5",
                  "0.0",
                  "228.0",
                  "0.0",
                  "932.0",
                  "594.0",
                  "7",
                  "26.26"
                ],
                [
                  "49",
                  "380.0",
                  "95.0",
                  "0.0",
                  "228.0",
                  "0.0",
                  "932.0",
                  "594.0",
                  "7",
                  "32.82"
                ]
              ],
              "shape": {
                "columns": 9,
                "rows": 1030
              }
            },
            "text/html": [
              "<div>\n",
              "<style scoped>\n",
              "    .dataframe tbody tr th:only-of-type {\n",
              "        vertical-align: middle;\n",
              "    }\n",
              "\n",
              "    .dataframe tbody tr th {\n",
              "        vertical-align: top;\n",
              "    }\n",
              "\n",
              "    .dataframe thead th {\n",
              "        text-align: right;\n",
              "    }\n",
              "</style>\n",
              "<table border=\"1\" class=\"dataframe\">\n",
              "  <thead>\n",
              "    <tr style=\"text-align: right;\">\n",
              "      <th></th>\n",
              "      <th>CementComponent</th>\n",
              "      <th>BlastFurnaceSlag</th>\n",
              "      <th>FlyAshComponent</th>\n",
              "      <th>WaterComponent</th>\n",
              "      <th>SuperplasticizerComponent</th>\n",
              "      <th>CoarseAggregateComponent</th>\n",
              "      <th>FineAggregateComponent</th>\n",
              "      <th>AgeInDays</th>\n",
              "      <th>Strength</th>\n",
              "    </tr>\n",
              "  </thead>\n",
              "  <tbody>\n",
              "    <tr>\n",
              "      <th>0</th>\n",
              "      <td>540.0</td>\n",
              "      <td>0.0</td>\n",
              "      <td>0.0</td>\n",
              "      <td>162.0</td>\n",
              "      <td>2.5</td>\n",
              "      <td>1040.0</td>\n",
              "      <td>676.0</td>\n",
              "      <td>28</td>\n",
              "      <td>79.99</td>\n",
              "    </tr>\n",
              "    <tr>\n",
              "      <th>1</th>\n",
              "      <td>540.0</td>\n",
              "      <td>0.0</td>\n",
              "      <td>0.0</td>\n",
              "      <td>162.0</td>\n",
              "      <td>2.5</td>\n",
              "      <td>1055.0</td>\n",
              "      <td>676.0</td>\n",
              "      <td>28</td>\n",
              "      <td>61.89</td>\n",
              "    </tr>\n",
              "    <tr>\n",
              "      <th>2</th>\n",
              "      <td>332.5</td>\n",
              "      <td>142.5</td>\n",
              "      <td>0.0</td>\n",
              "      <td>228.0</td>\n",
              "      <td>0.0</td>\n",
              "      <td>932.0</td>\n",
              "      <td>594.0</td>\n",
              "      <td>270</td>\n",
              "      <td>40.27</td>\n",
              "    </tr>\n",
              "    <tr>\n",
              "      <th>3</th>\n",
              "      <td>332.5</td>\n",
              "      <td>142.5</td>\n",
              "      <td>0.0</td>\n",
              "      <td>228.0</td>\n",
              "      <td>0.0</td>\n",
              "      <td>932.0</td>\n",
              "      <td>594.0</td>\n",
              "      <td>365</td>\n",
              "      <td>41.05</td>\n",
              "    </tr>\n",
              "    <tr>\n",
              "      <th>4</th>\n",
              "      <td>198.6</td>\n",
              "      <td>132.4</td>\n",
              "      <td>0.0</td>\n",
              "      <td>192.0</td>\n",
              "      <td>0.0</td>\n",
              "      <td>978.4</td>\n",
              "      <td>825.5</td>\n",
              "      <td>360</td>\n",
              "      <td>44.30</td>\n",
              "    </tr>\n",
              "    <tr>\n",
              "      <th>...</th>\n",
              "      <td>...</td>\n",
              "      <td>...</td>\n",
              "      <td>...</td>\n",
              "      <td>...</td>\n",
              "      <td>...</td>\n",
              "      <td>...</td>\n",
              "      <td>...</td>\n",
              "      <td>...</td>\n",
              "      <td>...</td>\n",
              "    </tr>\n",
              "    <tr>\n",
              "      <th>1025</th>\n",
              "      <td>276.4</td>\n",
              "      <td>116.0</td>\n",
              "      <td>90.3</td>\n",
              "      <td>179.6</td>\n",
              "      <td>8.9</td>\n",
              "      <td>870.1</td>\n",
              "      <td>768.3</td>\n",
              "      <td>28</td>\n",
              "      <td>44.28</td>\n",
              "    </tr>\n",
              "    <tr>\n",
              "      <th>1026</th>\n",
              "      <td>322.2</td>\n",
              "      <td>0.0</td>\n",
              "      <td>115.6</td>\n",
              "      <td>196.0</td>\n",
              "      <td>10.4</td>\n",
              "      <td>817.9</td>\n",
              "      <td>813.4</td>\n",
              "      <td>28</td>\n",
              "      <td>31.18</td>\n",
              "    </tr>\n",
              "    <tr>\n",
              "      <th>1027</th>\n",
              "      <td>148.5</td>\n",
              "      <td>139.4</td>\n",
              "      <td>108.6</td>\n",
              "      <td>192.7</td>\n",
              "      <td>6.1</td>\n",
              "      <td>892.4</td>\n",
              "      <td>780.0</td>\n",
              "      <td>28</td>\n",
              "      <td>23.70</td>\n",
              "    </tr>\n",
              "    <tr>\n",
              "      <th>1028</th>\n",
              "      <td>159.1</td>\n",
              "      <td>186.7</td>\n",
              "      <td>0.0</td>\n",
              "      <td>175.6</td>\n",
              "      <td>11.3</td>\n",
              "      <td>989.6</td>\n",
              "      <td>788.9</td>\n",
              "      <td>28</td>\n",
              "      <td>32.77</td>\n",
              "    </tr>\n",
              "    <tr>\n",
              "      <th>1029</th>\n",
              "      <td>260.9</td>\n",
              "      <td>100.5</td>\n",
              "      <td>78.3</td>\n",
              "      <td>200.6</td>\n",
              "      <td>8.6</td>\n",
              "      <td>864.5</td>\n",
              "      <td>761.5</td>\n",
              "      <td>28</td>\n",
              "      <td>32.40</td>\n",
              "    </tr>\n",
              "  </tbody>\n",
              "</table>\n",
              "<p>1030 rows × 9 columns</p>\n",
              "</div>"
            ],
            "text/plain": [
              "      CementComponent   BlastFurnaceSlag  FlyAshComponent  WaterComponent  \\\n",
              "0                540.0               0.0              0.0           162.0   \n",
              "1                540.0               0.0              0.0           162.0   \n",
              "2                332.5             142.5              0.0           228.0   \n",
              "3                332.5             142.5              0.0           228.0   \n",
              "4                198.6             132.4              0.0           192.0   \n",
              "...                ...               ...              ...             ...   \n",
              "1025             276.4             116.0             90.3           179.6   \n",
              "1026             322.2               0.0            115.6           196.0   \n",
              "1027             148.5             139.4            108.6           192.7   \n",
              "1028             159.1             186.7              0.0           175.6   \n",
              "1029             260.9             100.5             78.3           200.6   \n",
              "\n",
              "      SuperplasticizerComponent  CoarseAggregateComponent  \\\n",
              "0                           2.5                    1040.0   \n",
              "1                           2.5                    1055.0   \n",
              "2                           0.0                     932.0   \n",
              "3                           0.0                     932.0   \n",
              "4                           0.0                     978.4   \n",
              "...                         ...                       ...   \n",
              "1025                        8.9                     870.1   \n",
              "1026                       10.4                     817.9   \n",
              "1027                        6.1                     892.4   \n",
              "1028                       11.3                     989.6   \n",
              "1029                        8.6                     864.5   \n",
              "\n",
              "      FineAggregateComponent  AgeInDays  Strength  \n",
              "0                      676.0         28     79.99  \n",
              "1                      676.0         28     61.89  \n",
              "2                      594.0        270     40.27  \n",
              "3                      594.0        365     41.05  \n",
              "4                      825.5        360     44.30  \n",
              "...                      ...        ...       ...  \n",
              "1025                   768.3         28     44.28  \n",
              "1026                   813.4         28     31.18  \n",
              "1027                   780.0         28     23.70  \n",
              "1028                   788.9         28     32.77  \n",
              "1029                   761.5         28     32.40  \n",
              "\n",
              "[1030 rows x 9 columns]"
            ]
          },
          "execution_count": 3,
          "metadata": {},
          "output_type": "execute_result"
        }
      ],
      "source": [
        "df"
      ]
    },
    {
      "cell_type": "code",
      "execution_count": 4,
      "metadata": {},
      "outputs": [
        {
          "data": {
            "text/plain": [
              "((824, 8), (206, 8), (824,), (206,))"
            ]
          },
          "execution_count": 4,
          "metadata": {},
          "output_type": "execute_result"
        }
      ],
      "source": [
        "X = df.drop(columns=['Strength'])\n",
        "y = df['Strength']\n",
        "\n",
        "X_train, X_test, y_train, y_test = train_test_split(X, y, test_size=0.2, random_state=42)\n",
        "X_train.shape, X_test.shape, y_train.shape, y_test.shape"
      ]
    },
    {
      "cell_type": "code",
      "execution_count": 5,
      "metadata": {},
      "outputs": [],
      "source": [
        "train_dataset = CreateDataset(X_train, y_train)\n",
        "test_dataset = CreateDataset(X_test, y_test)\n",
        "\n",
        "train_dataloader = DataLoader(train_dataset,\n",
        "                              batch_size=40,\n",
        "                              num_workers=0\n",
        "                             )\n",
        "\n",
        "test_dataloader = DataLoader(test_dataset,\n",
        "                              batch_size=40,\n",
        "                              num_workers=0\n",
        "                             )"
      ]
    },
    {
      "cell_type": "code",
      "execution_count": 6,
      "metadata": {},
      "outputs": [],
      "source": [
        "def objective(trial):\n",
        "    lr = trial.suggest_float(\"lr\", 1e-5, 1e-2, log=True)\n",
        "    hidden1 = trial.suggest_int(\"hidden1\", 64, 512)\n",
        "    hidden2 = trial.suggest_int(\"hidden2\", 32, hidden1)\n",
        "    hidden3 = trial.suggest_int(\"hidden3\", 16, hidden2)\n",
        "\n",
        "    class LinearModel(nn.Module):\n",
        "        def __init__(self, in_dim, out_dim=1):\n",
        "            super().__init__()\n",
        "            self.features = nn.Sequential(\n",
        "                nn.Linear(in_dim, hidden1),\n",
        "                nn.ReLU(),\n",
        "                nn.Linear(hidden1, hidden2),\n",
        "                nn.ReLU(),\n",
        "                nn.Linear(hidden2, hidden3),\n",
        "                nn.ReLU(),\n",
        "                nn.Linear(hidden3, out_dim),\n",
        "            )\n",
        "        def forward(self, x):\n",
        "            return self.features(x)\n",
        "\n",
        "    model = LinearModel(in_dim=X_train.shape[1], out_dim=1)\n",
        "    optimizer = torch.optim.Adam(model.parameters(), lr=lr)\n",
        "    criterion = nn.MSELoss()\n",
        "\n",
        "    trainer = RegressorTrainer(model=model,\n",
        "                                criterion=criterion,\n",
        "                                optimizer=optimizer,\n",
        "                                device='cpu')\n",
        "\n",
        "    trainer.fit(train_dataloader,\n",
        "                test_dataloader,\n",
        "                num_epoch=20,\n",
        "                info_every_iter=20,\n",
        "                show_val_metrics=False)\n",
        "\n",
        "    return trainer.metrics['train_loss'][-1]"
      ]
    },
    {
      "cell_type": "code",
      "execution_count": 7,
      "metadata": {},
      "outputs": [
        {
          "name": "stderr",
          "output_type": "stream",
          "text": [
            "[I 2025-05-02 12:03:32,033] A new study created in memory with name: no-name-07272458-0b41-48f2-95b0-33f03ca88bb6\n"
          ]
        },
        {
          "data": {
            "application/vnd.jupyter.widget-view+json": {
              "model_id": "cf4c1cd312db49a799b3080c6c9de017",
              "version_major": 2,
              "version_minor": 0
            },
            "text/plain": [
              "  0%|          | 0/20 [00:00<?, ?it/s]"
            ]
          },
          "metadata": {},
          "output_type": "display_data"
        },
        {
          "name": "stderr",
          "output_type": "stream",
          "text": [
            "[I 2025-05-02 12:03:32,663] Trial 0 finished with value: 130.6831765035981 and parameters: {'lr': 0.0009118694879138537, 'hidden1': 112, 'hidden2': 43, 'hidden3': 29}. Best is trial 0 with value: 130.6831765035981.\n"
          ]
        },
        {
          "name": "stdout",
          "output_type": "stream",
          "text": [
            "Epoch [20/20] Train Loss: 130.6832 MSE: 130.6832 MAE: 9.2615 RMSE: 11.4317\n"
          ]
        },
        {
          "data": {
            "application/vnd.jupyter.widget-view+json": {
              "model_id": "38c9066cdf6c42f3b8ddbcb2aa15918e",
              "version_major": 2,
              "version_minor": 0
            },
            "text/plain": [
              "  0%|          | 0/20 [00:00<?, ?it/s]"
            ]
          },
          "metadata": {},
          "output_type": "display_data"
        },
        {
          "name": "stderr",
          "output_type": "stream",
          "text": [
            "[I 2025-05-02 12:03:33,824] Trial 1 finished with value: 29.34816534542343 and parameters: {'lr': 0.0015033279936758175, 'hidden1': 510, 'hidden2': 478, 'hidden3': 110}. Best is trial 1 with value: 29.34816534542343.\n"
          ]
        },
        {
          "name": "stdout",
          "output_type": "stream",
          "text": [
            "Epoch [20/20] Train Loss: 29.3482 MSE: 29.3482 MAE: 4.1383 RMSE: 5.4174\n"
          ]
        },
        {
          "data": {
            "application/vnd.jupyter.widget-view+json": {
              "model_id": "c21f14809b33415f8bab04f8c1376132",
              "version_major": 2,
              "version_minor": 0
            },
            "text/plain": [
              "  0%|          | 0/20 [00:00<?, ?it/s]"
            ]
          },
          "metadata": {},
          "output_type": "display_data"
        },
        {
          "name": "stderr",
          "output_type": "stream",
          "text": [
            "[I 2025-05-02 12:03:34,507] Trial 2 finished with value: 37.09151112454609 and parameters: {'lr': 0.003954982464237354, 'hidden1': 111, 'hidden2': 88, 'hidden3': 42}. Best is trial 1 with value: 29.34816534542343.\n"
          ]
        },
        {
          "name": "stdout",
          "output_type": "stream",
          "text": [
            "Epoch [20/20] Train Loss: 37.0915 MSE: 37.0915 MAE: 4.6735 RMSE: 6.0903\n"
          ]
        },
        {
          "data": {
            "application/vnd.jupyter.widget-view+json": {
              "model_id": "033fc8aa232745ec8bc768a1a68dfd26",
              "version_major": 2,
              "version_minor": 0
            },
            "text/plain": [
              "  0%|          | 0/20 [00:00<?, ?it/s]"
            ]
          },
          "metadata": {},
          "output_type": "display_data"
        },
        {
          "name": "stderr",
          "output_type": "stream",
          "text": [
            "[I 2025-05-02 12:03:35,318] Trial 3 finished with value: 176.61419418483104 and parameters: {'lr': 0.0001790092067401318, 'hidden1': 310, 'hidden2': 192, 'hidden3': 101}. Best is trial 1 with value: 29.34816534542343.\n"
          ]
        },
        {
          "name": "stdout",
          "output_type": "stream",
          "text": [
            "Epoch [20/20] Train Loss: 176.6142 MSE: 176.6142 MAE: 10.7952 RMSE: 13.2896\n"
          ]
        },
        {
          "data": {
            "application/vnd.jupyter.widget-view+json": {
              "model_id": "dea0e06d78ce46e79082d4ac8833cbc4",
              "version_major": 2,
              "version_minor": 0
            },
            "text/plain": [
              "  0%|          | 0/20 [00:00<?, ?it/s]"
            ]
          },
          "metadata": {},
          "output_type": "display_data"
        },
        {
          "name": "stderr",
          "output_type": "stream",
          "text": [
            "[I 2025-05-02 12:03:36,033] Trial 4 finished with value: 26.537802224020357 and parameters: {'lr': 0.005879062985942876, 'hidden1': 305, 'hidden2': 155, 'hidden3': 78}. Best is trial 4 with value: 26.537802224020357.\n"
          ]
        },
        {
          "name": "stdout",
          "output_type": "stream",
          "text": [
            "Epoch [20/20] Train Loss: 26.5378 MSE: 26.5378 MAE: 3.9355 RMSE: 5.1515\n"
          ]
        }
      ],
      "source": [
        "study = optuna.create_study(direction=\"minimize\")\n",
        "study.optimize(objective, n_trials=5)"
      ]
    },
    {
      "cell_type": "code",
      "execution_count": 8,
      "metadata": {},
      "outputs": [
        {
          "name": "stdout",
          "output_type": "stream",
          "text": [
            "Best trial:\n",
            "{'lr': 0.005879062985942876, 'hidden1': 305, 'hidden2': 155, 'hidden3': 78}\n"
          ]
        }
      ],
      "source": [
        "print(\"Best trial:\")\n",
        "print(study.best_trial.params)"
      ]
    },
    {
      "cell_type": "code",
      "execution_count": 9,
      "metadata": {},
      "outputs": [
        {
          "data": {
            "application/vnd.jupyter.widget-view+json": {
              "model_id": "68af78fee87042e1827da831d53e513c",
              "version_major": 2,
              "version_minor": 0
            },
            "text/plain": [
              "  0%|          | 0/20 [00:00<?, ?it/s]"
            ]
          },
          "metadata": {},
          "output_type": "display_data"
        },
        {
          "name": "stdout",
          "output_type": "stream",
          "text": [
            "Epoch [1/20] Train Loss: 1359.0050 MSE: 1359.0049 MAE: 32.7752 RMSE: 36.8647\n",
            "Epoch [2/20] Train Loss: 369.6757 MSE: 369.6756 MAE: 14.9487 RMSE: 19.2270\n",
            "Epoch [3/20] Train Loss: 221.4427 MSE: 221.4427 MAE: 12.0597 RMSE: 14.8810\n",
            "Epoch [4/20] Train Loss: 198.4956 MSE: 198.4957 MAE: 11.3621 RMSE: 14.0888\n",
            "Epoch [5/20] Train Loss: 169.7581 MSE: 169.7581 MAE: 10.6264 RMSE: 13.0291\n",
            "Epoch [6/20] Train Loss: 155.4281 MSE: 155.4281 MAE: 10.1588 RMSE: 12.4671\n",
            "Epoch [7/20] Train Loss: 144.5332 MSE: 144.5332 MAE: 9.7783 RMSE: 12.0222\n",
            "Epoch [8/20] Train Loss: 133.3538 MSE: 133.3538 MAE: 9.3684 RMSE: 11.5479\n",
            "Epoch [9/20] Train Loss: 121.3408 MSE: 121.3408 MAE: 8.8917 RMSE: 11.0155\n",
            "Epoch [10/20] Train Loss: 108.2449 MSE: 108.2449 MAE: 8.3407 RMSE: 10.4041\n",
            "Epoch [11/20] Train Loss: 94.3646 MSE: 94.3646 MAE: 7.7023 RMSE: 9.7141\n",
            "Epoch [12/20] Train Loss: 80.6079 MSE: 80.6078 MAE: 7.0275 RMSE: 8.9782\n",
            "Epoch [13/20] Train Loss: 68.4859 MSE: 68.4858 MAE: 6.4036 RMSE: 8.2756\n",
            "Epoch [14/20] Train Loss: 59.3470 MSE: 59.3470 MAE: 5.8951 RMSE: 7.7037\n",
            "Epoch [15/20] Train Loss: 53.2139 MSE: 53.2139 MAE: 5.5264 RMSE: 7.2948\n",
            "Epoch [16/20] Train Loss: 49.2213 MSE: 49.2213 MAE: 5.2934 RMSE: 7.0158\n",
            "Epoch [17/20] Train Loss: 46.3084 MSE: 46.3084 MAE: 5.1329 RMSE: 6.8050\n",
            "Epoch [18/20] Train Loss: 44.0470 MSE: 44.0470 MAE: 5.0095 RMSE: 6.6368\n",
            "Epoch [19/20] Train Loss: 42.1439 MSE: 42.1439 MAE: 4.9042 RMSE: 6.4918\n",
            "Epoch [20/20] Train Loss: 40.5268 MSE: 40.5268 MAE: 4.8162 RMSE: 6.3661\n"
          ]
        }
      ],
      "source": [
        "class Model(torch.nn.Module):\n",
        "    def __init__(self, in_dim, out_dim=1):\n",
        "        super().__init__()\n",
        "        \n",
        "        self.features = torch.nn.Sequential(\n",
        "            nn.Linear(in_dim, 144),\n",
        "            torch.nn.ReLU(),\n",
        "            \n",
        "            nn.Linear(144, 72),\n",
        "            torch.nn.ReLU(),\n",
        "            \n",
        "            nn.Linear(72, 72),\n",
        "            torch.nn.ReLU(),\n",
        "            \n",
        "            nn.Linear(72, out_dim),\n",
        "        )\n",
        "    \n",
        "        \n",
        "    def forward(self, x):\n",
        "        output = self.features(x)\n",
        "        return output\n",
        "    \n",
        "\n",
        "model = Model(in_dim=X_train.shape[1], out_dim=1)\n",
        "  \n",
        "criterion = nn.MSELoss()\n",
        "optimizer = torch.optim.Adam(model.parameters(), lr=0.002)\n",
        "\n",
        "metrics, model = train_model_reg(num_epoch=20,\n",
        "                    train_dataloader = train_dataloader,\n",
        "                    test_dataloader = test_dataloader,\n",
        "                    model=model,\n",
        "                    criterion=criterion,\n",
        "                    optimizer=optimizer,\n",
        "                    )"
      ]
    },
    {
      "cell_type": "code",
      "execution_count": 10,
      "metadata": {},
      "outputs": [
        {
          "name": "stdout",
          "output_type": "stream",
          "text": [
            "R²: 0.8130\n",
            "MSE: 48.1893\n",
            "MAE: 5.4075\n"
          ]
        }
      ],
      "source": [
        "y_true = []\n",
        "y_pred = []\n",
        "\n",
        "with torch.no_grad():\n",
        "    for X_batch, y_batch in test_dataloader:\n",
        "        predictions = model(X_batch).squeeze()\n",
        "        \n",
        "        y_true.extend(y_batch.numpy())\n",
        "        y_pred.extend(predictions.numpy())\n",
        "\n",
        "r2 = r2_score(y_true, y_pred)\n",
        "mse = mean_squared_error(y_true, y_pred)\n",
        "mae = mean_absolute_error(y_true, y_pred)\n",
        "\n",
        "print(f\"R²: {r2:.4f}\")\n",
        "print(f\"MSE: {mse:.4f}\")\n",
        "print(f\"MAE: {mae:.4f}\")"
      ]
    }
  ],
  "metadata": {
    "colab": {
      "provenance": []
    },
    "kernelspec": {
      "display_name": "goit",
      "language": "python",
      "name": "python3"
    },
    "language_info": {
      "codemirror_mode": {
        "name": "ipython",
        "version": 3
      },
      "file_extension": ".py",
      "mimetype": "text/x-python",
      "name": "python",
      "nbconvert_exporter": "python",
      "pygments_lexer": "ipython3",
      "version": "3.10.16"
    }
  },
  "nbformat": 4,
  "nbformat_minor": 0
}
