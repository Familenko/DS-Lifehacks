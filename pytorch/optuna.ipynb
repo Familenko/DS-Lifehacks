{
  "cells": [
    {
      "cell_type": "code",
      "execution_count": 1,
      "metadata": {},
      "outputs": [],
      "source": [
        "from collections import defaultdict\n",
        "\n",
        "import pandas as pd\n",
        "import numpy as np\n",
        "import matplotlib.pyplot as plt\n",
        "import seaborn as sns\n",
        "\n",
        "from ydata_profiling import ProfileReport\n",
        "\n",
        "from torch.utils.data import Dataset, DataLoader\n",
        "from torch import nn\n",
        "import torch\n",
        "\n",
        "from sklearn.preprocessing import StandardScaler, MinMaxScaler\n",
        "from sklearn.model_selection import train_test_split\n",
        "\n",
        "from sklearn.metrics import r2_score, mean_squared_error, mean_absolute_error\n",
        "from torchmetrics import MeanSquaredError, MeanAbsoluteError\n",
        "\n",
        "import optuna"
      ]
    },
    {
      "cell_type": "code",
      "execution_count": 2,
      "metadata": {},
      "outputs": [],
      "source": [
        "df = pd.read_csv('data/ConcreteStrengthData.csv')"
      ]
    },
    {
      "cell_type": "code",
      "execution_count": 3,
      "metadata": {},
      "outputs": [
        {
          "data": {
            "application/vnd.microsoft.datawrangler.viewer.v0+json": {
              "columns": [
                {
                  "name": "index",
                  "rawType": "int64",
                  "type": "integer"
                },
                {
                  "name": "CementComponent ",
                  "rawType": "float64",
                  "type": "float"
                },
                {
                  "name": "BlastFurnaceSlag",
                  "rawType": "float64",
                  "type": "float"
                },
                {
                  "name": "FlyAshComponent",
                  "rawType": "float64",
                  "type": "float"
                },
                {
                  "name": "WaterComponent",
                  "rawType": "float64",
                  "type": "float"
                },
                {
                  "name": "SuperplasticizerComponent",
                  "rawType": "float64",
                  "type": "float"
                },
                {
                  "name": "CoarseAggregateComponent",
                  "rawType": "float64",
                  "type": "float"
                },
                {
                  "name": "FineAggregateComponent",
                  "rawType": "float64",
                  "type": "float"
                },
                {
                  "name": "AgeInDays",
                  "rawType": "int64",
                  "type": "integer"
                },
                {
                  "name": "Strength",
                  "rawType": "float64",
                  "type": "float"
                }
              ],
              "conversionMethod": "pd.DataFrame",
              "ref": "3c7c3dab-2795-45e4-b494-3a07510721d9",
              "rows": [
                [
                  "0",
                  "540.0",
                  "0.0",
                  "0.0",
                  "162.0",
                  "2.5",
                  "1040.0",
                  "676.0",
                  "28",
                  "79.99"
                ],
                [
                  "1",
                  "540.0",
                  "0.0",
                  "0.0",
                  "162.0",
                  "2.5",
                  "1055.0",
                  "676.0",
                  "28",
                  "61.89"
                ],
                [
                  "2",
                  "332.5",
                  "142.5",
                  "0.0",
                  "228.0",
                  "0.0",
                  "932.0",
                  "594.0",
                  "270",
                  "40.27"
                ],
                [
                  "3",
                  "332.5",
                  "142.5",
                  "0.0",
                  "228.0",
                  "0.0",
                  "932.0",
                  "594.0",
                  "365",
                  "41.05"
                ],
                [
                  "4",
                  "198.6",
                  "132.4",
                  "0.0",
                  "192.0",
                  "0.0",
                  "978.4",
                  "825.5",
                  "360",
                  "44.3"
                ],
                [
                  "5",
                  "266.0",
                  "114.0",
                  "0.0",
                  "228.0",
                  "0.0",
                  "932.0",
                  "670.0",
                  "90",
                  "47.03"
                ],
                [
                  "6",
                  "380.0",
                  "95.0",
                  "0.0",
                  "228.0",
                  "0.0",
                  "932.0",
                  "594.0",
                  "365",
                  "43.7"
                ],
                [
                  "7",
                  "380.0",
                  "95.0",
                  "0.0",
                  "228.0",
                  "0.0",
                  "932.0",
                  "594.0",
                  "28",
                  "36.45"
                ],
                [
                  "8",
                  "266.0",
                  "114.0",
                  "0.0",
                  "228.0",
                  "0.0",
                  "932.0",
                  "670.0",
                  "28",
                  "45.85"
                ],
                [
                  "9",
                  "475.0",
                  "0.0",
                  "0.0",
                  "228.0",
                  "0.0",
                  "932.0",
                  "594.0",
                  "28",
                  "39.29"
                ],
                [
                  "10",
                  "198.6",
                  "132.4",
                  "0.0",
                  "192.0",
                  "0.0",
                  "978.4",
                  "825.5",
                  "90",
                  "38.07"
                ],
                [
                  "11",
                  "198.6",
                  "132.4",
                  "0.0",
                  "192.0",
                  "0.0",
                  "978.4",
                  "825.5",
                  "28",
                  "28.02"
                ],
                [
                  "12",
                  "427.5",
                  "47.5",
                  "0.0",
                  "228.0",
                  "0.0",
                  "932.0",
                  "594.0",
                  "270",
                  "43.01"
                ],
                [
                  "13",
                  "190.0",
                  "190.0",
                  "0.0",
                  "228.0",
                  "0.0",
                  "932.0",
                  "670.0",
                  "90",
                  "42.33"
                ],
                [
                  "14",
                  "304.0",
                  "76.0",
                  "0.0",
                  "228.0",
                  "0.0",
                  "932.0",
                  "670.0",
                  "28",
                  "47.81"
                ],
                [
                  "15",
                  "380.0",
                  "0.0",
                  "0.0",
                  "228.0",
                  "0.0",
                  "932.0",
                  "670.0",
                  "90",
                  "52.91"
                ],
                [
                  "16",
                  "139.6",
                  "209.4",
                  "0.0",
                  "192.0",
                  "0.0",
                  "1047.0",
                  "806.9",
                  "90",
                  "39.36"
                ],
                [
                  "17",
                  "342.0",
                  "38.0",
                  "0.0",
                  "228.0",
                  "0.0",
                  "932.0",
                  "670.0",
                  "365",
                  "56.14"
                ],
                [
                  "18",
                  "380.0",
                  "95.0",
                  "0.0",
                  "228.0",
                  "0.0",
                  "932.0",
                  "594.0",
                  "90",
                  "40.56"
                ],
                [
                  "19",
                  "475.0",
                  "0.0",
                  "0.0",
                  "228.0",
                  "0.0",
                  "932.0",
                  "594.0",
                  "180",
                  "42.62"
                ],
                [
                  "20",
                  "427.5",
                  "47.5",
                  "0.0",
                  "228.0",
                  "0.0",
                  "932.0",
                  "594.0",
                  "180",
                  "41.84"
                ],
                [
                  "21",
                  "139.6",
                  "209.4",
                  "0.0",
                  "192.0",
                  "0.0",
                  "1047.0",
                  "806.9",
                  "28",
                  "28.24"
                ],
                [
                  "22",
                  "139.6",
                  "209.4",
                  "0.0",
                  "192.0",
                  "0.0",
                  "1047.0",
                  "806.9",
                  "3",
                  "8.06"
                ],
                [
                  "23",
                  "139.6",
                  "209.4",
                  "0.0",
                  "192.0",
                  "0.0",
                  "1047.0",
                  "806.9",
                  "180",
                  "44.21"
                ],
                [
                  "24",
                  "380.0",
                  "0.0",
                  "0.0",
                  "228.0",
                  "0.0",
                  "932.0",
                  "670.0",
                  "365",
                  "52.52"
                ],
                [
                  "25",
                  "380.0",
                  "0.0",
                  "0.0",
                  "228.0",
                  "0.0",
                  "932.0",
                  "670.0",
                  "270",
                  "53.3"
                ],
                [
                  "26",
                  "380.0",
                  "95.0",
                  "0.0",
                  "228.0",
                  "0.0",
                  "932.0",
                  "594.0",
                  "270",
                  "41.15"
                ],
                [
                  "27",
                  "342.0",
                  "38.0",
                  "0.0",
                  "228.0",
                  "0.0",
                  "932.0",
                  "670.0",
                  "180",
                  "52.12"
                ],
                [
                  "28",
                  "427.5",
                  "47.5",
                  "0.0",
                  "228.0",
                  "0.0",
                  "932.0",
                  "594.0",
                  "28",
                  "37.43"
                ],
                [
                  "29",
                  "475.0",
                  "0.0",
                  "0.0",
                  "228.0",
                  "0.0",
                  "932.0",
                  "594.0",
                  "7",
                  "38.6"
                ],
                [
                  "30",
                  "304.0",
                  "76.0",
                  "0.0",
                  "228.0",
                  "0.0",
                  "932.0",
                  "670.0",
                  "365",
                  "55.26"
                ],
                [
                  "31",
                  "266.0",
                  "114.0",
                  "0.0",
                  "228.0",
                  "0.0",
                  "932.0",
                  "670.0",
                  "365",
                  "52.91"
                ],
                [
                  "32",
                  "198.6",
                  "132.4",
                  "0.0",
                  "192.0",
                  "0.0",
                  "978.4",
                  "825.5",
                  "180",
                  "41.72"
                ],
                [
                  "33",
                  "475.0",
                  "0.0",
                  "0.0",
                  "228.0",
                  "0.0",
                  "932.0",
                  "594.0",
                  "270",
                  "42.13"
                ],
                [
                  "34",
                  "190.0",
                  "190.0",
                  "0.0",
                  "228.0",
                  "0.0",
                  "932.0",
                  "670.0",
                  "365",
                  "53.69"
                ],
                [
                  "35",
                  "237.5",
                  "237.5",
                  "0.0",
                  "228.0",
                  "0.0",
                  "932.0",
                  "594.0",
                  "270",
                  "38.41"
                ],
                [
                  "36",
                  "237.5",
                  "237.5",
                  "0.0",
                  "228.0",
                  "0.0",
                  "932.0",
                  "594.0",
                  "28",
                  "30.08"
                ],
                [
                  "37",
                  "332.5",
                  "142.5",
                  "0.0",
                  "228.0",
                  "0.0",
                  "932.0",
                  "594.0",
                  "90",
                  "37.72"
                ],
                [
                  "38",
                  "475.0",
                  "0.0",
                  "0.0",
                  "228.0",
                  "0.0",
                  "932.0",
                  "594.0",
                  "90",
                  "42.23"
                ],
                [
                  "39",
                  "237.5",
                  "237.5",
                  "0.0",
                  "228.0",
                  "0.0",
                  "932.0",
                  "594.0",
                  "180",
                  "36.25"
                ],
                [
                  "40",
                  "342.0",
                  "38.0",
                  "0.0",
                  "228.0",
                  "0.0",
                  "932.0",
                  "670.0",
                  "90",
                  "50.46"
                ],
                [
                  "41",
                  "427.5",
                  "47.5",
                  "0.0",
                  "228.0",
                  "0.0",
                  "932.0",
                  "594.0",
                  "365",
                  "43.7"
                ],
                [
                  "42",
                  "237.5",
                  "237.5",
                  "0.0",
                  "228.0",
                  "0.0",
                  "932.0",
                  "594.0",
                  "365",
                  "39.0"
                ],
                [
                  "43",
                  "380.0",
                  "0.0",
                  "0.0",
                  "228.0",
                  "0.0",
                  "932.0",
                  "670.0",
                  "180",
                  "53.1"
                ],
                [
                  "44",
                  "427.5",
                  "47.5",
                  "0.0",
                  "228.0",
                  "0.0",
                  "932.0",
                  "594.0",
                  "90",
                  "41.54"
                ],
                [
                  "45",
                  "427.5",
                  "47.5",
                  "0.0",
                  "228.0",
                  "0.0",
                  "932.0",
                  "594.0",
                  "7",
                  "35.08"
                ],
                [
                  "46",
                  "349.0",
                  "0.0",
                  "0.0",
                  "192.0",
                  "0.0",
                  "1047.0",
                  "806.9",
                  "3",
                  "15.05"
                ],
                [
                  "47",
                  "380.0",
                  "95.0",
                  "0.0",
                  "228.0",
                  "0.0",
                  "932.0",
                  "594.0",
                  "180",
                  "40.76"
                ],
                [
                  "48",
                  "237.5",
                  "237.5",
                  "0.0",
                  "228.0",
                  "0.0",
                  "932.0",
                  "594.0",
                  "7",
                  "26.26"
                ],
                [
                  "49",
                  "380.0",
                  "95.0",
                  "0.0",
                  "228.0",
                  "0.0",
                  "932.0",
                  "594.0",
                  "7",
                  "32.82"
                ]
              ],
              "shape": {
                "columns": 9,
                "rows": 1030
              }
            },
            "text/html": [
              "<div>\n",
              "<style scoped>\n",
              "    .dataframe tbody tr th:only-of-type {\n",
              "        vertical-align: middle;\n",
              "    }\n",
              "\n",
              "    .dataframe tbody tr th {\n",
              "        vertical-align: top;\n",
              "    }\n",
              "\n",
              "    .dataframe thead th {\n",
              "        text-align: right;\n",
              "    }\n",
              "</style>\n",
              "<table border=\"1\" class=\"dataframe\">\n",
              "  <thead>\n",
              "    <tr style=\"text-align: right;\">\n",
              "      <th></th>\n",
              "      <th>CementComponent</th>\n",
              "      <th>BlastFurnaceSlag</th>\n",
              "      <th>FlyAshComponent</th>\n",
              "      <th>WaterComponent</th>\n",
              "      <th>SuperplasticizerComponent</th>\n",
              "      <th>CoarseAggregateComponent</th>\n",
              "      <th>FineAggregateComponent</th>\n",
              "      <th>AgeInDays</th>\n",
              "      <th>Strength</th>\n",
              "    </tr>\n",
              "  </thead>\n",
              "  <tbody>\n",
              "    <tr>\n",
              "      <th>0</th>\n",
              "      <td>540.0</td>\n",
              "      <td>0.0</td>\n",
              "      <td>0.0</td>\n",
              "      <td>162.0</td>\n",
              "      <td>2.5</td>\n",
              "      <td>1040.0</td>\n",
              "      <td>676.0</td>\n",
              "      <td>28</td>\n",
              "      <td>79.99</td>\n",
              "    </tr>\n",
              "    <tr>\n",
              "      <th>1</th>\n",
              "      <td>540.0</td>\n",
              "      <td>0.0</td>\n",
              "      <td>0.0</td>\n",
              "      <td>162.0</td>\n",
              "      <td>2.5</td>\n",
              "      <td>1055.0</td>\n",
              "      <td>676.0</td>\n",
              "      <td>28</td>\n",
              "      <td>61.89</td>\n",
              "    </tr>\n",
              "    <tr>\n",
              "      <th>2</th>\n",
              "      <td>332.5</td>\n",
              "      <td>142.5</td>\n",
              "      <td>0.0</td>\n",
              "      <td>228.0</td>\n",
              "      <td>0.0</td>\n",
              "      <td>932.0</td>\n",
              "      <td>594.0</td>\n",
              "      <td>270</td>\n",
              "      <td>40.27</td>\n",
              "    </tr>\n",
              "    <tr>\n",
              "      <th>3</th>\n",
              "      <td>332.5</td>\n",
              "      <td>142.5</td>\n",
              "      <td>0.0</td>\n",
              "      <td>228.0</td>\n",
              "      <td>0.0</td>\n",
              "      <td>932.0</td>\n",
              "      <td>594.0</td>\n",
              "      <td>365</td>\n",
              "      <td>41.05</td>\n",
              "    </tr>\n",
              "    <tr>\n",
              "      <th>4</th>\n",
              "      <td>198.6</td>\n",
              "      <td>132.4</td>\n",
              "      <td>0.0</td>\n",
              "      <td>192.0</td>\n",
              "      <td>0.0</td>\n",
              "      <td>978.4</td>\n",
              "      <td>825.5</td>\n",
              "      <td>360</td>\n",
              "      <td>44.30</td>\n",
              "    </tr>\n",
              "    <tr>\n",
              "      <th>...</th>\n",
              "      <td>...</td>\n",
              "      <td>...</td>\n",
              "      <td>...</td>\n",
              "      <td>...</td>\n",
              "      <td>...</td>\n",
              "      <td>...</td>\n",
              "      <td>...</td>\n",
              "      <td>...</td>\n",
              "      <td>...</td>\n",
              "    </tr>\n",
              "    <tr>\n",
              "      <th>1025</th>\n",
              "      <td>276.4</td>\n",
              "      <td>116.0</td>\n",
              "      <td>90.3</td>\n",
              "      <td>179.6</td>\n",
              "      <td>8.9</td>\n",
              "      <td>870.1</td>\n",
              "      <td>768.3</td>\n",
              "      <td>28</td>\n",
              "      <td>44.28</td>\n",
              "    </tr>\n",
              "    <tr>\n",
              "      <th>1026</th>\n",
              "      <td>322.2</td>\n",
              "      <td>0.0</td>\n",
              "      <td>115.6</td>\n",
              "      <td>196.0</td>\n",
              "      <td>10.4</td>\n",
              "      <td>817.9</td>\n",
              "      <td>813.4</td>\n",
              "      <td>28</td>\n",
              "      <td>31.18</td>\n",
              "    </tr>\n",
              "    <tr>\n",
              "      <th>1027</th>\n",
              "      <td>148.5</td>\n",
              "      <td>139.4</td>\n",
              "      <td>108.6</td>\n",
              "      <td>192.7</td>\n",
              "      <td>6.1</td>\n",
              "      <td>892.4</td>\n",
              "      <td>780.0</td>\n",
              "      <td>28</td>\n",
              "      <td>23.70</td>\n",
              "    </tr>\n",
              "    <tr>\n",
              "      <th>1028</th>\n",
              "      <td>159.1</td>\n",
              "      <td>186.7</td>\n",
              "      <td>0.0</td>\n",
              "      <td>175.6</td>\n",
              "      <td>11.3</td>\n",
              "      <td>989.6</td>\n",
              "      <td>788.9</td>\n",
              "      <td>28</td>\n",
              "      <td>32.77</td>\n",
              "    </tr>\n",
              "    <tr>\n",
              "      <th>1029</th>\n",
              "      <td>260.9</td>\n",
              "      <td>100.5</td>\n",
              "      <td>78.3</td>\n",
              "      <td>200.6</td>\n",
              "      <td>8.6</td>\n",
              "      <td>864.5</td>\n",
              "      <td>761.5</td>\n",
              "      <td>28</td>\n",
              "      <td>32.40</td>\n",
              "    </tr>\n",
              "  </tbody>\n",
              "</table>\n",
              "<p>1030 rows × 9 columns</p>\n",
              "</div>"
            ],
            "text/plain": [
              "      CementComponent   BlastFurnaceSlag  FlyAshComponent  WaterComponent  \\\n",
              "0                540.0               0.0              0.0           162.0   \n",
              "1                540.0               0.0              0.0           162.0   \n",
              "2                332.5             142.5              0.0           228.0   \n",
              "3                332.5             142.5              0.0           228.0   \n",
              "4                198.6             132.4              0.0           192.0   \n",
              "...                ...               ...              ...             ...   \n",
              "1025             276.4             116.0             90.3           179.6   \n",
              "1026             322.2               0.0            115.6           196.0   \n",
              "1027             148.5             139.4            108.6           192.7   \n",
              "1028             159.1             186.7              0.0           175.6   \n",
              "1029             260.9             100.5             78.3           200.6   \n",
              "\n",
              "      SuperplasticizerComponent  CoarseAggregateComponent  \\\n",
              "0                           2.5                    1040.0   \n",
              "1                           2.5                    1055.0   \n",
              "2                           0.0                     932.0   \n",
              "3                           0.0                     932.0   \n",
              "4                           0.0                     978.4   \n",
              "...                         ...                       ...   \n",
              "1025                        8.9                     870.1   \n",
              "1026                       10.4                     817.9   \n",
              "1027                        6.1                     892.4   \n",
              "1028                       11.3                     989.6   \n",
              "1029                        8.6                     864.5   \n",
              "\n",
              "      FineAggregateComponent  AgeInDays  Strength  \n",
              "0                      676.0         28     79.99  \n",
              "1                      676.0         28     61.89  \n",
              "2                      594.0        270     40.27  \n",
              "3                      594.0        365     41.05  \n",
              "4                      825.5        360     44.30  \n",
              "...                      ...        ...       ...  \n",
              "1025                   768.3         28     44.28  \n",
              "1026                   813.4         28     31.18  \n",
              "1027                   780.0         28     23.70  \n",
              "1028                   788.9         28     32.77  \n",
              "1029                   761.5         28     32.40  \n",
              "\n",
              "[1030 rows x 9 columns]"
            ]
          },
          "execution_count": 3,
          "metadata": {},
          "output_type": "execute_result"
        }
      ],
      "source": [
        "df"
      ]
    },
    {
      "cell_type": "code",
      "execution_count": 4,
      "metadata": {},
      "outputs": [],
      "source": [
        "class CreateDataset(Dataset):\n",
        "    def __init__(self, X, y, scaler='StandardScaler'):        \n",
        "        self.X = X.reset_index(drop=True)\n",
        "        self.y = y.reset_index(drop=True)\n",
        "        self.scaler = None\n",
        "\n",
        "        if scaler == 'StandardScaler':\n",
        "            self.scaler = StandardScaler()\n",
        "            self.X = self.scaler.fit_transform(self.X)\n",
        "        elif scaler == 'MinMaxScaler':\n",
        "            self.scaler = MinMaxScaler()\n",
        "            self.X = self.scaler.fit_transform(self.X)\n",
        "\n",
        "    def __len__(self):\n",
        "        return len(self.y)\n",
        "\n",
        "    def __getitem__(self, idx):\n",
        "        X = torch.tensor(self.X[idx], dtype=torch.float32)\n",
        "        y = torch.tensor(self.y[idx], dtype=torch.float32)        \n",
        "        \n",
        "        return X, y"
      ]
    },
    {
      "cell_type": "code",
      "execution_count": 5,
      "metadata": {},
      "outputs": [],
      "source": [
        "def train_model_reg(num_epoch, \n",
        "                    train_dataloader, test_dataloader, \n",
        "                    model, criterion, optimizer,\n",
        "                    device=None):\n",
        "\n",
        "    if device is None:\n",
        "        device = torch.device(\"cpu\")\n",
        "    \n",
        "    metrics = defaultdict(list)\n",
        "    mse = MeanSquaredError().to(device)\n",
        "    mae = MeanAbsoluteError().to(device)\n",
        "\n",
        "    for epoch in range(num_epoch):\n",
        "        model.train()\n",
        "        train_loss = 0.0\n",
        "        train_mse = 0.0\n",
        "        train_mae = 0.0\n",
        "        \n",
        "        for data in train_dataloader:\n",
        "            inputs, targets = data\n",
        "            inputs, targets = inputs.to(device), targets.to(device)\n",
        "            inputs, targets = inputs.float(), targets.float()\n",
        "            targets = targets.reshape((targets.shape[0], 1))\n",
        "            \n",
        "            # Forward pass\n",
        "            outputs = model(inputs)\n",
        "            loss = criterion(outputs, targets)\n",
        "            \n",
        "            # Backward pass and optimization\n",
        "            optimizer.zero_grad()\n",
        "            loss.backward()\n",
        "            optimizer.step()\n",
        "            \n",
        "            # Accumulate metrics\n",
        "            train_loss += loss.item() * inputs.size(0)\n",
        "            train_mse += mse(outputs.squeeze(), targets.squeeze()).item() * inputs.size(0)\n",
        "            train_mae += mae(outputs.squeeze(), targets.squeeze()).item() * inputs.size(0)\n",
        "        \n",
        "        # Average metrics over the dataset\n",
        "        train_loss /= len(train_dataloader.dataset)\n",
        "        train_mse /= len(train_dataloader.dataset)\n",
        "        train_mae /= len(train_dataloader.dataset)\n",
        "        \n",
        "        metrics['train_loss'].append(train_loss)\n",
        "        metrics['train_mse'].append(train_mse)\n",
        "        metrics['train_mae'].append(train_mae)\n",
        "        metrics['train_rmse'].append(np.sqrt(train_mse))\n",
        "        \n",
        "        if (epoch + 1) % 10 == 0:\n",
        "            print(f\"Epoch [{epoch + 1}/{num_epoch}] \" +\n",
        "                  f\"Train Loss: {train_loss:.4f} \" +\n",
        "                  f\"MSE: {train_mse:.4f} \" +\n",
        "                  f\"MAE: {train_mae:.4f} \" +\n",
        "                  f\"RMSE: {np.sqrt(train_mse):.4f}\")\n",
        "        \n",
        "        # Eval step\n",
        "        model.eval()\n",
        "        test_loss = 0.0\n",
        "        test_mse = 0.0\n",
        "        test_mae = 0.0\n",
        "        \n",
        "        with torch.no_grad():\n",
        "            for data in test_dataloader:\n",
        "                inputs, targets = data\n",
        "                inputs, targets = inputs.to(device), targets.to(device)\n",
        "                inputs, targets = inputs.float(), targets.float()\n",
        "                targets = targets.reshape((targets.shape[0], 1))\n",
        "                \n",
        "                # Forward pass\n",
        "                outputs = model(inputs)\n",
        "                loss = criterion(outputs, targets)\n",
        "                \n",
        "                # Accumulate metrics\n",
        "                test_loss += loss.item() * inputs.size(0)\n",
        "                test_mse += mse(outputs.squeeze(), targets.squeeze()).item() * inputs.size(0)\n",
        "                test_mae += mae(outputs.squeeze(), targets.squeeze()).item() * inputs.size(0)\n",
        "        \n",
        "        # Average metrics over the dataset\n",
        "        test_loss /= len(test_dataloader.dataset)\n",
        "        test_mse /= len(test_dataloader.dataset)\n",
        "        test_mae /= len(test_dataloader.dataset)\n",
        "        \n",
        "        metrics['test_loss'].append(test_loss)\n",
        "        metrics['test_mse'].append(test_mse)\n",
        "        metrics['test_mae'].append(test_mae)\n",
        "        metrics['test_rmse'].append(np.sqrt(test_mse))\n",
        "    \n",
        "    return dict(metrics), model"
      ]
    },
    {
      "cell_type": "code",
      "execution_count": 6,
      "metadata": {},
      "outputs": [],
      "source": [
        "def plot_metrics(metrics, metric=None):\n",
        "    if metric:\n",
        "        plt.figure(figsize=(10, 6))\n",
        "        plt.plot(metrics[f\"train_{metric}\"], label=f\"Train {metric}\")\n",
        "        plt.plot(metrics[f\"test_{metric}\"], label=f\"Test {metric}\")\n",
        "        plt.xlabel('Epochs')\n",
        "        plt.ylabel(metric)\n",
        "        plt.title(metric)\n",
        "        plt.legend()\n",
        "        plt.show()\n",
        "\n",
        "    else:\n",
        "        num_metrics = len(metrics) // 2\n",
        "        cols = 2\n",
        "        rows = (num_metrics + 1) // cols\n",
        "\n",
        "        fig, axs = plt.subplots(rows, cols, figsize=(10, 6))\n",
        "        fig.suptitle('Train/Test Metrics', fontsize=16)\n",
        "        axs = axs.flatten()\n",
        "\n",
        "        for i, (key, values) in enumerate(metrics.items()):\n",
        "            if 'train_' in key:\n",
        "                metric_name = key.replace('train_', '')\n",
        "                test_key = f'test_{metric_name}'\n",
        "                if test_key in metrics:\n",
        "                    axs[i].plot(values, label=f'Train {metric_name}')\n",
        "                    axs[i].plot(metrics[test_key], label=f'Test {metric_name}')\n",
        "                    axs[i].set_title(metric_name.capitalize())\n",
        "                    axs[i].legend()\n",
        "\n",
        "        for j in range(i + 1, len(axs)):\n",
        "            axs[j].axis('off')\n",
        "\n",
        "        plt.tight_layout(rect=[0, 0, 1, 0.96])\n",
        "        plt.show()"
      ]
    },
    {
      "cell_type": "code",
      "execution_count": 7,
      "metadata": {},
      "outputs": [
        {
          "data": {
            "text/plain": [
              "((824, 8), (206, 8), (824,), (206,))"
            ]
          },
          "execution_count": 7,
          "metadata": {},
          "output_type": "execute_result"
        }
      ],
      "source": [
        "X = df.drop(columns=['Strength'])\n",
        "y = df['Strength']\n",
        "\n",
        "X_train, X_test, y_train, y_test = train_test_split(X, y, test_size=0.2, random_state=42)\n",
        "X_train.shape, X_test.shape, y_train.shape, y_test.shape"
      ]
    },
    {
      "cell_type": "code",
      "execution_count": 8,
      "metadata": {},
      "outputs": [],
      "source": [
        "train_dataset = CreateDataset(X_train, y_train)\n",
        "test_dataset = CreateDataset(X_test, y_test)\n",
        "\n",
        "train_dataloader = DataLoader(train_dataset,\n",
        "                              batch_size=40,\n",
        "                              num_workers=0\n",
        "                             )\n",
        "\n",
        "test_dataloader = DataLoader(test_dataset,\n",
        "                              batch_size=40,\n",
        "                              num_workers=0\n",
        "                             )"
      ]
    },
    {
      "cell_type": "code",
      "execution_count": 9,
      "metadata": {},
      "outputs": [],
      "source": [
        "def objective(trial):\n",
        "    lr = trial.suggest_float(\"lr\", 1e-5, 1e-2, log=True)\n",
        "    hidden1 = trial.suggest_int(\"hidden1\", 64, 512)\n",
        "    hidden2 = trial.suggest_int(\"hidden2\", 32, hidden1)\n",
        "    hidden3 = trial.suggest_int(\"hidden3\", 16, hidden2)\n",
        "\n",
        "    class LinearModel(nn.Module):\n",
        "        def __init__(self, in_dim, out_dim=1):\n",
        "            super().__init__()\n",
        "            self.features = nn.Sequential(\n",
        "                nn.Linear(in_dim, hidden1),\n",
        "                nn.ReLU(),\n",
        "                nn.Linear(hidden1, hidden2),\n",
        "                nn.ReLU(),\n",
        "                nn.Linear(hidden2, hidden3),\n",
        "                nn.ReLU(),\n",
        "                nn.Linear(hidden3, out_dim),\n",
        "            )\n",
        "        def forward(self, x):\n",
        "            return self.features(x)\n",
        "\n",
        "    model = LinearModel(in_dim=X_train.shape[1], out_dim=1)\n",
        "    optimizer = torch.optim.Adam(model.parameters(), lr=lr)\n",
        "    criterion = nn.MSELoss()\n",
        "\n",
        "    metrics, _ = train_model_reg(\n",
        "        num_epoch=20,\n",
        "        train_dataloader=train_dataloader,\n",
        "        test_dataloader=test_dataloader,\n",
        "        model=model,\n",
        "        criterion=criterion,\n",
        "        optimizer=optimizer,\n",
        "        device=torch.device(\"cpu\")\n",
        "    )\n",
        "\n",
        "    return metrics['test_mse'][-1]"
      ]
    },
    {
      "cell_type": "code",
      "execution_count": 10,
      "metadata": {},
      "outputs": [
        {
          "name": "stderr",
          "output_type": "stream",
          "text": [
            "[I 2025-04-23 18:11:26,235] A new study created in memory with name: no-name-50fd86df-1f44-41bf-9c09-e0499ce745c2\n"
          ]
        },
        {
          "name": "stdout",
          "output_type": "stream",
          "text": [
            "Epoch [10/20] Train Loss: 1531.9084 MSE: 1531.9084 MAE: 35.3401 RMSE: 39.1396\n"
          ]
        },
        {
          "name": "stderr",
          "output_type": "stream",
          "text": [
            "[I 2025-04-23 18:11:27,436] Trial 0 finished with value: 1348.4317638804612 and parameters: {'lr': 1.4102885433016613e-05, 'hidden1': 343, 'hidden2': 123, 'hidden3': 121}. Best is trial 0 with value: 1348.4317638804612.\n"
          ]
        },
        {
          "name": "stdout",
          "output_type": "stream",
          "text": [
            "Epoch [20/20] Train Loss: 1398.5868 MSE: 1398.5868 MAE: 33.4461 RMSE: 37.3977\n",
            "Epoch [10/20] Train Loss: 190.4576 MSE: 190.4576 MAE: 11.1964 RMSE: 13.8006\n"
          ]
        },
        {
          "name": "stderr",
          "output_type": "stream",
          "text": [
            "[I 2025-04-23 18:11:27,951] Trial 1 finished with value: 122.1525650765132 and parameters: {'lr': 0.0004234278768828091, 'hidden1': 432, 'hidden2': 99, 'hidden3': 41}. Best is trial 1 with value: 122.1525650765132.\n"
          ]
        },
        {
          "name": "stdout",
          "output_type": "stream",
          "text": [
            "Epoch [20/20] Train Loss: 133.1146 MSE: 133.1146 MAE: 9.3183 RMSE: 11.5375\n",
            "Epoch [10/20] Train Loss: 1427.4012 MSE: 1427.4012 MAE: 33.7421 RMSE: 37.7810\n"
          ]
        },
        {
          "name": "stderr",
          "output_type": "stream",
          "text": [
            "[I 2025-04-23 18:11:28,409] Trial 2 finished with value: 552.873287460179 and parameters: {'lr': 0.0001288863192461284, 'hidden1': 72, 'hidden2': 35, 'hidden3': 34}. Best is trial 1 with value: 122.1525650765132.\n"
          ]
        },
        {
          "name": "stdout",
          "output_type": "stream",
          "text": [
            "Epoch [20/20] Train Loss: 640.1746 MSE: 640.1746 MAE: 19.9727 RMSE: 25.3017\n",
            "Epoch [10/20] Train Loss: 45.2838 MSE: 45.2838 MAE: 5.1529 RMSE: 6.7293\n"
          ]
        },
        {
          "name": "stderr",
          "output_type": "stream",
          "text": [
            "[I 2025-04-23 18:11:28,992] Trial 3 finished with value: 49.204630583235364 and parameters: {'lr': 0.00372024925157954, 'hidden1': 445, 'hidden2': 239, 'hidden3': 156}. Best is trial 3 with value: 49.204630583235364.\n"
          ]
        },
        {
          "name": "stdout",
          "output_type": "stream",
          "text": [
            "Epoch [20/20] Train Loss: 24.8828 MSE: 24.8828 MAE: 3.8083 RMSE: 4.9883\n",
            "Epoch [10/20] Train Loss: 1502.7377 MSE: 1502.7377 MAE: 34.9274 RMSE: 38.7652\n"
          ]
        },
        {
          "name": "stderr",
          "output_type": "stream",
          "text": [
            "[I 2025-04-23 18:11:29,531] Trial 4 finished with value: 1077.981115841171 and parameters: {'lr': 1.9631349356305172e-05, 'hidden1': 232, 'hidden2': 219, 'hidden3': 181}. Best is trial 3 with value: 49.204630583235364.\n"
          ]
        },
        {
          "name": "stdout",
          "output_type": "stream",
          "text": [
            "Epoch [20/20] Train Loss: 1146.5315 MSE: 1146.5315 MAE: 29.6189 RMSE: 33.8605\n",
            "Epoch [10/20] Train Loss: 208.1136 MSE: 208.1136 MAE: 11.7160 RMSE: 14.4261\n"
          ]
        },
        {
          "name": "stderr",
          "output_type": "stream",
          "text": [
            "[I 2025-04-23 18:11:30,116] Trial 5 finished with value: 117.56774517170435 and parameters: {'lr': 0.00018816535414621996, 'hidden1': 459, 'hidden2': 256, 'hidden3': 156}. Best is trial 3 with value: 49.204630583235364.\n"
          ]
        },
        {
          "name": "stdout",
          "output_type": "stream",
          "text": [
            "Epoch [20/20] Train Loss: 131.1043 MSE: 131.1043 MAE: 9.2549 RMSE: 11.4501\n",
            "Epoch [10/20] Train Loss: 1531.3451 MSE: 1531.3451 MAE: 35.3208 RMSE: 39.1324\n"
          ]
        },
        {
          "name": "stderr",
          "output_type": "stream",
          "text": [
            "[I 2025-04-23 18:11:30,634] Trial 6 finished with value: 1374.1526471480583 and parameters: {'lr': 1.5945825901862553e-05, 'hidden1': 230, 'hidden2': 169, 'hidden3': 80}. Best is trial 3 with value: 49.204630583235364.\n"
          ]
        },
        {
          "name": "stdout",
          "output_type": "stream",
          "text": [
            "Epoch [20/20] Train Loss: 1422.6306 MSE: 1422.6306 MAE: 33.7878 RMSE: 37.7178\n",
            "Epoch [10/20] Train Loss: 974.1735 MSE: 974.1735 MAE: 26.8576 RMSE: 31.2118\n"
          ]
        },
        {
          "name": "stderr",
          "output_type": "stream",
          "text": [
            "[I 2025-04-23 18:11:31,099] Trial 7 finished with value: 183.14691265809884 and parameters: {'lr': 0.0001637409156026329, 'hidden1': 95, 'hidden2': 64, 'hidden3': 43}. Best is trial 3 with value: 49.204630583235364.\n"
          ]
        },
        {
          "name": "stdout",
          "output_type": "stream",
          "text": [
            "Epoch [20/20] Train Loss: 206.7203 MSE: 206.7203 MAE: 11.6409 RMSE: 14.3778\n",
            "Epoch [10/20] Train Loss: 1543.3404 MSE: 1543.3404 MAE: 35.4891 RMSE: 39.2854\n"
          ]
        },
        {
          "name": "stderr",
          "output_type": "stream",
          "text": [
            "[I 2025-04-23 18:11:31,588] Trial 8 finished with value: 1472.9572279846784 and parameters: {'lr': 1.1585656973549372e-05, 'hidden1': 163, 'hidden2': 113, 'hidden3': 50}. Best is trial 3 with value: 49.204630583235364.\n"
          ]
        },
        {
          "name": "stdout",
          "output_type": "stream",
          "text": [
            "Epoch [20/20] Train Loss: 1515.4978 MSE: 1515.4978 MAE: 35.1008 RMSE: 38.9294\n",
            "Epoch [10/20] Train Loss: 156.0942 MSE: 156.0942 MAE: 10.1575 RMSE: 12.4938\n"
          ]
        },
        {
          "name": "stderr",
          "output_type": "stream",
          "text": [
            "[I 2025-04-23 18:11:32,109] Trial 9 finished with value: 80.92201418089635 and parameters: {'lr': 0.0008930586381885559, 'hidden1': 388, 'hidden2': 99, 'hidden3': 35}. Best is trial 3 with value: 49.204630583235364.\n"
          ]
        },
        {
          "name": "stdout",
          "output_type": "stream",
          "text": [
            "Epoch [20/20] Train Loss: 75.8163 MSE: 75.8163 MAE: 6.8150 RMSE: 8.7073\n"
          ]
        }
      ],
      "source": [
        "study = optuna.create_study(direction=\"minimize\")\n",
        "study.optimize(objective, n_trials=10)"
      ]
    },
    {
      "cell_type": "code",
      "execution_count": 11,
      "metadata": {},
      "outputs": [
        {
          "name": "stdout",
          "output_type": "stream",
          "text": [
            "Best trial:\n",
            "{'lr': 0.00372024925157954, 'hidden1': 445, 'hidden2': 239, 'hidden3': 156}\n"
          ]
        }
      ],
      "source": [
        "print(\"Best trial:\")\n",
        "print(study.best_trial.params)"
      ]
    },
    {
      "cell_type": "code",
      "execution_count": 12,
      "metadata": {},
      "outputs": [
        {
          "name": "stdout",
          "output_type": "stream",
          "text": [
            "Epoch [10/20] Train Loss: 37.5354 MSE: 37.5354 MAE: 4.6493 RMSE: 6.1266\n",
            "Epoch [20/20] Train Loss: 24.3060 MSE: 24.3060 MAE: 3.7521 RMSE: 4.9301\n"
          ]
        }
      ],
      "source": [
        "class Model(torch.nn.Module):\n",
        "    def __init__(self, in_dim, out_dim=1):\n",
        "        super().__init__()\n",
        "        \n",
        "        self.features = torch.nn.Sequential(\n",
        "            nn.Linear(in_dim, 200),\n",
        "            torch.nn.ReLU(),\n",
        "            \n",
        "            nn.Linear(200, 128),\n",
        "            torch.nn.ReLU(),\n",
        "            \n",
        "            nn.Linear(128, 128),\n",
        "            torch.nn.ReLU(),\n",
        "            \n",
        "            nn.Linear(128, out_dim),\n",
        "        )\n",
        "    \n",
        "        \n",
        "    def forward(self, x):\n",
        "        output = self.features(x)\n",
        "        return output\n",
        "    \n",
        "\n",
        "model = Model(in_dim=X_train.shape[1], out_dim=1)\n",
        "  \n",
        "criterion = nn.MSELoss()\n",
        "optimizer = torch.optim.Adam(model.parameters(), lr=0.008)\n",
        "\n",
        "metrics, model = train_model_reg(num_epoch=20,\n",
        "                    train_dataloader = train_dataloader,\n",
        "                    test_dataloader = test_dataloader,\n",
        "                    model=model,\n",
        "                    criterion=criterion,\n",
        "                    optimizer=optimizer,\n",
        "                    )"
      ]
    },
    {
      "cell_type": "code",
      "execution_count": 13,
      "metadata": {},
      "outputs": [
        {
          "data": {
            "image/png": "[encoded data removed]",
            "text/plain": [
              "<Figure size 1000x600 with 4 Axes>"
            ]
          },
          "metadata": {},
          "output_type": "display_data"
        }
      ],
      "source": [
        "plot_metrics(metrics)"
      ]
    },
    {
      "cell_type": "code",
      "execution_count": 14,
      "metadata": {},
      "outputs": [
        {
          "name": "stdout",
          "output_type": "stream",
          "text": [
            "R²: 0.8325\n",
            "MSE: 43.1693\n",
            "MAE: 5.3100\n"
          ]
        }
      ],
      "source": [
        "y_true = []\n",
        "y_pred = []\n",
        "\n",
        "with torch.no_grad():\n",
        "    for X_batch, y_batch in test_dataloader:\n",
        "        predictions = model(X_batch).squeeze()\n",
        "        \n",
        "        y_true.extend(y_batch.numpy())\n",
        "        y_pred.extend(predictions.numpy())\n",
        "\n",
        "r2 = r2_score(y_true, y_pred)\n",
        "mse = mean_squared_error(y_true, y_pred)\n",
        "mae = mean_absolute_error(y_true, y_pred)\n",
        "\n",
        "print(f\"R²: {r2:.4f}\")\n",
        "print(f\"MSE: {mse:.4f}\")\n",
        "print(f\"MAE: {mae:.4f}\")"
      ]
    }
  ],
  "metadata": {
    "colab": {
      "provenance": []
    },
    "kernelspec": {
      "display_name": "goit",
      "language": "python",
      "name": "python3"
    },
    "language_info": {
      "codemirror_mode": {
        "name": "ipython",
        "version": 3
      },
      "file_extension": ".py",
      "mimetype": "text/x-python",
      "name": "python",
      "nbconvert_exporter": "python",
      "pygments_lexer": "ipython3",
      "version": "3.10.16"
    }
  },
  "nbformat": 4,
  "nbformat_minor": 0
}
