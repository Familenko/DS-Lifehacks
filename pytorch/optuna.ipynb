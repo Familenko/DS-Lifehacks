{
  "cells": [
    {
      "cell_type": "code",
      "execution_count": 1,
      "metadata": {},
      "outputs": [],
      "source": [
        "import pandas as pd\n",
        "\n",
        "from torch.utils.data import DataLoader\n",
        "from torch import nn\n",
        "import torch\n",
        "\n",
        "from sklearn.model_selection import train_test_split\n",
        "\n",
        "from sklearn.metrics import r2_score, mean_squared_error, mean_absolute_error\n",
        "\n",
        "import optuna\n",
        "\n",
        "from create_dataset import CreateDataset\n",
        "from train_models import RegressorTrainer"
      ]
    },
    {
      "cell_type": "code",
      "execution_count": 2,
      "metadata": {},
      "outputs": [],
      "source": [
        "df = pd.read_csv('data/ConcreteStrengthData.csv')"
      ]
    },
    {
      "cell_type": "code",
      "execution_count": 3,
      "metadata": {},
      "outputs": [
        {
          "data": {
            "application/vnd.microsoft.datawrangler.viewer.v0+json": {
              "columns": [
                {
                  "name": "index",
                  "rawType": "int64",
                  "type": "integer"
                },
                {
                  "name": "CementComponent ",
                  "rawType": "float64",
                  "type": "float"
                },
                {
                  "name": "BlastFurnaceSlag",
                  "rawType": "float64",
                  "type": "float"
                },
                {
                  "name": "FlyAshComponent",
                  "rawType": "float64",
                  "type": "float"
                },
                {
                  "name": "WaterComponent",
                  "rawType": "float64",
                  "type": "float"
                },
                {
                  "name": "SuperplasticizerComponent",
                  "rawType": "float64",
                  "type": "float"
                },
                {
                  "name": "CoarseAggregateComponent",
                  "rawType": "float64",
                  "type": "float"
                },
                {
                  "name": "FineAggregateComponent",
                  "rawType": "float64",
                  "type": "float"
                },
                {
                  "name": "AgeInDays",
                  "rawType": "int64",
                  "type": "integer"
                },
                {
                  "name": "Strength",
                  "rawType": "float64",
                  "type": "float"
                }
              ],
              "conversionMethod": "pd.DataFrame",
              "ref": "4f85475b-1eb8-4fe6-914b-b95157123bd8",
              "rows": [
                [
                  "0",
                  "540.0",
                  "0.0",
                  "0.0",
                  "162.0",
                  "2.5",
                  "1040.0",
                  "676.0",
                  "28",
                  "79.99"
                ],
                [
                  "1",
                  "540.0",
                  "0.0",
                  "0.0",
                  "162.0",
                  "2.5",
                  "1055.0",
                  "676.0",
                  "28",
                  "61.89"
                ],
                [
                  "2",
                  "332.5",
                  "142.5",
                  "0.0",
                  "228.0",
                  "0.0",
                  "932.0",
                  "594.0",
                  "270",
                  "40.27"
                ],
                [
                  "3",
                  "332.5",
                  "142.5",
                  "0.0",
                  "228.0",
                  "0.0",
                  "932.0",
                  "594.0",
                  "365",
                  "41.05"
                ],
                [
                  "4",
                  "198.6",
                  "132.4",
                  "0.0",
                  "192.0",
                  "0.0",
                  "978.4",
                  "825.5",
                  "360",
                  "44.3"
                ],
                [
                  "5",
                  "266.0",
                  "114.0",
                  "0.0",
                  "228.0",
                  "0.0",
                  "932.0",
                  "670.0",
                  "90",
                  "47.03"
                ],
                [
                  "6",
                  "380.0",
                  "95.0",
                  "0.0",
                  "228.0",
                  "0.0",
                  "932.0",
                  "594.0",
                  "365",
                  "43.7"
                ],
                [
                  "7",
                  "380.0",
                  "95.0",
                  "0.0",
                  "228.0",
                  "0.0",
                  "932.0",
                  "594.0",
                  "28",
                  "36.45"
                ],
                [
                  "8",
                  "266.0",
                  "114.0",
                  "0.0",
                  "228.0",
                  "0.0",
                  "932.0",
                  "670.0",
                  "28",
                  "45.85"
                ],
                [
                  "9",
                  "475.0",
                  "0.0",
                  "0.0",
                  "228.0",
                  "0.0",
                  "932.0",
                  "594.0",
                  "28",
                  "39.29"
                ],
                [
                  "10",
                  "198.6",
                  "132.4",
                  "0.0",
                  "192.0",
                  "0.0",
                  "978.4",
                  "825.5",
                  "90",
                  "38.07"
                ],
                [
                  "11",
                  "198.6",
                  "132.4",
                  "0.0",
                  "192.0",
                  "0.0",
                  "978.4",
                  "825.5",
                  "28",
                  "28.02"
                ],
                [
                  "12",
                  "427.5",
                  "47.5",
                  "0.0",
                  "228.0",
                  "0.0",
                  "932.0",
                  "594.0",
                  "270",
                  "43.01"
                ],
                [
                  "13",
                  "190.0",
                  "190.0",
                  "0.0",
                  "228.0",
                  "0.0",
                  "932.0",
                  "670.0",
                  "90",
                  "42.33"
                ],
                [
                  "14",
                  "304.0",
                  "76.0",
                  "0.0",
                  "228.0",
                  "0.0",
                  "932.0",
                  "670.0",
                  "28",
                  "47.81"
                ],
                [
                  "15",
                  "380.0",
                  "0.0",
                  "0.0",
                  "228.0",
                  "0.0",
                  "932.0",
                  "670.0",
                  "90",
                  "52.91"
                ],
                [
                  "16",
                  "139.6",
                  "209.4",
                  "0.0",
                  "192.0",
                  "0.0",
                  "1047.0",
                  "806.9",
                  "90",
                  "39.36"
                ],
                [
                  "17",
                  "342.0",
                  "38.0",
                  "0.0",
                  "228.0",
                  "0.0",
                  "932.0",
                  "670.0",
                  "365",
                  "56.14"
                ],
                [
                  "18",
                  "380.0",
                  "95.0",
                  "0.0",
                  "228.0",
                  "0.0",
                  "932.0",
                  "594.0",
                  "90",
                  "40.56"
                ],
                [
                  "19",
                  "475.0",
                  "0.0",
                  "0.0",
                  "228.0",
                  "0.0",
                  "932.0",
                  "594.0",
                  "180",
                  "42.62"
                ],
                [
                  "20",
                  "427.5",
                  "47.5",
                  "0.0",
                  "228.0",
                  "0.0",
                  "932.0",
                  "594.0",
                  "180",
                  "41.84"
                ],
                [
                  "21",
                  "139.6",
                  "209.4",
                  "0.0",
                  "192.0",
                  "0.0",
                  "1047.0",
                  "806.9",
                  "28",
                  "28.24"
                ],
                [
                  "22",
                  "139.6",
                  "209.4",
                  "0.0",
                  "192.0",
                  "0.0",
                  "1047.0",
                  "806.9",
                  "3",
                  "8.06"
                ],
                [
                  "23",
                  "139.6",
                  "209.4",
                  "0.0",
                  "192.0",
                  "0.0",
                  "1047.0",
                  "806.9",
                  "180",
                  "44.21"
                ],
                [
                  "24",
                  "380.0",
                  "0.0",
                  "0.0",
                  "228.0",
                  "0.0",
                  "932.0",
                  "670.0",
                  "365",
                  "52.52"
                ],
                [
                  "25",
                  "380.0",
                  "0.0",
                  "0.0",
                  "228.0",
                  "0.0",
                  "932.0",
                  "670.0",
                  "270",
                  "53.3"
                ],
                [
                  "26",
                  "380.0",
                  "95.0",
                  "0.0",
                  "228.0",
                  "0.0",
                  "932.0",
                  "594.0",
                  "270",
                  "41.15"
                ],
                [
                  "27",
                  "342.0",
                  "38.0",
                  "0.0",
                  "228.0",
                  "0.0",
                  "932.0",
                  "670.0",
                  "180",
                  "52.12"
                ],
                [
                  "28",
                  "427.5",
                  "47.5",
                  "0.0",
                  "228.0",
                  "0.0",
                  "932.0",
                  "594.0",
                  "28",
                  "37.43"
                ],
                [
                  "29",
                  "475.0",
                  "0.0",
                  "0.0",
                  "228.0",
                  "0.0",
                  "932.0",
                  "594.0",
                  "7",
                  "38.6"
                ],
                [
                  "30",
                  "304.0",
                  "76.0",
                  "0.0",
                  "228.0",
                  "0.0",
                  "932.0",
                  "670.0",
                  "365",
                  "55.26"
                ],
                [
                  "31",
                  "266.0",
                  "114.0",
                  "0.0",
                  "228.0",
                  "0.0",
                  "932.0",
                  "670.0",
                  "365",
                  "52.91"
                ],
                [
                  "32",
                  "198.6",
                  "132.4",
                  "0.0",
                  "192.0",
                  "0.0",
                  "978.4",
                  "825.5",
                  "180",
                  "41.72"
                ],
                [
                  "33",
                  "475.0",
                  "0.0",
                  "0.0",
                  "228.0",
                  "0.0",
                  "932.0",
                  "594.0",
                  "270",
                  "42.13"
                ],
                [
                  "34",
                  "190.0",
                  "190.0",
                  "0.0",
                  "228.0",
                  "0.0",
                  "932.0",
                  "670.0",
                  "365",
                  "53.69"
                ],
                [
                  "35",
                  "237.5",
                  "237.5",
                  "0.0",
                  "228.0",
                  "0.0",
                  "932.0",
                  "594.0",
                  "270",
                  "38.41"
                ],
                [
                  "36",
                  "237.5",
                  "237.5",
                  "0.0",
                  "228.0",
                  "0.0",
                  "932.0",
                  "594.0",
                  "28",
                  "30.08"
                ],
                [
                  "37",
                  "332.5",
                  "142.5",
                  "0.0",
                  "228.0",
                  "0.0",
                  "932.0",
                  "594.0",
                  "90",
                  "37.72"
                ],
                [
                  "38",
                  "475.0",
                  "0.0",
                  "0.0",
                  "228.0",
                  "0.0",
                  "932.0",
                  "594.0",
                  "90",
                  "42.23"
                ],
                [
                  "39",
                  "237.5",
                  "237.5",
                  "0.0",
                  "228.0",
                  "0.0",
                  "932.0",
                  "594.0",
                  "180",
                  "36.25"
                ],
                [
                  "40",
                  "342.0",
                  "38.0",
                  "0.0",
                  "228.0",
                  "0.0",
                  "932.0",
                  "670.0",
                  "90",
                  "50.46"
                ],
                [
                  "41",
                  "427.5",
                  "47.5",
                  "0.0",
                  "228.0",
                  "0.0",
                  "932.0",
                  "594.0",
                  "365",
                  "43.7"
                ],
                [
                  "42",
                  "237.5",
                  "237.5",
                  "0.0",
                  "228.0",
                  "0.0",
                  "932.0",
                  "594.0",
                  "365",
                  "39.0"
                ],
                [
                  "43",
                  "380.0",
                  "0.0",
                  "0.0",
                  "228.0",
                  "0.0",
                  "932.0",
                  "670.0",
                  "180",
                  "53.1"
                ],
                [
                  "44",
                  "427.5",
                  "47.5",
                  "0.0",
                  "228.0",
                  "0.0",
                  "932.0",
                  "594.0",
                  "90",
                  "41.54"
                ],
                [
                  "45",
                  "427.5",
                  "47.5",
                  "0.0",
                  "228.0",
                  "0.0",
                  "932.0",
                  "594.0",
                  "7",
                  "35.08"
                ],
                [
                  "46",
                  "349.0",
                  "0.0",
                  "0.0",
                  "192.0",
                  "0.0",
                  "1047.0",
                  "806.9",
                  "3",
                  "15.05"
                ],
                [
                  "47",
                  "380.0",
                  "95.0",
                  "0.0",
                  "228.0",
                  "0.0",
                  "932.0",
                  "594.0",
                  "180",
                  "40.76"
                ],
                [
                  "48",
                  "237.5",
                  "237.5",
                  "0.0",
                  "228.0",
                  "0.0",
                  "932.0",
                  "594.0",
                  "7",
                  "26.26"
                ],
                [
                  "49",
                  "380.0",
                  "95.0",
                  "0.0",
                  "228.0",
                  "0.0",
                  "932.0",
                  "594.0",
                  "7",
                  "32.82"
                ]
              ],
              "shape": {
                "columns": 9,
                "rows": 1030
              }
            },
            "text/html": [
              "<div>\n",
              "<style scoped>\n",
              "    .dataframe tbody tr th:only-of-type {\n",
              "        vertical-align: middle;\n",
              "    }\n",
              "\n",
              "    .dataframe tbody tr th {\n",
              "        vertical-align: top;\n",
              "    }\n",
              "\n",
              "    .dataframe thead th {\n",
              "        text-align: right;\n",
              "    }\n",
              "</style>\n",
              "<table border=\"1\" class=\"dataframe\">\n",
              "  <thead>\n",
              "    <tr style=\"text-align: right;\">\n",
              "      <th></th>\n",
              "      <th>CementComponent</th>\n",
              "      <th>BlastFurnaceSlag</th>\n",
              "      <th>FlyAshComponent</th>\n",
              "      <th>WaterComponent</th>\n",
              "      <th>SuperplasticizerComponent</th>\n",
              "      <th>CoarseAggregateComponent</th>\n",
              "      <th>FineAggregateComponent</th>\n",
              "      <th>AgeInDays</th>\n",
              "      <th>Strength</th>\n",
              "    </tr>\n",
              "  </thead>\n",
              "  <tbody>\n",
              "    <tr>\n",
              "      <th>0</th>\n",
              "      <td>540.0</td>\n",
              "      <td>0.0</td>\n",
              "      <td>0.0</td>\n",
              "      <td>162.0</td>\n",
              "      <td>2.5</td>\n",
              "      <td>1040.0</td>\n",
              "      <td>676.0</td>\n",
              "      <td>28</td>\n",
              "      <td>79.99</td>\n",
              "    </tr>\n",
              "    <tr>\n",
              "      <th>1</th>\n",
              "      <td>540.0</td>\n",
              "      <td>0.0</td>\n",
              "      <td>0.0</td>\n",
              "      <td>162.0</td>\n",
              "      <td>2.5</td>\n",
              "      <td>1055.0</td>\n",
              "      <td>676.0</td>\n",
              "      <td>28</td>\n",
              "      <td>61.89</td>\n",
              "    </tr>\n",
              "    <tr>\n",
              "      <th>2</th>\n",
              "      <td>332.5</td>\n",
              "      <td>142.5</td>\n",
              "      <td>0.0</td>\n",
              "      <td>228.0</td>\n",
              "      <td>0.0</td>\n",
              "      <td>932.0</td>\n",
              "      <td>594.0</td>\n",
              "      <td>270</td>\n",
              "      <td>40.27</td>\n",
              "    </tr>\n",
              "    <tr>\n",
              "      <th>3</th>\n",
              "      <td>332.5</td>\n",
              "      <td>142.5</td>\n",
              "      <td>0.0</td>\n",
              "      <td>228.0</td>\n",
              "      <td>0.0</td>\n",
              "      <td>932.0</td>\n",
              "      <td>594.0</td>\n",
              "      <td>365</td>\n",
              "      <td>41.05</td>\n",
              "    </tr>\n",
              "    <tr>\n",
              "      <th>4</th>\n",
              "      <td>198.6</td>\n",
              "      <td>132.4</td>\n",
              "      <td>0.0</td>\n",
              "      <td>192.0</td>\n",
              "      <td>0.0</td>\n",
              "      <td>978.4</td>\n",
              "      <td>825.5</td>\n",
              "      <td>360</td>\n",
              "      <td>44.30</td>\n",
              "    </tr>\n",
              "    <tr>\n",
              "      <th>...</th>\n",
              "      <td>...</td>\n",
              "      <td>...</td>\n",
              "      <td>...</td>\n",
              "      <td>...</td>\n",
              "      <td>...</td>\n",
              "      <td>...</td>\n",
              "      <td>...</td>\n",
              "      <td>...</td>\n",
              "      <td>...</td>\n",
              "    </tr>\n",
              "    <tr>\n",
              "      <th>1025</th>\n",
              "      <td>276.4</td>\n",
              "      <td>116.0</td>\n",
              "      <td>90.3</td>\n",
              "      <td>179.6</td>\n",
              "      <td>8.9</td>\n",
              "      <td>870.1</td>\n",
              "      <td>768.3</td>\n",
              "      <td>28</td>\n",
              "      <td>44.28</td>\n",
              "    </tr>\n",
              "    <tr>\n",
              "      <th>1026</th>\n",
              "      <td>322.2</td>\n",
              "      <td>0.0</td>\n",
              "      <td>115.6</td>\n",
              "      <td>196.0</td>\n",
              "      <td>10.4</td>\n",
              "      <td>817.9</td>\n",
              "      <td>813.4</td>\n",
              "      <td>28</td>\n",
              "      <td>31.18</td>\n",
              "    </tr>\n",
              "    <tr>\n",
              "      <th>1027</th>\n",
              "      <td>148.5</td>\n",
              "      <td>139.4</td>\n",
              "      <td>108.6</td>\n",
              "      <td>192.7</td>\n",
              "      <td>6.1</td>\n",
              "      <td>892.4</td>\n",
              "      <td>780.0</td>\n",
              "      <td>28</td>\n",
              "      <td>23.70</td>\n",
              "    </tr>\n",
              "    <tr>\n",
              "      <th>1028</th>\n",
              "      <td>159.1</td>\n",
              "      <td>186.7</td>\n",
              "      <td>0.0</td>\n",
              "      <td>175.6</td>\n",
              "      <td>11.3</td>\n",
              "      <td>989.6</td>\n",
              "      <td>788.9</td>\n",
              "      <td>28</td>\n",
              "      <td>32.77</td>\n",
              "    </tr>\n",
              "    <tr>\n",
              "      <th>1029</th>\n",
              "      <td>260.9</td>\n",
              "      <td>100.5</td>\n",
              "      <td>78.3</td>\n",
              "      <td>200.6</td>\n",
              "      <td>8.6</td>\n",
              "      <td>864.5</td>\n",
              "      <td>761.5</td>\n",
              "      <td>28</td>\n",
              "      <td>32.40</td>\n",
              "    </tr>\n",
              "  </tbody>\n",
              "</table>\n",
              "<p>1030 rows × 9 columns</p>\n",
              "</div>"
            ],
            "text/plain": [
              "      CementComponent   BlastFurnaceSlag  FlyAshComponent  WaterComponent  \\\n",
              "0                540.0               0.0              0.0           162.0   \n",
              "1                540.0               0.0              0.0           162.0   \n",
              "2                332.5             142.5              0.0           228.0   \n",
              "3                332.5             142.5              0.0           228.0   \n",
              "4                198.6             132.4              0.0           192.0   \n",
              "...                ...               ...              ...             ...   \n",
              "1025             276.4             116.0             90.3           179.6   \n",
              "1026             322.2               0.0            115.6           196.0   \n",
              "1027             148.5             139.4            108.6           192.7   \n",
              "1028             159.1             186.7              0.0           175.6   \n",
              "1029             260.9             100.5             78.3           200.6   \n",
              "\n",
              "      SuperplasticizerComponent  CoarseAggregateComponent  \\\n",
              "0                           2.5                    1040.0   \n",
              "1                           2.5                    1055.0   \n",
              "2                           0.0                     932.0   \n",
              "3                           0.0                     932.0   \n",
              "4                           0.0                     978.4   \n",
              "...                         ...                       ...   \n",
              "1025                        8.9                     870.1   \n",
              "1026                       10.4                     817.9   \n",
              "1027                        6.1                     892.4   \n",
              "1028                       11.3                     989.6   \n",
              "1029                        8.6                     864.5   \n",
              "\n",
              "      FineAggregateComponent  AgeInDays  Strength  \n",
              "0                      676.0         28     79.99  \n",
              "1                      676.0         28     61.89  \n",
              "2                      594.0        270     40.27  \n",
              "3                      594.0        365     41.05  \n",
              "4                      825.5        360     44.30  \n",
              "...                      ...        ...       ...  \n",
              "1025                   768.3         28     44.28  \n",
              "1026                   813.4         28     31.18  \n",
              "1027                   780.0         28     23.70  \n",
              "1028                   788.9         28     32.77  \n",
              "1029                   761.5         28     32.40  \n",
              "\n",
              "[1030 rows x 9 columns]"
            ]
          },
          "execution_count": 3,
          "metadata": {},
          "output_type": "execute_result"
        }
      ],
      "source": [
        "df"
      ]
    },
    {
      "cell_type": "code",
      "execution_count": 4,
      "metadata": {},
      "outputs": [
        {
          "data": {
            "text/plain": [
              "((824, 8), (206, 8), (824,), (206,))"
            ]
          },
          "execution_count": 4,
          "metadata": {},
          "output_type": "execute_result"
        }
      ],
      "source": [
        "X = df.drop(columns=['Strength'])\n",
        "y = df['Strength']\n",
        "\n",
        "X_train, X_test, y_train, y_test = train_test_split(X, y, test_size=0.2, random_state=42)\n",
        "X_train.shape, X_test.shape, y_train.shape, y_test.shape"
      ]
    },
    {
      "cell_type": "code",
      "execution_count": 5,
      "metadata": {},
      "outputs": [],
      "source": [
        "train_dataset = CreateDataset(X_train, y_train)\n",
        "test_dataset = CreateDataset(X_test, y_test)\n",
        "\n",
        "train_dataloader = DataLoader(train_dataset,\n",
        "                              batch_size=40,\n",
        "                              num_workers=0\n",
        "                             )\n",
        "\n",
        "test_dataloader = DataLoader(test_dataset,\n",
        "                              batch_size=40,\n",
        "                              num_workers=0\n",
        "                             )"
      ]
    },
    {
      "cell_type": "code",
      "execution_count": 6,
      "metadata": {},
      "outputs": [],
      "source": [
        "def objective(trial):\n",
        "    lr = trial.suggest_float(\"lr\", 1e-5, 1e-2, log=True)\n",
        "    hidden1 = trial.suggest_int(\"hidden1\", 64, 512)\n",
        "    hidden2 = trial.suggest_int(\"hidden2\", 32, hidden1)\n",
        "    hidden3 = trial.suggest_int(\"hidden3\", 16, hidden2)\n",
        "\n",
        "    class LinearModel(nn.Module):\n",
        "        def __init__(self, in_dim, out_dim=1):\n",
        "            super().__init__()\n",
        "            self.features = nn.Sequential(\n",
        "                nn.Linear(in_dim, hidden1),\n",
        "                nn.ReLU(),\n",
        "                nn.Linear(hidden1, hidden2),\n",
        "                nn.ReLU(),\n",
        "                nn.Linear(hidden2, hidden3),\n",
        "                nn.ReLU(),\n",
        "                nn.Linear(hidden3, out_dim),\n",
        "            )\n",
        "        def forward(self, x):\n",
        "            return self.features(x)\n",
        "\n",
        "    model = LinearModel(in_dim=X_train.shape[1], out_dim=1)\n",
        "    optimizer = torch.optim.Adam(model.parameters(), lr=lr)\n",
        "    criterion = nn.MSELoss()\n",
        "\n",
        "    trainer = RegressorTrainer(model=model,\n",
        "                                criterion=criterion,\n",
        "                                optimizer=optimizer,\n",
        "                                device='cpu')\n",
        "\n",
        "    trainer.fit(train_dataloader,\n",
        "                test_dataloader,\n",
        "                num_epoch=20,\n",
        "                info_every_iter=20,\n",
        "                show_val_metrics=False)\n",
        "\n",
        "    return trainer.metrics['train_loss'][-1]"
      ]
    },
    {
      "cell_type": "code",
      "execution_count": 7,
      "metadata": {},
      "outputs": [
        {
          "name": "stderr",
          "output_type": "stream",
          "text": [
            "[I 2025-05-02 14:24:54,669] A new study created in memory with name: no-name-e134300f-95a9-4dc5-88fb-aa76f109cb45\n"
          ]
        },
        {
          "data": {
            "application/vnd.jupyter.widget-view+json": {
              "model_id": "1980d47e307849d3912f97ccdc08b131",
              "version_major": 2,
              "version_minor": 0
            },
            "text/plain": [
              "  0%|          | 0/20 [00:00<?, ?it/s]"
            ]
          },
          "metadata": {},
          "output_type": "display_data"
        },
        {
          "name": "stderr",
          "output_type": "stream",
          "text": [
            "[I 2025-05-02 14:24:55,237] Trial 0 finished with value: 209.50488770123823 and parameters: {'lr': 0.00010602865470781065, 'hidden1': 347, 'hidden2': 234, 'hidden3': 54}. Best is trial 0 with value: 209.50488770123823.\n"
          ]
        },
        {
          "name": "stdout",
          "output_type": "stream",
          "text": [
            "Epoch [20/20] Train Loss: 209.5049 MSE: 209.5049 MAE: 11.7340 RMSE: 14.4743\n"
          ]
        },
        {
          "data": {
            "application/vnd.jupyter.widget-view+json": {
              "model_id": "efe494338b30417088e41671656548b8",
              "version_major": 2,
              "version_minor": 0
            },
            "text/plain": [
              "  0%|          | 0/20 [00:00<?, ?it/s]"
            ]
          },
          "metadata": {},
          "output_type": "display_data"
        },
        {
          "name": "stderr",
          "output_type": "stream",
          "text": [
            "[I 2025-05-02 14:24:55,702] Trial 1 finished with value: 202.5613855158241 and parameters: {'lr': 0.0001946975423564747, 'hidden1': 382, 'hidden2': 81, 'hidden3': 31}. Best is trial 1 with value: 202.5613855158241.\n"
          ]
        },
        {
          "name": "stdout",
          "output_type": "stream",
          "text": [
            "Epoch [20/20] Train Loss: 202.5614 MSE: 202.5614 MAE: 11.5626 RMSE: 14.2324\n"
          ]
        },
        {
          "data": {
            "application/vnd.jupyter.widget-view+json": {
              "model_id": "715ea4fe9d2a4794a43d20fb7f9fff4e",
              "version_major": 2,
              "version_minor": 0
            },
            "text/plain": [
              "  0%|          | 0/20 [00:00<?, ?it/s]"
            ]
          },
          "metadata": {},
          "output_type": "display_data"
        },
        {
          "name": "stderr",
          "output_type": "stream",
          "text": [
            "[I 2025-05-02 14:24:56,338] Trial 2 finished with value: 780.6761602012856 and parameters: {'lr': 2.2513746730038754e-05, 'hidden1': 483, 'hidden2': 397, 'hidden3': 70}. Best is trial 1 with value: 202.5613855158241.\n"
          ]
        },
        {
          "name": "stdout",
          "output_type": "stream",
          "text": [
            "Epoch [20/20] Train Loss: 780.6762 MSE: 780.6761 MAE: 23.2330 RMSE: 27.9406\n"
          ]
        },
        {
          "data": {
            "application/vnd.jupyter.widget-view+json": {
              "model_id": "9da3ee00acf442baa3a800687a5509c0",
              "version_major": 2,
              "version_minor": 0
            },
            "text/plain": [
              "  0%|          | 0/20 [00:00<?, ?it/s]"
            ]
          },
          "metadata": {},
          "output_type": "display_data"
        },
        {
          "name": "stderr",
          "output_type": "stream",
          "text": [
            "[I 2025-05-02 14:24:56,831] Trial 3 finished with value: 35.43274046147911 and parameters: {'lr': 0.001667048123566414, 'hidden1': 238, 'hidden2': 187, 'hidden3': 80}. Best is trial 3 with value: 35.43274046147911.\n"
          ]
        },
        {
          "name": "stdout",
          "output_type": "stream",
          "text": [
            "Epoch [20/20] Train Loss: 35.4327 MSE: 35.4327 MAE: 4.5380 RMSE: 5.9525\n"
          ]
        },
        {
          "data": {
            "application/vnd.jupyter.widget-view+json": {
              "model_id": "c18dc21766ba440e80311df1f02fc0d8",
              "version_major": 2,
              "version_minor": 0
            },
            "text/plain": [
              "  0%|          | 0/20 [00:00<?, ?it/s]"
            ]
          },
          "metadata": {},
          "output_type": "display_data"
        },
        {
          "name": "stderr",
          "output_type": "stream",
          "text": [
            "[I 2025-05-02 14:24:57,292] Trial 4 finished with value: 1329.184616533298 and parameters: {'lr': 2.229475069975762e-05, 'hidden1': 169, 'hidden2': 135, 'hidden3': 122}. Best is trial 3 with value: 35.43274046147911.\n"
          ]
        },
        {
          "name": "stdout",
          "output_type": "stream",
          "text": [
            "Epoch [20/20] Train Loss: 1329.1846 MSE: 1329.1846 MAE: 32.4406 RMSE: 36.4580\n"
          ]
        }
      ],
      "source": [
        "study = optuna.create_study(direction=\"minimize\")\n",
        "study.optimize(objective, n_trials=5)"
      ]
    },
    {
      "cell_type": "code",
      "execution_count": 8,
      "metadata": {},
      "outputs": [
        {
          "name": "stdout",
          "output_type": "stream",
          "text": [
            "Best trial:\n",
            "{'lr': 0.001667048123566414, 'hidden1': 238, 'hidden2': 187, 'hidden3': 80}\n"
          ]
        }
      ],
      "source": [
        "print(\"Best trial:\")\n",
        "print(study.best_trial.params)"
      ]
    },
    {
      "cell_type": "code",
      "execution_count": 9,
      "metadata": {},
      "outputs": [
        {
          "data": {
            "application/vnd.jupyter.widget-view+json": {
              "model_id": "d2093b6b69ca48bba018197ef29fcf4b",
              "version_major": 2,
              "version_minor": 0
            },
            "text/plain": [
              "  0%|          | 0/20 [00:00<?, ?it/s]"
            ]
          },
          "metadata": {},
          "output_type": "display_data"
        },
        {
          "name": "stdout",
          "output_type": "stream",
          "text": [
            "Epoch [1/20] Train Loss: 1334.3108 MSE: 1334.3108 MAE: 32.3772 RMSE: 36.5282\n",
            "Epoch [1/20] Val Loss: 701.8810 MSE: 701.8810 MAE: 22.3535 RMSE: 26.4930\n",
            "Epoch [2/20] Train Loss: 352.2505 MSE: 352.2505 MAE: 14.5335 RMSE: 18.7683\n",
            "Epoch [2/20] Val Loss: 199.7044 MSE: 199.7044 MAE: 11.5673 RMSE: 14.1317\n",
            "Epoch [3/20] Train Loss: 217.1559 MSE: 217.1559 MAE: 11.9266 RMSE: 14.7362\n",
            "Epoch [3/20] Val Loss: 182.3465 MSE: 182.3465 MAE: 10.8729 RMSE: 13.5036\n",
            "Epoch [4/20] Train Loss: 197.2647 MSE: 197.2647 MAE: 11.3766 RMSE: 14.0451\n",
            "Epoch [4/20] Val Loss: 154.7408 MSE: 154.7408 MAE: 10.3975 RMSE: 12.4395\n",
            "Epoch [5/20] Train Loss: 170.4709 MSE: 170.4709 MAE: 10.6336 RMSE: 13.0564\n",
            "Epoch [5/20] Val Loss: 144.9379 MSE: 144.9379 MAE: 10.0019 RMSE: 12.0390\n",
            "Epoch [6/20] Train Loss: 157.0530 MSE: 157.0530 MAE: 10.1891 RMSE: 12.5321\n",
            "Epoch [6/20] Val Loss: 138.5297 MSE: 138.5297 MAE: 9.6655 RMSE: 11.7699\n",
            "Epoch [7/20] Train Loss: 146.9975 MSE: 146.9975 MAE: 9.8516 RMSE: 12.1243\n",
            "Epoch [7/20] Val Loss: 130.9945 MSE: 130.9945 MAE: 9.3181 RMSE: 11.4453\n",
            "Epoch [8/20] Train Loss: 136.8467 MSE: 136.8467 MAE: 9.4857 RMSE: 11.6981\n",
            "Epoch [8/20] Val Loss: 124.9651 MSE: 124.9651 MAE: 9.0400 RMSE: 11.1788\n",
            "Epoch [9/20] Train Loss: 126.2099 MSE: 126.2099 MAE: 9.0816 RMSE: 11.2343\n",
            "Epoch [9/20] Val Loss: 117.1918 MSE: 117.1918 MAE: 8.7141 RMSE: 10.8255\n",
            "Epoch [10/20] Train Loss: 115.0253 MSE: 115.0253 MAE: 8.6305 RMSE: 10.7250\n",
            "Epoch [10/20] Val Loss: 109.8443 MSE: 109.8443 MAE: 8.3789 RMSE: 10.4807\n",
            "Epoch [11/20] Train Loss: 102.5588 MSE: 102.5588 MAE: 8.1030 RMSE: 10.1271\n",
            "Epoch [11/20] Val Loss: 100.5976 MSE: 100.5976 MAE: 7.9577 RMSE: 10.0298\n",
            "Epoch [12/20] Train Loss: 89.4193 MSE: 89.4193 MAE: 7.5138 RMSE: 9.4562\n",
            "Epoch [12/20] Val Loss: 90.6316 MSE: 90.6316 MAE: 7.5048 RMSE: 9.5201\n",
            "Epoch [13/20] Train Loss: 76.0362 MSE: 76.0362 MAE: 6.8633 RMSE: 8.7199\n",
            "Epoch [13/20] Val Loss: 79.3845 MSE: 79.3845 MAE: 6.9981 RMSE: 8.9098\n",
            "Epoch [14/20] Train Loss: 63.7484 MSE: 63.7484 MAE: 6.2086 RMSE: 7.9843\n",
            "Epoch [14/20] Val Loss: 69.5246 MSE: 69.5246 MAE: 6.5222 RMSE: 8.3381\n",
            "Epoch [15/20] Train Loss: 54.4580 MSE: 54.4580 MAE: 5.6444 RMSE: 7.3796\n",
            "Epoch [15/20] Val Loss: 62.7797 MSE: 62.7797 MAE: 6.1801 RMSE: 7.9234\n",
            "Epoch [16/20] Train Loss: 48.5481 MSE: 48.5481 MAE: 5.2990 RMSE: 6.9676\n",
            "Epoch [16/20] Val Loss: 58.7286 MSE: 58.7286 MAE: 5.9786 RMSE: 7.6635\n",
            "Epoch [17/20] Train Loss: 44.6622 MSE: 44.6622 MAE: 5.0830 RMSE: 6.6830\n",
            "Epoch [17/20] Val Loss: 55.9353 MSE: 55.9352 MAE: 5.8195 RMSE: 7.4790\n",
            "Epoch [18/20] Train Loss: 41.6695 MSE: 41.6695 MAE: 4.9108 RMSE: 6.4552\n",
            "Epoch [18/20] Val Loss: 53.8998 MSE: 53.8998 MAE: 5.6928 RMSE: 7.3416\n",
            "Epoch [19/20] Train Loss: 39.4565 MSE: 39.4565 MAE: 4.7994 RMSE: 6.2814\n",
            "Epoch [19/20] Val Loss: 52.5505 MSE: 52.5505 MAE: 5.6062 RMSE: 7.2492\n",
            "Epoch [20/20] Train Loss: 37.5349 MSE: 37.5349 MAE: 4.6889 RMSE: 6.1266\n",
            "Epoch [20/20] Val Loss: 51.2645 MSE: 51.2645 MAE: 5.5224 RMSE: 7.1599\n"
          ]
        }
      ],
      "source": [
        "class Model(torch.nn.Module):\n",
        "    def __init__(self, in_dim, out_dim=1):\n",
        "        super().__init__()\n",
        "        \n",
        "        self.features = torch.nn.Sequential(\n",
        "            nn.Linear(in_dim, 144),\n",
        "            torch.nn.ReLU(),\n",
        "            \n",
        "            nn.Linear(144, 72),\n",
        "            torch.nn.ReLU(),\n",
        "            \n",
        "            nn.Linear(72, 72),\n",
        "            torch.nn.ReLU(),\n",
        "            \n",
        "            nn.Linear(72, out_dim),\n",
        "        )\n",
        "    \n",
        "        \n",
        "    def forward(self, x):\n",
        "        output = self.features(x)\n",
        "        return output\n",
        "    \n",
        "\n",
        "model = Model(in_dim=X_train.shape[1], out_dim=1)\n",
        "  \n",
        "criterion = nn.MSELoss()\n",
        "optimizer = torch.optim.Adam(model.parameters(), lr=0.002)\n",
        "\n",
        "\n",
        "trainer = RegressorTrainer(model=model,\n",
        "                            criterion=criterion,\n",
        "                            optimizer=optimizer)\n",
        "\n",
        "trainer.fit(train_dataloader,\n",
        "            test_dataloader,\n",
        "            num_epoch=20,\n",
        "            info_every_iter=True,\n",
        "            show_val_metrics=True)"
      ]
    },
    {
      "cell_type": "code",
      "execution_count": 10,
      "metadata": {},
      "outputs": [],
      "source": [
        "model = trainer.model"
      ]
    },
    {
      "cell_type": "code",
      "execution_count": 11,
      "metadata": {},
      "outputs": [
        {
          "data": {
            "text/plain": [
              "Model(\n",
              "  (features): Sequential(\n",
              "    (0): Linear(in_features=8, out_features=144, bias=True)\n",
              "    (1): ReLU()\n",
              "    (2): Linear(in_features=144, out_features=72, bias=True)\n",
              "    (3): ReLU()\n",
              "    (4): Linear(in_features=72, out_features=72, bias=True)\n",
              "    (5): ReLU()\n",
              "    (6): Linear(in_features=72, out_features=1, bias=True)\n",
              "  )\n",
              ")"
            ]
          },
          "execution_count": 11,
          "metadata": {},
          "output_type": "execute_result"
        }
      ],
      "source": [
        "model.eval()"
      ]
    },
    {
      "cell_type": "code",
      "execution_count": 13,
      "metadata": {},
      "outputs": [
        {
          "data": {
            "image/png": "[encoded data removed]",
            "text/plain": [
              "<Figure size 1000x600 with 4 Axes>"
            ]
          },
          "metadata": {},
          "output_type": "display_data"
        }
      ],
      "source": [
        "trainer.plot_metrics()"
      ]
    },
    {
      "cell_type": "code",
      "execution_count": 12,
      "metadata": {},
      "outputs": [
        {
          "name": "stdout",
          "output_type": "stream",
          "text": [
            "R²: 0.8011\n",
            "MSE: 51.2645\n",
            "MAE: 5.5224\n"
          ]
        }
      ],
      "source": [
        "y_true = []\n",
        "y_pred = []\n",
        "\n",
        "with torch.no_grad():\n",
        "    for X_batch, y_batch in test_dataloader:\n",
        "        predictions = model(X_batch).squeeze()\n",
        "        \n",
        "        y_true.extend(y_batch.numpy())\n",
        "        y_pred.extend(predictions.numpy())\n",
        "\n",
        "r2 = r2_score(y_true, y_pred)\n",
        "mse = mean_squared_error(y_true, y_pred)\n",
        "mae = mean_absolute_error(y_true, y_pred)\n",
        "\n",
        "print(f\"R²: {r2:.4f}\")\n",
        "print(f\"MSE: {mse:.4f}\")\n",
        "print(f\"MAE: {mae:.4f}\")"
      ]
    }
  ],
  "metadata": {
    "colab": {
      "provenance": []
    },
    "kernelspec": {
      "display_name": "goit",
      "language": "python",
      "name": "python3"
    },
    "language_info": {
      "codemirror_mode": {
        "name": "ipython",
        "version": 3
      },
      "file_extension": ".py",
      "mimetype": "text/x-python",
      "name": "python",
      "nbconvert_exporter": "python",
      "pygments_lexer": "ipython3",
      "version": "3.10.16"
    }
  },
  "nbformat": 4,
  "nbformat_minor": 0
}
