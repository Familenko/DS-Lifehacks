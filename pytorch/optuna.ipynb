{
  "cells": [
    {
      "cell_type": "code",
      "execution_count": 1,
      "metadata": {},
      "outputs": [],
      "source": [
        "from collections import defaultdict\n",
        "\n",
        "import pandas as pd\n",
        "import numpy as np\n",
        "import matplotlib.pyplot as plt\n",
        "import seaborn as sns\n",
        "\n",
        "from ydata_profiling import ProfileReport\n",
        "\n",
        "from torch.utils.data import Dataset, DataLoader\n",
        "from torch import nn\n",
        "import torch\n",
        "\n",
        "from sklearn.preprocessing import StandardScaler, MinMaxScaler\n",
        "from sklearn.model_selection import train_test_split\n",
        "\n",
        "from sklearn.metrics import r2_score, mean_squared_error, mean_absolute_error\n",
        "from torchmetrics import MeanSquaredError, MeanAbsoluteError\n",
        "\n",
        "import optuna\n",
        "\n",
        "from pytorch_tools import CreateDataset, train_model_cls, train_model_reg, plot_metrics"
      ]
    },
    {
      "cell_type": "code",
      "execution_count": 2,
      "metadata": {},
      "outputs": [],
      "source": [
        "df = pd.read_csv('data/ConcreteStrengthData.csv')"
      ]
    },
    {
      "cell_type": "code",
      "execution_count": 3,
      "metadata": {},
      "outputs": [
        {
          "data": {
            "application/vnd.microsoft.datawrangler.viewer.v0+json": {
              "columns": [
                {
                  "name": "index",
                  "rawType": "int64",
                  "type": "integer"
                },
                {
                  "name": "CementComponent ",
                  "rawType": "float64",
                  "type": "float"
                },
                {
                  "name": "BlastFurnaceSlag",
                  "rawType": "float64",
                  "type": "float"
                },
                {
                  "name": "FlyAshComponent",
                  "rawType": "float64",
                  "type": "float"
                },
                {
                  "name": "WaterComponent",
                  "rawType": "float64",
                  "type": "float"
                },
                {
                  "name": "SuperplasticizerComponent",
                  "rawType": "float64",
                  "type": "float"
                },
                {
                  "name": "CoarseAggregateComponent",
                  "rawType": "float64",
                  "type": "float"
                },
                {
                  "name": "FineAggregateComponent",
                  "rawType": "float64",
                  "type": "float"
                },
                {
                  "name": "AgeInDays",
                  "rawType": "int64",
                  "type": "integer"
                },
                {
                  "name": "Strength",
                  "rawType": "float64",
                  "type": "float"
                }
              ],
              "conversionMethod": "pd.DataFrame",
              "ref": "0cf61e8d-2418-4c3a-a4f9-7ecbbafb1968",
              "rows": [
                [
                  "0",
                  "540.0",
                  "0.0",
                  "0.0",
                  "162.0",
                  "2.5",
                  "1040.0",
                  "676.0",
                  "28",
                  "79.99"
                ],
                [
                  "1",
                  "540.0",
                  "0.0",
                  "0.0",
                  "162.0",
                  "2.5",
                  "1055.0",
                  "676.0",
                  "28",
                  "61.89"
                ],
                [
                  "2",
                  "332.5",
                  "142.5",
                  "0.0",
                  "228.0",
                  "0.0",
                  "932.0",
                  "594.0",
                  "270",
                  "40.27"
                ],
                [
                  "3",
                  "332.5",
                  "142.5",
                  "0.0",
                  "228.0",
                  "0.0",
                  "932.0",
                  "594.0",
                  "365",
                  "41.05"
                ],
                [
                  "4",
                  "198.6",
                  "132.4",
                  "0.0",
                  "192.0",
                  "0.0",
                  "978.4",
                  "825.5",
                  "360",
                  "44.3"
                ],
                [
                  "5",
                  "266.0",
                  "114.0",
                  "0.0",
                  "228.0",
                  "0.0",
                  "932.0",
                  "670.0",
                  "90",
                  "47.03"
                ],
                [
                  "6",
                  "380.0",
                  "95.0",
                  "0.0",
                  "228.0",
                  "0.0",
                  "932.0",
                  "594.0",
                  "365",
                  "43.7"
                ],
                [
                  "7",
                  "380.0",
                  "95.0",
                  "0.0",
                  "228.0",
                  "0.0",
                  "932.0",
                  "594.0",
                  "28",
                  "36.45"
                ],
                [
                  "8",
                  "266.0",
                  "114.0",
                  "0.0",
                  "228.0",
                  "0.0",
                  "932.0",
                  "670.0",
                  "28",
                  "45.85"
                ],
                [
                  "9",
                  "475.0",
                  "0.0",
                  "0.0",
                  "228.0",
                  "0.0",
                  "932.0",
                  "594.0",
                  "28",
                  "39.29"
                ],
                [
                  "10",
                  "198.6",
                  "132.4",
                  "0.0",
                  "192.0",
                  "0.0",
                  "978.4",
                  "825.5",
                  "90",
                  "38.07"
                ],
                [
                  "11",
                  "198.6",
                  "132.4",
                  "0.0",
                  "192.0",
                  "0.0",
                  "978.4",
                  "825.5",
                  "28",
                  "28.02"
                ],
                [
                  "12",
                  "427.5",
                  "47.5",
                  "0.0",
                  "228.0",
                  "0.0",
                  "932.0",
                  "594.0",
                  "270",
                  "43.01"
                ],
                [
                  "13",
                  "190.0",
                  "190.0",
                  "0.0",
                  "228.0",
                  "0.0",
                  "932.0",
                  "670.0",
                  "90",
                  "42.33"
                ],
                [
                  "14",
                  "304.0",
                  "76.0",
                  "0.0",
                  "228.0",
                  "0.0",
                  "932.0",
                  "670.0",
                  "28",
                  "47.81"
                ],
                [
                  "15",
                  "380.0",
                  "0.0",
                  "0.0",
                  "228.0",
                  "0.0",
                  "932.0",
                  "670.0",
                  "90",
                  "52.91"
                ],
                [
                  "16",
                  "139.6",
                  "209.4",
                  "0.0",
                  "192.0",
                  "0.0",
                  "1047.0",
                  "806.9",
                  "90",
                  "39.36"
                ],
                [
                  "17",
                  "342.0",
                  "38.0",
                  "0.0",
                  "228.0",
                  "0.0",
                  "932.0",
                  "670.0",
                  "365",
                  "56.14"
                ],
                [
                  "18",
                  "380.0",
                  "95.0",
                  "0.0",
                  "228.0",
                  "0.0",
                  "932.0",
                  "594.0",
                  "90",
                  "40.56"
                ],
                [
                  "19",
                  "475.0",
                  "0.0",
                  "0.0",
                  "228.0",
                  "0.0",
                  "932.0",
                  "594.0",
                  "180",
                  "42.62"
                ],
                [
                  "20",
                  "427.5",
                  "47.5",
                  "0.0",
                  "228.0",
                  "0.0",
                  "932.0",
                  "594.0",
                  "180",
                  "41.84"
                ],
                [
                  "21",
                  "139.6",
                  "209.4",
                  "0.0",
                  "192.0",
                  "0.0",
                  "1047.0",
                  "806.9",
                  "28",
                  "28.24"
                ],
                [
                  "22",
                  "139.6",
                  "209.4",
                  "0.0",
                  "192.0",
                  "0.0",
                  "1047.0",
                  "806.9",
                  "3",
                  "8.06"
                ],
                [
                  "23",
                  "139.6",
                  "209.4",
                  "0.0",
                  "192.0",
                  "0.0",
                  "1047.0",
                  "806.9",
                  "180",
                  "44.21"
                ],
                [
                  "24",
                  "380.0",
                  "0.0",
                  "0.0",
                  "228.0",
                  "0.0",
                  "932.0",
                  "670.0",
                  "365",
                  "52.52"
                ],
                [
                  "25",
                  "380.0",
                  "0.0",
                  "0.0",
                  "228.0",
                  "0.0",
                  "932.0",
                  "670.0",
                  "270",
                  "53.3"
                ],
                [
                  "26",
                  "380.0",
                  "95.0",
                  "0.0",
                  "228.0",
                  "0.0",
                  "932.0",
                  "594.0",
                  "270",
                  "41.15"
                ],
                [
                  "27",
                  "342.0",
                  "38.0",
                  "0.0",
                  "228.0",
                  "0.0",
                  "932.0",
                  "670.0",
                  "180",
                  "52.12"
                ],
                [
                  "28",
                  "427.5",
                  "47.5",
                  "0.0",
                  "228.0",
                  "0.0",
                  "932.0",
                  "594.0",
                  "28",
                  "37.43"
                ],
                [
                  "29",
                  "475.0",
                  "0.0",
                  "0.0",
                  "228.0",
                  "0.0",
                  "932.0",
                  "594.0",
                  "7",
                  "38.6"
                ],
                [
                  "30",
                  "304.0",
                  "76.0",
                  "0.0",
                  "228.0",
                  "0.0",
                  "932.0",
                  "670.0",
                  "365",
                  "55.26"
                ],
                [
                  "31",
                  "266.0",
                  "114.0",
                  "0.0",
                  "228.0",
                  "0.0",
                  "932.0",
                  "670.0",
                  "365",
                  "52.91"
                ],
                [
                  "32",
                  "198.6",
                  "132.4",
                  "0.0",
                  "192.0",
                  "0.0",
                  "978.4",
                  "825.5",
                  "180",
                  "41.72"
                ],
                [
                  "33",
                  "475.0",
                  "0.0",
                  "0.0",
                  "228.0",
                  "0.0",
                  "932.0",
                  "594.0",
                  "270",
                  "42.13"
                ],
                [
                  "34",
                  "190.0",
                  "190.0",
                  "0.0",
                  "228.0",
                  "0.0",
                  "932.0",
                  "670.0",
                  "365",
                  "53.69"
                ],
                [
                  "35",
                  "237.5",
                  "237.5",
                  "0.0",
                  "228.0",
                  "0.0",
                  "932.0",
                  "594.0",
                  "270",
                  "38.41"
                ],
                [
                  "36",
                  "237.5",
                  "237.5",
                  "0.0",
                  "228.0",
                  "0.0",
                  "932.0",
                  "594.0",
                  "28",
                  "30.08"
                ],
                [
                  "37",
                  "332.5",
                  "142.5",
                  "0.0",
                  "228.0",
                  "0.0",
                  "932.0",
                  "594.0",
                  "90",
                  "37.72"
                ],
                [
                  "38",
                  "475.0",
                  "0.0",
                  "0.0",
                  "228.0",
                  "0.0",
                  "932.0",
                  "594.0",
                  "90",
                  "42.23"
                ],
                [
                  "39",
                  "237.5",
                  "237.5",
                  "0.0",
                  "228.0",
                  "0.0",
                  "932.0",
                  "594.0",
                  "180",
                  "36.25"
                ],
                [
                  "40",
                  "342.0",
                  "38.0",
                  "0.0",
                  "228.0",
                  "0.0",
                  "932.0",
                  "670.0",
                  "90",
                  "50.46"
                ],
                [
                  "41",
                  "427.5",
                  "47.5",
                  "0.0",
                  "228.0",
                  "0.0",
                  "932.0",
                  "594.0",
                  "365",
                  "43.7"
                ],
                [
                  "42",
                  "237.5",
                  "237.5",
                  "0.0",
                  "228.0",
                  "0.0",
                  "932.0",
                  "594.0",
                  "365",
                  "39.0"
                ],
                [
                  "43",
                  "380.0",
                  "0.0",
                  "0.0",
                  "228.0",
                  "0.0",
                  "932.0",
                  "670.0",
                  "180",
                  "53.1"
                ],
                [
                  "44",
                  "427.5",
                  "47.5",
                  "0.0",
                  "228.0",
                  "0.0",
                  "932.0",
                  "594.0",
                  "90",
                  "41.54"
                ],
                [
                  "45",
                  "427.5",
                  "47.5",
                  "0.0",
                  "228.0",
                  "0.0",
                  "932.0",
                  "594.0",
                  "7",
                  "35.08"
                ],
                [
                  "46",
                  "349.0",
                  "0.0",
                  "0.0",
                  "192.0",
                  "0.0",
                  "1047.0",
                  "806.9",
                  "3",
                  "15.05"
                ],
                [
                  "47",
                  "380.0",
                  "95.0",
                  "0.0",
                  "228.0",
                  "0.0",
                  "932.0",
                  "594.0",
                  "180",
                  "40.76"
                ],
                [
                  "48",
                  "237.5",
                  "237.5",
                  "0.0",
                  "228.0",
                  "0.0",
                  "932.0",
                  "594.0",
                  "7",
                  "26.26"
                ],
                [
                  "49",
                  "380.0",
                  "95.0",
                  "0.0",
                  "228.0",
                  "0.0",
                  "932.0",
                  "594.0",
                  "7",
                  "32.82"
                ]
              ],
              "shape": {
                "columns": 9,
                "rows": 1030
              }
            },
            "text/html": [
              "<div>\n",
              "<style scoped>\n",
              "    .dataframe tbody tr th:only-of-type {\n",
              "        vertical-align: middle;\n",
              "    }\n",
              "\n",
              "    .dataframe tbody tr th {\n",
              "        vertical-align: top;\n",
              "    }\n",
              "\n",
              "    .dataframe thead th {\n",
              "        text-align: right;\n",
              "    }\n",
              "</style>\n",
              "<table border=\"1\" class=\"dataframe\">\n",
              "  <thead>\n",
              "    <tr style=\"text-align: right;\">\n",
              "      <th></th>\n",
              "      <th>CementComponent</th>\n",
              "      <th>BlastFurnaceSlag</th>\n",
              "      <th>FlyAshComponent</th>\n",
              "      <th>WaterComponent</th>\n",
              "      <th>SuperplasticizerComponent</th>\n",
              "      <th>CoarseAggregateComponent</th>\n",
              "      <th>FineAggregateComponent</th>\n",
              "      <th>AgeInDays</th>\n",
              "      <th>Strength</th>\n",
              "    </tr>\n",
              "  </thead>\n",
              "  <tbody>\n",
              "    <tr>\n",
              "      <th>0</th>\n",
              "      <td>540.0</td>\n",
              "      <td>0.0</td>\n",
              "      <td>0.0</td>\n",
              "      <td>162.0</td>\n",
              "      <td>2.5</td>\n",
              "      <td>1040.0</td>\n",
              "      <td>676.0</td>\n",
              "      <td>28</td>\n",
              "      <td>79.99</td>\n",
              "    </tr>\n",
              "    <tr>\n",
              "      <th>1</th>\n",
              "      <td>540.0</td>\n",
              "      <td>0.0</td>\n",
              "      <td>0.0</td>\n",
              "      <td>162.0</td>\n",
              "      <td>2.5</td>\n",
              "      <td>1055.0</td>\n",
              "      <td>676.0</td>\n",
              "      <td>28</td>\n",
              "      <td>61.89</td>\n",
              "    </tr>\n",
              "    <tr>\n",
              "      <th>2</th>\n",
              "      <td>332.5</td>\n",
              "      <td>142.5</td>\n",
              "      <td>0.0</td>\n",
              "      <td>228.0</td>\n",
              "      <td>0.0</td>\n",
              "      <td>932.0</td>\n",
              "      <td>594.0</td>\n",
              "      <td>270</td>\n",
              "      <td>40.27</td>\n",
              "    </tr>\n",
              "    <tr>\n",
              "      <th>3</th>\n",
              "      <td>332.5</td>\n",
              "      <td>142.5</td>\n",
              "      <td>0.0</td>\n",
              "      <td>228.0</td>\n",
              "      <td>0.0</td>\n",
              "      <td>932.0</td>\n",
              "      <td>594.0</td>\n",
              "      <td>365</td>\n",
              "      <td>41.05</td>\n",
              "    </tr>\n",
              "    <tr>\n",
              "      <th>4</th>\n",
              "      <td>198.6</td>\n",
              "      <td>132.4</td>\n",
              "      <td>0.0</td>\n",
              "      <td>192.0</td>\n",
              "      <td>0.0</td>\n",
              "      <td>978.4</td>\n",
              "      <td>825.5</td>\n",
              "      <td>360</td>\n",
              "      <td>44.30</td>\n",
              "    </tr>\n",
              "    <tr>\n",
              "      <th>...</th>\n",
              "      <td>...</td>\n",
              "      <td>...</td>\n",
              "      <td>...</td>\n",
              "      <td>...</td>\n",
              "      <td>...</td>\n",
              "      <td>...</td>\n",
              "      <td>...</td>\n",
              "      <td>...</td>\n",
              "      <td>...</td>\n",
              "    </tr>\n",
              "    <tr>\n",
              "      <th>1025</th>\n",
              "      <td>276.4</td>\n",
              "      <td>116.0</td>\n",
              "      <td>90.3</td>\n",
              "      <td>179.6</td>\n",
              "      <td>8.9</td>\n",
              "      <td>870.1</td>\n",
              "      <td>768.3</td>\n",
              "      <td>28</td>\n",
              "      <td>44.28</td>\n",
              "    </tr>\n",
              "    <tr>\n",
              "      <th>1026</th>\n",
              "      <td>322.2</td>\n",
              "      <td>0.0</td>\n",
              "      <td>115.6</td>\n",
              "      <td>196.0</td>\n",
              "      <td>10.4</td>\n",
              "      <td>817.9</td>\n",
              "      <td>813.4</td>\n",
              "      <td>28</td>\n",
              "      <td>31.18</td>\n",
              "    </tr>\n",
              "    <tr>\n",
              "      <th>1027</th>\n",
              "      <td>148.5</td>\n",
              "      <td>139.4</td>\n",
              "      <td>108.6</td>\n",
              "      <td>192.7</td>\n",
              "      <td>6.1</td>\n",
              "      <td>892.4</td>\n",
              "      <td>780.0</td>\n",
              "      <td>28</td>\n",
              "      <td>23.70</td>\n",
              "    </tr>\n",
              "    <tr>\n",
              "      <th>1028</th>\n",
              "      <td>159.1</td>\n",
              "      <td>186.7</td>\n",
              "      <td>0.0</td>\n",
              "      <td>175.6</td>\n",
              "      <td>11.3</td>\n",
              "      <td>989.6</td>\n",
              "      <td>788.9</td>\n",
              "      <td>28</td>\n",
              "      <td>32.77</td>\n",
              "    </tr>\n",
              "    <tr>\n",
              "      <th>1029</th>\n",
              "      <td>260.9</td>\n",
              "      <td>100.5</td>\n",
              "      <td>78.3</td>\n",
              "      <td>200.6</td>\n",
              "      <td>8.6</td>\n",
              "      <td>864.5</td>\n",
              "      <td>761.5</td>\n",
              "      <td>28</td>\n",
              "      <td>32.40</td>\n",
              "    </tr>\n",
              "  </tbody>\n",
              "</table>\n",
              "<p>1030 rows × 9 columns</p>\n",
              "</div>"
            ],
            "text/plain": [
              "      CementComponent   BlastFurnaceSlag  FlyAshComponent  WaterComponent  \\\n",
              "0                540.0               0.0              0.0           162.0   \n",
              "1                540.0               0.0              0.0           162.0   \n",
              "2                332.5             142.5              0.0           228.0   \n",
              "3                332.5             142.5              0.0           228.0   \n",
              "4                198.6             132.4              0.0           192.0   \n",
              "...                ...               ...              ...             ...   \n",
              "1025             276.4             116.0             90.3           179.6   \n",
              "1026             322.2               0.0            115.6           196.0   \n",
              "1027             148.5             139.4            108.6           192.7   \n",
              "1028             159.1             186.7              0.0           175.6   \n",
              "1029             260.9             100.5             78.3           200.6   \n",
              "\n",
              "      SuperplasticizerComponent  CoarseAggregateComponent  \\\n",
              "0                           2.5                    1040.0   \n",
              "1                           2.5                    1055.0   \n",
              "2                           0.0                     932.0   \n",
              "3                           0.0                     932.0   \n",
              "4                           0.0                     978.4   \n",
              "...                         ...                       ...   \n",
              "1025                        8.9                     870.1   \n",
              "1026                       10.4                     817.9   \n",
              "1027                        6.1                     892.4   \n",
              "1028                       11.3                     989.6   \n",
              "1029                        8.6                     864.5   \n",
              "\n",
              "      FineAggregateComponent  AgeInDays  Strength  \n",
              "0                      676.0         28     79.99  \n",
              "1                      676.0         28     61.89  \n",
              "2                      594.0        270     40.27  \n",
              "3                      594.0        365     41.05  \n",
              "4                      825.5        360     44.30  \n",
              "...                      ...        ...       ...  \n",
              "1025                   768.3         28     44.28  \n",
              "1026                   813.4         28     31.18  \n",
              "1027                   780.0         28     23.70  \n",
              "1028                   788.9         28     32.77  \n",
              "1029                   761.5         28     32.40  \n",
              "\n",
              "[1030 rows x 9 columns]"
            ]
          },
          "execution_count": 3,
          "metadata": {},
          "output_type": "execute_result"
        }
      ],
      "source": [
        "df"
      ]
    },
    {
      "cell_type": "code",
      "execution_count": 4,
      "metadata": {},
      "outputs": [
        {
          "data": {
            "text/plain": [
              "((824, 8), (206, 8), (824,), (206,))"
            ]
          },
          "execution_count": 4,
          "metadata": {},
          "output_type": "execute_result"
        }
      ],
      "source": [
        "X = df.drop(columns=['Strength'])\n",
        "y = df['Strength']\n",
        "\n",
        "X_train, X_test, y_train, y_test = train_test_split(X, y, test_size=0.2, random_state=42)\n",
        "X_train.shape, X_test.shape, y_train.shape, y_test.shape"
      ]
    },
    {
      "cell_type": "code",
      "execution_count": 5,
      "metadata": {},
      "outputs": [],
      "source": [
        "train_dataset = CreateDataset(X_train, y_train)\n",
        "test_dataset = CreateDataset(X_test, y_test)\n",
        "\n",
        "train_dataloader = DataLoader(train_dataset,\n",
        "                              batch_size=40,\n",
        "                              num_workers=0\n",
        "                             )\n",
        "\n",
        "test_dataloader = DataLoader(test_dataset,\n",
        "                              batch_size=40,\n",
        "                              num_workers=0\n",
        "                             )"
      ]
    },
    {
      "cell_type": "code",
      "execution_count": null,
      "metadata": {},
      "outputs": [],
      "source": [
        "def objective(trial):\n",
        "    lr = trial.suggest_float(\"lr\", 1e-5, 1e-2, log=True)\n",
        "    hidden1 = trial.suggest_int(\"hidden1\", 64, 512)\n",
        "    hidden2 = trial.suggest_int(\"hidden2\", 32, hidden1)\n",
        "    hidden3 = trial.suggest_int(\"hidden3\", 16, hidden2)\n",
        "\n",
        "    class LinearModel(nn.Module):\n",
        "        def __init__(self, in_dim, out_dim=1):\n",
        "            super().__init__()\n",
        "            self.features = nn.Sequential(\n",
        "                nn.Linear(in_dim, hidden1),\n",
        "                nn.ReLU(),\n",
        "                nn.Linear(hidden1, hidden2),\n",
        "                nn.ReLU(),\n",
        "                nn.Linear(hidden2, hidden3),\n",
        "                nn.ReLU(),\n",
        "                nn.Linear(hidden3, out_dim),\n",
        "            )\n",
        "        def forward(self, x):\n",
        "            return self.features(x)\n",
        "\n",
        "    model = LinearModel(in_dim=X_train.shape[1], out_dim=1)\n",
        "    optimizer = torch.optim.Adam(model.parameters(), lr=lr)\n",
        "    criterion = nn.MSELoss()\n",
        "\n",
        "    metrics, _ = train_model_reg(\n",
        "        num_epoch=20,\n",
        "        train_dataloader=train_dataloader,\n",
        "        test_dataloader=test_dataloader,\n",
        "        model=model,\n",
        "        criterion=criterion,\n",
        "        optimizer=optimizer,\n",
        "        device=torch.device(\"cpu\")\n",
        "    )\n",
        "\n",
        "    return metrics['test_mse'][-1]"
      ]
    },
    {
      "cell_type": "code",
      "execution_count": 7,
      "metadata": {},
      "outputs": [
        {
          "name": "stderr",
          "output_type": "stream",
          "text": [
            "[I 2025-04-27 13:17:11,598] A new study created in memory with name: no-name-a83242ba-6f3b-4de1-b70b-f1c3ff931563\n"
          ]
        },
        {
          "data": {
            "application/vnd.jupyter.widget-view+json": {
              "model_id": "439ec2e115344c9f92911af7f9bb7cd8",
              "version_major": 2,
              "version_minor": 0
            },
            "text/plain": [
              "  0%|          | 0/20 [00:00<?, ?it/s]"
            ]
          },
          "metadata": {},
          "output_type": "display_data"
        },
        {
          "name": "stdout",
          "output_type": "stream",
          "text": [
            "Epoch [1/20] Train Loss: 674.4020 MSE: 674.4019 MAE: 20.5117 RMSE: 25.9692\n",
            "Epoch [2/20] Train Loss: 217.2241 MSE: 217.2242 MAE: 11.7490 RMSE: 14.7385\n",
            "Epoch [3/20] Train Loss: 172.2679 MSE: 172.2680 MAE: 10.6052 RMSE: 13.1251\n",
            "Epoch [4/20] Train Loss: 133.2340 MSE: 133.2340 MAE: 9.1982 RMSE: 11.5427\n",
            "Epoch [5/20] Train Loss: 95.5971 MSE: 95.5971 MAE: 7.6080 RMSE: 9.7774\n",
            "Epoch [6/20] Train Loss: 67.6205 MSE: 67.6206 MAE: 6.2668 RMSE: 8.2232\n",
            "Epoch [7/20] Train Loss: 57.0490 MSE: 57.0490 MAE: 5.7529 RMSE: 7.5531\n",
            "Epoch [8/20] Train Loss: 52.3336 MSE: 52.3336 MAE: 5.5285 RMSE: 7.2342\n",
            "Epoch [9/20] Train Loss: 48.8065 MSE: 48.8065 MAE: 5.3078 RMSE: 6.9862\n",
            "Epoch [10/20] Train Loss: 45.7356 MSE: 45.7356 MAE: 5.1230 RMSE: 6.7628\n",
            "Epoch [11/20] Train Loss: 42.8161 MSE: 42.8161 MAE: 4.9457 RMSE: 6.5434\n",
            "Epoch [12/20] Train Loss: 39.8449 MSE: 39.8449 MAE: 4.7656 RMSE: 6.3123\n",
            "Epoch [13/20] Train Loss: 37.3371 MSE: 37.3371 MAE: 4.6179 RMSE: 6.1104\n",
            "Epoch [14/20] Train Loss: 35.0141 MSE: 35.0141 MAE: 4.4775 RMSE: 5.9173\n",
            "Epoch [15/20] Train Loss: 33.0889 MSE: 33.0889 MAE: 4.3572 RMSE: 5.7523\n"
          ]
        },
        {
          "name": "stderr",
          "output_type": "stream",
          "text": [
            "[I 2025-04-27 13:17:12,521] Trial 0 finished with value: 51.51467514038086 and parameters: {'lr': 0.002488562295549242, 'hidden1': 388, 'hidden2': 334, 'hidden3': 163}. Best is trial 0 with value: 51.51467514038086.\n"
          ]
        },
        {
          "name": "stdout",
          "output_type": "stream",
          "text": [
            "Epoch [16/20] Train Loss: 31.3248 MSE: 31.3248 MAE: 4.2445 RMSE: 5.5969\n",
            "Epoch [17/20] Train Loss: 29.6640 MSE: 29.6640 MAE: 4.1329 RMSE: 5.4465\n",
            "Epoch [18/20] Train Loss: 28.2420 MSE: 28.2420 MAE: 4.0384 RMSE: 5.3143\n",
            "Epoch [19/20] Train Loss: 26.9594 MSE: 26.9594 MAE: 3.9505 RMSE: 5.1922\n",
            "Epoch [20/20] Train Loss: 25.8263 MSE: 25.8263 MAE: 3.8694 RMSE: 5.0820\n"
          ]
        },
        {
          "data": {
            "application/vnd.jupyter.widget-view+json": {
              "model_id": "a71c5419457548ffb43c0a3513ad1f31",
              "version_major": 2,
              "version_minor": 0
            },
            "text/plain": [
              "  0%|          | 0/20 [00:00<?, ?it/s]"
            ]
          },
          "metadata": {},
          "output_type": "display_data"
        },
        {
          "name": "stdout",
          "output_type": "stream",
          "text": [
            "Epoch [1/20] Train Loss: 1323.7705 MSE: 1323.7706 MAE: 32.1890 RMSE: 36.3837\n",
            "Epoch [2/20] Train Loss: 331.4727 MSE: 331.4727 MAE: 13.9283 RMSE: 18.2064\n",
            "Epoch [3/20] Train Loss: 207.4430 MSE: 207.4430 MAE: 11.4874 RMSE: 14.4029\n",
            "Epoch [4/20] Train Loss: 186.9031 MSE: 186.9031 MAE: 11.0583 RMSE: 13.6712\n",
            "Epoch [5/20] Train Loss: 163.8774 MSE: 163.8774 MAE: 10.4111 RMSE: 12.8015\n",
            "Epoch [6/20] Train Loss: 147.3755 MSE: 147.3755 MAE: 9.8584 RMSE: 12.1398\n",
            "Epoch [7/20] Train Loss: 134.0940 MSE: 134.0940 MAE: 9.3653 RMSE: 11.5799\n",
            "Epoch [8/20] Train Loss: 120.6257 MSE: 120.6256 MAE: 8.8122 RMSE: 10.9830\n",
            "Epoch [9/20] Train Loss: 106.1285 MSE: 106.1285 MAE: 8.1798 RMSE: 10.3019\n",
            "Epoch [10/20] Train Loss: 91.0360 MSE: 91.0360 MAE: 7.4842 RMSE: 9.5413\n",
            "Epoch [11/20] Train Loss: 76.8546 MSE: 76.8546 MAE: 6.7800 RMSE: 8.7667\n",
            "Epoch [12/20] Train Loss: 65.4171 MSE: 65.4171 MAE: 6.1853 RMSE: 8.0881\n",
            "Epoch [13/20] Train Loss: 57.5216 MSE: 57.5216 MAE: 5.7538 RMSE: 7.5843\n",
            "Epoch [14/20] Train Loss: 52.1610 MSE: 52.1610 MAE: 5.4797 RMSE: 7.2223\n",
            "Epoch [15/20] Train Loss: 48.3087 MSE: 48.3087 MAE: 5.2747 RMSE: 6.9504\n",
            "Epoch [16/20] Train Loss: 45.4152 MSE: 45.4152 MAE: 5.1313 RMSE: 6.7391\n"
          ]
        },
        {
          "name": "stderr",
          "output_type": "stream",
          "text": [
            "[I 2025-04-27 13:17:13,211] Trial 1 finished with value: 47.28493881225586 and parameters: {'lr': 0.0026931028539485162, 'hidden1': 78, 'hidden2': 65, 'hidden3': 57}. Best is trial 1 with value: 47.28493881225586.\n"
          ]
        },
        {
          "name": "stdout",
          "output_type": "stream",
          "text": [
            "Epoch [17/20] Train Loss: 43.0557 MSE: 43.0557 MAE: 5.0069 RMSE: 6.5617\n",
            "Epoch [18/20] Train Loss: 41.2027 MSE: 41.2027 MAE: 4.9039 RMSE: 6.4189\n",
            "Epoch [19/20] Train Loss: 39.6357 MSE: 39.6357 MAE: 4.8149 RMSE: 6.2957\n",
            "Epoch [20/20] Train Loss: 38.1862 MSE: 38.1862 MAE: 4.7282 RMSE: 6.1795\n"
          ]
        },
        {
          "data": {
            "application/vnd.jupyter.widget-view+json": {
              "model_id": "d0813d11626f439095db91228b02e5e7",
              "version_major": 2,
              "version_minor": 0
            },
            "text/plain": [
              "  0%|          | 0/20 [00:00<?, ?it/s]"
            ]
          },
          "metadata": {},
          "output_type": "display_data"
        },
        {
          "name": "stdout",
          "output_type": "stream",
          "text": [
            "Epoch [1/20] Train Loss: 1447.6393 MSE: 1447.6394 MAE: 34.1118 RMSE: 38.0479\n",
            "Epoch [2/20] Train Loss: 621.0154 MSE: 621.0154 MAE: 19.7784 RMSE: 24.9202\n",
            "Epoch [3/20] Train Loss: 281.2647 MSE: 281.2647 MAE: 13.4898 RMSE: 16.7709\n",
            "Epoch [4/20] Train Loss: 209.9755 MSE: 209.9755 MAE: 11.5842 RMSE: 14.4905\n",
            "Epoch [5/20] Train Loss: 199.4200 MSE: 199.4200 MAE: 11.3716 RMSE: 14.1216\n",
            "Epoch [6/20] Train Loss: 181.5678 MSE: 181.5678 MAE: 10.8940 RMSE: 13.4747\n",
            "Epoch [7/20] Train Loss: 169.7015 MSE: 169.7015 MAE: 10.5465 RMSE: 13.0270\n",
            "Epoch [8/20] Train Loss: 158.6585 MSE: 158.6585 MAE: 10.2002 RMSE: 12.5960\n",
            "Epoch [9/20] Train Loss: 147.6132 MSE: 147.6132 MAE: 9.8386 RMSE: 12.1496\n",
            "Epoch [10/20] Train Loss: 136.6070 MSE: 136.6070 MAE: 9.4541 RMSE: 11.6879\n",
            "Epoch [11/20] Train Loss: 125.1242 MSE: 125.1242 MAE: 9.0196 RMSE: 11.1859\n",
            "Epoch [12/20] Train Loss: 113.0355 MSE: 113.0355 MAE: 8.5257 RMSE: 10.6318\n",
            "Epoch [13/20] Train Loss: 100.6090 MSE: 100.6090 MAE: 7.9849 RMSE: 10.0304\n",
            "Epoch [14/20] Train Loss: 88.5647 MSE: 88.5647 MAE: 7.4227 RMSE: 9.4109\n",
            "Epoch [15/20] Train Loss: 77.5118 MSE: 77.5118 MAE: 6.8705 RMSE: 8.8041\n",
            "Epoch [16/20] Train Loss: 68.0750 MSE: 68.0750 MAE: 6.3652 RMSE: 8.2508\n"
          ]
        },
        {
          "name": "stderr",
          "output_type": "stream",
          "text": [
            "[I 2025-04-27 13:17:13,894] Trial 2 finished with value: 58.18959426879883 and parameters: {'lr': 0.0009598241500155744, 'hidden1': 279, 'hidden2': 148, 'hidden3': 70}. Best is trial 1 with value: 47.28493881225586.\n"
          ]
        },
        {
          "name": "stdout",
          "output_type": "stream",
          "text": [
            "Epoch [17/20] Train Loss: 60.6049 MSE: 60.6049 MAE: 5.9473 RMSE: 7.7849\n",
            "Epoch [18/20] Train Loss: 54.8385 MSE: 54.8385 MAE: 5.6035 RMSE: 7.4053\n",
            "Epoch [19/20] Train Loss: 50.4926 MSE: 50.4926 MAE: 5.3584 RMSE: 7.1058\n",
            "Epoch [20/20] Train Loss: 47.2150 MSE: 47.2150 MAE: 5.1753 RMSE: 6.8713\n"
          ]
        },
        {
          "data": {
            "application/vnd.jupyter.widget-view+json": {
              "model_id": "bc2db9e4636e400b828aa6f94c3d6a5b",
              "version_major": 2,
              "version_minor": 0
            },
            "text/plain": [
              "  0%|          | 0/20 [00:00<?, ?it/s]"
            ]
          },
          "metadata": {},
          "output_type": "display_data"
        },
        {
          "name": "stdout",
          "output_type": "stream",
          "text": [
            "Epoch [1/20] Train Loss: 1555.4118 MSE: 1555.4120 MAE: 35.6573 RMSE: 39.4387\n",
            "Epoch [2/20] Train Loss: 1529.3370 MSE: 1529.3369 MAE: 35.2909 RMSE: 39.1067\n",
            "Epoch [3/20] Train Loss: 1483.2188 MSE: 1483.2189 MAE: 34.6402 RMSE: 38.5126\n",
            "Epoch [4/20] Train Loss: 1408.7446 MSE: 1408.7445 MAE: 33.5747 RMSE: 37.5332\n",
            "Epoch [5/20] Train Loss: 1295.7255 MSE: 1295.7256 MAE: 31.8941 RMSE: 35.9962\n",
            "Epoch [6/20] Train Loss: 1143.9811 MSE: 1143.9811 MAE: 29.5157 RMSE: 33.8228\n",
            "Epoch [7/20] Train Loss: 956.8525 MSE: 956.8525 MAE: 26.3892 RMSE: 30.9330\n",
            "Epoch [8/20] Train Loss: 749.8170 MSE: 749.8169 MAE: 22.6395 RMSE: 27.3828\n",
            "Epoch [9/20] Train Loss: 551.4946 MSE: 551.4946 MAE: 18.7567 RMSE: 23.4839\n",
            "Epoch [10/20] Train Loss: 395.1931 MSE: 395.1931 MAE: 15.4902 RMSE: 19.8795\n",
            "Epoch [11/20] Train Loss: 300.1256 MSE: 300.1256 MAE: 13.4818 RMSE: 17.3241\n",
            "Epoch [12/20] Train Loss: 256.7952 MSE: 256.7951 MAE: 12.7133 RMSE: 16.0248\n",
            "Epoch [13/20] Train Loss: 239.4262 MSE: 239.4262 MAE: 12.3969 RMSE: 15.4734\n",
            "Epoch [14/20] Train Loss: 230.0864 MSE: 230.0864 MAE: 12.1898 RMSE: 15.1686\n",
            "Epoch [15/20] Train Loss: 222.9824 MSE: 222.9824 MAE: 12.0149 RMSE: 14.9326\n",
            "Epoch [16/20] Train Loss: 217.0486 MSE: 217.0486 MAE: 11.8667 RMSE: 14.7326\n",
            "Epoch [17/20] Train Loss: 211.9967 MSE: 211.9967 MAE: 11.7416 RMSE: 14.5601\n",
            "Epoch [18/20] Train Loss: 207.6203 MSE: 207.6203 MAE: 11.6342 RMSE: 14.4090\n"
          ]
        },
        {
          "name": "stderr",
          "output_type": "stream",
          "text": [
            "[I 2025-04-27 13:17:14,437] Trial 3 finished with value: 176.41976928710938 and parameters: {'lr': 0.00024038990019546426, 'hidden1': 279, 'hidden2': 36, 'hidden3': 20}. Best is trial 1 with value: 47.28493881225586.\n"
          ]
        },
        {
          "name": "stdout",
          "output_type": "stream",
          "text": [
            "Epoch [19/20] Train Loss: 203.7552 MSE: 203.7552 MAE: 11.5400 RMSE: 14.2743\n",
            "Epoch [20/20] Train Loss: 200.2561 MSE: 200.2561 MAE: 11.4522 RMSE: 14.1512\n"
          ]
        },
        {
          "data": {
            "application/vnd.jupyter.widget-view+json": {
              "model_id": "1883a1911cdc40538a8334f5097f11b6",
              "version_major": 2,
              "version_minor": 0
            },
            "text/plain": [
              "  0%|          | 0/20 [00:00<?, ?it/s]"
            ]
          },
          "metadata": {},
          "output_type": "display_data"
        },
        {
          "name": "stdout",
          "output_type": "stream",
          "text": [
            "Epoch [1/20] Train Loss: 1581.0331 MSE: 1581.0333 MAE: 36.0166 RMSE: 39.7622\n",
            "Epoch [2/20] Train Loss: 1579.6557 MSE: 1579.6560 MAE: 35.9980 RMSE: 39.7449\n",
            "Epoch [3/20] Train Loss: 1578.3097 MSE: 1578.3098 MAE: 35.9798 RMSE: 39.7279\n",
            "Epoch [4/20] Train Loss: 1576.9864 MSE: 1576.9863 MAE: 35.9617 RMSE: 39.7113\n",
            "Epoch [5/20] Train Loss: 1575.6867 MSE: 1575.6869 MAE: 35.9439 RMSE: 39.6949\n",
            "Epoch [6/20] Train Loss: 1574.4119 MSE: 1574.4120 MAE: 35.9265 RMSE: 39.6789\n",
            "Epoch [7/20] Train Loss: 1573.1437 MSE: 1573.1437 MAE: 35.9092 RMSE: 39.6629\n",
            "Epoch [8/20] Train Loss: 1571.8528 MSE: 1571.8529 MAE: 35.8917 RMSE: 39.6466\n",
            "Epoch [9/20] Train Loss: 1570.5175 MSE: 1570.5176 MAE: 35.8735 RMSE: 39.6298\n",
            "Epoch [10/20] Train Loss: 1569.1144 MSE: 1569.1145 MAE: 35.8545 RMSE: 39.6120\n",
            "Epoch [11/20] Train Loss: 1567.6240 MSE: 1567.6239 MAE: 35.8343 RMSE: 39.5932\n",
            "Epoch [12/20] Train Loss: 1566.0400 MSE: 1566.0400 MAE: 35.8130 RMSE: 39.5732\n",
            "Epoch [13/20] Train Loss: 1564.3672 MSE: 1564.3671 MAE: 35.7905 RMSE: 39.5521\n",
            "Epoch [14/20] Train Loss: 1562.6052 MSE: 1562.6052 MAE: 35.7667 RMSE: 39.5298\n",
            "Epoch [15/20] Train Loss: 1560.7465 MSE: 1560.7465 MAE: 35.7416 RMSE: 39.5063\n",
            "Epoch [16/20] Train Loss: 1558.7867 MSE: 1558.7867 MAE: 35.7151 RMSE: 39.4815\n"
          ]
        },
        {
          "name": "stderr",
          "output_type": "stream",
          "text": [
            "[I 2025-04-27 13:17:15,048] Trial 4 finished with value: 1508.231201171875 and parameters: {'lr': 1.0029971500231324e-05, 'hidden1': 363, 'hidden2': 76, 'hidden3': 44}. Best is trial 1 with value: 47.28493881225586.\n"
          ]
        },
        {
          "name": "stdout",
          "output_type": "stream",
          "text": [
            "Epoch [17/20] Train Loss: 1556.7346 MSE: 1556.7345 MAE: 35.6874 RMSE: 39.4555\n",
            "Epoch [18/20] Train Loss: 1554.5923 MSE: 1554.5920 MAE: 35.6585 RMSE: 39.4283\n",
            "Epoch [19/20] Train Loss: 1552.3511 MSE: 1552.3512 MAE: 35.6282 RMSE: 39.3999\n",
            "Epoch [20/20] Train Loss: 1549.9978 MSE: 1549.9979 MAE: 35.5963 RMSE: 39.3700\n"
          ]
        },
        {
          "data": {
            "application/vnd.jupyter.widget-view+json": {
              "model_id": "efaf40d34034419b89138973bbd49fa6",
              "version_major": 2,
              "version_minor": 0
            },
            "text/plain": [
              "  0%|          | 0/20 [00:00<?, ?it/s]"
            ]
          },
          "metadata": {},
          "output_type": "display_data"
        },
        {
          "name": "stdout",
          "output_type": "stream",
          "text": [
            "Epoch [1/20] Train Loss: 1509.0155 MSE: 1509.0155 MAE: 34.9982 RMSE: 38.8460\n",
            "Epoch [2/20] Train Loss: 964.6812 MSE: 964.6813 MAE: 26.0644 RMSE: 31.0593\n",
            "Epoch [3/20] Train Loss: 315.2974 MSE: 315.2974 MAE: 13.9522 RMSE: 17.7566\n",
            "Epoch [4/20] Train Loss: 239.4935 MSE: 239.4935 MAE: 12.5155 RMSE: 15.4756\n",
            "Epoch [5/20] Train Loss: 212.7546 MSE: 212.7546 MAE: 11.7897 RMSE: 14.5861\n",
            "Epoch [6/20] Train Loss: 197.6628 MSE: 197.6628 MAE: 11.4202 RMSE: 14.0593\n",
            "Epoch [7/20] Train Loss: 184.9481 MSE: 184.9481 MAE: 11.0793 RMSE: 13.5996\n",
            "Epoch [8/20] Train Loss: 173.3243 MSE: 173.3244 MAE: 10.7297 RMSE: 13.1653\n",
            "Epoch [9/20] Train Loss: 162.7133 MSE: 162.7133 MAE: 10.3883 RMSE: 12.7559\n",
            "Epoch [10/20] Train Loss: 152.3676 MSE: 152.3676 MAE: 10.0480 RMSE: 12.3437\n",
            "Epoch [11/20] Train Loss: 142.1003 MSE: 142.1003 MAE: 9.6908 RMSE: 11.9206\n",
            "Epoch [12/20] Train Loss: 131.5143 MSE: 131.5143 MAE: 9.3021 RMSE: 11.4680\n",
            "Epoch [13/20] Train Loss: 120.5339 MSE: 120.5339 MAE: 8.8713 RMSE: 10.9788\n",
            "Epoch [14/20] Train Loss: 109.1419 MSE: 109.1419 MAE: 8.3981 RMSE: 10.4471\n",
            "Epoch [15/20] Train Loss: 97.6470 MSE: 97.6470 MAE: 7.8898 RMSE: 9.8817\n",
            "Epoch [16/20] Train Loss: 86.8407 MSE: 86.8407 MAE: 7.3794 RMSE: 9.3188\n",
            "Epoch [17/20] Train Loss: 77.0525 MSE: 77.0525 MAE: 6.8850 RMSE: 8.7780\n",
            "Epoch [18/20] Train Loss: 68.7712 MSE: 68.7712 MAE: 6.4387 RMSE: 8.2928\n"
          ]
        },
        {
          "name": "stderr",
          "output_type": "stream",
          "text": [
            "[I 2025-04-27 13:17:15,642] Trial 5 finished with value: 70.28694915771484 and parameters: {'lr': 0.0008402150162270445, 'hidden1': 162, 'hidden2': 159, 'hidden3': 85}. Best is trial 1 with value: 47.28493881225586.\n"
          ]
        },
        {
          "name": "stdout",
          "output_type": "stream",
          "text": [
            "Epoch [19/20] Train Loss: 62.0999 MSE: 62.0999 MAE: 6.0768 RMSE: 7.8803\n",
            "Epoch [20/20] Train Loss: 56.8714 MSE: 56.8714 MAE: 5.7850 RMSE: 7.5413\n"
          ]
        },
        {
          "data": {
            "application/vnd.jupyter.widget-view+json": {
              "model_id": "856340b28d3644739f891debf6baf9bb",
              "version_major": 2,
              "version_minor": 0
            },
            "text/plain": [
              "  0%|          | 0/20 [00:00<?, ?it/s]"
            ]
          },
          "metadata": {},
          "output_type": "display_data"
        },
        {
          "name": "stdout",
          "output_type": "stream",
          "text": [
            "Epoch [1/20] Train Loss: 1575.4405 MSE: 1575.4404 MAE: 35.9368 RMSE: 39.6918\n",
            "Epoch [2/20] Train Loss: 1572.4273 MSE: 1572.4271 MAE: 35.8963 RMSE: 39.6538\n",
            "Epoch [3/20] Train Loss: 1569.5442 MSE: 1569.5443 MAE: 35.8575 RMSE: 39.6175\n",
            "Epoch [4/20] Train Loss: 1566.6567 MSE: 1566.6565 MAE: 35.8185 RMSE: 39.5810\n",
            "Epoch [5/20] Train Loss: 1563.6320 MSE: 1563.6318 MAE: 35.7774 RMSE: 39.5428\n",
            "Epoch [6/20] Train Loss: 1560.3447 MSE: 1560.3446 MAE: 35.7329 RMSE: 39.5012\n",
            "Epoch [7/20] Train Loss: 1556.7562 MSE: 1556.7563 MAE: 35.6843 RMSE: 39.4558\n",
            "Epoch [8/20] Train Loss: 1552.8804 MSE: 1552.8805 MAE: 35.6317 RMSE: 39.4066\n",
            "Epoch [9/20] Train Loss: 1548.5943 MSE: 1548.5942 MAE: 35.5736 RMSE: 39.3522\n",
            "Epoch [10/20] Train Loss: 1543.7721 MSE: 1543.7720 MAE: 35.5082 RMSE: 39.2909\n",
            "Epoch [11/20] Train Loss: 1538.3338 MSE: 1538.3337 MAE: 35.4341 RMSE: 39.2216\n",
            "Epoch [12/20] Train Loss: 1532.2189 MSE: 1532.2189 MAE: 35.3501 RMSE: 39.1436\n",
            "Epoch [13/20] Train Loss: 1525.4198 MSE: 1525.4199 MAE: 35.2563 RMSE: 39.0566\n",
            "Epoch [14/20] Train Loss: 1517.9360 MSE: 1517.9360 MAE: 35.1526 RMSE: 38.9607\n",
            "Epoch [15/20] Train Loss: 1509.7347 MSE: 1509.7349 MAE: 35.0385 RMSE: 38.8553\n",
            "Epoch [16/20] Train Loss: 1500.7947 MSE: 1500.7948 MAE: 34.9136 RMSE: 38.7401\n",
            "Epoch [17/20] Train Loss: 1491.0887 MSE: 1491.0887 MAE: 34.7774 RMSE: 38.6146\n",
            "Epoch [18/20] Train Loss: 1480.5695 MSE: 1480.5695 MAE: 34.6292 RMSE: 38.4782\n",
            "Epoch [19/20] Train Loss: 1469.2000 MSE: 1469.2001 MAE: 34.4682 RMSE: 38.3301\n"
          ]
        },
        {
          "name": "stderr",
          "output_type": "stream",
          "text": [
            "[I 2025-04-27 13:17:16,417] Trial 6 finished with value: 1410.3843994140625 and parameters: {'lr': 1.140287631429865e-05, 'hidden1': 348, 'hidden2': 277, 'hidden3': 71}. Best is trial 1 with value: 47.28493881225586.\n"
          ]
        },
        {
          "name": "stdout",
          "output_type": "stream",
          "text": [
            "Epoch [20/20] Train Loss: 1456.9607 MSE: 1456.9607 MAE: 34.2940 RMSE: 38.1702\n"
          ]
        },
        {
          "data": {
            "application/vnd.jupyter.widget-view+json": {
              "model_id": "1327ea2cf0f74532862b1bf41fc8dc1b",
              "version_major": 2,
              "version_minor": 0
            },
            "text/plain": [
              "  0%|          | 0/20 [00:00<?, ?it/s]"
            ]
          },
          "metadata": {},
          "output_type": "display_data"
        },
        {
          "name": "stdout",
          "output_type": "stream",
          "text": [
            "Epoch [1/20] Train Loss: 1519.1391 MSE: 1519.1389 MAE: 35.1597 RMSE: 38.9761\n",
            "Epoch [2/20] Train Loss: 1236.5412 MSE: 1236.5411 MAE: 30.9506 RMSE: 35.1645\n",
            "Epoch [3/20] Train Loss: 596.8566 MSE: 596.8565 MAE: 19.3960 RMSE: 24.4306\n",
            "Epoch [4/20] Train Loss: 284.9475 MSE: 284.9475 MAE: 13.4038 RMSE: 16.8804\n",
            "Epoch [5/20] Train Loss: 251.3419 MSE: 251.3419 MAE: 12.8516 RMSE: 15.8538\n",
            "Epoch [6/20] Train Loss: 226.3673 MSE: 226.3673 MAE: 12.1726 RMSE: 15.0455\n",
            "Epoch [7/20] Train Loss: 215.7698 MSE: 215.7698 MAE: 11.8982 RMSE: 14.6891\n",
            "Epoch [8/20] Train Loss: 205.5074 MSE: 205.5074 MAE: 11.6032 RMSE: 14.3355\n",
            "Epoch [9/20] Train Loss: 196.7060 MSE: 196.7060 MAE: 11.3510 RMSE: 14.0252\n",
            "Epoch [10/20] Train Loss: 187.8556 MSE: 187.8556 MAE: 11.0954 RMSE: 13.7060\n",
            "Epoch [11/20] Train Loss: 179.0607 MSE: 179.0607 MAE: 10.8313 RMSE: 13.3814\n",
            "Epoch [12/20] Train Loss: 170.0704 MSE: 170.0704 MAE: 10.5511 RMSE: 13.0411\n",
            "Epoch [13/20] Train Loss: 160.8928 MSE: 160.8928 MAE: 10.2539 RMSE: 12.6844\n",
            "Epoch [14/20] Train Loss: 151.3598 MSE: 151.3598 MAE: 9.9376 RMSE: 12.3028\n",
            "Epoch [15/20] Train Loss: 141.5871 MSE: 141.5871 MAE: 9.5981 RMSE: 11.8990\n",
            "Epoch [16/20] Train Loss: 131.7614 MSE: 131.7614 MAE: 9.2373 RMSE: 11.4787\n",
            "Epoch [17/20] Train Loss: 121.9932 MSE: 121.9932 MAE: 8.8565 RMSE: 11.0451\n",
            "Epoch [18/20] Train Loss: 112.4738 MSE: 112.4738 MAE: 8.4645 RMSE: 10.6054\n"
          ]
        },
        {
          "name": "stderr",
          "output_type": "stream",
          "text": [
            "[I 2025-04-27 13:17:17,439] Trial 7 finished with value: 89.8853759765625 and parameters: {'lr': 0.00016983285272724455, 'hidden1': 437, 'hidden2': 364, 'hidden3': 299}. Best is trial 1 with value: 47.28493881225586.\n"
          ]
        },
        {
          "name": "stdout",
          "output_type": "stream",
          "text": [
            "Epoch [19/20] Train Loss: 103.3754 MSE: 103.3754 MAE: 8.0627 RMSE: 10.1674\n",
            "Epoch [20/20] Train Loss: 94.8406 MSE: 94.8406 MAE: 7.6695 RMSE: 9.7386\n"
          ]
        },
        {
          "data": {
            "application/vnd.jupyter.widget-view+json": {
              "model_id": "55a87701a617429fb1967cc8b8495b48",
              "version_major": 2,
              "version_minor": 0
            },
            "text/plain": [
              "  0%|          | 0/20 [00:00<?, ?it/s]"
            ]
          },
          "metadata": {},
          "output_type": "display_data"
        },
        {
          "name": "stdout",
          "output_type": "stream",
          "text": [
            "Epoch [1/20] Train Loss: 1078.2630 MSE: 1078.2628 MAE: 27.6774 RMSE: 32.8369\n",
            "Epoch [2/20] Train Loss: 309.8061 MSE: 309.8061 MAE: 14.0044 RMSE: 17.6013\n",
            "Epoch [3/20] Train Loss: 193.6413 MSE: 193.6413 MAE: 11.1775 RMSE: 13.9155\n",
            "Epoch [4/20] Train Loss: 167.9216 MSE: 167.9216 MAE: 10.5114 RMSE: 12.9585\n",
            "Epoch [5/20] Train Loss: 156.5346 MSE: 156.5346 MAE: 10.1153 RMSE: 12.5114\n",
            "Epoch [6/20] Train Loss: 146.1725 MSE: 146.1725 MAE: 9.7742 RMSE: 12.0902\n",
            "Epoch [7/20] Train Loss: 136.8505 MSE: 136.8505 MAE: 9.4379 RMSE: 11.6983\n",
            "Epoch [8/20] Train Loss: 127.9078 MSE: 127.9078 MAE: 9.0944 RMSE: 11.3096\n",
            "Epoch [9/20] Train Loss: 118.1003 MSE: 118.1003 MAE: 8.6962 RMSE: 10.8674\n",
            "Epoch [10/20] Train Loss: 105.9193 MSE: 105.9193 MAE: 8.1607 RMSE: 10.2917\n",
            "Epoch [11/20] Train Loss: 90.7776 MSE: 90.7776 MAE: 7.4585 RMSE: 9.5277\n",
            "Epoch [12/20] Train Loss: 74.2948 MSE: 74.2948 MAE: 6.6556 RMSE: 8.6194\n",
            "Epoch [13/20] Train Loss: 60.4591 MSE: 60.4590 MAE: 5.8927 RMSE: 7.7755\n",
            "Epoch [14/20] Train Loss: 52.3689 MSE: 52.3689 MAE: 5.4383 RMSE: 7.2366\n",
            "Epoch [15/20] Train Loss: 48.0524 MSE: 48.0524 MAE: 5.2164 RMSE: 6.9320\n",
            "Epoch [16/20] Train Loss: 45.3056 MSE: 45.3056 MAE: 5.0886 RMSE: 6.7309\n",
            "Epoch [17/20] Train Loss: 43.0593 MSE: 43.0593 MAE: 4.9752 RMSE: 6.5620\n"
          ]
        },
        {
          "name": "stderr",
          "output_type": "stream",
          "text": [
            "[I 2025-04-27 13:17:17,985] Trial 8 finished with value: 53.586978912353516 and parameters: {'lr': 0.00382693853454278, 'hidden1': 124, 'hidden2': 72, 'hidden3': 33}. Best is trial 1 with value: 47.28493881225586.\n"
          ]
        },
        {
          "name": "stdout",
          "output_type": "stream",
          "text": [
            "Epoch [18/20] Train Loss: 41.1519 MSE: 41.1519 MAE: 4.8667 RMSE: 6.4150\n",
            "Epoch [19/20] Train Loss: 39.4011 MSE: 39.4011 MAE: 4.7666 RMSE: 6.2770\n",
            "Epoch [20/20] Train Loss: 37.7347 MSE: 37.7347 MAE: 4.6718 RMSE: 6.1429\n"
          ]
        },
        {
          "data": {
            "application/vnd.jupyter.widget-view+json": {
              "model_id": "98a76f8ab98c4aaba173908fc7d218dc",
              "version_major": 2,
              "version_minor": 0
            },
            "text/plain": [
              "  0%|          | 0/20 [00:00<?, ?it/s]"
            ]
          },
          "metadata": {},
          "output_type": "display_data"
        },
        {
          "name": "stdout",
          "output_type": "stream",
          "text": [
            "Epoch [1/20] Train Loss: 1579.5020 MSE: 1579.5023 MAE: 35.9888 RMSE: 39.7430\n",
            "Epoch [2/20] Train Loss: 1577.9804 MSE: 1577.9806 MAE: 35.9682 RMSE: 39.7238\n",
            "Epoch [3/20] Train Loss: 1576.1620 MSE: 1576.1620 MAE: 35.9440 RMSE: 39.7009\n",
            "Epoch [4/20] Train Loss: 1573.8133 MSE: 1573.8136 MAE: 35.9133 RMSE: 39.6713\n",
            "Epoch [5/20] Train Loss: 1570.9803 MSE: 1570.9802 MAE: 35.8760 RMSE: 39.6356\n",
            "Epoch [6/20] Train Loss: 1567.4948 MSE: 1567.4949 MAE: 35.8298 RMSE: 39.5916\n",
            "Epoch [7/20] Train Loss: 1563.2547 MSE: 1563.2544 MAE: 35.7726 RMSE: 39.5380\n",
            "Epoch [8/20] Train Loss: 1558.1701 MSE: 1558.1704 MAE: 35.7032 RMSE: 39.4737\n",
            "Epoch [9/20] Train Loss: 1552.1199 MSE: 1552.1201 MAE: 35.6202 RMSE: 39.3970\n",
            "Epoch [10/20] Train Loss: 1545.1413 MSE: 1545.1415 MAE: 35.5245 RMSE: 39.3083\n",
            "Epoch [11/20] Train Loss: 1537.1404 MSE: 1537.1405 MAE: 35.4148 RMSE: 39.2064\n",
            "Epoch [12/20] Train Loss: 1527.9950 MSE: 1527.9949 MAE: 35.2889 RMSE: 39.0896\n",
            "Epoch [13/20] Train Loss: 1517.3751 MSE: 1517.3751 MAE: 35.1420 RMSE: 38.9535\n",
            "Epoch [14/20] Train Loss: 1505.2916 MSE: 1505.2916 MAE: 34.9745 RMSE: 38.7981\n",
            "Epoch [15/20] Train Loss: 1491.7976 MSE: 1491.7974 MAE: 34.7870 RMSE: 38.6238\n",
            "Epoch [16/20] Train Loss: 1476.7905 MSE: 1476.7906 MAE: 34.5777 RMSE: 38.4290\n",
            "Epoch [17/20] Train Loss: 1460.1995 MSE: 1460.1995 MAE: 34.3455 RMSE: 38.2126\n",
            "Epoch [18/20] Train Loss: 1441.9644 MSE: 1441.9645 MAE: 34.0889 RMSE: 37.9732\n"
          ]
        },
        {
          "name": "stderr",
          "output_type": "stream",
          "text": [
            "[I 2025-04-27 13:17:18,539] Trial 9 finished with value: 1346.300048828125 and parameters: {'lr': 4.1063788757351374e-05, 'hidden1': 198, 'hidden2': 62, 'hidden3': 23}. Best is trial 1 with value: 47.28493881225586.\n"
          ]
        },
        {
          "name": "stdout",
          "output_type": "stream",
          "text": [
            "Epoch [19/20] Train Loss: 1421.9395 MSE: 1421.9395 MAE: 33.8052 RMSE: 37.7086\n",
            "Epoch [20/20] Train Loss: 1399.9611 MSE: 1399.9612 MAE: 33.4917 RMSE: 37.4161\n"
          ]
        }
      ],
      "source": [
        "study = optuna.create_study(direction=\"minimize\")\n",
        "study.optimize(objective, n_trials=10)"
      ]
    },
    {
      "cell_type": "code",
      "execution_count": 8,
      "metadata": {},
      "outputs": [
        {
          "name": "stdout",
          "output_type": "stream",
          "text": [
            "Best trial:\n",
            "{'lr': 0.0026931028539485162, 'hidden1': 78, 'hidden2': 65, 'hidden3': 57}\n"
          ]
        }
      ],
      "source": [
        "print(\"Best trial:\")\n",
        "print(study.best_trial.params)"
      ]
    },
    {
      "cell_type": "code",
      "execution_count": 9,
      "metadata": {},
      "outputs": [
        {
          "data": {
            "application/vnd.jupyter.widget-view+json": {
              "model_id": "b8f159d4b34b4d38879e46d30de3e0f4",
              "version_major": 2,
              "version_minor": 0
            },
            "text/plain": [
              "  0%|          | 0/20 [00:00<?, ?it/s]"
            ]
          },
          "metadata": {},
          "output_type": "display_data"
        },
        {
          "name": "stdout",
          "output_type": "stream",
          "text": [
            "Epoch [1/20] Train Loss: 1410.4899 MSE: 1410.4900 MAE: 33.5491 RMSE: 37.5565\n",
            "Epoch [2/20] Train Loss: 437.2239 MSE: 437.2240 MAE: 16.2158 RMSE: 20.9099\n",
            "Epoch [3/20] Train Loss: 229.5909 MSE: 229.5909 MAE: 12.1970 RMSE: 15.1523\n",
            "Epoch [4/20] Train Loss: 198.2681 MSE: 198.2681 MAE: 11.2724 RMSE: 14.0808\n",
            "Epoch [5/20] Train Loss: 171.0141 MSE: 171.0141 MAE: 10.5859 RMSE: 13.0772\n",
            "Epoch [6/20] Train Loss: 157.9729 MSE: 157.9729 MAE: 10.1697 RMSE: 12.5687\n",
            "Epoch [7/20] Train Loss: 147.4507 MSE: 147.4507 MAE: 9.8212 RMSE: 12.1429\n",
            "Epoch [8/20] Train Loss: 136.7180 MSE: 136.7180 MAE: 9.4535 RMSE: 11.6926\n",
            "Epoch [9/20] Train Loss: 125.4474 MSE: 125.4474 MAE: 9.0245 RMSE: 11.2003\n",
            "Epoch [10/20] Train Loss: 112.7358 MSE: 112.7357 MAE: 8.5197 RMSE: 10.6177\n",
            "Epoch [11/20] Train Loss: 98.9476 MSE: 98.9476 MAE: 7.9256 RMSE: 9.9472\n",
            "Epoch [12/20] Train Loss: 84.8928 MSE: 84.8928 MAE: 7.2799 RMSE: 9.2137\n",
            "Epoch [13/20] Train Loss: 72.2589 MSE: 72.2589 MAE: 6.6278 RMSE: 8.5005\n",
            "Epoch [14/20] Train Loss: 62.2958 MSE: 62.2958 MAE: 6.0817 RMSE: 7.8928\n",
            "Epoch [15/20] Train Loss: 55.4561 MSE: 55.4561 MAE: 5.7033 RMSE: 7.4469\n",
            "Epoch [16/20] Train Loss: 50.7889 MSE: 50.7889 MAE: 5.4302 RMSE: 7.1266\n",
            "Epoch [17/20] Train Loss: 47.2716 MSE: 47.2716 MAE: 5.2230 RMSE: 6.8754\n",
            "Epoch [18/20] Train Loss: 44.5303 MSE: 44.5303 MAE: 5.0687 RMSE: 6.6731\n",
            "Epoch [19/20] Train Loss: 42.1175 MSE: 42.1175 MAE: 4.9272 RMSE: 6.4898\n",
            "Epoch [20/20] Train Loss: 39.9749 MSE: 39.9749 MAE: 4.8082 RMSE: 6.3226\n"
          ]
        }
      ],
      "source": [
        "class Model(torch.nn.Module):\n",
        "    def __init__(self, in_dim, out_dim=1):\n",
        "        super().__init__()\n",
        "        \n",
        "        self.features = torch.nn.Sequential(\n",
        "            nn.Linear(in_dim, 144),\n",
        "            torch.nn.ReLU(),\n",
        "            \n",
        "            nn.Linear(144, 72),\n",
        "            torch.nn.ReLU(),\n",
        "            \n",
        "            nn.Linear(72, 72),\n",
        "            torch.nn.ReLU(),\n",
        "            \n",
        "            nn.Linear(72, out_dim),\n",
        "        )\n",
        "    \n",
        "        \n",
        "    def forward(self, x):\n",
        "        output = self.features(x)\n",
        "        return output\n",
        "    \n",
        "\n",
        "model = Model(in_dim=X_train.shape[1], out_dim=1)\n",
        "  \n",
        "criterion = nn.MSELoss()\n",
        "optimizer = torch.optim.Adam(model.parameters(), lr=0.002)\n",
        "\n",
        "metrics, model = train_model_reg(num_epoch=20,\n",
        "                    train_dataloader = train_dataloader,\n",
        "                    test_dataloader = test_dataloader,\n",
        "                    model=model,\n",
        "                    criterion=criterion,\n",
        "                    optimizer=optimizer,\n",
        "                    )"
      ]
    },
    {
      "cell_type": "code",
      "execution_count": 10,
      "metadata": {},
      "outputs": [
        {
          "name": "stdout",
          "output_type": "stream",
          "text": [
            "R²: 0.8139\n",
            "MSE: 47.9617\n",
            "MAE: 5.5596\n"
          ]
        }
      ],
      "source": [
        "y_true = []\n",
        "y_pred = []\n",
        "\n",
        "with torch.no_grad():\n",
        "    for X_batch, y_batch in test_dataloader:\n",
        "        predictions = model(X_batch).squeeze()\n",
        "        \n",
        "        y_true.extend(y_batch.numpy())\n",
        "        y_pred.extend(predictions.numpy())\n",
        "\n",
        "r2 = r2_score(y_true, y_pred)\n",
        "mse = mean_squared_error(y_true, y_pred)\n",
        "mae = mean_absolute_error(y_true, y_pred)\n",
        "\n",
        "print(f\"R²: {r2:.4f}\")\n",
        "print(f\"MSE: {mse:.4f}\")\n",
        "print(f\"MAE: {mae:.4f}\")"
      ]
    }
  ],
  "metadata": {
    "colab": {
      "provenance": []
    },
    "kernelspec": {
      "display_name": "goit",
      "language": "python",
      "name": "python3"
    },
    "language_info": {
      "codemirror_mode": {
        "name": "ipython",
        "version": 3
      },
      "file_extension": ".py",
      "mimetype": "text/x-python",
      "name": "python",
      "nbconvert_exporter": "python",
      "pygments_lexer": "ipython3",
      "version": "3.10.16"
    }
  },
  "nbformat": 4,
  "nbformat_minor": 0
}
