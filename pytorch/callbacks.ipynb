{
  "cells": [
    {
      "cell_type": "code",
      "execution_count": 1,
      "metadata": {},
      "outputs": [
        {
          "name": "stderr",
          "output_type": "stream",
          "text": [
            "/Users/aleksejkitajskij/Desktop/DS-Lifehacks/pytorch/pytorch_tools.py:20: TqdmExperimentalWarning: Using `tqdm.autonotebook.tqdm` in notebook mode. Use `tqdm.tqdm` instead to force console mode (e.g. in jupyter console)\n",
            "  from tqdm.autonotebook import tqdm\n",
            "/opt/anaconda3/envs/goit/lib/python3.10/site-packages/albumentations/__init__.py:28: UserWarning: A new version of Albumentations is available: '2.0.6' (you have '2.0.5'). Upgrade using: pip install -U albumentations. To disable automatic update checks, set the environment variable NO_ALBUMENTATIONS_UPDATE to 1.\n",
            "  check_for_updates()\n"
          ]
        }
      ],
      "source": [
        "from pytorch_tools import CreateDataset, train_model_cls, train_model_reg, plot_metrics\n",
        "from callbacks import EarlyStoppingCallback, ReduceLROnPlateauCallback, ModelCheckpointCallback, LRSchedulerCallback\n",
        "from train_models import ClassifierTrainer"
      ]
    },
    {
      "cell_type": "markdown",
      "metadata": {},
      "source": [
        "## multyclass classification"
      ]
    },
    {
      "cell_type": "code",
      "execution_count": 2,
      "metadata": {},
      "outputs": [],
      "source": [
        "import pandas as pd\n",
        "import numpy as np\n",
        "\n",
        "from sklearn.impute import SimpleImputer\n",
        "from sklearn.preprocessing import TargetEncoder, StandardScaler, LabelEncoder\n",
        "from sklearn.metrics import root_mean_squared_error as RMSE\n",
        "from sklearn.metrics import accuracy_score\n",
        "from sklearn.model_selection import train_test_split\n",
        "\n",
        "import torch\n",
        "from torch import nn\n",
        "from torch.utils.data import Dataset, DataLoader\n",
        "\n",
        "import matplotlib.pyplot as plt\n",
        "import seaborn as sns\n",
        "\n",
        "import warnings\n",
        "warnings.filterwarnings('ignore')"
      ]
    },
    {
      "cell_type": "code",
      "execution_count": 3,
      "metadata": {},
      "outputs": [],
      "source": [
        "df = pd.read_csv('data/Module_2_Lecture_2_Class_penguins.csv')\n",
        "df = df.dropna().reset_index(drop=True)\n",
        "features = ['species', 'bill_length_mm', 'bill_depth_mm', 'flipper_length_mm', 'body_mass_g']\n",
        "df = df.loc[:, features]\n",
        "df.loc[df['species']=='Adelie', 'species']=0\n",
        "df.loc[df['species']=='Gentoo', 'species']=1\n",
        "df.loc[df['species']=='Chinstrap', 'species']=2\n",
        "df = df.apply(pd.to_numeric)"
      ]
    },
    {
      "cell_type": "code",
      "execution_count": 4,
      "metadata": {},
      "outputs": [],
      "source": [
        "X = df.drop('species', axis =1).values\n",
        "y = df['species'].values\n",
        "\n",
        "scaler = StandardScaler()\n",
        "X = scaler.fit_transform(X)\n",
        "\n",
        "X_train, X_test, y_train, y_test = train_test_split(X, y, random_state = 42, test_size =0.33, stratify=y)\n",
        "\n",
        "X_train = torch.Tensor(X_train).float()\n",
        "y_train = torch.Tensor(y_train).long()\n",
        "X_test = torch.Tensor(X_test).float()\n",
        "y_test = torch.Tensor(y_test).long()"
      ]
    },
    {
      "cell_type": "code",
      "execution_count": 5,
      "metadata": {},
      "outputs": [],
      "source": [
        "train_dataset = CreateDataset(X_train, y_train, scaler='StandardScaler')\n",
        "test_dataset = CreateDataset(X_test, y_test)\n",
        "\n",
        "train_dataloader = DataLoader(train_dataset,\n",
        "                              batch_size=20,\n",
        "                              num_workers=0\n",
        "                             )\n",
        "\n",
        "test_dataloader = DataLoader(test_dataset,\n",
        "                              batch_size=20,\n",
        "                              num_workers=0\n",
        "                             )"
      ]
    },
    {
      "cell_type": "code",
      "execution_count": 6,
      "metadata": {},
      "outputs": [
        {
          "data": {
            "text/plain": [
              "3"
            ]
          },
          "execution_count": 6,
          "metadata": {},
          "output_type": "execute_result"
        }
      ],
      "source": [
        "num_classes = len(np.unique(y_train))\n",
        "num_classes"
      ]
    },
    {
      "cell_type": "code",
      "execution_count": 7,
      "metadata": {},
      "outputs": [],
      "source": [
        "class Net(torch.nn.Module):\n",
        "    def __init__(self, in_dim, hidden_dim=20, out_dim=3):\n",
        "        super().__init__()\n",
        "        \n",
        "        self.features = torch.nn.Sequential(\n",
        "            \n",
        "            nn.Linear(in_dim, hidden_dim),\n",
        "            torch.nn.ReLU(),\n",
        "            \n",
        "            nn.Linear(hidden_dim, out_dim),\n",
        "            nn.Softmax()\n",
        "        )    \n",
        "        \n",
        "    def forward(self, x):\n",
        "        output = self.features(x)\n",
        "        return output"
      ]
    },
    {
      "cell_type": "code",
      "execution_count": 8,
      "metadata": {},
      "outputs": [],
      "source": [
        "model = Net(X_train.shape[1], 20, num_classes)\n",
        "optimizer = torch.optim.SGD(model.parameters(), lr=0.01)\n",
        "criterion = nn.CrossEntropyLoss()"
      ]
    },
    {
      "cell_type": "code",
      "execution_count": 9,
      "metadata": {},
      "outputs": [],
      "source": [
        "scheduler_callback = LRSchedulerCallback(optimizer, \n",
        "                                         lr_min=1e-8, \n",
        "                                         lr_max=1e-1, \n",
        "                                         epochs_total=500, \n",
        "                                         growth_rate=0.1)"
      ]
    },
    {
      "cell_type": "code",
      "execution_count": 10,
      "metadata": {},
      "outputs": [],
      "source": [
        "callbacks = [scheduler_callback]"
      ]
    },
    {
      "cell_type": "code",
      "execution_count": 11,
      "metadata": {},
      "outputs": [
        {
          "data": {
            "application/vnd.jupyter.widget-view+json": {
              "model_id": "5db7364e477640f8aebbeac729e50fe9",
              "version_major": 2,
              "version_minor": 0
            },
            "text/plain": [
              "  0%|          | 0/500 [00:00<?, ?it/s]"
            ]
          },
          "metadata": {},
          "output_type": "display_data"
        },
        {
          "name": "stdout",
          "output_type": "stream",
          "text": [
            "Epoch [100/500] Train Loss: 0.7481 Acc: 0.8444 Rec: 0.8444 Prec: 0.9362\n",
            "Epoch [200/500] Train Loss: 0.5907 Acc: 0.9784 Rec: 0.9784 Prec: 0.9784\n",
            "Epoch [300/500] Train Loss: 0.5710 Acc: 0.9818 Rec: 0.9818 Prec: 0.9857\n",
            "Epoch [400/500] Train Loss: 0.5647 Acc: 0.9818 Rec: 0.9818 Prec: 0.9857\n",
            "Epoch [500/500] Train Loss: 0.5611 Acc: 1.0000 Rec: 1.0000 Prec: 1.0000\n"
          ]
        }
      ],
      "source": [
        "trainer = ClassifierTrainer(model=model,\n",
        "                            criterion=criterion,\n",
        "                            optimizer=optimizer,\n",
        "                            num_classes=num_classes,\n",
        "                            device='cpu',\n",
        "                            callbacks=callbacks)\n",
        "\n",
        "trainer.fit(train_dataloader,\n",
        "            test_dataloader,\n",
        "            num_epoch=500,\n",
        "            info_every_iter=100,\n",
        "            show_val_metrics=False)"
      ]
    },
    {
      "cell_type": "code",
      "execution_count": 12,
      "metadata": {},
      "outputs": [],
      "source": [
        "model = trainer.model\n",
        "metrics = trainer.metrics"
      ]
    },
    {
      "cell_type": "code",
      "execution_count": 17,
      "metadata": {},
      "outputs": [
        {
          "data": {
            "image/png": "[encoded data removed]",
            "text/plain": [
              "<Figure size 1000x600 with 1 Axes>"
            ]
          },
          "metadata": {},
          "output_type": "display_data"
        }
      ],
      "source": [
        "scheduler_callback.plot_lr(2)"
      ]
    }
  ],
  "metadata": {
    "colab": {
      "provenance": []
    },
    "kernelspec": {
      "display_name": "goit",
      "language": "python",
      "name": "python3"
    },
    "language_info": {
      "codemirror_mode": {
        "name": "ipython",
        "version": 3
      },
      "file_extension": ".py",
      "mimetype": "text/x-python",
      "name": "python",
      "nbconvert_exporter": "python",
      "pygments_lexer": "ipython3",
      "version": "3.10.16"
    }
  },
  "nbformat": 4,
  "nbformat_minor": 0
}
