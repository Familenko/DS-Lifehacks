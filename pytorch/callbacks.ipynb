{
  "cells": [
    {
      "cell_type": "code",
      "execution_count": 1,
      "metadata": {},
      "outputs": [
        {
          "name": "stderr",
          "output_type": "stream",
          "text": [
            "/Users/aleksejkitajskij/Desktop/DS-Lifehacks/pytorch/pytorch_tools.py:19: TqdmExperimentalWarning: Using `tqdm.autonotebook.tqdm` in notebook mode. Use `tqdm.tqdm` instead to force console mode (e.g. in jupyter console)\n",
            "  from tqdm.autonotebook import tqdm\n",
            "/opt/anaconda3/envs/goit/lib/python3.10/site-packages/albumentations/__init__.py:28: UserWarning: A new version of Albumentations is available: '2.0.6' (you have '2.0.5'). Upgrade using: pip install -U albumentations. To disable automatic update checks, set the environment variable NO_ALBUMENTATIONS_UPDATE to 1.\n",
            "  check_for_updates()\n"
          ]
        }
      ],
      "source": [
        "from pytorch_tools import CreateDataset, train_model_cls, train_model_reg, plot_metrics\n",
        "from callbacks import EarlyStoppingCallback, ReduceLROnPlateauCallback, ModelCheckpointCallback\n",
        "from train_models import ClassifierTrainer"
      ]
    },
    {
      "cell_type": "markdown",
      "metadata": {},
      "source": [
        "## multyclass classification"
      ]
    },
    {
      "cell_type": "code",
      "execution_count": 2,
      "metadata": {},
      "outputs": [],
      "source": [
        "import pandas as pd\n",
        "import numpy as np\n",
        "\n",
        "from sklearn.impute import SimpleImputer\n",
        "from sklearn.preprocessing import TargetEncoder, StandardScaler, LabelEncoder\n",
        "from sklearn.metrics import root_mean_squared_error as RMSE\n",
        "from sklearn.metrics import accuracy_score\n",
        "from sklearn.model_selection import train_test_split\n",
        "\n",
        "import torch\n",
        "from torch import nn\n",
        "from torch.utils.data import Dataset, DataLoader\n",
        "\n",
        "import matplotlib.pyplot as plt\n",
        "import seaborn as sns\n",
        "\n",
        "import warnings\n",
        "warnings.filterwarnings('ignore')"
      ]
    },
    {
      "cell_type": "code",
      "execution_count": 3,
      "metadata": {},
      "outputs": [],
      "source": [
        "df = pd.read_csv('data/Module_2_Lecture_2_Class_penguins.csv')\n",
        "df = df.dropna().reset_index(drop=True)\n",
        "features = ['species', 'bill_length_mm', 'bill_depth_mm', 'flipper_length_mm', 'body_mass_g']\n",
        "df = df.loc[:, features]\n",
        "df.loc[df['species']=='Adelie', 'species']=0\n",
        "df.loc[df['species']=='Gentoo', 'species']=1\n",
        "df.loc[df['species']=='Chinstrap', 'species']=2\n",
        "df = df.apply(pd.to_numeric)"
      ]
    },
    {
      "cell_type": "code",
      "execution_count": 4,
      "metadata": {},
      "outputs": [],
      "source": [
        "X = df.drop('species', axis =1).values\n",
        "y = df['species'].values\n",
        "\n",
        "scaler = StandardScaler()\n",
        "X = scaler.fit_transform(X)\n",
        "\n",
        "X_train, X_test, y_train, y_test = train_test_split(X, y, random_state = 42, test_size =0.33, stratify=y)\n",
        "\n",
        "X_train = torch.Tensor(X_train).float()\n",
        "y_train = torch.Tensor(y_train).long()\n",
        "X_test = torch.Tensor(X_test).float()\n",
        "y_test = torch.Tensor(y_test).long()"
      ]
    },
    {
      "cell_type": "code",
      "execution_count": 5,
      "metadata": {},
      "outputs": [],
      "source": [
        "train_dataset = CreateDataset(X_train, y_train, scaler='StandardScaler')\n",
        "test_dataset = CreateDataset(X_test, y_test)\n",
        "\n",
        "train_dataloader = DataLoader(train_dataset,\n",
        "                              batch_size=20,\n",
        "                              num_workers=0\n",
        "                             )\n",
        "\n",
        "test_dataloader = DataLoader(test_dataset,\n",
        "                              batch_size=20,\n",
        "                              num_workers=0\n",
        "                             )"
      ]
    },
    {
      "cell_type": "code",
      "execution_count": 6,
      "metadata": {},
      "outputs": [
        {
          "data": {
            "text/plain": [
              "3"
            ]
          },
          "execution_count": 6,
          "metadata": {},
          "output_type": "execute_result"
        }
      ],
      "source": [
        "num_classes = len(np.unique(y_train))\n",
        "num_classes"
      ]
    },
    {
      "cell_type": "code",
      "execution_count": 7,
      "metadata": {},
      "outputs": [],
      "source": [
        "class Net(torch.nn.Module):\n",
        "    def __init__(self, in_dim, hidden_dim=20, out_dim=3):\n",
        "        super().__init__()\n",
        "        \n",
        "        self.features = torch.nn.Sequential(\n",
        "            \n",
        "            nn.Linear(in_dim, hidden_dim),\n",
        "            torch.nn.ReLU(),\n",
        "            \n",
        "            nn.Linear(hidden_dim, out_dim),\n",
        "            nn.Softmax()\n",
        "        )    \n",
        "        \n",
        "    def forward(self, x):\n",
        "        output = self.features(x)\n",
        "        return output"
      ]
    },
    {
      "cell_type": "code",
      "execution_count": 8,
      "metadata": {},
      "outputs": [],
      "source": [
        "model = Net(X_train.shape[1], 20, num_classes)\n",
        "optimizer = torch.optim.SGD(model.parameters(), lr=0.01)\n",
        "criterion = nn.CrossEntropyLoss()"
      ]
    },
    {
      "cell_type": "code",
      "execution_count": 9,
      "metadata": {},
      "outputs": [],
      "source": [
        "early_stop = EarlyStoppingCallback(\n",
        "    patience=10,\n",
        "    min_delta=0.001,\n",
        ")\n",
        "\n",
        "reduce_lr = ReduceLROnPlateauCallback(optimizer=optimizer,\n",
        "                                      patience=5, \n",
        "                                      factor=0.5,\n",
        "                                      min_delta=0.01)\n",
        "\n",
        "best_model = ModelCheckpointCallback(path='best_model.pt', min_delta=0.1)"
      ]
    },
    {
      "cell_type": "code",
      "execution_count": 10,
      "metadata": {},
      "outputs": [],
      "source": [
        "callbacks = [early_stop, reduce_lr, best_model]"
      ]
    },
    {
      "cell_type": "code",
      "execution_count": 11,
      "metadata": {},
      "outputs": [
        {
          "data": {
            "application/vnd.jupyter.widget-view+json": {
              "model_id": "857f6d05321c4bcfa9ef78120f3f70e6",
              "version_major": 2,
              "version_minor": 0
            },
            "text/plain": [
              "  0%|          | 0/1000 [00:00<?, ?it/s]"
            ]
          },
          "metadata": {},
          "output_type": "display_data"
        },
        {
          "data": {
            "text/html": [
              "<span style='color: green;'>Model saved at epoch 1 with loss 1.1382.</span>"
            ],
            "text/plain": [
              "<IPython.core.display.HTML object>"
            ]
          },
          "metadata": {},
          "output_type": "display_data"
        },
        {
          "data": {
            "text/html": [
              "<span style='color: green;'>Model saved at epoch 9 with loss 1.0303.</span>"
            ],
            "text/plain": [
              "<IPython.core.display.HTML object>"
            ]
          },
          "metadata": {},
          "output_type": "display_data"
        },
        {
          "name": "stdout",
          "output_type": "stream",
          "text": [
            "Epoch [10/1000] Train Loss: 1.0278 Acc: 0.7260 Rec: 0.7260 Prec: 0.8756\n"
          ]
        },
        {
          "data": {
            "text/html": [
              "<span style='color: green;'>Model saved at epoch 16 with loss 0.9286.</span>"
            ],
            "text/plain": [
              "<IPython.core.display.HTML object>"
            ]
          },
          "metadata": {},
          "output_type": "display_data"
        },
        {
          "name": "stdout",
          "output_type": "stream",
          "text": [
            "Epoch [20/1000] Train Loss: 0.8879 Acc: 0.7407 Rec: 0.7407 Prec: 0.8892\n"
          ]
        },
        {
          "data": {
            "text/html": [
              "<span style='color: green;'>Model saved at epoch 26 with loss 0.8228.</span>"
            ],
            "text/plain": [
              "<IPython.core.display.HTML object>"
            ]
          },
          "metadata": {},
          "output_type": "display_data"
        },
        {
          "name": "stdout",
          "output_type": "stream",
          "text": [
            "Epoch [30/1000] Train Loss: 0.7967 Acc: 0.7852 Rec: 0.7852 Prec: 0.9098\n",
            "Epoch [40/1000] Train Loss: 0.7461 Acc: 0.8370 Rec: 0.8370 Prec: 0.9324\n"
          ]
        },
        {
          "data": {
            "text/html": [
              "<span style='color: green;'>Model saved at epoch 49 with loss 0.7214.</span>"
            ],
            "text/plain": [
              "<IPython.core.display.HTML object>"
            ]
          },
          "metadata": {},
          "output_type": "display_data"
        },
        {
          "name": "stdout",
          "output_type": "stream",
          "text": [
            "Epoch [50/1000] Train Loss: 0.7143 Acc: 0.8593 Rec: 0.8593 Prec: 0.9426\n",
            "Epoch [60/1000] Train Loss: 0.6904 Acc: 0.8815 Rec: 0.8815 Prec: 0.9516\n"
          ]
        },
        {
          "data": {
            "text/html": [
              "<span style='color: orange;'>Learning rate reduced on epoch 66 from 0.010000 to 0.005000.</span>"
            ],
            "text/plain": [
              "<IPython.core.display.HTML object>"
            ]
          },
          "metadata": {},
          "output_type": "display_data"
        },
        {
          "name": "stdout",
          "output_type": "stream",
          "text": [
            "Epoch [70/1000] Train Loss: 0.6743 Acc: 0.9111 Rec: 0.9111 Prec: 0.9636\n"
          ]
        },
        {
          "data": {
            "text/html": [
              "<span style='color: orange;'>Learning rate reduced on epoch 72 from 0.005000 to 0.002500.</span>"
            ],
            "text/plain": [
              "<IPython.core.display.HTML object>"
            ]
          },
          "metadata": {},
          "output_type": "display_data"
        },
        {
          "data": {
            "text/html": [
              "<span style='color: orange;'>Learning rate reduced on epoch 77 from 0.002500 to 0.001250.</span>"
            ],
            "text/plain": [
              "<IPython.core.display.HTML object>"
            ]
          },
          "metadata": {},
          "output_type": "display_data"
        },
        {
          "name": "stdout",
          "output_type": "stream",
          "text": [
            "Epoch [80/1000] Train Loss: 0.6693 Acc: 0.9185 Rec: 0.9185 Prec: 0.9664\n"
          ]
        },
        {
          "data": {
            "text/html": [
              "<span style='color: orange;'>Learning rate reduced on epoch 82 from 0.001250 to 0.000625.</span>"
            ],
            "text/plain": [
              "<IPython.core.display.HTML object>"
            ]
          },
          "metadata": {},
          "output_type": "display_data"
        },
        {
          "data": {
            "text/html": [
              "<span style='color: orange;'>Learning rate reduced on epoch 87 from 0.000625 to 0.000313.</span>"
            ],
            "text/plain": [
              "<IPython.core.display.HTML object>"
            ]
          },
          "metadata": {},
          "output_type": "display_data"
        },
        {
          "name": "stdout",
          "output_type": "stream",
          "text": [
            "Epoch [90/1000] Train Loss: 0.6681 Acc: 0.9185 Rec: 0.9185 Prec: 0.9664\n"
          ]
        },
        {
          "data": {
            "text/html": [
              "<span style='color: orange;'>Learning rate reduced on epoch 92 from 0.000313 to 0.000156.</span>"
            ],
            "text/plain": [
              "<IPython.core.display.HTML object>"
            ]
          },
          "metadata": {},
          "output_type": "display_data"
        },
        {
          "data": {
            "text/html": [
              "<span style='color: red;'>Early stopping triggered at epoch 94.</span>"
            ],
            "text/plain": [
              "<IPython.core.display.HTML object>"
            ]
          },
          "metadata": {},
          "output_type": "display_data"
        }
      ],
      "source": [
        "trainer = ClassifierTrainer(model=model,\n",
        "                            criterion=criterion,\n",
        "                            optimizer=optimizer,\n",
        "                            num_classes=num_classes,\n",
        "                            device='mps',\n",
        "                            callbacks=callbacks)\n",
        "\n",
        "trainer.fit(train_dataloader,\n",
        "            test_dataloader,\n",
        "            num_epoch=1000,\n",
        "            info_every_iter=10,\n",
        "            show_val_metrics=False)"
      ]
    },
    {
      "cell_type": "code",
      "execution_count": 12,
      "metadata": {},
      "outputs": [],
      "source": [
        "model = trainer.model\n",
        "metrics = trainer.metrics"
      ]
    },
    {
      "cell_type": "code",
      "execution_count": 13,
      "metadata": {},
      "outputs": [
        {
          "data": {
            "image/png": "[encoded data removed]",
            "text/plain": [
              "<Figure size 1000x600 with 4 Axes>"
            ]
          },
          "metadata": {},
          "output_type": "display_data"
        }
      ],
      "source": [
        "trainer.plot_metrics()"
      ]
    }
  ],
  "metadata": {
    "colab": {
      "provenance": []
    },
    "kernelspec": {
      "display_name": "goit",
      "language": "python",
      "name": "python3"
    },
    "language_info": {
      "codemirror_mode": {
        "name": "ipython",
        "version": 3
      },
      "file_extension": ".py",
      "mimetype": "text/x-python",
      "name": "python",
      "nbconvert_exporter": "python",
      "pygments_lexer": "ipython3",
      "version": "3.10.16"
    }
  },
  "nbformat": 4,
  "nbformat_minor": 0
}
