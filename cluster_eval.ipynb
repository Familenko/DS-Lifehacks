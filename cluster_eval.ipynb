{
  "cells": [
    {
      "cell_type": "code",
      "execution_count": 11,
      "metadata": {},
      "outputs": [],
      "source": [
        "import pandas as pd\n",
        "import numpy as np\n",
        "import matplotlib.pyplot as plt\n",
        "import seaborn as sns\n",
        "\n",
        "from sklearn.cluster import KMeans\n",
        "from sklearn.cluster import DBSCAN\n",
        "from sklearn.cluster import AgglomerativeClustering\n",
        "from sklearn.cluster import SpectralClustering\n",
        "from sklearn.mixture import GaussianMixture\n",
        "\n",
        "from sklearn.datasets import load_wine\n",
        "from sklearn.preprocessing import StandardScaler\n",
        "from sklearn.metrics import silhouette_score, silhouette_samples, pairwise_distances, davies_bouldin_score, calinski_harabasz_score"
      ]
    },
    {
      "cell_type": "code",
      "execution_count": 12,
      "metadata": {},
      "outputs": [],
      "source": [
        "wine = load_wine()\n",
        "df = pd.DataFrame(wine.data, columns=wine.feature_names)"
      ]
    },
    {
      "cell_type": "code",
      "execution_count": 13,
      "metadata": {},
      "outputs": [
        {
          "data": {
            "application/vnd.microsoft.datawrangler.viewer.v0+json": {
              "columns": [
                {
                  "name": "index",
                  "rawType": "int64",
                  "type": "integer"
                },
                {
                  "name": "alcohol",
                  "rawType": "float64",
                  "type": "float"
                },
                {
                  "name": "malic_acid",
                  "rawType": "float64",
                  "type": "float"
                },
                {
                  "name": "ash",
                  "rawType": "float64",
                  "type": "float"
                },
                {
                  "name": "alcalinity_of_ash",
                  "rawType": "float64",
                  "type": "float"
                },
                {
                  "name": "magnesium",
                  "rawType": "float64",
                  "type": "float"
                },
                {
                  "name": "total_phenols",
                  "rawType": "float64",
                  "type": "float"
                },
                {
                  "name": "flavanoids",
                  "rawType": "float64",
                  "type": "float"
                },
                {
                  "name": "nonflavanoid_phenols",
                  "rawType": "float64",
                  "type": "float"
                },
                {
                  "name": "proanthocyanins",
                  "rawType": "float64",
                  "type": "float"
                },
                {
                  "name": "color_intensity",
                  "rawType": "float64",
                  "type": "float"
                },
                {
                  "name": "hue",
                  "rawType": "float64",
                  "type": "float"
                },
                {
                  "name": "od280/od315_of_diluted_wines",
                  "rawType": "float64",
                  "type": "float"
                },
                {
                  "name": "proline",
                  "rawType": "float64",
                  "type": "float"
                }
              ],
              "ref": "82e251f6-ba09-4edd-a385-c98d8514c729",
              "rows": [
                [
                  "51",
                  "13.83",
                  "1.65",
                  "2.6",
                  "17.2",
                  "94.0",
                  "2.45",
                  "2.99",
                  "0.22",
                  "2.29",
                  "5.6",
                  "1.24",
                  "3.37",
                  "1265.0"
                ],
                [
                  "124",
                  "11.87",
                  "4.31",
                  "2.39",
                  "21.0",
                  "82.0",
                  "2.86",
                  "3.03",
                  "0.21",
                  "2.91",
                  "2.8",
                  "0.75",
                  "3.64",
                  "380.0"
                ],
                [
                  "1",
                  "13.2",
                  "1.78",
                  "2.14",
                  "11.2",
                  "100.0",
                  "2.65",
                  "2.76",
                  "0.26",
                  "1.28",
                  "4.38",
                  "1.05",
                  "3.4",
                  "1050.0"
                ]
              ],
              "shape": {
                "columns": 13,
                "rows": 3
              }
            },
            "text/html": [
              "<div>\n",
              "<style scoped>\n",
              "    .dataframe tbody tr th:only-of-type {\n",
              "        vertical-align: middle;\n",
              "    }\n",
              "\n",
              "    .dataframe tbody tr th {\n",
              "        vertical-align: top;\n",
              "    }\n",
              "\n",
              "    .dataframe thead th {\n",
              "        text-align: right;\n",
              "    }\n",
              "</style>\n",
              "<table border=\"1\" class=\"dataframe\">\n",
              "  <thead>\n",
              "    <tr style=\"text-align: right;\">\n",
              "      <th></th>\n",
              "      <th>alcohol</th>\n",
              "      <th>malic_acid</th>\n",
              "      <th>ash</th>\n",
              "      <th>alcalinity_of_ash</th>\n",
              "      <th>magnesium</th>\n",
              "      <th>total_phenols</th>\n",
              "      <th>flavanoids</th>\n",
              "      <th>nonflavanoid_phenols</th>\n",
              "      <th>proanthocyanins</th>\n",
              "      <th>color_intensity</th>\n",
              "      <th>hue</th>\n",
              "      <th>od280/od315_of_diluted_wines</th>\n",
              "      <th>proline</th>\n",
              "    </tr>\n",
              "  </thead>\n",
              "  <tbody>\n",
              "    <tr>\n",
              "      <th>51</th>\n",
              "      <td>13.83</td>\n",
              "      <td>1.65</td>\n",
              "      <td>2.60</td>\n",
              "      <td>17.2</td>\n",
              "      <td>94.0</td>\n",
              "      <td>2.45</td>\n",
              "      <td>2.99</td>\n",
              "      <td>0.22</td>\n",
              "      <td>2.29</td>\n",
              "      <td>5.60</td>\n",
              "      <td>1.24</td>\n",
              "      <td>3.37</td>\n",
              "      <td>1265.0</td>\n",
              "    </tr>\n",
              "    <tr>\n",
              "      <th>124</th>\n",
              "      <td>11.87</td>\n",
              "      <td>4.31</td>\n",
              "      <td>2.39</td>\n",
              "      <td>21.0</td>\n",
              "      <td>82.0</td>\n",
              "      <td>2.86</td>\n",
              "      <td>3.03</td>\n",
              "      <td>0.21</td>\n",
              "      <td>2.91</td>\n",
              "      <td>2.80</td>\n",
              "      <td>0.75</td>\n",
              "      <td>3.64</td>\n",
              "      <td>380.0</td>\n",
              "    </tr>\n",
              "    <tr>\n",
              "      <th>1</th>\n",
              "      <td>13.20</td>\n",
              "      <td>1.78</td>\n",
              "      <td>2.14</td>\n",
              "      <td>11.2</td>\n",
              "      <td>100.0</td>\n",
              "      <td>2.65</td>\n",
              "      <td>2.76</td>\n",
              "      <td>0.26</td>\n",
              "      <td>1.28</td>\n",
              "      <td>4.38</td>\n",
              "      <td>1.05</td>\n",
              "      <td>3.40</td>\n",
              "      <td>1050.0</td>\n",
              "    </tr>\n",
              "  </tbody>\n",
              "</table>\n",
              "</div>"
            ],
            "text/plain": [
              "     alcohol  malic_acid   ash  alcalinity_of_ash  magnesium  total_phenols  \\\n",
              "51     13.83        1.65  2.60               17.2       94.0           2.45   \n",
              "124    11.87        4.31  2.39               21.0       82.0           2.86   \n",
              "1      13.20        1.78  2.14               11.2      100.0           2.65   \n",
              "\n",
              "     flavanoids  nonflavanoid_phenols  proanthocyanins  color_intensity   hue  \\\n",
              "51         2.99                  0.22             2.29             5.60  1.24   \n",
              "124        3.03                  0.21             2.91             2.80  0.75   \n",
              "1          2.76                  0.26             1.28             4.38  1.05   \n",
              "\n",
              "     od280/od315_of_diluted_wines  proline  \n",
              "51                           3.37   1265.0  \n",
              "124                          3.64    380.0  \n",
              "1                            3.40   1050.0  "
            ]
          },
          "execution_count": 13,
          "metadata": {},
          "output_type": "execute_result"
        }
      ],
      "source": [
        "df.sample(3)"
      ]
    },
    {
      "cell_type": "code",
      "execution_count": 14,
      "metadata": {},
      "outputs": [],
      "source": [
        "X = StandardScaler().fit_transform(df)\n",
        "\n",
        "n_clusters = 3\n",
        "kmeans = KMeans(n_clusters=n_clusters, random_state=42, n_init=10)\n",
        "cluster_labels = kmeans.fit_predict(X)"
      ]
    },
    {
      "cell_type": "markdown",
      "metadata": {},
      "source": [
        "# Silhouette"
      ]
    },
    {
      "cell_type": "code",
      "execution_count": 15,
      "metadata": {},
      "outputs": [],
      "source": [
        "def silhouette_knifes(X: np.ndarray, cluster_labels: np.ndarray):\n",
        "    \"\"\"\n",
        "    Візуалізація \"силуетного аналізу\" (Silhouette Analysis) для кластеризації.\n",
        "\n",
        "    Цей метод дозволяє оцінити якість кластеризації, показуючи,\n",
        "    наскільки добре кожна точка відноситься до свого кластера\n",
        "    у порівнянні з найближчим сусіднім кластером.\n",
        "\n",
        "    ---\n",
        "    Як працює:\n",
        "    1. Для кожної точки обчислюється silhouette score (від -1 до 1):\n",
        "       - значення близькі до 1 означають, що точка добре належить своєму кластеру;\n",
        "       - значення близькі до 0 означають, що точка знаходиться на межі між кластерами;\n",
        "       - значення менші за 0 означають, що точка \"неправильно\" класифікована\n",
        "         (ближче до іншого кластера).\n",
        "    2. Для кожного кластера будуються \"смуги\" з цих значень, відсортовані по величині.\n",
        "    3. Червона вертикальна лінія показує середнє значення silhouette score\n",
        "       для всієї кластеризації.\n",
        "\n",
        "    ---\n",
        "    Аргументи:\n",
        "    :param X: np.ndarray\n",
        "        Дані (матриця ознак), на яких проводилась кластеризація.\n",
        "        Кожен рядок – це об'єкт, кожен стовпець – ознака.\n",
        "    :param cluster_labels: np.ndarray\n",
        "        Масив міток кластерів для кожної точки (наприклад, результат роботи\n",
        "        KMeans, AgglomerativeClustering, DBSCAN тощо).\n",
        "\n",
        "    ---\n",
        "    Вихід:\n",
        "    - Графік, де кожна кольорова \"смуга\" відповідає одному кластеру\n",
        "      і показує розподіл silhouette score точок цього кластера.\n",
        "    - Вертикальна червона пунктирна лінія показує середній silhouette score.\n",
        "\n",
        "    ---\n",
        "    Для чого потрібно:\n",
        "    - Візуально оцінити, наскільки кластери чітко відділені.\n",
        "    - Перевірити, чи є кластери з низькими silhouette score (погано відділені).\n",
        "    - Порівнювати різні алгоритми або кількість кластерів і вибрати найкращий варіант.\n",
        "    \"\"\"\n",
        "    \n",
        "    n_clusters = len(np.unique(cluster_labels))\n",
        "    fig, ax1 = plt.subplots(1, 1)\n",
        "    fig.set_size_inches(7, 4)\n",
        "\n",
        "    sample_silhouette_values = silhouette_samples(X, cluster_labels)\n",
        "    y_lower = 10\n",
        "    for i in range(n_clusters):\n",
        "        ith_cluster_silhouette_values = sample_silhouette_values[cluster_labels == i]\n",
        "        ith_cluster_silhouette_values.sort()\n",
        "        size_cluster_i = ith_cluster_silhouette_values.shape[0]\n",
        "        y_upper = y_lower + size_cluster_i\n",
        "\n",
        "        cluster_colors = sns.color_palette(\"Set1\", n_colors=n_clusters)\n",
        "        color = cluster_colors[i % n_clusters]\n",
        "\n",
        "        ax1.fill_betweenx(\n",
        "            np.arange(y_lower, y_upper),\n",
        "            0,\n",
        "            ith_cluster_silhouette_values,\n",
        "            facecolor=color,\n",
        "            edgecolor=color,\n",
        "            alpha=0.7,\n",
        "        )\n",
        "        ax1.text(-0.05, y_lower + 0.5 * size_cluster_i, str(i))\n",
        "        y_lower = y_upper + 10\n",
        "\n",
        "    ax1.set_title(f\"Silhouette plot for n_clusters = {n_clusters}\")\n",
        "    ax1.set_xlabel(\"Silhouette coefficient values\")\n",
        "    ax1.set_ylabel(\"Cluster label\")\n",
        "    ax1.axvline(x=silhouette_score(X, cluster_labels), color=\"red\", linestyle=\"--\")\n",
        "    ax1.set_yticks([])\n",
        "    ax1.set_xticks([-0.1, 0, 0.2, 0.4, 0.6, 0.8, 1])\n",
        "\n",
        "    plt.show()"
      ]
    },
    {
      "cell_type": "code",
      "execution_count": 16,
      "metadata": {},
      "outputs": [
        {
          "data": {
            "image/png": "[encoded data removed]",
            "text/plain": [
              "<Figure size 700x400 with 1 Axes>"
            ]
          },
          "metadata": {},
          "output_type": "display_data"
        }
      ],
      "source": [
        "silhouette_knifes(X, cluster_labels)"
      ]
    },
    {
      "cell_type": "markdown",
      "metadata": {},
      "source": [
        "# DBI"
      ]
    },
    {
      "cell_type": "code",
      "execution_count": 17,
      "metadata": {},
      "outputs": [],
      "source": [
        "def dbi_matrix(X: np.ndarray, cluster_labels: np.ndarray):\n",
        "    \"\"\"\n",
        "    Побудова матриці відстаней між центроїдами кластерів \n",
        "    з відображенням індексу Девіса–Булдіна (Davies–Bouldin Index, DBI).\n",
        "\n",
        "    Навіщо:\n",
        "    ----------------\n",
        "    Індекс Девіса–Булдіна (DBI) — це метрика якості кластеризації, яка \n",
        "    вимірює, наскільки кластери \"схожі\" між собою. \n",
        "    Він враховує співвідношення:\n",
        "        - внутрішньої компактності кластерів (наскільки щільно згруповані точки),\n",
        "        - міжкластерних відстаней (наскільки далеко один кластер від іншого).\n",
        "\n",
        "    Інтуїтивно:\n",
        "        - Малий DBI → кластери добре відокремлені й компактні.\n",
        "        - Великий DBI → кластери розмиті або перекриваються.\n",
        "\n",
        "    Аргументи:\n",
        "    ----------------\n",
        "    X : np.ndarray, форма (n_samples, n_features)\n",
        "        Дані для кластеризації, де кожен рядок — це об’єкт, а стовпці — ознаки.\n",
        "\n",
        "    cluster_labels : np.ndarray, форма (n_samples,)\n",
        "        Мітки кластерів, отримані після кластеризації. \n",
        "        Наприклад, результат `model.labels_`.\n",
        "\n",
        "    Вихід:\n",
        "    ----------------\n",
        "    Побудований heatmap:\n",
        "        - Вісь X і Y: номери кластерів.\n",
        "        - Клітинки: відстань між центроїдами кластерів.\n",
        "        - У заголовку: значення DBI для поточного розбиття.\n",
        "\n",
        "    Інтерпретація:\n",
        "    ----------------\n",
        "    - Високі значення у матриці → кластери далеко один від одного (краще).\n",
        "    - Низькі значення у матриці → кластери близько, можуть накладатися.\n",
        "    - DBI у заголовку допомагає зрозуміти загальну якість: менше = краще.\n",
        "    \"\"\"\n",
        "\n",
        "    clusters = np.unique(cluster_labels)\n",
        "    centroids = np.array([X[cluster_labels == k].mean(axis=0) for k in clusters])\n",
        "    dists = pairwise_distances(centroids)\n",
        "\n",
        "    plt.figure(figsize=(6, 5))\n",
        "    sns.heatmap(dists, annot=True, fmt=\".2f\", cmap=\"Blues\",\n",
        "                xticklabels=clusters, yticklabels=clusters)\n",
        "    plt.title(f\"Centroid distances (DBI={davies_bouldin_score(X, cluster_labels):.3f})\")\n",
        "    plt.show()\n"
      ]
    },
    {
      "cell_type": "code",
      "execution_count": 18,
      "metadata": {},
      "outputs": [
        {
          "data": {
            "image/png": "[encoded data removed]",
            "text/plain": [
              "<Figure size 600x500 with 2 Axes>"
            ]
          },
          "metadata": {},
          "output_type": "display_data"
        }
      ],
      "source": [
        "dbi_matrix(X, cluster_labels)"
      ]
    },
    {
      "cell_type": "code",
      "execution_count": null,
      "metadata": {},
      "outputs": [],
      "source": [
        "def evaluate_clustering(X, labels, model_name):\n",
        "    \"\"\"\n",
        "    • **Silhouette Score**:\n",
        "        - Діапазон від -1 до 1.\n",
        "        - Чим ближче до 1 → тим краще точки відповідають своїм кластерам.\n",
        "        - Близько 0 → точки на межі кластерів.\n",
        "        - Менше 0 → точки віднесені до неправильного кластера.\n",
        "    • **Davies-Bouldin Index (DBI)**:\n",
        "        - Чим менше значення → тим краще (кластери відділені чітко).\n",
        "        - Базується на відношенні відстані між центрами кластерів до їх розкиду.\n",
        "    • **Calinski-Harabasz Index (CHI)**:\n",
        "        - Чим більше значення → тим краще.\n",
        "        - Оцінює співвідношення між розсіюванням точок усередині кластерів і між кластерами.\n",
        "    \"\"\"\n",
        "    \n",
        "    if len(set(labels)) <= 1:\n",
        "        print(f\"{model_name}: кластеризація неуспішна (всього кластерів={len(set(labels))})\")\n",
        "        return\n",
        "\n",
        "    sil = silhouette_score(X, labels)\n",
        "    dbi = davies_bouldin_score(X, labels)\n",
        "    chi = calinski_harabasz_score(X, labels)\n",
        "    print(f\"{model_name}:\\n\"\n",
        "          f\"  Silhouette: {sil:.3f}\\n\"\n",
        "          f\"  Davies-Bouldin: {dbi:.3f}\\n\"\n",
        "          f\"  Calinski-Harabasz: {chi:.3f}\")"
      ]
    },
    {
      "cell_type": "markdown",
      "metadata": {},
      "source": [
        "# KMeans"
      ]
    },
    {
      "cell_type": "markdown",
      "metadata": {},
      "source": [
        "Що таке KMeans:\n",
        "\n",
        "KMeans — класичний алгоритм кластеризації, який намагається розбити дані на k кластерів, мінімізуючи суму квадратів відстаней точок до центру їх кластеру (середнього).\n",
        "Алгоритм належить до жорстких кластеризацій (hard clustering) — кожна точка належить лише до одного кластера.\n",
        "\n",
        "Як працює KMeans:\n",
        "\n",
        "Вибираються k початкових центроїдів (можна випадково або через k-means++).\n",
        "Кожна точка призначається до найближчого центру (кластеру).\n",
        "Центроїди оновлюються як середнє всіх точок у кластері.\n",
        "Кроки 2–3 повторюються до збіжності (поки центроїди не змінюються або зміни мінімальні).\n",
        "\n",
        "Коли використовувати KMeans:\n",
        "\n",
        "Дані мають сферичну або кулясту структуру кластерів.\n",
        "Коли важлива швидка кластеризація великих наборів даних.\n",
        "Якщо потрібні жорсткі кластерні мітки для подальшого аналізу або моделей."
      ]
    },
    {
      "cell_type": "code",
      "execution_count": null,
      "metadata": {},
      "outputs": [
        {
          "name": "stdout",
          "output_type": "stream",
          "text": [
            "KMeans:\n",
            "  Silhouette: 0.285\n",
            "  Davies-Bouldin: 1.389\n",
            "  Calinski-Harabasz: 70.940\n"
          ]
        }
      ],
      "source": [
        "kmeans = KMeans(n_clusters=3, random_state=42).fit(X)\n",
        "evaluate_clustering(X, kmeans.labels_, \"KMeans\")"
      ]
    },
    {
      "cell_type": "markdown",
      "metadata": {},
      "source": [
        "# GaussianMixture"
      ]
    },
    {
      "cell_type": "markdown",
      "metadata": {},
      "source": [
        "Що таке GaussianMixture (GMM):\n",
        "\n",
        "Це алгоритм кластеризації на основі імовірнісної моделі.\n",
        "Кожен кластер моделюється як мультиваріантний нормальний розподіл (Gaussian).\n",
        "Алгоритм намагається підібрати параметри цих розподілів (середнє, ковариацію, вагу) так, щоб максимально наблизити їх до даних.\n",
        "Кластеризація відбувається через ймовірнісне віднесення кожної точки до кластерів (soft clustering) або через predict() для жорсткого присвоєння (hard clustering).\n",
        "\n",
        "Як працює GMM:\n",
        "\n",
        "Ініціалізуються параметри компонентів (середнє, ковариація, ваги).\n",
        "Виконується Expectation-Maximization (EM) алгоритм:\n",
        "E-step: обчислюємо ймовірність, що кожна точка належить до кожного кластера.\n",
        "M-step: оновлюємо параметри Gaussian-компонентів, щоб максимізувати ймовірність даних.\n",
        "Повторюється до збіжності (поки зміни параметрів не стануть малими).\n",
        "\n",
        "Коли використовувати GMM:\n",
        "\n",
        "Коли кластери мають еліптичну форму (не обов’язково сферичні, як у KMeans).\n",
        "Коли потрібен soft clustering — точки можуть належати кільком кластерам з певними ймовірностями.\n",
        "Коли дані можуть бути представлені як суміш нормальних розподілів."
      ]
    },
    {
      "cell_type": "code",
      "execution_count": null,
      "metadata": {},
      "outputs": [
        {
          "name": "stdout",
          "output_type": "stream",
          "text": [
            "GaussianMixture:\n",
            "  Silhouette: 0.285\n",
            "  Davies-Bouldin: 1.389\n",
            "  Calinski-Harabasz: 70.940\n"
          ]
        }
      ],
      "source": [
        "gmm = GaussianMixture(n_components=3, random_state=42).fit(X)\n",
        "evaluate_clustering(X, gmm.predict(X), \"GaussianMixture\")"
      ]
    },
    {
      "cell_type": "markdown",
      "metadata": {},
      "source": [
        "# AgglomerativeClustering"
      ]
    },
    {
      "cell_type": "markdown",
      "metadata": {},
      "source": [
        "Що таке AgglomerativeClustering:\n",
        "\n",
        "Це алгоритм ієрархічної кластеризації (bottom-up).\n",
        "Ідея: починаємо з того, що кожна точка – окремий кластер, і поступово з’єднуємо найближчі кластери до тих пір, поки не отримаємо потрібну кількість n_clusters.\n",
        "В результаті виходить дерево кластерів (дендрограма), з якого можна обрати будь-яку глибину розбиття.\n",
        "\n",
        "Як працює:\n",
        "\n",
        "Кожна точка спочатку окремий кластер.\n",
        "Обчислюється відстань між усіма кластерами.\n",
        "Найближчі кластери об’єднуються в один.\n",
        "Кроки 2–3 повторюються, доки не залишиться n_clusters.\n",
        "Види з’єднання (linkage):\n",
        "ward – мінімізує суму квадратів відстаней всередині кластерів.\n",
        "complete – відстань між найбільш віддаленими точками.\n",
        "average – середня відстань між точками кластера.\n",
        "single – відстань між найближчими точками (може створювати \"ланцюжки\").\n",
        "\n",
        "Коли використовувати:\n",
        "\n",
        "Коли цікава ієрархічна структура даних.\n",
        "Коли кластери можуть мати необов’язково сферичну форму.\n",
        "Для середніх і невеликих наборів даних (великий n_samples → висока складність)."
      ]
    },
    {
      "cell_type": "code",
      "execution_count": null,
      "metadata": {},
      "outputs": [
        {
          "name": "stdout",
          "output_type": "stream",
          "text": [
            "AgglomerativeClustering:\n",
            "  Silhouette: 0.277\n",
            "  Davies-Bouldin: 1.419\n",
            "  Calinski-Harabasz: 67.647\n"
          ]
        }
      ],
      "source": [
        "agg = AgglomerativeClustering(n_clusters=3).fit(X)\n",
        "evaluate_clustering(X, agg.labels_, \"AgglomerativeClustering\")"
      ]
    },
    {
      "cell_type": "markdown",
      "metadata": {},
      "source": [
        "# SpectralClustering"
      ]
    },
    {
      "cell_type": "markdown",
      "metadata": {},
      "source": [
        "Що таке SpectralClustering:\n",
        "\n",
        "Це алгоритм кластеризації, який працює через спектральний аналіз графа схожості точок.\n",
        "\n",
        "Ідея: побудувати граф, де вузли — це точки даних, а ребра відображають близькість (affinity) між ними.\n",
        "    Потім обчислюються власні вектори матриці Лапласа цього графа (спектральний аналіз), і кластери визначаються на основі цих векторів (звичайно через KMeans у зниженому просторі).\n",
        "\n",
        "Як працює affinity='nearest_neighbors':\n",
        "\n",
        "Замість повної матриці відстаней алгоритм підключає тільки k найближчих сусідів для кожної точки.\n",
        "Це допомагає уникнути шуму у великих або розріджених даних.\n",
        "Можна також використовувати 'rbf' (Gaussian kernel) для згладжування відстаней.\n",
        "\n",
        "Коли використовувати SpectralClustering:\n",
        "\n",
        "Коли кластери мають складну форму (не сферичні) і традиційний KMeans не справляється.\n",
        "Коли потрібна кластеризація на основі графової структури.\n",
        "Для даних з чіткими локальними сусідніми зв’язками (наприклад, точки на петлях або кільцях)."
      ]
    },
    {
      "cell_type": "code",
      "execution_count": null,
      "metadata": {},
      "outputs": [
        {
          "name": "stdout",
          "output_type": "stream",
          "text": [
            "SpectralClustering:\n",
            "  Silhouette: 0.283\n",
            "  Davies-Bouldin: 1.391\n",
            "  Calinski-Harabasz: 70.041\n"
          ]
        }
      ],
      "source": [
        "spec = SpectralClustering(n_clusters=3, random_state=42, affinity='nearest_neighbors').fit(X)\n",
        "evaluate_clustering(X, spec.labels_, \"SpectralClustering\")"
      ]
    },
    {
      "cell_type": "markdown",
      "metadata": {},
      "source": [
        "# DBSCAN"
      ]
    },
    {
      "cell_type": "markdown",
      "metadata": {},
      "source": [
        "Що таке DBSCAN:\n",
        "\n",
        "DBSCAN — це щільнісний алгоритм кластеризації, який виділяє кластери на основі щільності точок, а не на основі центроїдів або ймовірнісних моделей.\n",
        "Алгоритм визначає три типи точок:\n",
        "Core points — точки з достатньою кількістю сусідів у радіусі eps.\n",
        "Border points — точки, які лежать у межах eps від core-пунктів, але самі не є core.\n",
        "Noise points (шум) — точки, які не належать ні до одного кластера.\n",
        "\n",
        "Як працює:\n",
        "\n",
        "Для кожної точки визначаємо сусідів у радіусі eps.\n",
        "Якщо точка має ≥ min_samples сусідів → вона core.\n",
        "Кластери формуються шляхом об’єднання всіх core-т точок та їх border-т точок.\n",
        "Точки, які не потрапили ні в один кластер, позначаються як шум (label = -1).\n",
        "Параметри:\n",
        "eps: максимальна відстань для того, щоб вважати точки сусідами.\n",
        "min_samples: мінімальна кількість точок у eps-околі, щоб створити core-point.\n",
        "\n",
        "Коли використовувати DBSCAN:\n",
        "\n",
        "Кластери можуть мати будь-яку форму (не обов’язково сферичні).\n",
        "Є присутній шум у даних — DBSCAN автоматично виділяє його.\n",
        "Класичний KMeans або GaussianMixture не підходять для сильно нерегулярних кластерів."
      ]
    },
    {
      "cell_type": "code",
      "execution_count": null,
      "metadata": {},
      "outputs": [
        {
          "name": "stdout",
          "output_type": "stream",
          "text": [
            "DBSCAN: кластеризація неуспішна (всього кластерів=1)\n"
          ]
        }
      ],
      "source": [
        "db = DBSCAN(eps=0.5, min_samples=5).fit(X)\n",
        "evaluate_clustering(X, db.labels_, \"DBSCAN\")"
      ]
    }
  ],
  "metadata": {
    "colab": {
      "provenance": []
    },
    "kernelspec": {
      "display_name": "my_env",
      "language": "python",
      "name": "python3"
    },
    "language_info": {
      "codemirror_mode": {
        "name": "ipython",
        "version": 3
      },
      "file_extension": ".py",
      "mimetype": "text/x-python",
      "name": "python",
      "nbconvert_exporter": "python",
      "pygments_lexer": "ipython3",
      "version": "3.10.16"
    }
  },
  "nbformat": 4,
  "nbformat_minor": 0
}
