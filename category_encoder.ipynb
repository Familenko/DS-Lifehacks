{
  "cells": [
    {
      "cell_type": "code",
      "execution_count": 1,
      "metadata": {},
      "outputs": [],
      "source": [
        "import category_encoders as ce\n",
        "import pandas as pd\n",
        "from sklearn.model_selection import train_test_split\n",
        "from sklearn.datasets import fetch_california_housing"
      ]
    },
    {
      "cell_type": "code",
      "execution_count": 2,
      "metadata": {},
      "outputs": [],
      "source": [
        "data = fetch_california_housing(as_frame=True)\n",
        "df = data.frame"
      ]
    },
    {
      "cell_type": "code",
      "execution_count": 3,
      "metadata": {},
      "outputs": [],
      "source": [
        "df['region'] = pd.cut(df['Longitude'], bins=3, labels=['West', 'Central', 'East'])\n",
        "df['density'] = pd.cut(df['AveOccup'], bins=3, labels=['Low', 'Medium', 'High'])"
      ]
    },
    {
      "cell_type": "code",
      "execution_count": 4,
      "metadata": {},
      "outputs": [],
      "source": [
        "# Відбираємо тільки категоріальні фічі + цільову змінну\n",
        "cat_columns = ['region', 'density']\n",
        "df = df[cat_columns + ['MedHouseVal']].dropna()"
      ]
    },
    {
      "cell_type": "code",
      "execution_count": 5,
      "metadata": {},
      "outputs": [],
      "source": [
        "X_train, X_test, y_train, y_test = train_test_split(df.drop(columns=['MedHouseVal']), \n",
        "                                                    df['MedHouseVal'], test_size=0.2, random_state=42)"
      ]
    },
    {
      "cell_type": "markdown",
      "metadata": {},
      "source": [
        "### 1️⃣ One-Hot Encoding (OHE) ###"
      ]
    },
    {
      "cell_type": "markdown",
      "metadata": {},
      "source": [
        "- OHE створює окрему колонку для кожного унікального значення категоріальної змінної (dummy-кодування).\n",
        "- Підходить, коли кількість категорій невелика, інакше матриця стає занадто великою."
      ]
    },
    {
      "cell_type": "code",
      "execution_count": 6,
      "metadata": {},
      "outputs": [
        {
          "data": {
            "application/vnd.microsoft.datawrangler.viewer.v0+json": {
              "columns": [
                {
                  "name": "index",
                  "rawType": "int64",
                  "type": "integer"
                },
                {
                  "name": "region_West",
                  "rawType": "int64",
                  "type": "integer"
                },
                {
                  "name": "region_Central",
                  "rawType": "int64",
                  "type": "integer"
                },
                {
                  "name": "region_East",
                  "rawType": "int64",
                  "type": "integer"
                },
                {
                  "name": "density_Low",
                  "rawType": "int64",
                  "type": "integer"
                },
                {
                  "name": "density_Medium",
                  "rawType": "int64",
                  "type": "integer"
                },
                {
                  "name": "density_High",
                  "rawType": "int64",
                  "type": "integer"
                }
              ],
              "conversionMethod": "pd.DataFrame",
              "ref": "4552faa8-8939-4a31-85e6-6208d879482e",
              "rows": [
                [
                  "14196",
                  "0",
                  "0",
                  "1",
                  "1",
                  "0",
                  "0"
                ],
                [
                  "8267",
                  "0",
                  "1",
                  "0",
                  "1",
                  "0",
                  "0"
                ],
                [
                  "17445",
                  "0",
                  "1",
                  "0",
                  "1",
                  "0",
                  "0"
                ],
                [
                  "14265",
                  "0",
                  "0",
                  "1",
                  "1",
                  "0",
                  "0"
                ],
                [
                  "2271",
                  "0",
                  "1",
                  "0",
                  "1",
                  "0",
                  "0"
                ]
              ],
              "shape": {
                "columns": 6,
                "rows": 5
              }
            },
            "text/html": [
              "<div>\n",
              "<style scoped>\n",
              "    .dataframe tbody tr th:only-of-type {\n",
              "        vertical-align: middle;\n",
              "    }\n",
              "\n",
              "    .dataframe tbody tr th {\n",
              "        vertical-align: top;\n",
              "    }\n",
              "\n",
              "    .dataframe thead th {\n",
              "        text-align: right;\n",
              "    }\n",
              "</style>\n",
              "<table border=\"1\" class=\"dataframe\">\n",
              "  <thead>\n",
              "    <tr style=\"text-align: right;\">\n",
              "      <th></th>\n",
              "      <th>region_West</th>\n",
              "      <th>region_Central</th>\n",
              "      <th>region_East</th>\n",
              "      <th>density_Low</th>\n",
              "      <th>density_Medium</th>\n",
              "      <th>density_High</th>\n",
              "    </tr>\n",
              "  </thead>\n",
              "  <tbody>\n",
              "    <tr>\n",
              "      <th>14196</th>\n",
              "      <td>0</td>\n",
              "      <td>0</td>\n",
              "      <td>1</td>\n",
              "      <td>1</td>\n",
              "      <td>0</td>\n",
              "      <td>0</td>\n",
              "    </tr>\n",
              "    <tr>\n",
              "      <th>8267</th>\n",
              "      <td>0</td>\n",
              "      <td>1</td>\n",
              "      <td>0</td>\n",
              "      <td>1</td>\n",
              "      <td>0</td>\n",
              "      <td>0</td>\n",
              "    </tr>\n",
              "    <tr>\n",
              "      <th>17445</th>\n",
              "      <td>0</td>\n",
              "      <td>1</td>\n",
              "      <td>0</td>\n",
              "      <td>1</td>\n",
              "      <td>0</td>\n",
              "      <td>0</td>\n",
              "    </tr>\n",
              "    <tr>\n",
              "      <th>14265</th>\n",
              "      <td>0</td>\n",
              "      <td>0</td>\n",
              "      <td>1</td>\n",
              "      <td>1</td>\n",
              "      <td>0</td>\n",
              "      <td>0</td>\n",
              "    </tr>\n",
              "    <tr>\n",
              "      <th>2271</th>\n",
              "      <td>0</td>\n",
              "      <td>1</td>\n",
              "      <td>0</td>\n",
              "      <td>1</td>\n",
              "      <td>0</td>\n",
              "      <td>0</td>\n",
              "    </tr>\n",
              "  </tbody>\n",
              "</table>\n",
              "</div>"
            ],
            "text/plain": [
              "       region_West  region_Central  region_East  density_Low  density_Medium  \\\n",
              "14196            0               0            1            1               0   \n",
              "8267             0               1            0            1               0   \n",
              "17445            0               1            0            1               0   \n",
              "14265            0               0            1            1               0   \n",
              "2271             0               1            0            1               0   \n",
              "\n",
              "       density_High  \n",
              "14196             0  \n",
              "8267              0  \n",
              "17445             0  \n",
              "14265             0  \n",
              "2271              0  "
            ]
          },
          "execution_count": 6,
          "metadata": {},
          "output_type": "execute_result"
        }
      ],
      "source": [
        "ohe_encoder = ce.OneHotEncoder(cols=cat_columns, use_cat_names=True)\n",
        "X_train_ohe = ohe_encoder.fit_transform(X_train)\n",
        "X_test_ohe = ohe_encoder.transform(X_test)\n",
        "X_train_ohe.head()"
      ]
    },
    {
      "cell_type": "markdown",
      "metadata": {},
      "source": [
        "### 2️⃣ Target Encoding ###"
      ]
    },
    {
      "cell_type": "markdown",
      "metadata": {},
      "source": [
        "- Замінює категорію середнім значенням цільової змінної для цієї категорії.\n",
        "- Використовується для моделей, чутливих до порядку чисел (наприклад, лінійна регресія).\n",
        "- Може викликати виток даних (data leakage), тому важливо правильно крос-валідувати."
      ]
    },
    {
      "cell_type": "code",
      "execution_count": 7,
      "metadata": {},
      "outputs": [
        {
          "data": {
            "application/vnd.microsoft.datawrangler.viewer.v0+json": {
              "columns": [
                {
                  "name": "index",
                  "rawType": "int64",
                  "type": "integer"
                },
                {
                  "name": "region",
                  "rawType": "float64",
                  "type": "float"
                },
                {
                  "name": "density",
                  "rawType": "float64",
                  "type": "float"
                }
              ],
              "conversionMethod": "pd.DataFrame",
              "ref": "2ce3242f-25a0-434d-9e0d-9feb8ea83f88",
              "rows": [
                [
                  "14196",
                  "1.6474103438511327",
                  "2.0719872693682237"
                ],
                [
                  "8267",
                  "2.1373458442028985",
                  "2.0719872693682237"
                ],
                [
                  "17445",
                  "2.1373458442028985",
                  "2.0719872693682237"
                ],
                [
                  "14265",
                  "1.6474103438511327",
                  "2.0719872693682237"
                ],
                [
                  "2271",
                  "2.1373458442028985",
                  "2.0719872693682237"
                ]
              ],
              "shape": {
                "columns": 2,
                "rows": 5
              }
            },
            "text/html": [
              "<div>\n",
              "<style scoped>\n",
              "    .dataframe tbody tr th:only-of-type {\n",
              "        vertical-align: middle;\n",
              "    }\n",
              "\n",
              "    .dataframe tbody tr th {\n",
              "        vertical-align: top;\n",
              "    }\n",
              "\n",
              "    .dataframe thead th {\n",
              "        text-align: right;\n",
              "    }\n",
              "</style>\n",
              "<table border=\"1\" class=\"dataframe\">\n",
              "  <thead>\n",
              "    <tr style=\"text-align: right;\">\n",
              "      <th></th>\n",
              "      <th>region</th>\n",
              "      <th>density</th>\n",
              "    </tr>\n",
              "  </thead>\n",
              "  <tbody>\n",
              "    <tr>\n",
              "      <th>14196</th>\n",
              "      <td>1.647410</td>\n",
              "      <td>2.071987</td>\n",
              "    </tr>\n",
              "    <tr>\n",
              "      <th>8267</th>\n",
              "      <td>2.137346</td>\n",
              "      <td>2.071987</td>\n",
              "    </tr>\n",
              "    <tr>\n",
              "      <th>17445</th>\n",
              "      <td>2.137346</td>\n",
              "      <td>2.071987</td>\n",
              "    </tr>\n",
              "    <tr>\n",
              "      <th>14265</th>\n",
              "      <td>1.647410</td>\n",
              "      <td>2.071987</td>\n",
              "    </tr>\n",
              "    <tr>\n",
              "      <th>2271</th>\n",
              "      <td>2.137346</td>\n",
              "      <td>2.071987</td>\n",
              "    </tr>\n",
              "  </tbody>\n",
              "</table>\n",
              "</div>"
            ],
            "text/plain": [
              "         region   density\n",
              "14196  1.647410  2.071987\n",
              "8267   2.137346  2.071987\n",
              "17445  2.137346  2.071987\n",
              "14265  1.647410  2.071987\n",
              "2271   2.137346  2.071987"
            ]
          },
          "execution_count": 7,
          "metadata": {},
          "output_type": "execute_result"
        }
      ],
      "source": [
        "target_encoder = ce.TargetEncoder(cols=cat_columns)\n",
        "X_train_te = target_encoder.fit_transform(X_train, y_train)\n",
        "X_test_te = target_encoder.transform(X_test)\n",
        "X_train_te.head()"
      ]
    },
    {
      "cell_type": "markdown",
      "metadata": {},
      "source": [
        "### 3️⃣ Ordinal Encoding ###"
      ]
    },
    {
      "cell_type": "markdown",
      "metadata": {},
      "source": [
        "- Замінює кожну категорію унікальним числом (1, 2, 3...).\n",
        "- Добре працює для моделей, які можуть сприймати порядок (наприклад, дерева рішень).\n",
        "- Якщо порядок категорій немає сенсу, модель може неправильно інтерпретувати відстані між значеннями."
      ]
    },
    {
      "cell_type": "code",
      "execution_count": 8,
      "metadata": {},
      "outputs": [
        {
          "data": {
            "application/vnd.microsoft.datawrangler.viewer.v0+json": {
              "columns": [
                {
                  "name": "index",
                  "rawType": "int64",
                  "type": "integer"
                },
                {
                  "name": "region",
                  "rawType": "int64",
                  "type": "integer"
                },
                {
                  "name": "density",
                  "rawType": "int64",
                  "type": "integer"
                }
              ],
              "conversionMethod": "pd.DataFrame",
              "ref": "428ab427-dceb-4967-878e-1085413ac16d",
              "rows": [
                [
                  "14196",
                  "3",
                  "1"
                ],
                [
                  "8267",
                  "2",
                  "1"
                ],
                [
                  "17445",
                  "2",
                  "1"
                ],
                [
                  "14265",
                  "3",
                  "1"
                ],
                [
                  "2271",
                  "2",
                  "1"
                ]
              ],
              "shape": {
                "columns": 2,
                "rows": 5
              }
            },
            "text/html": [
              "<div>\n",
              "<style scoped>\n",
              "    .dataframe tbody tr th:only-of-type {\n",
              "        vertical-align: middle;\n",
              "    }\n",
              "\n",
              "    .dataframe tbody tr th {\n",
              "        vertical-align: top;\n",
              "    }\n",
              "\n",
              "    .dataframe thead th {\n",
              "        text-align: right;\n",
              "    }\n",
              "</style>\n",
              "<table border=\"1\" class=\"dataframe\">\n",
              "  <thead>\n",
              "    <tr style=\"text-align: right;\">\n",
              "      <th></th>\n",
              "      <th>region</th>\n",
              "      <th>density</th>\n",
              "    </tr>\n",
              "  </thead>\n",
              "  <tbody>\n",
              "    <tr>\n",
              "      <th>14196</th>\n",
              "      <td>3</td>\n",
              "      <td>1</td>\n",
              "    </tr>\n",
              "    <tr>\n",
              "      <th>8267</th>\n",
              "      <td>2</td>\n",
              "      <td>1</td>\n",
              "    </tr>\n",
              "    <tr>\n",
              "      <th>17445</th>\n",
              "      <td>2</td>\n",
              "      <td>1</td>\n",
              "    </tr>\n",
              "    <tr>\n",
              "      <th>14265</th>\n",
              "      <td>3</td>\n",
              "      <td>1</td>\n",
              "    </tr>\n",
              "    <tr>\n",
              "      <th>2271</th>\n",
              "      <td>2</td>\n",
              "      <td>1</td>\n",
              "    </tr>\n",
              "  </tbody>\n",
              "</table>\n",
              "</div>"
            ],
            "text/plain": [
              "       region  density\n",
              "14196       3        1\n",
              "8267        2        1\n",
              "17445       2        1\n",
              "14265       3        1\n",
              "2271        2        1"
            ]
          },
          "execution_count": 8,
          "metadata": {},
          "output_type": "execute_result"
        }
      ],
      "source": [
        "ordinal_encoder = ce.OrdinalEncoder(cols=cat_columns)\n",
        "X_train_oe = ordinal_encoder.fit_transform(X_train)\n",
        "X_test_oe = ordinal_encoder.transform(X_test)\n",
        "X_train_oe.head()"
      ]
    },
    {
      "cell_type": "markdown",
      "metadata": {},
      "source": [
        "### 4️⃣ Binary Encoding ###"
      ]
    },
    {
      "cell_type": "markdown",
      "metadata": {},
      "source": [
        "- Кодує кожну категорію у двійковий код, кожен біт розміщується у окремій колонці.\n",
        "- Зменшує кількість колонок у порівнянні з One-Hot Encoding.\n",
        "- Добре працює при великій кількості унікальних категорій."
      ]
    },
    {
      "cell_type": "code",
      "execution_count": 9,
      "metadata": {},
      "outputs": [
        {
          "data": {
            "application/vnd.microsoft.datawrangler.viewer.v0+json": {
              "columns": [
                {
                  "name": "index",
                  "rawType": "int64",
                  "type": "integer"
                },
                {
                  "name": "region_0",
                  "rawType": "int64",
                  "type": "integer"
                },
                {
                  "name": "region_1",
                  "rawType": "int64",
                  "type": "integer"
                },
                {
                  "name": "density_0",
                  "rawType": "int64",
                  "type": "integer"
                },
                {
                  "name": "density_1",
                  "rawType": "int64",
                  "type": "integer"
                }
              ],
              "conversionMethod": "pd.DataFrame",
              "ref": "2bbf0f09-8863-4bf6-8d15-7f68e74e366a",
              "rows": [
                [
                  "14196",
                  "1",
                  "1",
                  "0",
                  "1"
                ],
                [
                  "8267",
                  "1",
                  "0",
                  "0",
                  "1"
                ],
                [
                  "17445",
                  "1",
                  "0",
                  "0",
                  "1"
                ],
                [
                  "14265",
                  "1",
                  "1",
                  "0",
                  "1"
                ],
                [
                  "2271",
                  "1",
                  "0",
                  "0",
                  "1"
                ]
              ],
              "shape": {
                "columns": 4,
                "rows": 5
              }
            },
            "text/html": [
              "<div>\n",
              "<style scoped>\n",
              "    .dataframe tbody tr th:only-of-type {\n",
              "        vertical-align: middle;\n",
              "    }\n",
              "\n",
              "    .dataframe tbody tr th {\n",
              "        vertical-align: top;\n",
              "    }\n",
              "\n",
              "    .dataframe thead th {\n",
              "        text-align: right;\n",
              "    }\n",
              "</style>\n",
              "<table border=\"1\" class=\"dataframe\">\n",
              "  <thead>\n",
              "    <tr style=\"text-align: right;\">\n",
              "      <th></th>\n",
              "      <th>region_0</th>\n",
              "      <th>region_1</th>\n",
              "      <th>density_0</th>\n",
              "      <th>density_1</th>\n",
              "    </tr>\n",
              "  </thead>\n",
              "  <tbody>\n",
              "    <tr>\n",
              "      <th>14196</th>\n",
              "      <td>1</td>\n",
              "      <td>1</td>\n",
              "      <td>0</td>\n",
              "      <td>1</td>\n",
              "    </tr>\n",
              "    <tr>\n",
              "      <th>8267</th>\n",
              "      <td>1</td>\n",
              "      <td>0</td>\n",
              "      <td>0</td>\n",
              "      <td>1</td>\n",
              "    </tr>\n",
              "    <tr>\n",
              "      <th>17445</th>\n",
              "      <td>1</td>\n",
              "      <td>0</td>\n",
              "      <td>0</td>\n",
              "      <td>1</td>\n",
              "    </tr>\n",
              "    <tr>\n",
              "      <th>14265</th>\n",
              "      <td>1</td>\n",
              "      <td>1</td>\n",
              "      <td>0</td>\n",
              "      <td>1</td>\n",
              "    </tr>\n",
              "    <tr>\n",
              "      <th>2271</th>\n",
              "      <td>1</td>\n",
              "      <td>0</td>\n",
              "      <td>0</td>\n",
              "      <td>1</td>\n",
              "    </tr>\n",
              "  </tbody>\n",
              "</table>\n",
              "</div>"
            ],
            "text/plain": [
              "       region_0  region_1  density_0  density_1\n",
              "14196         1         1          0          1\n",
              "8267          1         0          0          1\n",
              "17445         1         0          0          1\n",
              "14265         1         1          0          1\n",
              "2271          1         0          0          1"
            ]
          },
          "execution_count": 9,
          "metadata": {},
          "output_type": "execute_result"
        }
      ],
      "source": [
        "binary_encoder = ce.BinaryEncoder(cols=cat_columns)\n",
        "X_train_be = binary_encoder.fit_transform(X_train)\n",
        "X_test_be = binary_encoder.transform(X_test)\n",
        "X_train_be.head()"
      ]
    },
    {
      "cell_type": "markdown",
      "metadata": {},
      "source": [
        "### 5️⃣ Hashing Encoder ###"
      ]
    },
    {
      "cell_type": "markdown",
      "metadata": {},
      "source": [
        "- ✅ Коли у датасеті багато унікальних категорій (наприклад, ID користувачів, домени сайтів).\n",
        "- ✅ Коли немає потреби у зворотному декодуванні (бо хеш-функція необоротна).\n",
        "- ✅ Коли важливий розмір даних (це компактніше за One-Hot Encoding).\n",
        "- ✅ Використовується у градієнтному бустингу (XGBoost, CatBoost) та нейромережах.\n",
        "\n",
        "- 🚫 Коли НЕ варто використовувати:\n",
        "- ❌ Якщо потрібно інтерпретувати значення (бо неможливо відновити оригінальну категорію).\n",
        "- ❌ Якщо даних мало, а колізії можуть суттєво спотворити інформацію."
      ]
    },
    {
      "cell_type": "code",
      "execution_count": 12,
      "metadata": {},
      "outputs": [
        {
          "data": {
            "application/vnd.microsoft.datawrangler.viewer.v0+json": {
              "columns": [
                {
                  "name": "index",
                  "rawType": "int64",
                  "type": "integer"
                },
                {
                  "name": "col_0",
                  "rawType": "int64",
                  "type": "integer"
                },
                {
                  "name": "col_1",
                  "rawType": "int64",
                  "type": "integer"
                },
                {
                  "name": "col_2",
                  "rawType": "int64",
                  "type": "integer"
                },
                {
                  "name": "col_3",
                  "rawType": "int64",
                  "type": "integer"
                },
                {
                  "name": "col_4",
                  "rawType": "int64",
                  "type": "integer"
                },
                {
                  "name": "col_5",
                  "rawType": "int64",
                  "type": "integer"
                },
                {
                  "name": "col_6",
                  "rawType": "int64",
                  "type": "integer"
                },
                {
                  "name": "col_7",
                  "rawType": "int64",
                  "type": "integer"
                }
              ],
              "conversionMethod": "pd.DataFrame",
              "ref": "1101b49b-2315-48fc-8035-d9cbbb568628",
              "rows": [
                [
                  "14196",
                  "0",
                  "0",
                  "0",
                  "0",
                  "0",
                  "0",
                  "1",
                  "1"
                ],
                [
                  "8267",
                  "0",
                  "0",
                  "1",
                  "0",
                  "0",
                  "0",
                  "0",
                  "1"
                ],
                [
                  "17445",
                  "0",
                  "0",
                  "1",
                  "0",
                  "0",
                  "0",
                  "0",
                  "1"
                ],
                [
                  "14265",
                  "0",
                  "0",
                  "0",
                  "0",
                  "0",
                  "0",
                  "1",
                  "1"
                ],
                [
                  "2271",
                  "0",
                  "0",
                  "1",
                  "0",
                  "0",
                  "0",
                  "0",
                  "1"
                ]
              ],
              "shape": {
                "columns": 8,
                "rows": 5
              }
            },
            "text/html": [
              "<div>\n",
              "<style scoped>\n",
              "    .dataframe tbody tr th:only-of-type {\n",
              "        vertical-align: middle;\n",
              "    }\n",
              "\n",
              "    .dataframe tbody tr th {\n",
              "        vertical-align: top;\n",
              "    }\n",
              "\n",
              "    .dataframe thead th {\n",
              "        text-align: right;\n",
              "    }\n",
              "</style>\n",
              "<table border=\"1\" class=\"dataframe\">\n",
              "  <thead>\n",
              "    <tr style=\"text-align: right;\">\n",
              "      <th></th>\n",
              "      <th>col_0</th>\n",
              "      <th>col_1</th>\n",
              "      <th>col_2</th>\n",
              "      <th>col_3</th>\n",
              "      <th>col_4</th>\n",
              "      <th>col_5</th>\n",
              "      <th>col_6</th>\n",
              "      <th>col_7</th>\n",
              "    </tr>\n",
              "  </thead>\n",
              "  <tbody>\n",
              "    <tr>\n",
              "      <th>14196</th>\n",
              "      <td>0</td>\n",
              "      <td>0</td>\n",
              "      <td>0</td>\n",
              "      <td>0</td>\n",
              "      <td>0</td>\n",
              "      <td>0</td>\n",
              "      <td>1</td>\n",
              "      <td>1</td>\n",
              "    </tr>\n",
              "    <tr>\n",
              "      <th>8267</th>\n",
              "      <td>0</td>\n",
              "      <td>0</td>\n",
              "      <td>1</td>\n",
              "      <td>0</td>\n",
              "      <td>0</td>\n",
              "      <td>0</td>\n",
              "      <td>0</td>\n",
              "      <td>1</td>\n",
              "    </tr>\n",
              "    <tr>\n",
              "      <th>17445</th>\n",
              "      <td>0</td>\n",
              "      <td>0</td>\n",
              "      <td>1</td>\n",
              "      <td>0</td>\n",
              "      <td>0</td>\n",
              "      <td>0</td>\n",
              "      <td>0</td>\n",
              "      <td>1</td>\n",
              "    </tr>\n",
              "    <tr>\n",
              "      <th>14265</th>\n",
              "      <td>0</td>\n",
              "      <td>0</td>\n",
              "      <td>0</td>\n",
              "      <td>0</td>\n",
              "      <td>0</td>\n",
              "      <td>0</td>\n",
              "      <td>1</td>\n",
              "      <td>1</td>\n",
              "    </tr>\n",
              "    <tr>\n",
              "      <th>2271</th>\n",
              "      <td>0</td>\n",
              "      <td>0</td>\n",
              "      <td>1</td>\n",
              "      <td>0</td>\n",
              "      <td>0</td>\n",
              "      <td>0</td>\n",
              "      <td>0</td>\n",
              "      <td>1</td>\n",
              "    </tr>\n",
              "  </tbody>\n",
              "</table>\n",
              "</div>"
            ],
            "text/plain": [
              "       col_0  col_1  col_2  col_3  col_4  col_5  col_6  col_7\n",
              "14196      0      0      0      0      0      0      1      1\n",
              "8267       0      0      1      0      0      0      0      1\n",
              "17445      0      0      1      0      0      0      0      1\n",
              "14265      0      0      0      0      0      0      1      1\n",
              "2271       0      0      1      0      0      0      0      1"
            ]
          },
          "execution_count": 12,
          "metadata": {},
          "output_type": "execute_result"
        }
      ],
      "source": [
        "hashing_enc = ce.HashingEncoder(cols=['region', 'density'], n_components=8)\n",
        "X_train_hsh = hashing_enc.fit_transform(X_train)\n",
        "X_test_hsh = hashing_enc.transform(X_test)\n",
        "X_train_hsh.head()"
      ]
    }
  ],
  "metadata": {
    "colab": {
      "provenance": []
    },
    "kernelspec": {
      "display_name": "goit",
      "language": "python",
      "name": "python3"
    },
    "language_info": {
      "codemirror_mode": {
        "name": "ipython",
        "version": 3
      },
      "file_extension": ".py",
      "mimetype": "text/x-python",
      "name": "python",
      "nbconvert_exporter": "python",
      "pygments_lexer": "ipython3",
      "version": "3.10.16"
    }
  },
  "nbformat": 4,
  "nbformat_minor": 0
}
