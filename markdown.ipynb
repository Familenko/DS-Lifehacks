{
  "cells": [
    {
      "cell_type": "markdown",
      "metadata": {},
      "source": [
        "<a id=\"top\"></a>\n",
        "<div style=\"text-align:center; border-radius:15px 50px; padding:12px; color:white; margin:0; font-size:150%; font-family:Comic Sans MS, cursive; background-color:#0f7a7a\">\n",
        "<b>🚀 Назва проєкту</b>\n",
        "</div>"
      ]
    },
    {
      "cell_type": "markdown",
      "metadata": {},
      "source": [
        "---"
      ]
    },
    {
      "cell_type": "markdown",
      "metadata": {},
      "source": [
        "## 🧭 Зміст\n",
        "- [📌 Вступ](#intro)\n",
        "- [📂 Завантаження даних](#load)\n",
        "- [🔍 Аналіз](#eda)\n",
        "\n",
        "---"
      ]
    },
    {
      "cell_type": "markdown",
      "metadata": {},
      "source": [
        "<a id=\"intro\"></a>\n",
        "## 📌 Вступ"
      ]
    },
    {
      "cell_type": "markdown",
      "metadata": {},
      "source": [
        "<details>\n",
        "<summary>Що це таке і навіщо</summary>\n",
        "\n",
        "🧠 Тут описуємо, чому цей проєкт важливий, що він робить, і які питання будемо досліджувати.\n",
        "\n",
        "</details>\n",
        "\n",
        "---"
      ]
    },
    {
      "cell_type": "markdown",
      "metadata": {},
      "source": [
        "<a id=\"load\"></a>\n",
        "## 📂 Завантаження даних\n",
        "```python\n",
        "import pandas as pd\n",
        "\n",
        "df = pd.read_csv(\"data.csv\")\n",
        "df.head()"
      ]
    },
    {
      "cell_type": "markdown",
      "metadata": {},
      "source": [
        "<a id=\"eda\"></a>\n",
        "## 📌 Аналіз даних"
      ]
    },
    {
      "cell_type": "markdown",
      "metadata": {},
      "source": [
        "$$\n",
        "\\text{Accuracy} = \\frac{TP + TN}{TP + TN + FP + FN}\n",
        "$$"
      ]
    }
  ],
  "metadata": {
    "colab": {
      "provenance": []
    },
    "kernelspec": {
      "display_name": "goit",
      "language": "python",
      "name": "python3"
    },
    "language_info": {
      "codemirror_mode": {
        "name": "ipython",
        "version": 3
      },
      "file_extension": ".py",
      "mimetype": "text/x-python",
      "name": "python",
      "nbconvert_exporter": "python",
      "pygments_lexer": "ipython3",
      "version": "3.10.16"
    }
  },
  "nbformat": 4,
  "nbformat_minor": 0
}
