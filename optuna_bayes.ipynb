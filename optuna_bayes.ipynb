{
  "cells": [
    {
      "cell_type": "code",
      "execution_count": 1,
      "metadata": {},
      "outputs": [],
      "source": [
        "import optuna\n",
        "from sklearn.datasets import load_breast_cancer\n",
        "from sklearn.model_selection import train_test_split\n",
        "from sklearn.preprocessing import StandardScaler"
      ]
    },
    {
      "cell_type": "code",
      "execution_count": 2,
      "metadata": {},
      "outputs": [],
      "source": [
        "data = load_breast_cancer()\n",
        "X, y = data.data, data.target\n",
        "\n",
        "scaler = StandardScaler()\n",
        "X = scaler.fit_transform(X)\n",
        "\n",
        "X_train, X_test, y_train, y_test = train_test_split(X, y, test_size=0.2, random_state=42)"
      ]
    },
    {
      "cell_type": "markdown",
      "metadata": {},
      "source": [
        "# optuna"
      ]
    },
    {
      "cell_type": "code",
      "execution_count": 3,
      "metadata": {},
      "outputs": [],
      "source": [
        "import optuna\n",
        "from sklearn.ensemble import RandomForestClassifier\n",
        "from sklearn.model_selection import cross_val_score, StratifiedKFold\n",
        "from sklearn.metrics import accuracy_score"
      ]
    },
    {
      "cell_type": "code",
      "execution_count": 4,
      "metadata": {},
      "outputs": [],
      "source": [
        "def objective(trial):\n",
        "    params = {\n",
        "    'n_estimators': trial.suggest_int(\"n_estimators\", 10, 300),\n",
        "    'max_depth': trial.suggest_int(\"max_depth\", 2, 32, log=True),\n",
        "    'min_samples_split': trial.suggest_float(\"min_samples_split\", 0.1, 1.0),\n",
        "    'min_samples_leaf': trial.suggest_int(\"min_samples_leaf\", 1, 10)\n",
        "    }\n",
        "    \n",
        "    clf = RandomForestClassifier(**params, random_state=42, n_jobs=-1)\n",
        "\n",
        "    cv = StratifiedKFold(n_splits=3, shuffle=True, random_state=42)\n",
        "    score = cross_val_score(clf, X_train, y_train, cv=cv, scoring=\"roc_auc\")\n",
        "    return score.mean()"
      ]
    },
    {
      "cell_type": "code",
      "execution_count": 5,
      "metadata": {},
      "outputs": [
        {
          "name": "stderr",
          "output_type": "stream",
          "text": [
            "[I 2025-04-11 14:08:12,160] A new study created in memory with name: no-name-629cdb5a-42c8-4008-baaa-449fac1521f5\n",
            "[I 2025-04-11 14:08:12,576] Trial 0 finished with value: 0.5 and parameters: {'n_estimators': 198, 'max_depth': 16, 'min_samples_split': 0.7256204777820796, 'min_samples_leaf': 8}. Best is trial 0 with value: 0.5.\n",
            "[I 2025-04-11 14:08:12,975] Trial 1 finished with value: 0.9825807322582772 and parameters: {'n_estimators': 198, 'max_depth': 13, 'min_samples_split': 0.26517653030594773, 'min_samples_leaf': 4}. Best is trial 1 with value: 0.9825807322582772.\n",
            "[I 2025-04-11 14:08:13,529] Trial 2 finished with value: 0.5 and parameters: {'n_estimators': 282, 'max_depth': 20, 'min_samples_split': 0.8005228285509849, 'min_samples_leaf': 7}. Best is trial 1 with value: 0.9825807322582772.\n",
            "[I 2025-04-11 14:08:14,067] Trial 3 finished with value: 0.9840713694873148 and parameters: {'n_estimators': 280, 'max_depth': 4, 'min_samples_split': 0.16966076454190593, 'min_samples_leaf': 5}. Best is trial 3 with value: 0.9840713694873148.\n",
            "[I 2025-04-11 14:08:14,256] Trial 4 finished with value: 0.9818229784988787 and parameters: {'n_estimators': 61, 'max_depth': 2, 'min_samples_split': 0.2580665527576844, 'min_samples_leaf': 4}. Best is trial 3 with value: 0.9840713694873148.\n",
            "[I 2025-04-11 14:08:14,756] Trial 5 finished with value: 0.5 and parameters: {'n_estimators': 295, 'max_depth': 9, 'min_samples_split': 0.963384056652176, 'min_samples_leaf': 8}. Best is trial 3 with value: 0.9840713694873148.\n",
            "[I 2025-04-11 14:08:15,059] Trial 6 finished with value: 0.9771521731961483 and parameters: {'n_estimators': 149, 'max_depth': 4, 'min_samples_split': 0.6128116310094402, 'min_samples_leaf': 4}. Best is trial 3 with value: 0.9840713694873148.\n",
            "[I 2025-04-11 14:08:15,466] Trial 7 finished with value: 0.5 and parameters: {'n_estimators': 240, 'max_depth': 19, 'min_samples_split': 0.8704820589072958, 'min_samples_leaf': 1}. Best is trial 3 with value: 0.9840713694873148.\n",
            "[I 2025-04-11 14:08:15,784] Trial 8 finished with value: 0.5 and parameters: {'n_estimators': 162, 'max_depth': 2, 'min_samples_split': 0.7279682970451364, 'min_samples_leaf': 3}. Best is trial 3 with value: 0.9840713694873148.\n",
            "[I 2025-04-11 14:08:16,075] Trial 9 finished with value: 0.9689864223332455 and parameters: {'n_estimators': 144, 'max_depth': 5, 'min_samples_split': 0.6540411939844898, 'min_samples_leaf': 8}. Best is trial 3 with value: 0.9840713694873148.\n",
            "[I 2025-04-11 14:08:16,176] Trial 10 finished with value: 0.9804046162555512 and parameters: {'n_estimators': 16, 'max_depth': 4, 'min_samples_split': 0.12372280326951368, 'min_samples_leaf': 10}. Best is trial 3 with value: 0.9840713694873148.\n",
            "[I 2025-04-11 14:08:16,615] Trial 11 finished with value: 0.9810950072549796 and parameters: {'n_estimators': 226, 'max_depth': 10, 'min_samples_split': 0.393913241983494, 'min_samples_leaf': 5}. Best is trial 3 with value: 0.9840713694873148.\n",
            "[I 2025-04-11 14:08:17,089] Trial 12 finished with value: 0.9818948069186123 and parameters: {'n_estimators': 254, 'max_depth': 31, 'min_samples_split': 0.3732398666167626, 'min_samples_leaf': 2}. Best is trial 3 with value: 0.9840713694873148.\n",
            "[I 2025-04-11 14:08:17,484] Trial 13 finished with value: 0.9834577534845886 and parameters: {'n_estimators': 194, 'max_depth': 6, 'min_samples_split': 0.2118593085676081, 'min_samples_leaf': 6}. Best is trial 3 with value: 0.9840713694873148.\n",
            "[I 2025-04-11 14:08:17,735] Trial 14 finished with value: 0.9841397284329245 and parameters: {'n_estimators': 107, 'max_depth': 3, 'min_samples_split': 0.12940744451213404, 'min_samples_leaf': 6}. Best is trial 14 with value: 0.9841397284329245.\n",
            "[I 2025-04-11 14:08:17,988] Trial 15 finished with value: 0.9768442831310734 and parameters: {'n_estimators': 98, 'max_depth': 3, 'min_samples_split': 0.4321179136102524, 'min_samples_leaf': 10}. Best is trial 14 with value: 0.9841397284329245.\n",
            "[I 2025-04-11 14:08:18,234] Trial 16 finished with value: 0.9847616917842853 and parameters: {'n_estimators': 95, 'max_depth': 3, 'min_samples_split': 0.10045321354318044, 'min_samples_leaf': 6}. Best is trial 16 with value: 0.9847616917842853.\n",
            "[I 2025-04-11 14:08:18,528] Trial 17 finished with value: 0.9845743745328234 and parameters: {'n_estimators': 94, 'max_depth': 3, 'min_samples_split': 0.10849439409696651, 'min_samples_leaf': 6}. Best is trial 16 with value: 0.9847616917842853.\n",
            "[I 2025-04-11 14:08:18,725] Trial 18 finished with value: 0.9736591341291826 and parameters: {'n_estimators': 60, 'max_depth': 2, 'min_samples_split': 0.469134226865661, 'min_samples_leaf': 7}. Best is trial 16 with value: 0.9847616917842853.\n",
            "[I 2025-04-11 14:08:18,975] Trial 19 finished with value: 0.9820337232884843 and parameters: {'n_estimators': 110, 'max_depth': 3, 'min_samples_split': 0.34015201579056914, 'min_samples_leaf': 7}. Best is trial 16 with value: 0.9847616917842853.\n",
            "[I 2025-04-11 14:08:19,176] Trial 20 finished with value: 0.9731690451457591 and parameters: {'n_estimators': 65, 'max_depth': 9, 'min_samples_split': 0.5546595445815365, 'min_samples_leaf': 9}. Best is trial 16 with value: 0.9847616917842853.\n",
            "[I 2025-04-11 14:08:19,434] Trial 21 finished with value: 0.9840798885920942 and parameters: {'n_estimators': 103, 'max_depth': 3, 'min_samples_split': 0.1560728476382757, 'min_samples_leaf': 6}. Best is trial 16 with value: 0.9847616917842853.\n",
            "[I 2025-04-11 14:08:19,748] Trial 22 finished with value: 0.9838262391175308 and parameters: {'n_estimators': 123, 'max_depth': 3, 'min_samples_split': 0.10252311500518639, 'min_samples_leaf': 6}. Best is trial 16 with value: 0.9847616917842853.\n",
            "[I 2025-04-11 14:08:19,958] Trial 23 finished with value: 0.9824021745701974 and parameters: {'n_estimators': 79, 'max_depth': 6, 'min_samples_split': 0.28533106050099044, 'min_samples_leaf': 5}. Best is trial 16 with value: 0.9847616917842853.\n",
            "[I 2025-04-11 14:08:20,112] Trial 24 finished with value: 0.9816540735061338 and parameters: {'n_estimators': 31, 'max_depth': 2, 'min_samples_split': 0.2036980394530306, 'min_samples_leaf': 7}. Best is trial 16 with value: 0.9847616917842853.\n",
            "[I 2025-04-11 14:08:20,421] Trial 25 finished with value: 0.9841373238468979 and parameters: {'n_estimators': 127, 'max_depth': 5, 'min_samples_split': 0.10753425834428454, 'min_samples_leaf': 6}. Best is trial 16 with value: 0.9847616917842853.\n",
            "[I 2025-04-11 14:08:20,635] Trial 26 finished with value: 0.9844525307237392 and parameters: {'n_estimators': 84, 'max_depth': 3, 'min_samples_split': 0.21206743559273536, 'min_samples_leaf': 3}. Best is trial 16 with value: 0.9847616917842853.\n",
            "[I 2025-04-11 14:08:20,782] Trial 27 finished with value: 0.981643665083762 and parameters: {'n_estimators': 39, 'max_depth': 4, 'min_samples_split': 0.29479242892077806, 'min_samples_leaf': 3}. Best is trial 16 with value: 0.9847616917842853.\n",
            "[I 2025-04-11 14:08:20,992] Trial 28 finished with value: 0.9850703032251681 and parameters: {'n_estimators': 80, 'max_depth': 7, 'min_samples_split': 0.18953705925866488, 'min_samples_leaf': 3}. Best is trial 28 with value: 0.9850703032251681.\n",
            "[I 2025-04-11 14:08:21,367] Trial 29 finished with value: 0.9775287313678934 and parameters: {'n_estimators': 172, 'max_depth': 7, 'min_samples_split': 0.5056480950317541, 'min_samples_leaf': 1}. Best is trial 28 with value: 0.9850703032251681.\n",
            "[I 2025-04-11 14:08:21,678] Trial 30 finished with value: 0.9814049583937915 and parameters: {'n_estimators': 133, 'max_depth': 12, 'min_samples_split': 0.3122329609993294, 'min_samples_leaf': 4}. Best is trial 28 with value: 0.9850703032251681.\n",
            "[I 2025-04-11 14:08:21,889] Trial 31 finished with value: 0.9850700627665655 and parameters: {'n_estimators': 82, 'max_depth': 7, 'min_samples_split': 0.19912619619861194, 'min_samples_leaf': 3}. Best is trial 28 with value: 0.9850703032251681.\n",
            "[I 2025-04-11 14:08:22,099] Trial 32 finished with value: 0.9841427169898429 and parameters: {'n_estimators': 83, 'max_depth': 7, 'min_samples_split': 0.24004301513522677, 'min_samples_leaf': 3}. Best is trial 28 with value: 0.9850703032251681.\n",
            "[I 2025-04-11 14:08:22,252] Trial 33 finished with value: 0.9850672116145628 and parameters: {'n_estimators': 43, 'max_depth': 8, 'min_samples_split': 0.18957030582564371, 'min_samples_leaf': 2}. Best is trial 28 with value: 0.9850703032251681.\n",
            "[I 2025-04-11 14:08:22,428] Trial 34 finished with value: 0.9850063068856351 and parameters: {'n_estimators': 43, 'max_depth': 14, 'min_samples_split': 0.19485337568555897, 'min_samples_leaf': 2}. Best is trial 28 with value: 0.9850703032251681.\n",
            "[I 2025-04-11 14:08:22,579] Trial 35 finished with value: 0.9852540823000484 and parameters: {'n_estimators': 42, 'max_depth': 14, 'min_samples_split': 0.19987412492034345, 'min_samples_leaf': 2}. Best is trial 35 with value: 0.9852540823000484.\n",
            "[I 2025-04-11 14:08:22,681] Trial 36 finished with value: 0.9773285667568042 and parameters: {'n_estimators': 15, 'max_depth': 11, 'min_samples_split': 0.35795684392477267, 'min_samples_leaf': 2}. Best is trial 35 with value: 0.9852540823000484.\n",
            "[I 2025-04-11 14:08:22,839] Trial 37 finished with value: 0.9829451644462033 and parameters: {'n_estimators': 52, 'max_depth': 16, 'min_samples_split': 0.2439999876332715, 'min_samples_leaf': 1}. Best is trial 35 with value: 0.9852540823000484.\n",
            "[I 2025-04-11 14:08:22,991] Trial 38 finished with value: 0.985560804423339 and parameters: {'n_estimators': 34, 'max_depth': 8, 'min_samples_split': 0.17137826344402046, 'min_samples_leaf': 2}. Best is trial 38 with value: 0.985560804423339.\n",
            "[I 2025-04-11 14:08:23,094] Trial 39 finished with value: 0.9795244518917908 and parameters: {'n_estimators': 10, 'max_depth': 14, 'min_samples_split': 0.2557791638002624, 'min_samples_leaf': 2}. Best is trial 38 with value: 0.985560804423339.\n",
            "[I 2025-04-11 14:08:23,296] Trial 40 finished with value: 0.9820857997515718 and parameters: {'n_estimators': 68, 'max_depth': 23, 'min_samples_split': 0.3215021362553077, 'min_samples_leaf': 4}. Best is trial 38 with value: 0.985560804423339.\n",
            "[I 2025-04-11 14:08:23,449] Trial 41 finished with value: 0.9854365903794574 and parameters: {'n_estimators': 34, 'max_depth': 9, 'min_samples_split': 0.16797095906226578, 'min_samples_leaf': 2}. Best is trial 38 with value: 0.985560804423339.\n",
            "[I 2025-04-11 14:08:23,597] Trial 42 finished with value: 0.9855305753418634 and parameters: {'n_estimators': 29, 'max_depth': 8, 'min_samples_split': 0.18293227990708363, 'min_samples_leaf': 3}. Best is trial 38 with value: 0.985560804423339.\n",
            "[I 2025-04-11 14:08:23,715] Trial 43 finished with value: 0.9838255177417228 and parameters: {'n_estimators': 26, 'max_depth': 9, 'min_samples_split': 0.1609866909184576, 'min_samples_leaf': 1}. Best is trial 38 with value: 0.985560804423339.\n",
            "[I 2025-04-11 14:08:23,821] Trial 44 finished with value: 0.9848044934155564 and parameters: {'n_estimators': 26, 'max_depth': 11, 'min_samples_split': 0.15545005216988822, 'min_samples_leaf': 3}. Best is trial 38 with value: 0.985560804423339.\n",
            "[I 2025-04-11 14:08:23,976] Trial 45 finished with value: 0.9814539088950446 and parameters: {'n_estimators': 50, 'max_depth': 8, 'min_samples_split': 0.2692538890667017, 'min_samples_leaf': 2}. Best is trial 38 with value: 0.985560804423339.\n",
            "[I 2025-04-11 14:08:24,154] Trial 46 finished with value: 0.5 and parameters: {'n_estimators': 34, 'max_depth': 5, 'min_samples_split': 0.8128644271514001, 'min_samples_leaf': 4}. Best is trial 38 with value: 0.985560804423339.\n",
            "[I 2025-04-11 14:08:24,261] Trial 47 finished with value: 0.9834416084069822 and parameters: {'n_estimators': 23, 'max_depth': 16, 'min_samples_split': 0.23946167340807184, 'min_samples_leaf': 1}. Best is trial 38 with value: 0.985560804423339.\n",
            "[I 2025-04-11 14:08:24,414] Trial 48 finished with value: 0.5 and parameters: {'n_estimators': 57, 'max_depth': 6, 'min_samples_split': 0.9835425482344988, 'min_samples_leaf': 2}. Best is trial 38 with value: 0.985560804423339.\n",
            "[I 2025-04-11 14:08:24,621] Trial 49 finished with value: 0.9864296500571604 and parameters: {'n_estimators': 66, 'max_depth': 10, 'min_samples_split': 0.153791452225133, 'min_samples_leaf': 3}. Best is trial 49 with value: 0.9864296500571604.\n"
          ]
        },
        {
          "name": "stdout",
          "output_type": "stream",
          "text": [
            "Найкращі параметри: {'n_estimators': 66, 'max_depth': 10, 'min_samples_split': 0.153791452225133, 'min_samples_leaf': 3}\n"
          ]
        }
      ],
      "source": [
        "study = optuna.create_study(direction=\"maximize\")\n",
        "study.optimize(objective, n_trials=50)\n",
        "\n",
        "print(\"Найкращі параметри:\", study.best_params)"
      ]
    },
    {
      "cell_type": "code",
      "execution_count": 6,
      "metadata": {},
      "outputs": [
        {
          "name": "stdout",
          "output_type": "stream",
          "text": [
            "Точність на тесті: 0.9649122807017544\n"
          ]
        }
      ],
      "source": [
        "best_clf = RandomForestClassifier(**study.best_params, random_state=42)\n",
        "best_clf.fit(X_train, y_train)\n",
        "y_pred = best_clf.predict(X_test)\n",
        "\n",
        "print(\"Точність на тесті:\", accuracy_score(y_test, y_pred))"
      ]
    },
    {
      "cell_type": "markdown",
      "metadata": {},
      "source": [
        "# Bayes"
      ]
    },
    {
      "cell_type": "code",
      "execution_count": null,
      "metadata": {},
      "outputs": [],
      "source": [
        "from skopt import BayesSearchCV\n",
        "from skopt.space import Integer, Real\n",
        "\n",
        "from sklearn.ensemble import RandomForestClassifier\n",
        "from sklearn.model_selection import StratifiedKFold\n",
        "from sklearn.metrics import accuracy_score"
      ]
    },
    {
      "cell_type": "code",
      "execution_count": 13,
      "metadata": {},
      "outputs": [],
      "source": [
        "param_dist = {\n",
        "    'n_estimators': Integer(10, 300),\n",
        "    'max_depth': Integer(2, 32),\n",
        "    'min_samples_split': Real(0.1, 1.0),\n",
        "    'min_samples_leaf': Integer(1, 10)\n",
        "}\n",
        "\n",
        "cv = StratifiedKFold(n_splits=3, shuffle=True, random_state=42)\n",
        "model = RandomForestClassifier()"
      ]
    },
    {
      "cell_type": "code",
      "execution_count": 14,
      "metadata": {},
      "outputs": [],
      "source": [
        "opt = BayesSearchCV(\n",
        "    model,\n",
        "    param_dist,\n",
        "    n_iter=20,\n",
        "    cv=cv,\n",
        "    n_jobs=-1,\n",
        "    scoring='roc_auc',\n",
        ")\n",
        "\n",
        "opt.fit(X_train, y_train)\n",
        "model = opt.best_estimator_"
      ]
    },
    {
      "cell_type": "code",
      "execution_count": 15,
      "metadata": {},
      "outputs": [
        {
          "name": "stdout",
          "output_type": "stream",
          "text": [
            "Точність на тесті: 0.9649122807017544\n"
          ]
        }
      ],
      "source": [
        "y_pred = model.predict(X_test)\n",
        "print(\"Точність на тесті:\", accuracy_score(y_test, y_pred))"
      ]
    }
  ],
  "metadata": {
    "colab": {
      "provenance": []
    },
    "kernelspec": {
      "display_name": "goit",
      "language": "python",
      "name": "python3"
    },
    "language_info": {
      "codemirror_mode": {
        "name": "ipython",
        "version": 3
      },
      "file_extension": ".py",
      "mimetype": "text/x-python",
      "name": "python",
      "nbconvert_exporter": "python",
      "pygments_lexer": "ipython3",
      "version": "3.10.16"
    }
  },
  "nbformat": 4,
  "nbformat_minor": 0
}
