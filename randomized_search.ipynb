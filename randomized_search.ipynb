{
 "cells": [
  {
   "cell_type": "code",
   "execution_count": 1,
   "id": "ef16c5c3",
   "metadata": {},
   "outputs": [],
   "source": [
    "import numpy as np\n",
    "import random\n",
    "import matplotlib.pyplot as plt"
   ]
  },
  {
   "cell_type": "code",
   "execution_count": 2,
   "id": "23cfa5bb",
   "metadata": {},
   "outputs": [],
   "source": [
    "def randomized_local_search(\n",
    "    objective_function,\n",
    "    starting_point,\n",
    "    max_iterations=100,\n",
    "    step_size=0.5,\n",
    "    probability=0.2,\n",
    "    bounds=None,\n",
    "    verbose=False,\n",
    "    log_path=False\n",
    "):\n",
    "    \"\"\"\n",
    "    Універсальний алгоритм випадкового локального пошуку з логуванням.\n",
    "\n",
    "    Параметри:\n",
    "        objective_function: функція, яку потрібно мінімізувати (f(x) -> float)\n",
    "        starting_point: початкова точка (list/tuple/np.array)\n",
    "        max_iterations: кількість ітерацій\n",
    "        step_size: максимальний розмір кроку\n",
    "        probability: імовірність прийняти гірше рішення\n",
    "        bounds: межі [(min1, max1), (min2, max2), ...] або None\n",
    "        verbose: якщо True — показує прогрес у консолі\n",
    "        log_path: якщо True — повертає історію пошуку\n",
    "\n",
    "    Повертає:\n",
    "        best_point, best_value, history (якщо log_path=True)\n",
    "    \"\"\"\n",
    "    current_point = np.array(starting_point, dtype=float)\n",
    "    current_value = objective_function(current_point)\n",
    "\n",
    "    # лог для траєкторії\n",
    "    history = [(current_point.copy(), current_value)]\n",
    "\n",
    "    for i in range(max_iterations):\n",
    "        # випадковий сусід\n",
    "        new_point = current_point + np.random.uniform(-step_size, step_size, size=len(current_point))\n",
    "\n",
    "        # обмеження межами\n",
    "        if bounds is not None:\n",
    "            for j, (low, high) in enumerate(bounds):\n",
    "                new_point[j] = np.clip(new_point[j], low, high)\n",
    "\n",
    "        new_value = objective_function(new_point)\n",
    "\n",
    "        # прийняття рішення\n",
    "        if new_value < current_value or random.random() < probability:\n",
    "            current_point, current_value = new_point, new_value\n",
    "\n",
    "        # логування\n",
    "        history.append((current_point.copy(), current_value))\n",
    "\n",
    "        if verbose and i % 10 == 0:\n",
    "            print(f\"Ітерація {i:4d} | Поточне значення: {current_value:.6f}\")\n",
    "\n",
    "    if log_path:\n",
    "        return current_point, current_value, history\n",
    "    else:\n",
    "        return current_point, current_value\n"
   ]
  },
  {
   "cell_type": "code",
   "execution_count": 3,
   "id": "0f66367f",
   "metadata": {},
   "outputs": [],
   "source": [
    "def business_loss(x,\n",
    "    base_rev_per_user=15.0,\n",
    "    alpha=12.0,   # сила миттєвого ефекту бонусу\n",
    "    beta=1.2,     # швидкість насичення миттєвого ефекту\n",
    "    gamma=4.0,    # коефіцієнт майбутньої вартості (LTV) за бонус\n",
    "    c1=1.5,       # лінійні витрати на бонус\n",
    "    c2=0.3):      # квадратичні витрати (ріст витрат при великих бонусах)\n",
    "    \"\"\"\n",
    "    x: [bonus, activity]\n",
    "    Повертає scalar loss (менше — краще).\n",
    "    Параметри дають контроль над формою кривої.\n",
    "    \"\"\"\n",
    "    bonus, activity = x\n",
    "    bonus = float(bonus)\n",
    "    activity = float(activity)\n",
    "\n",
    "    # 1) Базовий дохід від активності (без бонусу)\n",
    "    base_revenue = base_rev_per_user * activity\n",
    "\n",
    "    # 2) Миттєвий ефект бонусу: має вигляд  alpha * (1 - exp(-beta * bonus)) * activity\n",
    "    #    — швидкий підйом при малих bonus, насичення при великих\n",
    "    immediate_revenue = alpha * (1 - np.exp(-beta * bonus)) * activity\n",
    "\n",
    "    # 3) Майбутній ефект (LTV/утримання): припустимо, лінійна вигода від невеликого bonus\n",
    "    future_revenue = gamma * bonus * activity\n",
    "\n",
    "    total_revenue = base_revenue + immediate_revenue + future_revenue\n",
    "\n",
    "    # 4) Витрати: лінійні + квадратичні частини\n",
    "    cost = c1 * bonus + c2 * bonus**2\n",
    "\n",
    "    # 5) Втрати від неактивності (підкреслює важливість activity)\n",
    "    inactivity_loss = (1 - activity)**2 * 8.0\n",
    "\n",
    "    # Підсумок: втрати = витрати + неефективність - дохід\n",
    "    loss = cost + inactivity_loss - total_revenue\n",
    "    return loss"
   ]
  },
  {
   "cell_type": "code",
   "execution_count": 4,
   "id": "139011ae",
   "metadata": {},
   "outputs": [
    {
     "name": "stdout",
     "output_type": "stream",
     "text": [
      "Ітерація    0 | Поточне значення: 0.934521\n",
      "Ітерація   10 | Поточне значення: 2.979630\n",
      "Ітерація   20 | Поточне значення: -17.252064\n",
      "Ітерація   30 | Поточне значення: -26.927050\n",
      "Ітерація   40 | Поточне значення: -44.399176\n",
      "Ітерація   50 | Поточне значення: -55.296672\n",
      "Ітерація   60 | Поточне значення: -76.850122\n",
      "Ітерація   70 | Поточне значення: -84.917329\n",
      "Ітерація   80 | Поточне значення: -93.272326\n",
      "Ітерація   90 | Поточне значення: -101.935610\n",
      "Ітерація  100 | Поточне значення: -105.949974\n",
      "Ітерація  110 | Поточне значення: -122.238043\n",
      "Ітерація  120 | Поточне значення: -124.928352\n",
      "Ітерація  130 | Поточне значення: -131.706240\n",
      "Ітерація  140 | Поточне значення: -131.674423\n",
      "Ітерація  150 | Поточне значення: -151.141448\n",
      "Ітерація  160 | Поточне значення: -159.676858\n",
      "Ітерація  170 | Поточне значення: -171.335432\n",
      "Ітерація  180 | Поточне значення: -184.747719\n",
      "Ітерація  190 | Поточне значення: -187.921642\n"
     ]
    }
   ],
   "source": [
    "best_point, best_value, history = randomized_local_search(\n",
    "    objective_function=business_loss,\n",
    "    starting_point=[0, 0],\n",
    "    max_iterations=200,\n",
    "    step_size=0.4,\n",
    "    probability=0.1,\n",
    "    # bounds=[(-10, 10), (-10, 10)],\n",
    "    verbose=True,\n",
    "    log_path=True\n",
    ")"
   ]
  },
  {
   "cell_type": "code",
   "execution_count": 5,
   "id": "ad332175",
   "metadata": {},
   "outputs": [
    {
     "data": {
      "image/png": "[encoded data removed]",
      "text/plain": [
       "<Figure size 600x500 with 1 Axes>"
      ]
     },
     "metadata": {},
     "output_type": "display_data"
    }
   ],
   "source": [
    "xs, ys, zs = zip(*[(p[0], p[1], v) for p, v in history])\n",
    "plt.figure(figsize=(6, 5))\n",
    "plt.plot(xs, ys, marker='.', alpha=0.6, label=\"Траєкторія пошуку\")\n",
    "plt.scatter(best_point[0], best_point[1], color='red', label='Оптимум')\n",
    "plt.title(\"Оптимізація параметрів бонусної системи\")\n",
    "plt.xlabel(\"Bonus ($)\")\n",
    "plt.ylabel(\"Activity threshold\")\n",
    "plt.legend()\n",
    "plt.show()"
   ]
  },
  {
   "cell_type": "code",
   "execution_count": 6,
   "id": "45ded24d",
   "metadata": {},
   "outputs": [],
   "source": [
    "import random\n",
    "import math"
   ]
  },
  {
   "cell_type": "code",
   "execution_count": 7,
   "id": "3e5c0e0b",
   "metadata": {},
   "outputs": [],
   "source": [
    "def sphere_function(x):\n",
    "    return sum(xi ** 2 for xi in x)"
   ]
  },
  {
   "cell_type": "code",
   "execution_count": 8,
   "id": "da05e8c1",
   "metadata": {},
   "outputs": [],
   "source": [
    "# Random Local Search\n",
    "def random_local_search(func, bounds, iterations=1000, epsilon=1e-6):\n",
    "    dim = len(bounds)\n",
    "    best = [random.uniform(b[0], b[1]) for b in bounds]\n",
    "    best_value = func(best)\n",
    "\n",
    "    for _ in range(iterations):\n",
    "        candidate = [random.uniform(b[0], b[1]) for b in bounds]\n",
    "        candidate_value = func(candidate)\n",
    "\n",
    "        # Умова зупинки\n",
    "        if abs(best_value - candidate_value) < epsilon:\n",
    "            break\n",
    "\n",
    "        if candidate_value < best_value:\n",
    "            best, best_value = candidate, candidate_value\n",
    "\n",
    "    return best, best_value"
   ]
  },
  {
   "cell_type": "code",
   "execution_count": 9,
   "id": "0aab0e35",
   "metadata": {},
   "outputs": [],
   "source": [
    "# Simulated Annealing\n",
    "def simulated_annealing(func, bounds, iterations=1000, initial_temp=1000, cooling_rate=0.99, epsilon=1e-6):\n",
    "    dim = len(bounds)\n",
    "    current = [random.uniform(b[0], b[1]) for b in bounds]\n",
    "    current_value = func(current)\n",
    "    best, best_value = current, current_value\n",
    "    temp = initial_temp\n",
    "\n",
    "    for t in range(iterations):\n",
    "        # Охолодження\n",
    "        if temp <= epsilon:  # Якщо температура надто низька, завершуємо\n",
    "            break\n",
    "\n",
    "        # Генерація сусіда\n",
    "        neighbor = [current[i] + random.uniform(-temp, temp) for i in range(dim)]\n",
    "        neighbor = [max(min(neighbor[i], bounds[i][1]), bounds[i][0]) for i in range(dim)]\n",
    "        neighbor_value = func(neighbor)\n",
    "\n",
    "        # Прийняття сусіда\n",
    "        if neighbor_value < current_value or math.exp((current_value - neighbor_value) / temp) > random.random():\n",
    "            current, current_value = neighbor, neighbor_value\n",
    "\n",
    "        # Оновлення найкращого розв'язку\n",
    "        if current_value < best_value:\n",
    "            best, best_value = current, current_value\n",
    "\n",
    "        temp = initial_temp / (1 + cooling_rate * t)\n",
    "\n",
    "    return best, best_value"
   ]
  },
  {
   "cell_type": "code",
   "execution_count": 10,
   "id": "31dbe9c3",
   "metadata": {},
   "outputs": [
    {
     "name": "stdout",
     "output_type": "stream",
     "text": [
      "\n",
      "Random Local Search:\n",
      "Розв'язок: [-0.07015422686714956, 0.09665159378810273] Значення: 0.014263146129107908\n",
      "\n",
      "Simulated Annealing:\n",
      "Розв'язок: [0.014063830040282999, -0.009215338084600289] Значення: 0.000282713771415451\n"
     ]
    }
   ],
   "source": [
    "# Межі для функції\n",
    "bounds = [(-5, 5), (-5, 5)]\n",
    "\n",
    "print(\"\\nRandom Local Search:\")\n",
    "rls_solution, rls_value = random_local_search(sphere_function, bounds)\n",
    "print(\"Розв'язок:\", rls_solution, \"Значення:\", rls_value)\n",
    "\n",
    "print(\"\\nSimulated Annealing:\")\n",
    "sa_solution, sa_value = simulated_annealing(sphere_function, bounds)\n",
    "print(\"Розв'язок:\", sa_solution, \"Значення:\", sa_value)"
   ]
  }
 ],
 "metadata": {
  "kernelspec": {
   "display_name": "my_env",
   "language": "python",
   "name": "python3"
  },
  "language_info": {
   "codemirror_mode": {
    "name": "ipython",
    "version": 3
   },
   "file_extension": ".py",
   "mimetype": "text/x-python",
   "name": "python",
   "nbconvert_exporter": "python",
   "pygments_lexer": "ipython3",
   "version": "3.10.16"
  }
 },
 "nbformat": 4,
 "nbformat_minor": 5
}
