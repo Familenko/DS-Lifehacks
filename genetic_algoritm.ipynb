{
  "cells": [
    {
      "cell_type": "code",
      "execution_count": 41,
      "metadata": {},
      "outputs": [],
      "source": [
        "import pygad\n",
        "import numpy as np\n",
        "import pandas as pd"
      ]
    },
    {
      "cell_type": "code",
      "execution_count": 42,
      "metadata": {},
      "outputs": [],
      "source": [
        "df = pd.DataFrame([\n",
        "    {\"name\": \"Refrigerator A\", \"space\": 0.751, \"price\": 999.90, \"quantity\": 2},\n",
        "    {\"name\": \"Cell phone\", \"space\": 0.0000899, \"price\": 2911.12, \"quantity\": 5},\n",
        "    {\"name\": \"TV 55'\", \"space\": 0.400, \"price\": 4346.99, \"quantity\": 2},\n",
        "    {\"name\": \"TV 50'\", \"space\": 0.290, \"price\": 3999.90, \"quantity\": 2},\n",
        "    {\"name\": \"TV 42'\", \"space\": 0.200, \"price\": 2999.00, \"quantity\": 3},\n",
        "    {\"name\": \"Notebook A\", \"space\": 0.00350, \"price\": 2499.90, \"quantity\": 4},\n",
        "    {\"name\": \"Ventilator\", \"space\": 0.496, \"price\": 199.90, \"quantity\": 2},\n",
        "    {\"name\": \"Microwave A\", \"space\": 0.0424, \"price\": 308.66, \"quantity\": 3},\n",
        "    {\"name\": \"Microwave B\", \"space\": 0.0544, \"price\": 429.90, \"quantity\": 3},\n",
        "    {\"name\": \"Microwave C\", \"space\": 0.0319, \"price\": 299.29, \"quantity\": 3},\n",
        "    {\"name\": \"Refrigerator B\", \"space\": 0.635, \"price\": 849.00, \"quantity\": 2},\n",
        "    {\"name\": \"Refrigerator C\", \"space\": 0.870, \"price\": 1199.89, \"quantity\": 2},\n",
        "    {\"name\": \"Notebook B\", \"space\": 0.498, \"price\": 1999.90, \"quantity\": 3},\n",
        "    {\"name\": \"Notebook C\", \"space\": 0.527, \"price\": 3999.00, \"quantity\": 3}\n",
        "])\n",
        "\n",
        "df = df.loc[df.index.repeat(df['quantity'])].drop(columns=['quantity']).reset_index(drop=True)"
      ]
    },
    {
      "cell_type": "code",
      "execution_count": 43,
      "metadata": {},
      "outputs": [
        {
          "name": "stdout",
          "output_type": "stream",
          "text": [
            "Найкраща вартість: 52229.369999999995\n",
            "Найкраще рішення: [ 0  0  1  0  1  1  1  1  1  1  1  1  1  0  0  1  1  1  1  0  0  1  1  0\n",
            "  0  1  1  0  0  1  0  0  0 -1  1  0  0  1  1]\n",
            "Обрані продукти:\n"
          ]
        },
        {
          "data": {
            "application/vnd.microsoft.datawrangler.viewer.v0+json": {
              "columns": [
                {
                  "name": "index",
                  "rawType": "int64",
                  "type": "integer"
                },
                {
                  "name": "name",
                  "rawType": "object",
                  "type": "string"
                },
                {
                  "name": "space",
                  "rawType": "float64",
                  "type": "float"
                },
                {
                  "name": "price",
                  "rawType": "float64",
                  "type": "float"
                }
              ],
              "ref": "a7b9ead4-af03-4dc4-8cc7-3627fcdd5b48",
              "rows": [
                [
                  "2",
                  "Cell phone",
                  "8.99e-05",
                  "2911.12"
                ],
                [
                  "4",
                  "Cell phone",
                  "8.99e-05",
                  "2911.12"
                ],
                [
                  "5",
                  "Cell phone",
                  "8.99e-05",
                  "2911.12"
                ],
                [
                  "6",
                  "Cell phone",
                  "8.99e-05",
                  "2911.12"
                ],
                [
                  "7",
                  "TV 55'",
                  "0.4",
                  "4346.99"
                ],
                [
                  "8",
                  "TV 55'",
                  "0.4",
                  "4346.99"
                ],
                [
                  "9",
                  "TV 50'",
                  "0.29",
                  "3999.9"
                ],
                [
                  "10",
                  "TV 50'",
                  "0.29",
                  "3999.9"
                ],
                [
                  "11",
                  "TV 42'",
                  "0.2",
                  "2999.0"
                ],
                [
                  "12",
                  "TV 42'",
                  "0.2",
                  "2999.0"
                ],
                [
                  "15",
                  "Notebook A",
                  "0.0035",
                  "2499.9"
                ],
                [
                  "16",
                  "Notebook A",
                  "0.0035",
                  "2499.9"
                ],
                [
                  "17",
                  "Notebook A",
                  "0.0035",
                  "2499.9"
                ],
                [
                  "18",
                  "Ventilator",
                  "0.496",
                  "199.9"
                ],
                [
                  "21",
                  "Microwave A",
                  "0.0424",
                  "308.66"
                ],
                [
                  "22",
                  "Microwave A",
                  "0.0424",
                  "308.66"
                ],
                [
                  "25",
                  "Microwave B",
                  "0.0544",
                  "429.9"
                ],
                [
                  "26",
                  "Microwave C",
                  "0.0319",
                  "299.29"
                ],
                [
                  "29",
                  "Refrigerator B",
                  "0.635",
                  "849.0"
                ],
                [
                  "34",
                  "Notebook B",
                  "0.498",
                  "1999.9"
                ],
                [
                  "37",
                  "Notebook C",
                  "0.527",
                  "3999.0"
                ],
                [
                  "38",
                  "Notebook C",
                  "0.527",
                  "3999.0"
                ]
              ],
              "shape": {
                "columns": 3,
                "rows": 22
              }
            },
            "text/html": [
              "<div>\n",
              "<style scoped>\n",
              "    .dataframe tbody tr th:only-of-type {\n",
              "        vertical-align: middle;\n",
              "    }\n",
              "\n",
              "    .dataframe tbody tr th {\n",
              "        vertical-align: top;\n",
              "    }\n",
              "\n",
              "    .dataframe thead th {\n",
              "        text-align: right;\n",
              "    }\n",
              "</style>\n",
              "<table border=\"1\" class=\"dataframe\">\n",
              "  <thead>\n",
              "    <tr style=\"text-align: right;\">\n",
              "      <th></th>\n",
              "      <th>name</th>\n",
              "      <th>space</th>\n",
              "      <th>price</th>\n",
              "    </tr>\n",
              "  </thead>\n",
              "  <tbody>\n",
              "    <tr>\n",
              "      <th>2</th>\n",
              "      <td>Cell phone</td>\n",
              "      <td>0.00009</td>\n",
              "      <td>2911.12</td>\n",
              "    </tr>\n",
              "    <tr>\n",
              "      <th>4</th>\n",
              "      <td>Cell phone</td>\n",
              "      <td>0.00009</td>\n",
              "      <td>2911.12</td>\n",
              "    </tr>\n",
              "    <tr>\n",
              "      <th>5</th>\n",
              "      <td>Cell phone</td>\n",
              "      <td>0.00009</td>\n",
              "      <td>2911.12</td>\n",
              "    </tr>\n",
              "    <tr>\n",
              "      <th>6</th>\n",
              "      <td>Cell phone</td>\n",
              "      <td>0.00009</td>\n",
              "      <td>2911.12</td>\n",
              "    </tr>\n",
              "    <tr>\n",
              "      <th>7</th>\n",
              "      <td>TV 55'</td>\n",
              "      <td>0.40000</td>\n",
              "      <td>4346.99</td>\n",
              "    </tr>\n",
              "    <tr>\n",
              "      <th>8</th>\n",
              "      <td>TV 55'</td>\n",
              "      <td>0.40000</td>\n",
              "      <td>4346.99</td>\n",
              "    </tr>\n",
              "    <tr>\n",
              "      <th>9</th>\n",
              "      <td>TV 50'</td>\n",
              "      <td>0.29000</td>\n",
              "      <td>3999.90</td>\n",
              "    </tr>\n",
              "    <tr>\n",
              "      <th>10</th>\n",
              "      <td>TV 50'</td>\n",
              "      <td>0.29000</td>\n",
              "      <td>3999.90</td>\n",
              "    </tr>\n",
              "    <tr>\n",
              "      <th>11</th>\n",
              "      <td>TV 42'</td>\n",
              "      <td>0.20000</td>\n",
              "      <td>2999.00</td>\n",
              "    </tr>\n",
              "    <tr>\n",
              "      <th>12</th>\n",
              "      <td>TV 42'</td>\n",
              "      <td>0.20000</td>\n",
              "      <td>2999.00</td>\n",
              "    </tr>\n",
              "    <tr>\n",
              "      <th>15</th>\n",
              "      <td>Notebook A</td>\n",
              "      <td>0.00350</td>\n",
              "      <td>2499.90</td>\n",
              "    </tr>\n",
              "    <tr>\n",
              "      <th>16</th>\n",
              "      <td>Notebook A</td>\n",
              "      <td>0.00350</td>\n",
              "      <td>2499.90</td>\n",
              "    </tr>\n",
              "    <tr>\n",
              "      <th>17</th>\n",
              "      <td>Notebook A</td>\n",
              "      <td>0.00350</td>\n",
              "      <td>2499.90</td>\n",
              "    </tr>\n",
              "    <tr>\n",
              "      <th>18</th>\n",
              "      <td>Ventilator</td>\n",
              "      <td>0.49600</td>\n",
              "      <td>199.90</td>\n",
              "    </tr>\n",
              "    <tr>\n",
              "      <th>21</th>\n",
              "      <td>Microwave A</td>\n",
              "      <td>0.04240</td>\n",
              "      <td>308.66</td>\n",
              "    </tr>\n",
              "    <tr>\n",
              "      <th>22</th>\n",
              "      <td>Microwave A</td>\n",
              "      <td>0.04240</td>\n",
              "      <td>308.66</td>\n",
              "    </tr>\n",
              "    <tr>\n",
              "      <th>25</th>\n",
              "      <td>Microwave B</td>\n",
              "      <td>0.05440</td>\n",
              "      <td>429.90</td>\n",
              "    </tr>\n",
              "    <tr>\n",
              "      <th>26</th>\n",
              "      <td>Microwave C</td>\n",
              "      <td>0.03190</td>\n",
              "      <td>299.29</td>\n",
              "    </tr>\n",
              "    <tr>\n",
              "      <th>29</th>\n",
              "      <td>Refrigerator B</td>\n",
              "      <td>0.63500</td>\n",
              "      <td>849.00</td>\n",
              "    </tr>\n",
              "    <tr>\n",
              "      <th>34</th>\n",
              "      <td>Notebook B</td>\n",
              "      <td>0.49800</td>\n",
              "      <td>1999.90</td>\n",
              "    </tr>\n",
              "    <tr>\n",
              "      <th>37</th>\n",
              "      <td>Notebook C</td>\n",
              "      <td>0.52700</td>\n",
              "      <td>3999.00</td>\n",
              "    </tr>\n",
              "    <tr>\n",
              "      <th>38</th>\n",
              "      <td>Notebook C</td>\n",
              "      <td>0.52700</td>\n",
              "      <td>3999.00</td>\n",
              "    </tr>\n",
              "  </tbody>\n",
              "</table>\n",
              "</div>"
            ],
            "text/plain": [
              "              name    space    price\n",
              "2       Cell phone  0.00009  2911.12\n",
              "4       Cell phone  0.00009  2911.12\n",
              "5       Cell phone  0.00009  2911.12\n",
              "6       Cell phone  0.00009  2911.12\n",
              "7           TV 55'  0.40000  4346.99\n",
              "8           TV 55'  0.40000  4346.99\n",
              "9           TV 50'  0.29000  3999.90\n",
              "10          TV 50'  0.29000  3999.90\n",
              "11          TV 42'  0.20000  2999.00\n",
              "12          TV 42'  0.20000  2999.00\n",
              "15      Notebook A  0.00350  2499.90\n",
              "16      Notebook A  0.00350  2499.90\n",
              "17      Notebook A  0.00350  2499.90\n",
              "18      Ventilator  0.49600   199.90\n",
              "21     Microwave A  0.04240   308.66\n",
              "22     Microwave A  0.04240   308.66\n",
              "25     Microwave B  0.05440   429.90\n",
              "26     Microwave C  0.03190   299.29\n",
              "29  Refrigerator B  0.63500   849.00\n",
              "34      Notebook B  0.49800  1999.90\n",
              "37      Notebook C  0.52700  3999.00\n",
              "38      Notebook C  0.52700  3999.00"
            ]
          },
          "execution_count": 43,
          "metadata": {},
          "output_type": "execute_result"
        }
      ],
      "source": [
        "# Масиви для генетичного алгоритму\n",
        "spaces = df[\"space\"].values\n",
        "prices = df[\"price\"].values\n",
        "names = df[\"name\"].values\n",
        "\n",
        "# Обмеження на об'єм вантажівки\n",
        "limit = 5\n",
        "\n",
        "# Фітнес-функція\n",
        "def fitness_function(ga_instance, solution, solution_idx):\n",
        "    total_space = np.sum(solution * spaces)\n",
        "    total_price = np.sum(solution * prices)\n",
        "    return total_price if total_space <= limit else 0\n",
        "\n",
        "# Генетичний алгоритм\n",
        "ga = pygad.GA(\n",
        "    num_generations=20,\n",
        "    num_parents_mating=5,\n",
        "    fitness_func=fitness_function,\n",
        "    sol_per_pop=20,\n",
        "    num_genes=len(df),\n",
        "    gene_type=int,\n",
        "    init_range_low=0,\n",
        "    init_range_high=2,\n",
        "    mutation_num_genes=2,\n",
        "    parent_selection_type=\"tournament\",\n",
        "    keep_parents=2,\n",
        "    crossover_type=\"single_point\",\n",
        "    mutation_type=\"random\"\n",
        ")\n",
        "\n",
        "ga.run()\n",
        "\n",
        "# Найкраще рішення\n",
        "solution, solution_fitness, _ = ga.best_solution()\n",
        "print(f\"Найкраща вартість: {solution_fitness}\")\n",
        "print(f\"Найкраще рішення: {solution}\")\n",
        "print(\"Обрані продукти:\")\n",
        "\n",
        "selected_products = df[solution == 1]\n",
        "selected_products"
      ]
    },
    {
      "cell_type": "code",
      "execution_count": 44,
      "metadata": {},
      "outputs": [
        {
          "data": {
            "application/vnd.plotly.v1+json": {
              "config": {
                "plotlyServerURL": "https://plot.ly"
              },
              "data": [
                {
                  "hovertemplate": "Покоління=%{x}<br>Найкраща ціна=%{y}<extra></extra>",
                  "legendgroup": "",
                  "line": {
                    "color": "#636efa",
                    "dash": "solid"
                  },
                  "marker": {
                    "symbol": "circle"
                  },
                  "mode": "lines",
                  "name": "",
                  "orientation": "v",
                  "showlegend": false,
                  "type": "scatter",
                  "x": [
                    1,
                    2,
                    3,
                    4,
                    5,
                    6,
                    7,
                    8,
                    9,
                    10,
                    11,
                    12,
                    13,
                    14,
                    15,
                    16,
                    17,
                    18,
                    19,
                    20,
                    21
                  ],
                  "xaxis": "x",
                  "y": [
                    43502.81,
                    43502.81,
                    45074.59,
                    48659.37,
                    48659.37,
                    48659.37,
                    48659.37,
                    51459.380000000005,
                    52659.270000000004,
                    52659.270000000004,
                    52659.270000000004,
                    52659.270000000004,
                    52659.270000000004,
                    52659.270000000004,
                    52659.270000000004,
                    52659.270000000004,
                    52659.270000000004,
                    52659.270000000004,
                    52659.270000000004,
                    52659.270000000004,
                    52659.270000000004
                  ],
                  "yaxis": "y"
                }
              ],
              "layout": {
                "legend": {
                  "tracegroupgap": 0
                },
                "template": {
                  "data": {
                    "bar": [
                      {
                        "error_x": {
                          "color": "#2a3f5f"
                        },
                        "error_y": {
                          "color": "#2a3f5f"
                        },
                        "marker": {
                          "line": {
                            "color": "#E5ECF6",
                            "width": 0.5
                          },
                          "pattern": {
                            "fillmode": "overlay",
                            "size": 10,
                            "solidity": 0.2
                          }
                        },
                        "type": "bar"
                      }
                    ],
                    "barpolar": [
                      {
                        "marker": {
                          "line": {
                            "color": "#E5ECF6",
                            "width": 0.5
                          },
                          "pattern": {
                            "fillmode": "overlay",
                            "size": 10,
                            "solidity": 0.2
                          }
                        },
                        "type": "barpolar"
                      }
                    ],
                    "carpet": [
                      {
                        "aaxis": {
                          "endlinecolor": "#2a3f5f",
                          "gridcolor": "white",
                          "linecolor": "white",
                          "minorgridcolor": "white",
                          "startlinecolor": "#2a3f5f"
                        },
                        "baxis": {
                          "endlinecolor": "#2a3f5f",
                          "gridcolor": "white",
                          "linecolor": "white",
                          "minorgridcolor": "white",
                          "startlinecolor": "#2a3f5f"
                        },
                        "type": "carpet"
                      }
                    ],
                    "choropleth": [
                      {
                        "colorbar": {
                          "outlinewidth": 0,
                          "ticks": ""
                        },
                        "type": "choropleth"
                      }
                    ],
                    "contour": [
                      {
                        "colorbar": {
                          "outlinewidth": 0,
                          "ticks": ""
                        },
                        "colorscale": [
                          [
                            0,
                            "#0d0887"
                          ],
                          [
                            0.1111111111111111,
                            "#46039f"
                          ],
                          [
                            0.2222222222222222,
                            "#7201a8"
                          ],
                          [
                            0.3333333333333333,
                            "#9c179e"
                          ],
                          [
                            0.4444444444444444,
                            "#bd3786"
                          ],
                          [
                            0.5555555555555556,
                            "#d8576b"
                          ],
                          [
                            0.6666666666666666,
                            "#ed7953"
                          ],
                          [
                            0.7777777777777778,
                            "#fb9f3a"
                          ],
                          [
                            0.8888888888888888,
                            "#fdca26"
                          ],
                          [
                            1,
                            "#f0f921"
                          ]
                        ],
                        "type": "contour"
                      }
                    ],
                    "contourcarpet": [
                      {
                        "colorbar": {
                          "outlinewidth": 0,
                          "ticks": ""
                        },
                        "type": "contourcarpet"
                      }
                    ],
                    "heatmap": [
                      {
                        "colorbar": {
                          "outlinewidth": 0,
                          "ticks": ""
                        },
                        "colorscale": [
                          [
                            0,
                            "#0d0887"
                          ],
                          [
                            0.1111111111111111,
                            "#46039f"
                          ],
                          [
                            0.2222222222222222,
                            "#7201a8"
                          ],
                          [
                            0.3333333333333333,
                            "#9c179e"
                          ],
                          [
                            0.4444444444444444,
                            "#bd3786"
                          ],
                          [
                            0.5555555555555556,
                            "#d8576b"
                          ],
                          [
                            0.6666666666666666,
                            "#ed7953"
                          ],
                          [
                            0.7777777777777778,
                            "#fb9f3a"
                          ],
                          [
                            0.8888888888888888,
                            "#fdca26"
                          ],
                          [
                            1,
                            "#f0f921"
                          ]
                        ],
                        "type": "heatmap"
                      }
                    ],
                    "heatmapgl": [
                      {
                        "colorbar": {
                          "outlinewidth": 0,
                          "ticks": ""
                        },
                        "colorscale": [
                          [
                            0,
                            "#0d0887"
                          ],
                          [
                            0.1111111111111111,
                            "#46039f"
                          ],
                          [
                            0.2222222222222222,
                            "#7201a8"
                          ],
                          [
                            0.3333333333333333,
                            "#9c179e"
                          ],
                          [
                            0.4444444444444444,
                            "#bd3786"
                          ],
                          [
                            0.5555555555555556,
                            "#d8576b"
                          ],
                          [
                            0.6666666666666666,
                            "#ed7953"
                          ],
                          [
                            0.7777777777777778,
                            "#fb9f3a"
                          ],
                          [
                            0.8888888888888888,
                            "#fdca26"
                          ],
                          [
                            1,
                            "#f0f921"
                          ]
                        ],
                        "type": "heatmapgl"
                      }
                    ],
                    "histogram": [
                      {
                        "marker": {
                          "pattern": {
                            "fillmode": "overlay",
                            "size": 10,
                            "solidity": 0.2
                          }
                        },
                        "type": "histogram"
                      }
                    ],
                    "histogram2d": [
                      {
                        "colorbar": {
                          "outlinewidth": 0,
                          "ticks": ""
                        },
                        "colorscale": [
                          [
                            0,
                            "#0d0887"
                          ],
                          [
                            0.1111111111111111,
                            "#46039f"
                          ],
                          [
                            0.2222222222222222,
                            "#7201a8"
                          ],
                          [
                            0.3333333333333333,
                            "#9c179e"
                          ],
                          [
                            0.4444444444444444,
                            "#bd3786"
                          ],
                          [
                            0.5555555555555556,
                            "#d8576b"
                          ],
                          [
                            0.6666666666666666,
                            "#ed7953"
                          ],
                          [
                            0.7777777777777778,
                            "#fb9f3a"
                          ],
                          [
                            0.8888888888888888,
                            "#fdca26"
                          ],
                          [
                            1,
                            "#f0f921"
                          ]
                        ],
                        "type": "histogram2d"
                      }
                    ],
                    "histogram2dcontour": [
                      {
                        "colorbar": {
                          "outlinewidth": 0,
                          "ticks": ""
                        },
                        "colorscale": [
                          [
                            0,
                            "#0d0887"
                          ],
                          [
                            0.1111111111111111,
                            "#46039f"
                          ],
                          [
                            0.2222222222222222,
                            "#7201a8"
                          ],
                          [
                            0.3333333333333333,
                            "#9c179e"
                          ],
                          [
                            0.4444444444444444,
                            "#bd3786"
                          ],
                          [
                            0.5555555555555556,
                            "#d8576b"
                          ],
                          [
                            0.6666666666666666,
                            "#ed7953"
                          ],
                          [
                            0.7777777777777778,
                            "#fb9f3a"
                          ],
                          [
                            0.8888888888888888,
                            "#fdca26"
                          ],
                          [
                            1,
                            "#f0f921"
                          ]
                        ],
                        "type": "histogram2dcontour"
                      }
                    ],
                    "mesh3d": [
                      {
                        "colorbar": {
                          "outlinewidth": 0,
                          "ticks": ""
                        },
                        "type": "mesh3d"
                      }
                    ],
                    "parcoords": [
                      {
                        "line": {
                          "colorbar": {
                            "outlinewidth": 0,
                            "ticks": ""
                          }
                        },
                        "type": "parcoords"
                      }
                    ],
                    "pie": [
                      {
                        "automargin": true,
                        "type": "pie"
                      }
                    ],
                    "scatter": [
                      {
                        "fillpattern": {
                          "fillmode": "overlay",
                          "size": 10,
                          "solidity": 0.2
                        },
                        "type": "scatter"
                      }
                    ],
                    "scatter3d": [
                      {
                        "line": {
                          "colorbar": {
                            "outlinewidth": 0,
                            "ticks": ""
                          }
                        },
                        "marker": {
                          "colorbar": {
                            "outlinewidth": 0,
                            "ticks": ""
                          }
                        },
                        "type": "scatter3d"
                      }
                    ],
                    "scattercarpet": [
                      {
                        "marker": {
                          "colorbar": {
                            "outlinewidth": 0,
                            "ticks": ""
                          }
                        },
                        "type": "scattercarpet"
                      }
                    ],
                    "scattergeo": [
                      {
                        "marker": {
                          "colorbar": {
                            "outlinewidth": 0,
                            "ticks": ""
                          }
                        },
                        "type": "scattergeo"
                      }
                    ],
                    "scattergl": [
                      {
                        "marker": {
                          "colorbar": {
                            "outlinewidth": 0,
                            "ticks": ""
                          }
                        },
                        "type": "scattergl"
                      }
                    ],
                    "scattermapbox": [
                      {
                        "marker": {
                          "colorbar": {
                            "outlinewidth": 0,
                            "ticks": ""
                          }
                        },
                        "type": "scattermapbox"
                      }
                    ],
                    "scatterpolar": [
                      {
                        "marker": {
                          "colorbar": {
                            "outlinewidth": 0,
                            "ticks": ""
                          }
                        },
                        "type": "scatterpolar"
                      }
                    ],
                    "scatterpolargl": [
                      {
                        "marker": {
                          "colorbar": {
                            "outlinewidth": 0,
                            "ticks": ""
                          }
                        },
                        "type": "scatterpolargl"
                      }
                    ],
                    "scatterternary": [
                      {
                        "marker": {
                          "colorbar": {
                            "outlinewidth": 0,
                            "ticks": ""
                          }
                        },
                        "type": "scatterternary"
                      }
                    ],
                    "surface": [
                      {
                        "colorbar": {
                          "outlinewidth": 0,
                          "ticks": ""
                        },
                        "colorscale": [
                          [
                            0,
                            "#0d0887"
                          ],
                          [
                            0.1111111111111111,
                            "#46039f"
                          ],
                          [
                            0.2222222222222222,
                            "#7201a8"
                          ],
                          [
                            0.3333333333333333,
                            "#9c179e"
                          ],
                          [
                            0.4444444444444444,
                            "#bd3786"
                          ],
                          [
                            0.5555555555555556,
                            "#d8576b"
                          ],
                          [
                            0.6666666666666666,
                            "#ed7953"
                          ],
                          [
                            0.7777777777777778,
                            "#fb9f3a"
                          ],
                          [
                            0.8888888888888888,
                            "#fdca26"
                          ],
                          [
                            1,
                            "#f0f921"
                          ]
                        ],
                        "type": "surface"
                      }
                    ],
                    "table": [
                      {
                        "cells": {
                          "fill": {
                            "color": "#EBF0F8"
                          },
                          "line": {
                            "color": "white"
                          }
                        },
                        "header": {
                          "fill": {
                            "color": "#C8D4E3"
                          },
                          "line": {
                            "color": "white"
                          }
                        },
                        "type": "table"
                      }
                    ]
                  },
                  "layout": {
                    "annotationdefaults": {
                      "arrowcolor": "#2a3f5f",
                      "arrowhead": 0,
                      "arrowwidth": 1
                    },
                    "autotypenumbers": "strict",
                    "coloraxis": {
                      "colorbar": {
                        "outlinewidth": 0,
                        "ticks": ""
                      }
                    },
                    "colorscale": {
                      "diverging": [
                        [
                          0,
                          "#8e0152"
                        ],
                        [
                          0.1,
                          "#c51b7d"
                        ],
                        [
                          0.2,
                          "#de77ae"
                        ],
                        [
                          0.3,
                          "#f1b6da"
                        ],
                        [
                          0.4,
                          "#fde0ef"
                        ],
                        [
                          0.5,
                          "#f7f7f7"
                        ],
                        [
                          0.6,
                          "#e6f5d0"
                        ],
                        [
                          0.7,
                          "#b8e186"
                        ],
                        [
                          0.8,
                          "#7fbc41"
                        ],
                        [
                          0.9,
                          "#4d9221"
                        ],
                        [
                          1,
                          "#276419"
                        ]
                      ],
                      "sequential": [
                        [
                          0,
                          "#0d0887"
                        ],
                        [
                          0.1111111111111111,
                          "#46039f"
                        ],
                        [
                          0.2222222222222222,
                          "#7201a8"
                        ],
                        [
                          0.3333333333333333,
                          "#9c179e"
                        ],
                        [
                          0.4444444444444444,
                          "#bd3786"
                        ],
                        [
                          0.5555555555555556,
                          "#d8576b"
                        ],
                        [
                          0.6666666666666666,
                          "#ed7953"
                        ],
                        [
                          0.7777777777777778,
                          "#fb9f3a"
                        ],
                        [
                          0.8888888888888888,
                          "#fdca26"
                        ],
                        [
                          1,
                          "#f0f921"
                        ]
                      ],
                      "sequentialminus": [
                        [
                          0,
                          "#0d0887"
                        ],
                        [
                          0.1111111111111111,
                          "#46039f"
                        ],
                        [
                          0.2222222222222222,
                          "#7201a8"
                        ],
                        [
                          0.3333333333333333,
                          "#9c179e"
                        ],
                        [
                          0.4444444444444444,
                          "#bd3786"
                        ],
                        [
                          0.5555555555555556,
                          "#d8576b"
                        ],
                        [
                          0.6666666666666666,
                          "#ed7953"
                        ],
                        [
                          0.7777777777777778,
                          "#fb9f3a"
                        ],
                        [
                          0.8888888888888888,
                          "#fdca26"
                        ],
                        [
                          1,
                          "#f0f921"
                        ]
                      ]
                    },
                    "colorway": [
                      "#636efa",
                      "#EF553B",
                      "#00cc96",
                      "#ab63fa",
                      "#FFA15A",
                      "#19d3f3",
                      "#FF6692",
                      "#B6E880",
                      "#FF97FF",
                      "#FECB52"
                    ],
                    "font": {
                      "color": "#2a3f5f"
                    },
                    "geo": {
                      "bgcolor": "white",
                      "lakecolor": "white",
                      "landcolor": "#E5ECF6",
                      "showlakes": true,
                      "showland": true,
                      "subunitcolor": "white"
                    },
                    "hoverlabel": {
                      "align": "left"
                    },
                    "hovermode": "closest",
                    "mapbox": {
                      "style": "light"
                    },
                    "paper_bgcolor": "white",
                    "plot_bgcolor": "#E5ECF6",
                    "polar": {
                      "angularaxis": {
                        "gridcolor": "white",
                        "linecolor": "white",
                        "ticks": ""
                      },
                      "bgcolor": "#E5ECF6",
                      "radialaxis": {
                        "gridcolor": "white",
                        "linecolor": "white",
                        "ticks": ""
                      }
                    },
                    "scene": {
                      "xaxis": {
                        "backgroundcolor": "#E5ECF6",
                        "gridcolor": "white",
                        "gridwidth": 2,
                        "linecolor": "white",
                        "showbackground": true,
                        "ticks": "",
                        "zerolinecolor": "white"
                      },
                      "yaxis": {
                        "backgroundcolor": "#E5ECF6",
                        "gridcolor": "white",
                        "gridwidth": 2,
                        "linecolor": "white",
                        "showbackground": true,
                        "ticks": "",
                        "zerolinecolor": "white"
                      },
                      "zaxis": {
                        "backgroundcolor": "#E5ECF6",
                        "gridcolor": "white",
                        "gridwidth": 2,
                        "linecolor": "white",
                        "showbackground": true,
                        "ticks": "",
                        "zerolinecolor": "white"
                      }
                    },
                    "shapedefaults": {
                      "line": {
                        "color": "#2a3f5f"
                      }
                    },
                    "ternary": {
                      "aaxis": {
                        "gridcolor": "white",
                        "linecolor": "white",
                        "ticks": ""
                      },
                      "baxis": {
                        "gridcolor": "white",
                        "linecolor": "white",
                        "ticks": ""
                      },
                      "bgcolor": "#E5ECF6",
                      "caxis": {
                        "gridcolor": "white",
                        "linecolor": "white",
                        "ticks": ""
                      }
                    },
                    "title": {
                      "x": 0.05
                    },
                    "xaxis": {
                      "automargin": true,
                      "gridcolor": "white",
                      "linecolor": "white",
                      "ticks": "",
                      "title": {
                        "standoff": 15
                      },
                      "zerolinecolor": "white",
                      "zerolinewidth": 2
                    },
                    "yaxis": {
                      "automargin": true,
                      "gridcolor": "white",
                      "linecolor": "white",
                      "ticks": "",
                      "title": {
                        "standoff": 15
                      },
                      "zerolinecolor": "white",
                      "zerolinewidth": 2
                    }
                  }
                },
                "title": {
                  "text": "Зміна загальної ціни товарів у вантажівці за поколіннями"
                },
                "xaxis": {
                  "anchor": "y",
                  "domain": [
                    0,
                    1
                  ],
                  "title": {
                    "text": "Покоління"
                  }
                },
                "yaxis": {
                  "anchor": "x",
                  "domain": [
                    0,
                    1
                  ],
                  "title": {
                    "text": "Найкраща ціна"
                  }
                }
              }
            }
          },
          "metadata": {},
          "output_type": "display_data"
        }
      ],
      "source": [
        "import plotly.express as px\n",
        "\n",
        "\n",
        "figure = px.line(\n",
        "    x=range(1, len(ga.best_solutions_fitness) + 1), \n",
        "    y=ga.best_solutions_fitness, \n",
        "    title='Зміна загальної ціни товарів у вантажівці за поколіннями',\n",
        "    labels={'x': 'Покоління', 'y': 'Найкраща ціна'}\n",
        ")\n",
        "figure.show()"
      ]
    }
  ],
  "metadata": {
    "colab": {
      "provenance": []
    },
    "kernelspec": {
      "display_name": "my_env",
      "language": "python",
      "name": "python3"
    },
    "language_info": {
      "codemirror_mode": {
        "name": "ipython",
        "version": 3
      },
      "file_extension": ".py",
      "mimetype": "text/x-python",
      "name": "python",
      "nbconvert_exporter": "python",
      "pygments_lexer": "ipython3",
      "version": "3.10.16"
    }
  },
  "nbformat": 4,
  "nbformat_minor": 0
}
