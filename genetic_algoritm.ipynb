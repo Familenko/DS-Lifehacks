{
  "cells": [
    {
      "cell_type": "code",
      "execution_count": 13,
      "metadata": {},
      "outputs": [],
      "source": [
        "import pygad\n",
        "import numpy as np\n",
        "import pandas as pd"
      ]
    },
    {
      "cell_type": "code",
      "execution_count": 14,
      "metadata": {},
      "outputs": [],
      "source": [
        "df = pd.DataFrame([\n",
        "    {\"name\": \"Refrigerator A\", \"space\": 0.751, \"price\": 999.90, \"quantity\": 2},\n",
        "    {\"name\": \"Cell phone\", \"space\": 0.0000899, \"price\": 2911.12, \"quantity\": 5},\n",
        "    {\"name\": \"TV 55'\", \"space\": 0.400, \"price\": 4346.99, \"quantity\": 2},\n",
        "    {\"name\": \"TV 50'\", \"space\": 0.290, \"price\": 3999.90, \"quantity\": 2},\n",
        "    {\"name\": \"TV 42'\", \"space\": 0.200, \"price\": 2999.00, \"quantity\": 3},\n",
        "    {\"name\": \"Notebook A\", \"space\": 0.00350, \"price\": 2499.90, \"quantity\": 4},\n",
        "    {\"name\": \"Ventilator\", \"space\": 0.496, \"price\": 199.90, \"quantity\": 2},\n",
        "    {\"name\": \"Microwave A\", \"space\": 0.0424, \"price\": 308.66, \"quantity\": 3},\n",
        "    {\"name\": \"Microwave B\", \"space\": 0.0544, \"price\": 429.90, \"quantity\": 3},\n",
        "    {\"name\": \"Microwave C\", \"space\": 0.0319, \"price\": 299.29, \"quantity\": 3},\n",
        "    {\"name\": \"Refrigerator B\", \"space\": 0.635, \"price\": 849.00, \"quantity\": 2},\n",
        "    {\"name\": \"Refrigerator C\", \"space\": 0.870, \"price\": 1199.89, \"quantity\": 2},\n",
        "    {\"name\": \"Notebook B\", \"space\": 0.498, \"price\": 1999.90, \"quantity\": 3},\n",
        "    {\"name\": \"Notebook C\", \"space\": 0.527, \"price\": 3999.00, \"quantity\": 3}\n",
        "])\n",
        "\n",
        "df = df.loc[df.index.repeat(df['quantity'])].drop(columns=['quantity']).reset_index(drop=True)"
      ]
    },
    {
      "cell_type": "code",
      "execution_count": 15,
      "metadata": {},
      "outputs": [
        {
          "name": "stdout",
          "output_type": "stream",
          "text": [
            "Найкраща вартість: 39807.05\n",
            "Найкраще рішення: [0 0 1 0 1 1 0 0 0 1 1 0 1 1 0 1 1 1 0 0 0 0 0 0 0 1 1 0 0 0 1 0 0 0 0 0 1\n",
            " 0 1]\n",
            "Обрані продукти:\n"
          ]
        },
        {
          "data": {
            "application/vnd.microsoft.datawrangler.viewer.v0+json": {
              "columns": [
                {
                  "name": "index",
                  "rawType": "int64",
                  "type": "integer"
                },
                {
                  "name": "name",
                  "rawType": "object",
                  "type": "string"
                },
                {
                  "name": "space",
                  "rawType": "float64",
                  "type": "float"
                },
                {
                  "name": "price",
                  "rawType": "float64",
                  "type": "float"
                }
              ],
              "conversionMethod": "pd.DataFrame",
              "ref": "5f664b5b-4190-447d-9c3c-df6a7090efe3",
              "rows": [
                [
                  "2",
                  "Cell phone",
                  "8.99e-05",
                  "2911.12"
                ],
                [
                  "4",
                  "Cell phone",
                  "8.99e-05",
                  "2911.12"
                ],
                [
                  "5",
                  "Cell phone",
                  "8.99e-05",
                  "2911.12"
                ],
                [
                  "9",
                  "TV 50'",
                  "0.29",
                  "3999.9"
                ],
                [
                  "10",
                  "TV 50'",
                  "0.29",
                  "3999.9"
                ],
                [
                  "12",
                  "TV 42'",
                  "0.2",
                  "2999.0"
                ],
                [
                  "13",
                  "TV 42'",
                  "0.2",
                  "2999.0"
                ],
                [
                  "15",
                  "Notebook A",
                  "0.0035",
                  "2499.9"
                ],
                [
                  "16",
                  "Notebook A",
                  "0.0035",
                  "2499.9"
                ],
                [
                  "17",
                  "Notebook A",
                  "0.0035",
                  "2499.9"
                ],
                [
                  "25",
                  "Microwave B",
                  "0.0544",
                  "429.9"
                ],
                [
                  "26",
                  "Microwave C",
                  "0.0319",
                  "299.29"
                ],
                [
                  "30",
                  "Refrigerator B",
                  "0.635",
                  "849.0"
                ],
                [
                  "36",
                  "Notebook C",
                  "0.527",
                  "3999.0"
                ],
                [
                  "38",
                  "Notebook C",
                  "0.527",
                  "3999.0"
                ]
              ],
              "shape": {
                "columns": 3,
                "rows": 15
              }
            },
            "text/html": [
              "<div>\n",
              "<style scoped>\n",
              "    .dataframe tbody tr th:only-of-type {\n",
              "        vertical-align: middle;\n",
              "    }\n",
              "\n",
              "    .dataframe tbody tr th {\n",
              "        vertical-align: top;\n",
              "    }\n",
              "\n",
              "    .dataframe thead th {\n",
              "        text-align: right;\n",
              "    }\n",
              "</style>\n",
              "<table border=\"1\" class=\"dataframe\">\n",
              "  <thead>\n",
              "    <tr style=\"text-align: right;\">\n",
              "      <th></th>\n",
              "      <th>name</th>\n",
              "      <th>space</th>\n",
              "      <th>price</th>\n",
              "    </tr>\n",
              "  </thead>\n",
              "  <tbody>\n",
              "    <tr>\n",
              "      <th>2</th>\n",
              "      <td>Cell phone</td>\n",
              "      <td>0.00009</td>\n",
              "      <td>2911.12</td>\n",
              "    </tr>\n",
              "    <tr>\n",
              "      <th>4</th>\n",
              "      <td>Cell phone</td>\n",
              "      <td>0.00009</td>\n",
              "      <td>2911.12</td>\n",
              "    </tr>\n",
              "    <tr>\n",
              "      <th>5</th>\n",
              "      <td>Cell phone</td>\n",
              "      <td>0.00009</td>\n",
              "      <td>2911.12</td>\n",
              "    </tr>\n",
              "    <tr>\n",
              "      <th>9</th>\n",
              "      <td>TV 50'</td>\n",
              "      <td>0.29000</td>\n",
              "      <td>3999.90</td>\n",
              "    </tr>\n",
              "    <tr>\n",
              "      <th>10</th>\n",
              "      <td>TV 50'</td>\n",
              "      <td>0.29000</td>\n",
              "      <td>3999.90</td>\n",
              "    </tr>\n",
              "    <tr>\n",
              "      <th>12</th>\n",
              "      <td>TV 42'</td>\n",
              "      <td>0.20000</td>\n",
              "      <td>2999.00</td>\n",
              "    </tr>\n",
              "    <tr>\n",
              "      <th>13</th>\n",
              "      <td>TV 42'</td>\n",
              "      <td>0.20000</td>\n",
              "      <td>2999.00</td>\n",
              "    </tr>\n",
              "    <tr>\n",
              "      <th>15</th>\n",
              "      <td>Notebook A</td>\n",
              "      <td>0.00350</td>\n",
              "      <td>2499.90</td>\n",
              "    </tr>\n",
              "    <tr>\n",
              "      <th>16</th>\n",
              "      <td>Notebook A</td>\n",
              "      <td>0.00350</td>\n",
              "      <td>2499.90</td>\n",
              "    </tr>\n",
              "    <tr>\n",
              "      <th>17</th>\n",
              "      <td>Notebook A</td>\n",
              "      <td>0.00350</td>\n",
              "      <td>2499.90</td>\n",
              "    </tr>\n",
              "    <tr>\n",
              "      <th>25</th>\n",
              "      <td>Microwave B</td>\n",
              "      <td>0.05440</td>\n",
              "      <td>429.90</td>\n",
              "    </tr>\n",
              "    <tr>\n",
              "      <th>26</th>\n",
              "      <td>Microwave C</td>\n",
              "      <td>0.03190</td>\n",
              "      <td>299.29</td>\n",
              "    </tr>\n",
              "    <tr>\n",
              "      <th>30</th>\n",
              "      <td>Refrigerator B</td>\n",
              "      <td>0.63500</td>\n",
              "      <td>849.00</td>\n",
              "    </tr>\n",
              "    <tr>\n",
              "      <th>36</th>\n",
              "      <td>Notebook C</td>\n",
              "      <td>0.52700</td>\n",
              "      <td>3999.00</td>\n",
              "    </tr>\n",
              "    <tr>\n",
              "      <th>38</th>\n",
              "      <td>Notebook C</td>\n",
              "      <td>0.52700</td>\n",
              "      <td>3999.00</td>\n",
              "    </tr>\n",
              "  </tbody>\n",
              "</table>\n",
              "</div>"
            ],
            "text/plain": [
              "              name    space    price\n",
              "2       Cell phone  0.00009  2911.12\n",
              "4       Cell phone  0.00009  2911.12\n",
              "5       Cell phone  0.00009  2911.12\n",
              "9           TV 50'  0.29000  3999.90\n",
              "10          TV 50'  0.29000  3999.90\n",
              "12          TV 42'  0.20000  2999.00\n",
              "13          TV 42'  0.20000  2999.00\n",
              "15      Notebook A  0.00350  2499.90\n",
              "16      Notebook A  0.00350  2499.90\n",
              "17      Notebook A  0.00350  2499.90\n",
              "25     Microwave B  0.05440   429.90\n",
              "26     Microwave C  0.03190   299.29\n",
              "30  Refrigerator B  0.63500   849.00\n",
              "36      Notebook C  0.52700  3999.00\n",
              "38      Notebook C  0.52700  3999.00"
            ]
          },
          "execution_count": 15,
          "metadata": {},
          "output_type": "execute_result"
        }
      ],
      "source": [
        "# Масиви для генетичного алгоритму\n",
        "spaces = df[\"space\"].values\n",
        "prices = df[\"price\"].values\n",
        "names = df[\"name\"].values\n",
        "\n",
        "# Обмеження на об'єм вантажівки\n",
        "limit = 5\n",
        "\n",
        "# Фітнес-функція\n",
        "def fitness_function(ga_instance, solution, solution_idx):\n",
        "    total_space = np.sum(solution * spaces)\n",
        "    total_price = np.sum(solution * prices)\n",
        "    return total_price if total_space <= limit else 0\n",
        "\n",
        "# Генетичний алгоритм\n",
        "ga = pygad.GA(\n",
        "    num_generations=100,\n",
        "    num_parents_mating=5,\n",
        "    fitness_func=fitness_function,\n",
        "    sol_per_pop=20,\n",
        "    num_genes=len(df),\n",
        "    gene_type=int,\n",
        "    init_range_low=0,\n",
        "    init_range_high=2,\n",
        "    mutation_num_genes=2,\n",
        "    parent_selection_type=\"tournament\",\n",
        "    keep_parents=2,\n",
        "    crossover_type=\"single_point\",\n",
        "    mutation_type=\"random\"\n",
        ")\n",
        "\n",
        "ga.run()\n",
        "\n",
        "# Найкраще рішення\n",
        "solution, solution_fitness, _ = ga.best_solution()\n",
        "print(f\"Найкраща вартість: {solution_fitness}\")\n",
        "print(f\"Найкраще рішення: {solution}\")\n",
        "print(\"Обрані продукти:\")\n",
        "\n",
        "selected_products = df[solution == 1]\n",
        "selected_products"
      ]
    },
    {
      "cell_type": "code",
      "execution_count": 16,
      "metadata": {},
      "outputs": [
        {
          "data": {
            "application/vnd.plotly.v1+json": {
              "config": {
                "plotlyServerURL": "https://plot.ly"
              },
              "data": [
                {
                  "hovertemplate": "Покоління=%{x}<br>Найкраща ціна=%{y}<extra></extra>",
                  "legendgroup": "",
                  "line": {
                    "color": "#636efa",
                    "dash": "solid"
                  },
                  "marker": {
                    "symbol": "circle"
                  },
                  "mode": "lines",
                  "name": "",
                  "orientation": "v",
                  "showlegend": false,
                  "type": "scatter",
                  "x": [
                    1,
                    2,
                    3,
                    4,
                    5,
                    6,
                    7,
                    8,
                    9,
                    10,
                    11,
                    12,
                    13,
                    14,
                    15,
                    16,
                    17,
                    18,
                    19,
                    20,
                    21,
                    22,
                    23,
                    24,
                    25,
                    26,
                    27,
                    28,
                    29,
                    30,
                    31,
                    32,
                    33,
                    34,
                    35,
                    36,
                    37,
                    38,
                    39,
                    40,
                    41,
                    42,
                    43,
                    44,
                    45,
                    46,
                    47,
                    48,
                    49,
                    50,
                    51,
                    52,
                    53,
                    54,
                    55,
                    56,
                    57,
                    58,
                    59,
                    60,
                    61,
                    62,
                    63,
                    64,
                    65,
                    66,
                    67,
                    68,
                    69,
                    70,
                    71,
                    72,
                    73,
                    74,
                    75,
                    76,
                    77,
                    78,
                    79,
                    80,
                    81,
                    82,
                    83,
                    84,
                    85,
                    86,
                    87,
                    88,
                    89,
                    90,
                    91,
                    92,
                    93,
                    94,
                    95,
                    96,
                    97,
                    98,
                    99,
                    100,
                    101
                  ],
                  "xaxis": "x",
                  "y": [
                    38895.73,
                    38895.73,
                    38895.73,
                    38895.73,
                    39507.76,
                    39507.76,
                    39807.05,
                    39807.05,
                    39807.05,
                    39807.05,
                    39807.05,
                    39807.05,
                    39807.05,
                    39807.05,
                    39807.05,
                    39807.05,
                    39807.05,
                    39807.05,
                    39807.05,
                    39807.05,
                    39807.05,
                    39807.05,
                    39807.05,
                    39807.05,
                    39807.05,
                    39807.05,
                    39807.05,
                    39807.05,
                    39807.05,
                    39807.05,
                    39807.05,
                    39807.05,
                    39807.05,
                    39807.05,
                    39807.05,
                    39807.05,
                    39807.05,
                    39807.05,
                    39807.05,
                    39807.05,
                    39807.05,
                    39807.05,
                    39807.05,
                    39807.05,
                    39807.05,
                    39807.05,
                    39807.05,
                    39807.05,
                    39807.05,
                    39807.05,
                    39807.05,
                    39807.05,
                    39807.05,
                    39807.05,
                    39807.05,
                    39807.05,
                    39807.05,
                    39807.05,
                    39807.05,
                    39807.05,
                    39807.05,
                    39807.05,
                    39807.05,
                    39807.05,
                    39807.05,
                    39807.05,
                    39807.05,
                    39807.05,
                    39807.05,
                    39807.05,
                    39807.05,
                    39807.05,
                    39807.05,
                    39807.05,
                    39807.05,
                    39807.05,
                    39807.05,
                    39807.05,
                    39807.05,
                    39807.05,
                    39807.05,
                    39807.05,
                    39807.05,
                    39807.05,
                    39807.05,
                    39807.05,
                    39807.05,
                    39807.05,
                    39807.05,
                    39807.05,
                    39807.05,
                    39807.05,
                    39807.05,
                    39807.05,
                    39807.05,
                    39807.05,
                    39807.05,
                    39807.05,
                    39807.05,
                    39807.05,
                    39807.05
                  ],
                  "yaxis": "y"
                }
              ],
              "layout": {
                "legend": {
                  "tracegroupgap": 0
                },
                "template": {
                  "data": {
                    "bar": [
                      {
                        "error_x": {
                          "color": "#2a3f5f"
                        },
                        "error_y": {
                          "color": "#2a3f5f"
                        },
                        "marker": {
                          "line": {
                            "color": "#E5ECF6",
                            "width": 0.5
                          },
                          "pattern": {
                            "fillmode": "overlay",
                            "size": 10,
                            "solidity": 0.2
                          }
                        },
                        "type": "bar"
                      }
                    ],
                    "barpolar": [
                      {
                        "marker": {
                          "line": {
                            "color": "#E5ECF6",
                            "width": 0.5
                          },
                          "pattern": {
                            "fillmode": "overlay",
                            "size": 10,
                            "solidity": 0.2
                          }
                        },
                        "type": "barpolar"
                      }
                    ],
                    "carpet": [
                      {
                        "aaxis": {
                          "endlinecolor": "#2a3f5f",
                          "gridcolor": "white",
                          "linecolor": "white",
                          "minorgridcolor": "white",
                          "startlinecolor": "#2a3f5f"
                        },
                        "baxis": {
                          "endlinecolor": "#2a3f5f",
                          "gridcolor": "white",
                          "linecolor": "white",
                          "minorgridcolor": "white",
                          "startlinecolor": "#2a3f5f"
                        },
                        "type": "carpet"
                      }
                    ],
                    "choropleth": [
                      {
                        "colorbar": {
                          "outlinewidth": 0,
                          "ticks": ""
                        },
                        "type": "choropleth"
                      }
                    ],
                    "contour": [
                      {
                        "colorbar": {
                          "outlinewidth": 0,
                          "ticks": ""
                        },
                        "colorscale": [
                          [
                            0,
                            "#0d0887"
                          ],
                          [
                            0.1111111111111111,
                            "#46039f"
                          ],
                          [
                            0.2222222222222222,
                            "#7201a8"
                          ],
                          [
                            0.3333333333333333,
                            "#9c179e"
                          ],
                          [
                            0.4444444444444444,
                            "#bd3786"
                          ],
                          [
                            0.5555555555555556,
                            "#d8576b"
                          ],
                          [
                            0.6666666666666666,
                            "#ed7953"
                          ],
                          [
                            0.7777777777777778,
                            "#fb9f3a"
                          ],
                          [
                            0.8888888888888888,
                            "#fdca26"
                          ],
                          [
                            1,
                            "#f0f921"
                          ]
                        ],
                        "type": "contour"
                      }
                    ],
                    "contourcarpet": [
                      {
                        "colorbar": {
                          "outlinewidth": 0,
                          "ticks": ""
                        },
                        "type": "contourcarpet"
                      }
                    ],
                    "heatmap": [
                      {
                        "colorbar": {
                          "outlinewidth": 0,
                          "ticks": ""
                        },
                        "colorscale": [
                          [
                            0,
                            "#0d0887"
                          ],
                          [
                            0.1111111111111111,
                            "#46039f"
                          ],
                          [
                            0.2222222222222222,
                            "#7201a8"
                          ],
                          [
                            0.3333333333333333,
                            "#9c179e"
                          ],
                          [
                            0.4444444444444444,
                            "#bd3786"
                          ],
                          [
                            0.5555555555555556,
                            "#d8576b"
                          ],
                          [
                            0.6666666666666666,
                            "#ed7953"
                          ],
                          [
                            0.7777777777777778,
                            "#fb9f3a"
                          ],
                          [
                            0.8888888888888888,
                            "#fdca26"
                          ],
                          [
                            1,
                            "#f0f921"
                          ]
                        ],
                        "type": "heatmap"
                      }
                    ],
                    "heatmapgl": [
                      {
                        "colorbar": {
                          "outlinewidth": 0,
                          "ticks": ""
                        },
                        "colorscale": [
                          [
                            0,
                            "#0d0887"
                          ],
                          [
                            0.1111111111111111,
                            "#46039f"
                          ],
                          [
                            0.2222222222222222,
                            "#7201a8"
                          ],
                          [
                            0.3333333333333333,
                            "#9c179e"
                          ],
                          [
                            0.4444444444444444,
                            "#bd3786"
                          ],
                          [
                            0.5555555555555556,
                            "#d8576b"
                          ],
                          [
                            0.6666666666666666,
                            "#ed7953"
                          ],
                          [
                            0.7777777777777778,
                            "#fb9f3a"
                          ],
                          [
                            0.8888888888888888,
                            "#fdca26"
                          ],
                          [
                            1,
                            "#f0f921"
                          ]
                        ],
                        "type": "heatmapgl"
                      }
                    ],
                    "histogram": [
                      {
                        "marker": {
                          "pattern": {
                            "fillmode": "overlay",
                            "size": 10,
                            "solidity": 0.2
                          }
                        },
                        "type": "histogram"
                      }
                    ],
                    "histogram2d": [
                      {
                        "colorbar": {
                          "outlinewidth": 0,
                          "ticks": ""
                        },
                        "colorscale": [
                          [
                            0,
                            "#0d0887"
                          ],
                          [
                            0.1111111111111111,
                            "#46039f"
                          ],
                          [
                            0.2222222222222222,
                            "#7201a8"
                          ],
                          [
                            0.3333333333333333,
                            "#9c179e"
                          ],
                          [
                            0.4444444444444444,
                            "#bd3786"
                          ],
                          [
                            0.5555555555555556,
                            "#d8576b"
                          ],
                          [
                            0.6666666666666666,
                            "#ed7953"
                          ],
                          [
                            0.7777777777777778,
                            "#fb9f3a"
                          ],
                          [
                            0.8888888888888888,
                            "#fdca26"
                          ],
                          [
                            1,
                            "#f0f921"
                          ]
                        ],
                        "type": "histogram2d"
                      }
                    ],
                    "histogram2dcontour": [
                      {
                        "colorbar": {
                          "outlinewidth": 0,
                          "ticks": ""
                        },
                        "colorscale": [
                          [
                            0,
                            "#0d0887"
                          ],
                          [
                            0.1111111111111111,
                            "#46039f"
                          ],
                          [
                            0.2222222222222222,
                            "#7201a8"
                          ],
                          [
                            0.3333333333333333,
                            "#9c179e"
                          ],
                          [
                            0.4444444444444444,
                            "#bd3786"
                          ],
                          [
                            0.5555555555555556,
                            "#d8576b"
                          ],
                          [
                            0.6666666666666666,
                            "#ed7953"
                          ],
                          [
                            0.7777777777777778,
                            "#fb9f3a"
                          ],
                          [
                            0.8888888888888888,
                            "#fdca26"
                          ],
                          [
                            1,
                            "#f0f921"
                          ]
                        ],
                        "type": "histogram2dcontour"
                      }
                    ],
                    "mesh3d": [
                      {
                        "colorbar": {
                          "outlinewidth": 0,
                          "ticks": ""
                        },
                        "type": "mesh3d"
                      }
                    ],
                    "parcoords": [
                      {
                        "line": {
                          "colorbar": {
                            "outlinewidth": 0,
                            "ticks": ""
                          }
                        },
                        "type": "parcoords"
                      }
                    ],
                    "pie": [
                      {
                        "automargin": true,
                        "type": "pie"
                      }
                    ],
                    "scatter": [
                      {
                        "fillpattern": {
                          "fillmode": "overlay",
                          "size": 10,
                          "solidity": 0.2
                        },
                        "type": "scatter"
                      }
                    ],
                    "scatter3d": [
                      {
                        "line": {
                          "colorbar": {
                            "outlinewidth": 0,
                            "ticks": ""
                          }
                        },
                        "marker": {
                          "colorbar": {
                            "outlinewidth": 0,
                            "ticks": ""
                          }
                        },
                        "type": "scatter3d"
                      }
                    ],
                    "scattercarpet": [
                      {
                        "marker": {
                          "colorbar": {
                            "outlinewidth": 0,
                            "ticks": ""
                          }
                        },
                        "type": "scattercarpet"
                      }
                    ],
                    "scattergeo": [
                      {
                        "marker": {
                          "colorbar": {
                            "outlinewidth": 0,
                            "ticks": ""
                          }
                        },
                        "type": "scattergeo"
                      }
                    ],
                    "scattergl": [
                      {
                        "marker": {
                          "colorbar": {
                            "outlinewidth": 0,
                            "ticks": ""
                          }
                        },
                        "type": "scattergl"
                      }
                    ],
                    "scattermapbox": [
                      {
                        "marker": {
                          "colorbar": {
                            "outlinewidth": 0,
                            "ticks": ""
                          }
                        },
                        "type": "scattermapbox"
                      }
                    ],
                    "scatterpolar": [
                      {
                        "marker": {
                          "colorbar": {
                            "outlinewidth": 0,
                            "ticks": ""
                          }
                        },
                        "type": "scatterpolar"
                      }
                    ],
                    "scatterpolargl": [
                      {
                        "marker": {
                          "colorbar": {
                            "outlinewidth": 0,
                            "ticks": ""
                          }
                        },
                        "type": "scatterpolargl"
                      }
                    ],
                    "scatterternary": [
                      {
                        "marker": {
                          "colorbar": {
                            "outlinewidth": 0,
                            "ticks": ""
                          }
                        },
                        "type": "scatterternary"
                      }
                    ],
                    "surface": [
                      {
                        "colorbar": {
                          "outlinewidth": 0,
                          "ticks": ""
                        },
                        "colorscale": [
                          [
                            0,
                            "#0d0887"
                          ],
                          [
                            0.1111111111111111,
                            "#46039f"
                          ],
                          [
                            0.2222222222222222,
                            "#7201a8"
                          ],
                          [
                            0.3333333333333333,
                            "#9c179e"
                          ],
                          [
                            0.4444444444444444,
                            "#bd3786"
                          ],
                          [
                            0.5555555555555556,
                            "#d8576b"
                          ],
                          [
                            0.6666666666666666,
                            "#ed7953"
                          ],
                          [
                            0.7777777777777778,
                            "#fb9f3a"
                          ],
                          [
                            0.8888888888888888,
                            "#fdca26"
                          ],
                          [
                            1,
                            "#f0f921"
                          ]
                        ],
                        "type": "surface"
                      }
                    ],
                    "table": [
                      {
                        "cells": {
                          "fill": {
                            "color": "#EBF0F8"
                          },
                          "line": {
                            "color": "white"
                          }
                        },
                        "header": {
                          "fill": {
                            "color": "#C8D4E3"
                          },
                          "line": {
                            "color": "white"
                          }
                        },
                        "type": "table"
                      }
                    ]
                  },
                  "layout": {
                    "annotationdefaults": {
                      "arrowcolor": "#2a3f5f",
                      "arrowhead": 0,
                      "arrowwidth": 1
                    },
                    "autotypenumbers": "strict",
                    "coloraxis": {
                      "colorbar": {
                        "outlinewidth": 0,
                        "ticks": ""
                      }
                    },
                    "colorscale": {
                      "diverging": [
                        [
                          0,
                          "#8e0152"
                        ],
                        [
                          0.1,
                          "#c51b7d"
                        ],
                        [
                          0.2,
                          "#de77ae"
                        ],
                        [
                          0.3,
                          "#f1b6da"
                        ],
                        [
                          0.4,
                          "#fde0ef"
                        ],
                        [
                          0.5,
                          "#f7f7f7"
                        ],
                        [
                          0.6,
                          "#e6f5d0"
                        ],
                        [
                          0.7,
                          "#b8e186"
                        ],
                        [
                          0.8,
                          "#7fbc41"
                        ],
                        [
                          0.9,
                          "#4d9221"
                        ],
                        [
                          1,
                          "#276419"
                        ]
                      ],
                      "sequential": [
                        [
                          0,
                          "#0d0887"
                        ],
                        [
                          0.1111111111111111,
                          "#46039f"
                        ],
                        [
                          0.2222222222222222,
                          "#7201a8"
                        ],
                        [
                          0.3333333333333333,
                          "#9c179e"
                        ],
                        [
                          0.4444444444444444,
                          "#bd3786"
                        ],
                        [
                          0.5555555555555556,
                          "#d8576b"
                        ],
                        [
                          0.6666666666666666,
                          "#ed7953"
                        ],
                        [
                          0.7777777777777778,
                          "#fb9f3a"
                        ],
                        [
                          0.8888888888888888,
                          "#fdca26"
                        ],
                        [
                          1,
                          "#f0f921"
                        ]
                      ],
                      "sequentialminus": [
                        [
                          0,
                          "#0d0887"
                        ],
                        [
                          0.1111111111111111,
                          "#46039f"
                        ],
                        [
                          0.2222222222222222,
                          "#7201a8"
                        ],
                        [
                          0.3333333333333333,
                          "#9c179e"
                        ],
                        [
                          0.4444444444444444,
                          "#bd3786"
                        ],
                        [
                          0.5555555555555556,
                          "#d8576b"
                        ],
                        [
                          0.6666666666666666,
                          "#ed7953"
                        ],
                        [
                          0.7777777777777778,
                          "#fb9f3a"
                        ],
                        [
                          0.8888888888888888,
                          "#fdca26"
                        ],
                        [
                          1,
                          "#f0f921"
                        ]
                      ]
                    },
                    "colorway": [
                      "#636efa",
                      "#EF553B",
                      "#00cc96",
                      "#ab63fa",
                      "#FFA15A",
                      "#19d3f3",
                      "#FF6692",
                      "#B6E880",
                      "#FF97FF",
                      "#FECB52"
                    ],
                    "font": {
                      "color": "#2a3f5f"
                    },
                    "geo": {
                      "bgcolor": "white",
                      "lakecolor": "white",
                      "landcolor": "#E5ECF6",
                      "showlakes": true,
                      "showland": true,
                      "subunitcolor": "white"
                    },
                    "hoverlabel": {
                      "align": "left"
                    },
                    "hovermode": "closest",
                    "mapbox": {
                      "style": "light"
                    },
                    "paper_bgcolor": "white",
                    "plot_bgcolor": "#E5ECF6",
                    "polar": {
                      "angularaxis": {
                        "gridcolor": "white",
                        "linecolor": "white",
                        "ticks": ""
                      },
                      "bgcolor": "#E5ECF6",
                      "radialaxis": {
                        "gridcolor": "white",
                        "linecolor": "white",
                        "ticks": ""
                      }
                    },
                    "scene": {
                      "xaxis": {
                        "backgroundcolor": "#E5ECF6",
                        "gridcolor": "white",
                        "gridwidth": 2,
                        "linecolor": "white",
                        "showbackground": true,
                        "ticks": "",
                        "zerolinecolor": "white"
                      },
                      "yaxis": {
                        "backgroundcolor": "#E5ECF6",
                        "gridcolor": "white",
                        "gridwidth": 2,
                        "linecolor": "white",
                        "showbackground": true,
                        "ticks": "",
                        "zerolinecolor": "white"
                      },
                      "zaxis": {
                        "backgroundcolor": "#E5ECF6",
                        "gridcolor": "white",
                        "gridwidth": 2,
                        "linecolor": "white",
                        "showbackground": true,
                        "ticks": "",
                        "zerolinecolor": "white"
                      }
                    },
                    "shapedefaults": {
                      "line": {
                        "color": "#2a3f5f"
                      }
                    },
                    "ternary": {
                      "aaxis": {
                        "gridcolor": "white",
                        "linecolor": "white",
                        "ticks": ""
                      },
                      "baxis": {
                        "gridcolor": "white",
                        "linecolor": "white",
                        "ticks": ""
                      },
                      "bgcolor": "#E5ECF6",
                      "caxis": {
                        "gridcolor": "white",
                        "linecolor": "white",
                        "ticks": ""
                      }
                    },
                    "title": {
                      "x": 0.05
                    },
                    "xaxis": {
                      "automargin": true,
                      "gridcolor": "white",
                      "linecolor": "white",
                      "ticks": "",
                      "title": {
                        "standoff": 15
                      },
                      "zerolinecolor": "white",
                      "zerolinewidth": 2
                    },
                    "yaxis": {
                      "automargin": true,
                      "gridcolor": "white",
                      "linecolor": "white",
                      "ticks": "",
                      "title": {
                        "standoff": 15
                      },
                      "zerolinecolor": "white",
                      "zerolinewidth": 2
                    }
                  }
                },
                "title": {
                  "text": "Зміна загальної ціни товарів у вантажівці за поколіннями"
                },
                "xaxis": {
                  "anchor": "y",
                  "domain": [
                    0,
                    1
                  ],
                  "title": {
                    "text": "Покоління"
                  }
                },
                "yaxis": {
                  "anchor": "x",
                  "domain": [
                    0,
                    1
                  ],
                  "title": {
                    "text": "Найкраща ціна"
                  }
                }
              }
            }
          },
          "metadata": {},
          "output_type": "display_data"
        }
      ],
      "source": [
        "import plotly.express as px\n",
        "\n",
        "\n",
        "figure = px.line(\n",
        "    x=range(1, len(ga.best_solutions_fitness) + 1), \n",
        "    y=ga.best_solutions_fitness, \n",
        "    title='Зміна загальної ціни товарів у вантажівці за поколіннями',\n",
        "    labels={'x': 'Покоління', 'y': 'Найкраща ціна'}\n",
        ")\n",
        "figure.show()"
      ]
    }
  ],
  "metadata": {
    "colab": {
      "provenance": []
    },
    "kernelspec": {
      "display_name": "Python 3",
      "language": "python",
      "name": "python3"
    },
    "language_info": {
      "codemirror_mode": {
        "name": "ipython",
        "version": 3
      },
      "file_extension": ".py",
      "mimetype": "text/x-python",
      "name": "python",
      "nbconvert_exporter": "python",
      "pygments_lexer": "ipython3",
      "version": "3.11.3"
    }
  },
  "nbformat": 4,
  "nbformat_minor": 0
}
