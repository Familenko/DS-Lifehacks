{
  "cells": [
    {
      "cell_type": "code",
      "execution_count": 1,
      "metadata": {},
      "outputs": [],
      "source": [
        "from statsmodels.stats.power import TTestIndPower\n",
        "import math"
      ]
    },
    {
      "cell_type": "code",
      "execution_count": 2,
      "metadata": {},
      "outputs": [],
      "source": [
        "def ab_test_duration(sigma, delta, alpha=0.05, power=0.8, daily_users=50, alternative='two-sided'):\n",
        "    \"\"\"\n",
        "    sigma: стандартне відхилення метрики\n",
        "    delta: мінімальна різниця, яку хочемо виявити\n",
        "    alpha: рівень значущості (тип I помилка)\n",
        "    power: потужність тесту (1 - beta)\n",
        "    daily_users: середня кількість користувачів на день\n",
        "    alternative: тип альтернативної гіпотези ('two-sided', 'larger', 'smaller')\n",
        "        'two-sided' — двосторонній тест. Перевіряє, чи є будь-яка різниця між групами (вище чи нижче).\n",
        "        'larger' — односторонній тест, перевіряє, чи нова група більше за контроль.\n",
        "        'smaller' — односторонній тест, перевіряє, чи нова група менше за контроль.\n",
        "    \"\"\"\n",
        "    analysis = TTestIndPower()\n",
        "    \n",
        "    # effect_size = різниця / стандартне відхилення\n",
        "    effect_size = delta / sigma\n",
        "    \n",
        "    n_per_group = analysis.solve_power(effect_size=effect_size,\n",
        "                                       alpha=alpha,\n",
        "                                       power=power,\n",
        "                                       alternative=alternative)\n",
        "    \n",
        "    n_per_group = math.ceil(n_per_group)\n",
        "    days_needed = math.ceil(n_per_group / daily_users)\n",
        "    \n",
        "    return n_per_group, days_needed"
      ]
    },
    {
      "cell_type": "code",
      "execution_count": 3,
      "metadata": {},
      "outputs": [
        {
          "name": "stdout",
          "output_type": "stream",
          "text": [
            "Користувачів на групу: 253\n",
            "Тривалість тесту (днів): 6\n"
          ]
        }
      ],
      "source": [
        "sigma = 20          # стандартне відхилення депозиту\n",
        "delta = 5           # мінімальна різниця, яку хочемо виявити\n",
        "daily_users = 50    # користувачів на день\n",
        "\n",
        "n, days = ab_test_duration(sigma, delta, daily_users=daily_users)\n",
        "print(f\"Користувачів на групу: {n}\")\n",
        "print(f\"Тривалість тесту (днів): {days}\")"
      ]
    }
  ],
  "metadata": {
    "colab": {
      "provenance": []
    },
    "kernelspec": {
      "display_name": "my_env",
      "language": "python",
      "name": "python3"
    },
    "language_info": {
      "codemirror_mode": {
        "name": "ipython",
        "version": 3
      },
      "file_extension": ".py",
      "mimetype": "text/x-python",
      "name": "python",
      "nbconvert_exporter": "python",
      "pygments_lexer": "ipython3",
      "version": "3.10.16"
    }
  },
  "nbformat": 4,
  "nbformat_minor": 0
}
