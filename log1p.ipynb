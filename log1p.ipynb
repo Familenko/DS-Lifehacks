{
  "cells": [
    {
      "cell_type": "code",
      "execution_count": 2,
      "metadata": {},
      "outputs": [],
      "source": [
        "import numpy as np\n",
        "import matplotlib.pyplot as plt\n",
        "import seaborn as sns\n",
        "from sklearn.datasets import fetch_california_housing\n",
        "import pandas as pd"
      ]
    },
    {
      "cell_type": "code",
      "execution_count": 3,
      "metadata": {},
      "outputs": [],
      "source": [
        "housing = fetch_california_housing()\n",
        "df = pd.DataFrame(housing.data, columns=housing.feature_names)"
      ]
    },
    {
      "cell_type": "code",
      "execution_count": 4,
      "metadata": {},
      "outputs": [
        {
          "data": {
            "application/vnd.microsoft.datawrangler.viewer.v0+json": {
              "columns": [
                {
                  "name": "index",
                  "rawType": "int64",
                  "type": "integer"
                },
                {
                  "name": "MedInc",
                  "rawType": "float64",
                  "type": "float"
                },
                {
                  "name": "HouseAge",
                  "rawType": "float64",
                  "type": "float"
                },
                {
                  "name": "AveRooms",
                  "rawType": "float64",
                  "type": "float"
                },
                {
                  "name": "AveBedrms",
                  "rawType": "float64",
                  "type": "float"
                },
                {
                  "name": "Population",
                  "rawType": "float64",
                  "type": "float"
                },
                {
                  "name": "AveOccup",
                  "rawType": "float64",
                  "type": "float"
                },
                {
                  "name": "Latitude",
                  "rawType": "float64",
                  "type": "float"
                },
                {
                  "name": "Longitude",
                  "rawType": "float64",
                  "type": "float"
                }
              ],
              "conversionMethod": "pd.DataFrame",
              "ref": "e2200ff0-be18-4157-be20-9c6906f9849e",
              "rows": [
                [
                  "14208",
                  "3.5437",
                  "27.0",
                  "5.1585014409221905",
                  "1.0259365994236311",
                  "1286.0",
                  "3.7060518731988474",
                  "32.69",
                  "-117.04"
                ],
                [
                  "16045",
                  "4.2562",
                  "45.0",
                  "5.747448979591836",
                  "1.0994897959183674",
                  "1382.0",
                  "3.5255102040816326",
                  "37.71",
                  "-122.45"
                ],
                [
                  "6381",
                  "5.2865",
                  "37.0",
                  "6.169291338582677",
                  "1.047244094488189",
                  "1220.0",
                  "2.4015748031496065",
                  "34.18",
                  "-118.04"
                ],
                [
                  "10547",
                  "7.3141",
                  "15.0",
                  "6.9372937293729375",
                  "0.9735973597359736",
                  "1060.0",
                  "3.4983498349834985",
                  "33.71",
                  "-117.77"
                ],
                [
                  "3519",
                  "4.3333",
                  "33.0",
                  "5.767955801104972",
                  "1.058011049723757",
                  "960.0",
                  "2.6519337016574585",
                  "34.25",
                  "-118.49"
                ]
              ],
              "shape": {
                "columns": 8,
                "rows": 5
              }
            },
            "text/html": [
              "<div>\n",
              "<style scoped>\n",
              "    .dataframe tbody tr th:only-of-type {\n",
              "        vertical-align: middle;\n",
              "    }\n",
              "\n",
              "    .dataframe tbody tr th {\n",
              "        vertical-align: top;\n",
              "    }\n",
              "\n",
              "    .dataframe thead th {\n",
              "        text-align: right;\n",
              "    }\n",
              "</style>\n",
              "<table border=\"1\" class=\"dataframe\">\n",
              "  <thead>\n",
              "    <tr style=\"text-align: right;\">\n",
              "      <th></th>\n",
              "      <th>MedInc</th>\n",
              "      <th>HouseAge</th>\n",
              "      <th>AveRooms</th>\n",
              "      <th>AveBedrms</th>\n",
              "      <th>Population</th>\n",
              "      <th>AveOccup</th>\n",
              "      <th>Latitude</th>\n",
              "      <th>Longitude</th>\n",
              "    </tr>\n",
              "  </thead>\n",
              "  <tbody>\n",
              "    <tr>\n",
              "      <th>14208</th>\n",
              "      <td>3.5437</td>\n",
              "      <td>27.0</td>\n",
              "      <td>5.158501</td>\n",
              "      <td>1.025937</td>\n",
              "      <td>1286.0</td>\n",
              "      <td>3.706052</td>\n",
              "      <td>32.69</td>\n",
              "      <td>-117.04</td>\n",
              "    </tr>\n",
              "    <tr>\n",
              "      <th>16045</th>\n",
              "      <td>4.2562</td>\n",
              "      <td>45.0</td>\n",
              "      <td>5.747449</td>\n",
              "      <td>1.099490</td>\n",
              "      <td>1382.0</td>\n",
              "      <td>3.525510</td>\n",
              "      <td>37.71</td>\n",
              "      <td>-122.45</td>\n",
              "    </tr>\n",
              "    <tr>\n",
              "      <th>6381</th>\n",
              "      <td>5.2865</td>\n",
              "      <td>37.0</td>\n",
              "      <td>6.169291</td>\n",
              "      <td>1.047244</td>\n",
              "      <td>1220.0</td>\n",
              "      <td>2.401575</td>\n",
              "      <td>34.18</td>\n",
              "      <td>-118.04</td>\n",
              "    </tr>\n",
              "    <tr>\n",
              "      <th>10547</th>\n",
              "      <td>7.3141</td>\n",
              "      <td>15.0</td>\n",
              "      <td>6.937294</td>\n",
              "      <td>0.973597</td>\n",
              "      <td>1060.0</td>\n",
              "      <td>3.498350</td>\n",
              "      <td>33.71</td>\n",
              "      <td>-117.77</td>\n",
              "    </tr>\n",
              "    <tr>\n",
              "      <th>3519</th>\n",
              "      <td>4.3333</td>\n",
              "      <td>33.0</td>\n",
              "      <td>5.767956</td>\n",
              "      <td>1.058011</td>\n",
              "      <td>960.0</td>\n",
              "      <td>2.651934</td>\n",
              "      <td>34.25</td>\n",
              "      <td>-118.49</td>\n",
              "    </tr>\n",
              "  </tbody>\n",
              "</table>\n",
              "</div>"
            ],
            "text/plain": [
              "       MedInc  HouseAge  AveRooms  AveBedrms  Population  AveOccup  Latitude  \\\n",
              "14208  3.5437      27.0  5.158501   1.025937      1286.0  3.706052     32.69   \n",
              "16045  4.2562      45.0  5.747449   1.099490      1382.0  3.525510     37.71   \n",
              "6381   5.2865      37.0  6.169291   1.047244      1220.0  2.401575     34.18   \n",
              "10547  7.3141      15.0  6.937294   0.973597      1060.0  3.498350     33.71   \n",
              "3519   4.3333      33.0  5.767956   1.058011       960.0  2.651934     34.25   \n",
              "\n",
              "       Longitude  \n",
              "14208    -117.04  \n",
              "16045    -122.45  \n",
              "6381     -118.04  \n",
              "10547    -117.77  \n",
              "3519     -118.49  "
            ]
          },
          "execution_count": 4,
          "metadata": {},
          "output_type": "execute_result"
        }
      ],
      "source": [
        "df.sample(5)"
      ]
    },
    {
      "cell_type": "code",
      "execution_count": 5,
      "metadata": {},
      "outputs": [],
      "source": [
        "column = 'AveOccup'\n",
        "df['LogTransformed'] = np.log1p(df[column])\n",
        "df['Reversed'] = np.expm1(df['LogTransformed'])"
      ]
    },
    {
      "cell_type": "code",
      "execution_count": 6,
      "metadata": {},
      "outputs": [
        {
          "data": {
            "image/png": "[encoded data removed]",
            "text/plain": [
              "<Figure size 1200x400 with 3 Axes>"
            ]
          },
          "metadata": {},
          "output_type": "display_data"
        }
      ],
      "source": [
        "sns.set_theme()\n",
        "fig, axs = plt.subplots(1, 3, figsize=(12, 4))\n",
        "\n",
        "sns.kdeplot(df[column], fill=True, ax=axs[0])\n",
        "axs[0].set_title('Оригінальні дані')\n",
        "\n",
        "sns.kdeplot(df['LogTransformed'], fill=True, ax=axs[1])\n",
        "axs[1].set_title('Логарифмовані дані')\n",
        "\n",
        "sns.kdeplot(df['Reversed'], fill=True, ax=axs[2])\n",
        "axs[2].set_title('Зворотне перетворення')\n",
        "\n",
        "plt.show()"
      ]
    }
  ],
  "metadata": {
    "colab": {
      "provenance": []
    },
    "kernelspec": {
      "display_name": "goit",
      "language": "python",
      "name": "python3"
    },
    "language_info": {
      "codemirror_mode": {
        "name": "ipython",
        "version": 3
      },
      "file_extension": ".py",
      "mimetype": "text/x-python",
      "name": "python",
      "nbconvert_exporter": "python",
      "pygments_lexer": "ipython3",
      "version": "3.10.16"
    }
  },
  "nbformat": 4,
  "nbformat_minor": 0
}
