{
  "cells": [
    {
      "cell_type": "code",
      "execution_count": 1,
      "metadata": {},
      "outputs": [],
      "source": [
        "import numpy as np\n",
        "import scipy.stats as stats\n",
        "\n",
        "def calculate_confidence_interval(sample, distribution='t', confidence_level=0.95, std_general=None):\n",
        "    \"\"\"\n",
        "    Функція для розрахунку довірчого інтервалу для середнього значення вибірки \n",
        "    з використанням t-розподілу чи нормального розподілу.\n",
        "\n",
        "    Параметри:\n",
        "    sample (array-like): Вибірка для аналізу.\n",
        "\n",
        "    distribution (str, optional): Тип розподілу для використання у розрахунках. \n",
        "    Може бути 't' для t-розподілу Стьюдента чи 'z' для нормального розподілу. За замовчуванням 't'.\n",
        "\n",
        "    confidence_level (float, optional): Рівень довіри для інтервалу. За замовчуванням 0.95.\n",
        "\n",
        "    std_general (float, optional): Відоме стандартне відхилення генеральної сукупності.\n",
        "\n",
        "    Повертає:\n",
        "    tuple: Довірчий інтервал у формі (нижня межа, верхня межа).\n",
        "\n",
        "    Використання розподілів:\n",
        "    - 't' (t-розподіл Стьюдента) рекомендується використовувати, \n",
        "    коли розмір вибірки є малим (зазвичай менше 30) чи коли стандартне відхилення генеральної сукупності невідоме.\n",
        "\n",
        "    - 'z' (нормальний розподіл) рекомендується використовувати для великих вибірок (30 чи більше), \n",
        "    де застосовна центральна гранична теорема, що дозволяє припустити, що розподіл середніх значень вибірки є нормальним.\n",
        "    \"\"\"\n",
        "    mean = np.mean(sample)\n",
        "    std_dev = np.std(sample, ddof=1) if std_general is None else std_general\n",
        "    n = len(sample)\n",
        "    alpha = 1 - confidence_level\n",
        "\n",
        "    if distribution == 't':\n",
        "        degrees_of_freedom = n - 1\n",
        "        critical_value = stats.t.ppf(1 - alpha / 2, degrees_of_freedom)\n",
        "    elif distribution == 'z':\n",
        "        critical_value = stats.norm.ppf(1 - alpha / 2)\n",
        "    else:\n",
        "        raise ValueError(\"Невідомий тип розподілу. Використовуйте 't' або 'z'.\")\n",
        "\n",
        "    margin_of_error = critical_value * (std_dev / np.sqrt(n))\n",
        "    confidence_interval = (mean - margin_of_error, mean + margin_of_error)\n",
        "\n",
        "    return confidence_interval"
      ]
    },
    {
      "cell_type": "markdown",
      "metadata": {},
      "source": [
        "Припустимо, ви аналізуєте дані про тривалість сну у вибірці з 50 людей. Ваша вибірка має середню тривалість сну 7.5 годин і стандартне відхилення 1.2 години."
      ]
    },
    {
      "cell_type": "code",
      "execution_count": 2,
      "metadata": {},
      "outputs": [],
      "source": [
        "np.random.seed(42)\n",
        "sample = np.random.normal(loc=7.5, scale=1.2, size=50)"
      ]
    },
    {
      "cell_type": "code",
      "execution_count": 3,
      "metadata": {},
      "outputs": [
        {
          "name": "stdout",
          "output_type": "stream",
          "text": [
            "Довірчий інтервал для середньої: (6.888395087097756, 7.570467540287508)\n"
          ]
        }
      ],
      "source": [
        "confidence_interval = calculate_confidence_interval(sample, distribution='t', confidence_level=0.95, std_general=1.2)\n",
        "print(f\"Довірчий інтервал для середньої: {confidence_interval}\")"
      ]
    },
    {
      "cell_type": "markdown",
      "metadata": {},
      "source": [
        "Отже, 95% довірчий інтервал для тривалості сну буде від 6.88 до 7.57 годин. Це означає, що з ймовірністю 95% справжня середня тривалість сну у популяції буде в межах цього інтервалу."
      ]
    }
  ],
  "metadata": {
    "colab": {
      "provenance": []
    },
    "kernelspec": {
      "display_name": "Python 3",
      "name": "python3"
    },
    "language_info": {
      "codemirror_mode": {
        "name": "ipython",
        "version": 3
      },
      "file_extension": ".py",
      "mimetype": "text/x-python",
      "name": "python",
      "nbconvert_exporter": "python",
      "pygments_lexer": "ipython3",
      "version": "3.11.3"
    }
  },
  "nbformat": 4,
  "nbformat_minor": 0
}
