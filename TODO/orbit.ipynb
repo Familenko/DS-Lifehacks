{
  "cells": [
    {
      "cell_type": "code",
      "execution_count": 20,
      "metadata": {},
      "outputs": [],
      "source": [
        "from orbit.models import DLT\n",
        "from orbit.diagnostics.plot import plot_predicted_data\n",
        "import pandas as pd\n",
        "import numpy as np\n",
        "import matplotlib.pyplot as plt"
      ]
    },
    {
      "cell_type": "code",
      "execution_count": 21,
      "metadata": {},
      "outputs": [],
      "source": [
        "np.random.seed(42)\n",
        "n = 100\n",
        "date = pd.date_range(start=\"2022-01-01\", periods=n, freq=\"D\")\n",
        "usd = np.random.normal(100, 5, size=n)\n",
        "btc = np.random.normal(30000, 500, size=n)\n",
        "holiday = (np.arange(n) % 30 == 0).astype(int)\n",
        "\n",
        "y = (\n",
        "    0.1 * np.arange(n) \n",
        "    + 10 * np.sin(2 * np.pi * np.arange(n) / 7)\n",
        "    + 0.05 * usd\n",
        "    - 0.001 * btc\n",
        "    + 5 * holiday\n",
        "    + np.random.normal(0, 2, n)\n",
        ")\n",
        "\n",
        "df = pd.DataFrame({\n",
        "    \"date\": date,\n",
        "    \"y\": y,\n",
        "    \"usd\": usd,\n",
        "    \"btc\": btc,\n",
        "    \"holiday\": holiday\n",
        "})"
      ]
    },
    {
      "cell_type": "code",
      "execution_count": 32,
      "metadata": {},
      "outputs": [
        {
          "data": {
            "application/vnd.microsoft.datawrangler.viewer.v0+json": {
              "columns": [
                {
                  "name": "index",
                  "rawType": "int64",
                  "type": "integer"
                },
                {
                  "name": "date",
                  "rawType": "datetime64[ns]",
                  "type": "datetime"
                },
                {
                  "name": "y",
                  "rawType": "float64",
                  "type": "float"
                },
                {
                  "name": "usd",
                  "rawType": "float64",
                  "type": "float"
                },
                {
                  "name": "btc",
                  "rawType": "float64",
                  "type": "float"
                },
                {
                  "name": "holiday",
                  "rawType": "int64",
                  "type": "integer"
                }
              ],
              "ref": "ea766a14-10e0-4eb5-8719-d6ff39ba45a5",
              "rows": [
                [
                  "0",
                  "2022-01-01 00:00:00",
                  "-18.45256137002542",
                  "102.48357076505616",
                  "29292.314628974793",
                  "1"
                ],
                [
                  "1",
                  "2022-01-02 00:00:00",
                  "-15.784359536493348",
                  "99.30867849414408",
                  "29789.67733861732",
                  "0"
                ],
                [
                  "2",
                  "2022-01-03 00:00:00",
                  "-12.551338999042652",
                  "103.23844269050346",
                  "29828.642741736614",
                  "0"
                ],
                [
                  "3",
                  "2022-01-04 00:00:00",
                  "-17.471662406041798",
                  "107.61514928204012",
                  "29598.86136538919",
                  "0"
                ],
                [
                  "4",
                  "2022-01-05 00:00:00",
                  "-31.67207161493759",
                  "98.82923312638331",
                  "29919.357144166996",
                  "0"
                ],
                [
                  "5",
                  "2022-01-06 00:00:00",
                  "-36.38548886929304",
                  "98.8293152152541",
                  "30202.02542840727",
                  "0"
                ],
                [
                  "6",
                  "2022-01-07 00:00:00",
                  "-31.736534036991394",
                  "107.89606407753696",
                  "30943.092950605263",
                  "0"
                ],
                [
                  "7",
                  "2022-01-08 00:00:00",
                  "-23.16785832230328",
                  "103.83717364576455",
                  "30087.28890641592",
                  "0"
                ],
                [
                  "8",
                  "2022-01-09 00:00:00",
                  "-15.597733594552729",
                  "97.65262807032524",
                  "30128.77519536138",
                  "0"
                ],
                [
                  "9",
                  "2022-01-10 00:00:00",
                  "-6.472394928092744",
                  "102.71280021792982",
                  "29962.777042116915",
                  "0"
                ],
                [
                  "10",
                  "2022-01-11 00:00:00",
                  "-17.675850402991678",
                  "97.68291153593769",
                  "29040.61439235048",
                  "0"
                ],
                [
                  "11",
                  "2022-01-12 00:00:00",
                  "-26.07088161148232",
                  "97.67135123214871",
                  "29986.743062275393",
                  "0"
                ],
                [
                  "12",
                  "2022-01-13 00:00:00",
                  "-31.61090013191084",
                  "101.20981135783018",
                  "30030.115104970515",
                  "0"
                ],
                [
                  "13",
                  "2022-01-14 00:00:00",
                  "-31.925473439475784",
                  "90.43359877671101",
                  "31231.621056242642",
                  "0"
                ],
                [
                  "14",
                  "2022-01-15 00:00:00",
                  "-24.565587465018393",
                  "91.37541083743484",
                  "29903.819517609438",
                  "0"
                ],
                [
                  "15",
                  "2022-01-16 00:00:00",
                  "-14.45509228781023",
                  "97.18856235379513",
                  "30150.773671166808",
                  "0"
                ],
                [
                  "16",
                  "2022-01-17 00:00:00",
                  "-15.432223202487888",
                  "94.93584439832789",
                  "29982.644115147377",
                  "0"
                ],
                [
                  "17",
                  "2022-01-18 00:00:00",
                  "-18.771898970345863",
                  "101.57123666297637",
                  "29415.660981190234",
                  "0"
                ],
                [
                  "18",
                  "2022-01-19 00:00:00",
                  "-29.3079819129716",
                  "95.45987962239394",
                  "30571.41140725751",
                  "0"
                ],
                [
                  "19",
                  "2022-01-20 00:00:00",
                  "-33.4145732847228",
                  "92.93848149332354",
                  "30375.966516343386",
                  "0"
                ],
                [
                  "20",
                  "2022-01-21 00:00:00",
                  "-26.218101472624426",
                  "107.32824384460777",
                  "30395.515973521524",
                  "0"
                ],
                [
                  "21",
                  "2022-01-22 00:00:00",
                  "-26.23628073290777",
                  "98.87111849756732",
                  "29545.30627260263",
                  "0"
                ],
                [
                  "22",
                  "2022-01-23 00:00:00",
                  "-14.293679898866772",
                  "100.33764102343962",
                  "30701.39715546805",
                  "0"
                ],
                [
                  "23",
                  "2022-01-24 00:00:00",
                  "-15.831414135718287",
                  "92.87625906893271",
                  "29299.07446860386",
                  "0"
                ],
                [
                  "24",
                  "2022-01-25 00:00:00",
                  "-19.634550568434705",
                  "97.27808637737408",
                  "30293.428546900133",
                  "0"
                ],
                [
                  "25",
                  "2022-01-26 00:00:00",
                  "-25.72843336271836",
                  "100.55461294854933",
                  "31095.22781290499",
                  "0"
                ],
                [
                  "26",
                  "2022-01-27 00:00:00",
                  "-31.813199315417545",
                  "94.24503211288848",
                  "29504.731837434654",
                  "0"
                ],
                [
                  "27",
                  "2022-01-28 00:00:00",
                  "-31.89673101115111",
                  "101.87849009172837",
                  "29716.851135198613",
                  "0"
                ],
                [
                  "28",
                  "2022-01-29 00:00:00",
                  "-23.83059277354347",
                  "96.99680655040598",
                  "30049.825682543822",
                  "0"
                ],
                [
                  "29",
                  "2022-01-30 00:00:00",
                  "-12.743675287840578",
                  "98.54153125103362",
                  "29748.2621729419",
                  "0"
                ],
                [
                  "30",
                  "2022-01-31 00:00:00",
                  "-8.08654907914031",
                  "96.99146693885301",
                  "29224.668284466934",
                  "1"
                ],
                [
                  "31",
                  "2022-02-01 00:00:00",
                  "-16.699457370936237",
                  "109.26139092254469",
                  "30034.281487403012",
                  "0"
                ],
                [
                  "32",
                  "2022-02-02 00:00:00",
                  "-25.519916160689377",
                  "99.93251387631032",
                  "29468.848143136947",
                  "0"
                ],
                [
                  "33",
                  "2022-02-03 00:00:00",
                  "-33.25370376458643",
                  "94.71144535522049",
                  "30236.79621531759",
                  "0"
                ],
                [
                  "34",
                  "2022-02-04 00:00:00",
                  "-24.465078300886933",
                  "104.11272456051594",
                  "29540.287882883098",
                  "0"
                ],
                [
                  "35",
                  "2022-02-05 00:00:00",
                  "-21.31234007036552",
                  "93.89578175014489",
                  "30774.96720250877",
                  "0"
                ],
                [
                  "36",
                  "2022-02-06 00:00:00",
                  "-17.188127803715616",
                  "101.04431797502377",
                  "29608.37335383188",
                  "0"
                ],
                [
                  "37",
                  "2022-02-07 00:00:00",
                  "-11.50669902151001",
                  "90.20164938060113",
                  "29838.96924189716",
                  "0"
                ],
                [
                  "38",
                  "2022-02-08 00:00:00",
                  "-18.923540659270625",
                  "93.35906975550785",
                  "30406.758608684835",
                  "0"
                ],
                [
                  "39",
                  "2022-02-09 00:00:00",
                  "-23.069323254398864",
                  "100.98430617934562",
                  "29384.567841783024",
                  "0"
                ],
                [
                  "40",
                  "2022-02-10 00:00:00",
                  "-32.26343392098684",
                  "103.69233289997705",
                  "30113.729967302064",
                  "0"
                ],
                [
                  "41",
                  "2022-02-11 00:00:00",
                  "-29.558517014457827",
                  "100.85684140594985",
                  "30653.571377141216",
                  "0"
                ],
                [
                  "42",
                  "2022-02-12 00:00:00",
                  "-19.015195895355546",
                  "99.4217585880588",
                  "29196.258382719385",
                  "0"
                ],
                [
                  "43",
                  "2022-02-13 00:00:00",
                  "-11.31776764014294",
                  "98.49448152205356",
                  "30092.31692926615",
                  "0"
                ],
                [
                  "44",
                  "2022-02-14 00:00:00",
                  "-13.750885587009366",
                  "92.60739004816287",
                  "30129.94139712421",
                  "0"
                ],
                [
                  "45",
                  "2022-02-15 00:00:00",
                  "-17.40103756849363",
                  "96.40077895802645",
                  "30390.911435888655",
                  "0"
                ],
                [
                  "46",
                  "2022-02-16 00:00:00",
                  "-25.185412350798384",
                  "97.69680614520107",
                  "29381.52464456096",
                  "0"
                ],
                [
                  "47",
                  "2022-02-17 00:00:00",
                  "-30.43142872386879",
                  "105.28561113109458",
                  "29339.77169345786",
                  "0"
                ],
                [
                  "48",
                  "2022-02-18 00:00:00",
                  "-24.66247255453445",
                  "101.71809144784231",
                  "30260.97078280845",
                  "0"
                ],
                [
                  "49",
                  "2022-02-19 00:00:00",
                  "-19.879288953535383",
                  "91.18479922318633",
                  "30148.492336616593",
                  "0"
                ]
              ],
              "shape": {
                "columns": 5,
                "rows": 100
              }
            },
            "text/html": [
              "<div>\n",
              "<style scoped>\n",
              "    .dataframe tbody tr th:only-of-type {\n",
              "        vertical-align: middle;\n",
              "    }\n",
              "\n",
              "    .dataframe tbody tr th {\n",
              "        vertical-align: top;\n",
              "    }\n",
              "\n",
              "    .dataframe thead th {\n",
              "        text-align: right;\n",
              "    }\n",
              "</style>\n",
              "<table border=\"1\" class=\"dataframe\">\n",
              "  <thead>\n",
              "    <tr style=\"text-align: right;\">\n",
              "      <th></th>\n",
              "      <th>date</th>\n",
              "      <th>y</th>\n",
              "      <th>usd</th>\n",
              "      <th>btc</th>\n",
              "      <th>holiday</th>\n",
              "    </tr>\n",
              "  </thead>\n",
              "  <tbody>\n",
              "    <tr>\n",
              "      <th>0</th>\n",
              "      <td>2022-01-01</td>\n",
              "      <td>-18.452561</td>\n",
              "      <td>102.483571</td>\n",
              "      <td>29292.314629</td>\n",
              "      <td>1</td>\n",
              "    </tr>\n",
              "    <tr>\n",
              "      <th>1</th>\n",
              "      <td>2022-01-02</td>\n",
              "      <td>-15.784360</td>\n",
              "      <td>99.308678</td>\n",
              "      <td>29789.677339</td>\n",
              "      <td>0</td>\n",
              "    </tr>\n",
              "    <tr>\n",
              "      <th>2</th>\n",
              "      <td>2022-01-03</td>\n",
              "      <td>-12.551339</td>\n",
              "      <td>103.238443</td>\n",
              "      <td>29828.642742</td>\n",
              "      <td>0</td>\n",
              "    </tr>\n",
              "    <tr>\n",
              "      <th>3</th>\n",
              "      <td>2022-01-04</td>\n",
              "      <td>-17.471662</td>\n",
              "      <td>107.615149</td>\n",
              "      <td>29598.861365</td>\n",
              "      <td>0</td>\n",
              "    </tr>\n",
              "    <tr>\n",
              "      <th>4</th>\n",
              "      <td>2022-01-05</td>\n",
              "      <td>-31.672072</td>\n",
              "      <td>98.829233</td>\n",
              "      <td>29919.357144</td>\n",
              "      <td>0</td>\n",
              "    </tr>\n",
              "    <tr>\n",
              "      <th>...</th>\n",
              "      <td>...</td>\n",
              "      <td>...</td>\n",
              "      <td>...</td>\n",
              "      <td>...</td>\n",
              "      <td>...</td>\n",
              "    </tr>\n",
              "    <tr>\n",
              "      <th>95</th>\n",
              "      <td>2022-04-06</td>\n",
              "      <td>-21.783194</td>\n",
              "      <td>92.682425</td>\n",
              "      <td>30192.658690</td>\n",
              "      <td>0</td>\n",
              "    </tr>\n",
              "    <tr>\n",
              "      <th>96</th>\n",
              "      <td>2022-04-07</td>\n",
              "      <td>-22.834121</td>\n",
              "      <td>101.480601</td>\n",
              "      <td>29558.071282</td>\n",
              "      <td>0</td>\n",
              "    </tr>\n",
              "    <tr>\n",
              "      <th>97</th>\n",
              "      <td>2022-04-08</td>\n",
              "      <td>-22.515315</td>\n",
              "      <td>101.305276</td>\n",
              "      <td>30076.862553</td>\n",
              "      <td>0</td>\n",
              "    </tr>\n",
              "    <tr>\n",
              "      <th>98</th>\n",
              "      <td>2022-04-09</td>\n",
              "      <td>-13.602102</td>\n",
              "      <td>100.025567</td>\n",
              "      <td>30029.104359</td>\n",
              "      <td>0</td>\n",
              "    </tr>\n",
              "    <tr>\n",
              "      <th>99</th>\n",
              "      <td>2022-04-10</td>\n",
              "      <td>-5.509589</td>\n",
              "      <td>98.827064</td>\n",
              "      <td>29428.514851</td>\n",
              "      <td>0</td>\n",
              "    </tr>\n",
              "  </tbody>\n",
              "</table>\n",
              "<p>100 rows × 5 columns</p>\n",
              "</div>"
            ],
            "text/plain": [
              "         date          y         usd           btc  holiday\n",
              "0  2022-01-01 -18.452561  102.483571  29292.314629        1\n",
              "1  2022-01-02 -15.784360   99.308678  29789.677339        0\n",
              "2  2022-01-03 -12.551339  103.238443  29828.642742        0\n",
              "3  2022-01-04 -17.471662  107.615149  29598.861365        0\n",
              "4  2022-01-05 -31.672072   98.829233  29919.357144        0\n",
              "..        ...        ...         ...           ...      ...\n",
              "95 2022-04-06 -21.783194   92.682425  30192.658690        0\n",
              "96 2022-04-07 -22.834121  101.480601  29558.071282        0\n",
              "97 2022-04-08 -22.515315  101.305276  30076.862553        0\n",
              "98 2022-04-09 -13.602102  100.025567  30029.104359        0\n",
              "99 2022-04-10  -5.509589   98.827064  29428.514851        0\n",
              "\n",
              "[100 rows x 5 columns]"
            ]
          },
          "execution_count": 32,
          "metadata": {},
          "output_type": "execute_result"
        }
      ],
      "source": [
        "df"
      ]
    },
    {
      "cell_type": "code",
      "execution_count": 23,
      "metadata": {},
      "outputs": [],
      "source": [
        "train_size = int(n * 0.8)\n",
        "df_train = df.iloc[:train_size]\n",
        "df_test = df.iloc[train_size:]"
      ]
    },
    {
      "cell_type": "code",
      "execution_count": 24,
      "metadata": {},
      "outputs": [],
      "source": [
        "model = DLT(\n",
        "    response_col=\"y\",\n",
        "    date_col=\"date\",\n",
        "    regressor_col=[\"usd\", \"btc\", \"holiday\"],\n",
        "    seasonality=7,\n",
        "    estimator=\"stan-mcmc\",\n",
        "    num_warmup=800,\n",
        "    num_sample=1200,\n",
        "    prediction_percentiles=[5,25,50,75,95]\n",
        ")"
      ]
    },
    {
      "cell_type": "code",
      "execution_count": 25,
      "metadata": {},
      "outputs": [
        {
          "name": "stderr",
          "output_type": "stream",
          "text": [
            "2025-09-08 11:29:50 - orbit - INFO - Sampling (CmdStanPy) with chains: 4, cores: 8, temperature: 1.000, warmups (per chain): 200 and samples(per chain): 300.\n",
            "INFO:orbit:Sampling (CmdStanPy) with chains: 4, cores: 8, temperature: 1.000, warmups (per chain): 200 and samples(per chain): 300.\n"
          ]
        },
        {
          "data": {
            "application/vnd.jupyter.widget-view+json": {
              "model_id": "840b11cfdfd649dcbfff9a3052a49be3",
              "version_major": 2,
              "version_minor": 0
            },
            "text/plain": [
              "chain 1 |          | 00:00 Status"
            ]
          },
          "metadata": {},
          "output_type": "display_data"
        },
        {
          "data": {
            "application/vnd.jupyter.widget-view+json": {
              "model_id": "8deb61a7f7bb46c4b575552144472367",
              "version_major": 2,
              "version_minor": 0
            },
            "text/plain": [
              "chain 2 |          | 00:00 Status"
            ]
          },
          "metadata": {},
          "output_type": "display_data"
        },
        {
          "data": {
            "application/vnd.jupyter.widget-view+json": {
              "model_id": "2648b834c72e4964beddb09bb6f0f37d",
              "version_major": 2,
              "version_minor": 0
            },
            "text/plain": [
              "chain 3 |          | 00:00 Status"
            ]
          },
          "metadata": {},
          "output_type": "display_data"
        },
        {
          "data": {
            "application/vnd.jupyter.widget-view+json": {
              "model_id": "c5aab64743304c138a1b62d46db8cc0c",
              "version_major": 2,
              "version_minor": 0
            },
            "text/plain": [
              "chain 4 |          | 00:00 Status"
            ]
          },
          "metadata": {},
          "output_type": "display_data"
        },
        {
          "name": "stdout",
          "output_type": "stream",
          "text": [
            "                                                                                                                                                                                                                                                                                                                                \n"
          ]
        }
      ],
      "source": [
        "model.fit(df=df_train)\n",
        "pred_df = model.predict(df=df)"
      ]
    },
    {
      "cell_type": "code",
      "execution_count": 30,
      "metadata": {},
      "outputs": [
        {
          "data": {
            "image/png": "[encoded data removed]",
            "text/plain": [
              "<Figure size 1600x800 with 1 Axes>"
            ]
          },
          "metadata": {},
          "output_type": "display_data"
        },
        {
          "data": {
            "text/plain": [
              "<Axes: >"
            ]
          },
          "execution_count": 30,
          "metadata": {},
          "output_type": "execute_result"
        }
      ],
      "source": [
        "plot_predicted_data(\n",
        "    training_actual_df=df_train,\n",
        "    predicted_df=pred_df,\n",
        "    test_actual_df=df_test,\n",
        "    date_col=\"date\",\n",
        "    actual_col=\"y\"\n",
        ")"
      ]
    },
    {
      "cell_type": "code",
      "execution_count": 27,
      "metadata": {},
      "outputs": [
        {
          "data": {
            "application/vnd.microsoft.datawrangler.viewer.v0+json": {
              "columns": [
                {
                  "name": "index",
                  "rawType": "int64",
                  "type": "integer"
                },
                {
                  "name": "regressor",
                  "rawType": "object",
                  "type": "string"
                },
                {
                  "name": "regressor_sign",
                  "rawType": "object",
                  "type": "string"
                },
                {
                  "name": "coefficient",
                  "rawType": "float64",
                  "type": "float"
                },
                {
                  "name": "coefficient_lower",
                  "rawType": "float64",
                  "type": "float"
                },
                {
                  "name": "coefficient_upper",
                  "rawType": "float64",
                  "type": "float"
                },
                {
                  "name": "Pr(coef >= 0)",
                  "rawType": "float64",
                  "type": "float"
                },
                {
                  "name": "Pr(coef < 0)",
                  "rawType": "float64",
                  "type": "float"
                }
              ],
              "ref": "5d984582-9e46-448c-a3f1-1413634e036e",
              "rows": [
                [
                  "0",
                  "usd",
                  "Regular",
                  "0.1191835",
                  "0.012865485000000005",
                  "0.22842924999999994",
                  "0.9658333333333333",
                  "0.03416666666666668"
                ],
                [
                  "1",
                  "btc",
                  "Regular",
                  "-0.00167703",
                  "-0.0028500914999999996",
                  "-0.0004415783000000001",
                  "0.009166666666666667",
                  "0.9908333333333333"
                ],
                [
                  "2",
                  "holiday",
                  "Regular",
                  "1.15679",
                  "-0.19251585000000002",
                  "2.471657999999999",
                  "0.9141666666666667",
                  "0.08583333333333332"
                ]
              ],
              "shape": {
                "columns": 7,
                "rows": 3
              }
            },
            "text/html": [
              "<div>\n",
              "<style scoped>\n",
              "    .dataframe tbody tr th:only-of-type {\n",
              "        vertical-align: middle;\n",
              "    }\n",
              "\n",
              "    .dataframe tbody tr th {\n",
              "        vertical-align: top;\n",
              "    }\n",
              "\n",
              "    .dataframe thead th {\n",
              "        text-align: right;\n",
              "    }\n",
              "</style>\n",
              "<table border=\"1\" class=\"dataframe\">\n",
              "  <thead>\n",
              "    <tr style=\"text-align: right;\">\n",
              "      <th></th>\n",
              "      <th>regressor</th>\n",
              "      <th>regressor_sign</th>\n",
              "      <th>coefficient</th>\n",
              "      <th>coefficient_lower</th>\n",
              "      <th>coefficient_upper</th>\n",
              "      <th>Pr(coef &gt;= 0)</th>\n",
              "      <th>Pr(coef &lt; 0)</th>\n",
              "    </tr>\n",
              "  </thead>\n",
              "  <tbody>\n",
              "    <tr>\n",
              "      <th>0</th>\n",
              "      <td>usd</td>\n",
              "      <td>Regular</td>\n",
              "      <td>0.119183</td>\n",
              "      <td>0.012865</td>\n",
              "      <td>0.228429</td>\n",
              "      <td>0.965833</td>\n",
              "      <td>0.034167</td>\n",
              "    </tr>\n",
              "    <tr>\n",
              "      <th>1</th>\n",
              "      <td>btc</td>\n",
              "      <td>Regular</td>\n",
              "      <td>-0.001677</td>\n",
              "      <td>-0.002850</td>\n",
              "      <td>-0.000442</td>\n",
              "      <td>0.009167</td>\n",
              "      <td>0.990833</td>\n",
              "    </tr>\n",
              "    <tr>\n",
              "      <th>2</th>\n",
              "      <td>holiday</td>\n",
              "      <td>Regular</td>\n",
              "      <td>1.156790</td>\n",
              "      <td>-0.192516</td>\n",
              "      <td>2.471658</td>\n",
              "      <td>0.914167</td>\n",
              "      <td>0.085833</td>\n",
              "    </tr>\n",
              "  </tbody>\n",
              "</table>\n",
              "</div>"
            ],
            "text/plain": [
              "  regressor regressor_sign  coefficient  coefficient_lower  coefficient_upper  \\\n",
              "0       usd        Regular     0.119183           0.012865           0.228429   \n",
              "1       btc        Regular    -0.001677          -0.002850          -0.000442   \n",
              "2   holiday        Regular     1.156790          -0.192516           2.471658   \n",
              "\n",
              "   Pr(coef >= 0)  Pr(coef < 0)  \n",
              "0       0.965833      0.034167  \n",
              "1       0.009167      0.990833  \n",
              "2       0.914167      0.085833  "
            ]
          },
          "execution_count": 27,
          "metadata": {},
          "output_type": "execute_result"
        }
      ],
      "source": [
        "posterior = model.get_regression_coefs()\n",
        "posterior.head()"
      ]
    },
    {
      "cell_type": "code",
      "execution_count": 31,
      "metadata": {},
      "outputs": [
        {
          "data": {
            "application/vnd.microsoft.datawrangler.viewer.v0+json": {
              "columns": [
                {
                  "name": "index",
                  "rawType": "int64",
                  "type": "integer"
                },
                {
                  "name": "date",
                  "rawType": "datetime64[ns]",
                  "type": "datetime"
                },
                {
                  "name": "prediction_5",
                  "rawType": "float64",
                  "type": "float"
                },
                {
                  "name": "prediction_25",
                  "rawType": "float64",
                  "type": "float"
                },
                {
                  "name": "prediction",
                  "rawType": "float64",
                  "type": "float"
                },
                {
                  "name": "prediction_75",
                  "rawType": "float64",
                  "type": "float"
                },
                {
                  "name": "prediction_95",
                  "rawType": "float64",
                  "type": "float"
                }
              ],
              "ref": "324ad60d-2b90-4d3f-ba3e-4fe56ddce246",
              "rows": [
                [
                  "0",
                  "2022-01-01 00:00:00",
                  "-24.683015233891396",
                  "-20.830523277243735",
                  "-18.595878024362822",
                  "-16.134463952972826",
                  "-12.740478874970645"
                ],
                [
                  "1",
                  "2022-01-02 00:00:00",
                  "-26.672279734358856",
                  "-23.021407605808456",
                  "-20.495361840573345",
                  "-17.974726959446674",
                  "-13.793322536842293"
                ],
                [
                  "2",
                  "2022-01-03 00:00:00",
                  "-26.396086165623746",
                  "-22.379403129899472",
                  "-19.9885410016316",
                  "-17.355216552655357",
                  "-13.626189498785537"
                ],
                [
                  "3",
                  "2022-01-04 00:00:00",
                  "-25.116591421520702",
                  "-21.176059375389627",
                  "-18.80651774292449",
                  "-16.418047327293984",
                  "-12.45569472176246"
                ],
                [
                  "4",
                  "2022-01-05 00:00:00",
                  "-26.928663761602234",
                  "-22.7128820549582",
                  "-20.434939938883097",
                  "-17.910603042590374",
                  "-14.290842710984194"
                ],
                [
                  "5",
                  "2022-01-06 00:00:00",
                  "-27.67719956860918",
                  "-23.98018851986986",
                  "-21.433287059702643",
                  "-19.06112546202141",
                  "-15.448729975981776"
                ],
                [
                  "6",
                  "2022-01-07 00:00:00",
                  "-29.92181903050572",
                  "-25.941160708191678",
                  "-23.178690473465537",
                  "-20.350357645746435",
                  "-16.283400902327877"
                ],
                [
                  "7",
                  "2022-01-08 00:00:00",
                  "-27.60655299844262",
                  "-23.51462041560956",
                  "-21.17366042077287",
                  "-18.731676698167696",
                  "-15.284659010464434"
                ],
                [
                  "8",
                  "2022-01-09 00:00:00",
                  "-25.215701068323945",
                  "-21.733759787766463",
                  "-19.39284500912483",
                  "-16.962631530093116",
                  "-13.381259385369756"
                ],
                [
                  "9",
                  "2022-01-10 00:00:00",
                  "-23.188705595768955",
                  "-19.336085887499458",
                  "-17.026443911486595",
                  "-14.720654815654903",
                  "-11.220578065858527"
                ],
                [
                  "10",
                  "2022-01-11 00:00:00",
                  "-25.031102502668073",
                  "-21.318103639580634",
                  "-18.907195722238125",
                  "-16.3257247815411",
                  "-12.389228124457517"
                ],
                [
                  "11",
                  "2022-01-12 00:00:00",
                  "-33.02568226616221",
                  "-29.484304672464116",
                  "-26.920844288946636",
                  "-24.38376376989585",
                  "-20.52338001673893"
                ],
                [
                  "12",
                  "2022-01-13 00:00:00",
                  "-35.01934443831716",
                  "-31.111392424599067",
                  "-28.656595638077594",
                  "-26.298650365834828",
                  "-22.77464693768577"
                ],
                [
                  "13",
                  "2022-01-14 00:00:00",
                  "-36.34291061324093",
                  "-32.385106034293386",
                  "-29.835600273336645",
                  "-27.271819518720356",
                  "-23.371786839480624"
                ],
                [
                  "14",
                  "2022-01-15 00:00:00",
                  "-28.836610333148283",
                  "-25.05326840297668",
                  "-22.974540668976147",
                  "-20.526330837773692",
                  "-17.101200405512127"
                ],
                [
                  "15",
                  "2022-01-16 00:00:00",
                  "-23.088778358445712",
                  "-19.272383795596784",
                  "-16.934510495678722",
                  "-14.741825281295624",
                  "-11.201386668828922"
                ],
                [
                  "16",
                  "2022-01-17 00:00:00",
                  "-18.582263069238685",
                  "-14.279185078008293",
                  "-11.877047663471647",
                  "-9.377874653462072",
                  "-5.59350177023178"
                ],
                [
                  "17",
                  "2022-01-18 00:00:00",
                  "-23.957608720278298",
                  "-20.213985109014974",
                  "-18.055193722555337",
                  "-15.942446449465361",
                  "-12.567423011542125"
                ],
                [
                  "18",
                  "2022-01-19 00:00:00",
                  "-33.49803582625828",
                  "-29.881122431379296",
                  "-27.661561457683437",
                  "-25.331430176945915",
                  "-21.61479021202573"
                ],
                [
                  "19",
                  "2022-01-20 00:00:00",
                  "-37.63327025756262",
                  "-33.78894804591642",
                  "-31.420190385015662",
                  "-29.202668879232945",
                  "-25.244133525717487"
                ],
                [
                  "20",
                  "2022-01-21 00:00:00",
                  "-33.41018634943051",
                  "-29.635036882199135",
                  "-27.32034933108573",
                  "-24.976210215331808",
                  "-21.42603018075994"
                ],
                [
                  "21",
                  "2022-01-22 00:00:00",
                  "-27.827223284169552",
                  "-24.025487289766424",
                  "-21.85629503512223",
                  "-19.691928655979687",
                  "-15.81060295978059"
                ],
                [
                  "22",
                  "2022-01-23 00:00:00",
                  "-22.151260574815353",
                  "-18.384161269628237",
                  "-16.120480379767752",
                  "-13.726065438709647",
                  "-9.813053595167625"
                ],
                [
                  "23",
                  "2022-01-24 00:00:00",
                  "-18.546847096502997",
                  "-15.22185292148874",
                  "-12.813790197822282",
                  "-10.628938988667095",
                  "-7.066383907990241"
                ],
                [
                  "24",
                  "2022-01-25 00:00:00",
                  "-26.316959171237237",
                  "-22.59821908278062",
                  "-20.3025502453845",
                  "-18.164890090058552",
                  "-14.070460255754467"
                ],
                [
                  "25",
                  "2022-01-26 00:00:00",
                  "-34.78019929497225",
                  "-31.032936410549702",
                  "-28.625047893320655",
                  "-26.31673542679795",
                  "-23.03198237254016"
                ],
                [
                  "26",
                  "2022-01-27 00:00:00",
                  "-36.66269081140974",
                  "-32.94725480427545",
                  "-30.60009045534766",
                  "-28.143855229204583",
                  "-24.58659560911955"
                ],
                [
                  "27",
                  "2022-01-28 00:00:00",
                  "-32.140703437184996",
                  "-27.999214752230408",
                  "-25.76116064433336",
                  "-23.486170880687325",
                  "-19.656149827621775"
                ],
                [
                  "28",
                  "2022-01-29 00:00:00",
                  "-31.193623470485658",
                  "-27.287999061096794",
                  "-25.032111086813885",
                  "-22.829625393819573",
                  "-18.60542722978804"
                ],
                [
                  "29",
                  "2022-01-30 00:00:00",
                  "-19.50300245684343",
                  "-16.070427959030773",
                  "-13.593195816479476",
                  "-11.326077313317061",
                  "-7.477602305846633"
                ],
                [
                  "30",
                  "2022-01-31 00:00:00",
                  "-18.55679326302631",
                  "-14.683949227739571",
                  "-12.312755164798872",
                  "-9.778519833077672",
                  "-5.784068202637525"
                ],
                [
                  "31",
                  "2022-02-01 00:00:00",
                  "-23.372613585975245",
                  "-19.724903396213023",
                  "-17.561127421649857",
                  "-15.31127999149578",
                  "-11.63802839773525"
                ],
                [
                  "32",
                  "2022-02-02 00:00:00",
                  "-29.666423598591702",
                  "-26.311672916020473",
                  "-23.72225909823305",
                  "-21.32648633587342",
                  "-17.391403475424077"
                ],
                [
                  "33",
                  "2022-02-03 00:00:00",
                  "-38.485307984886674",
                  "-34.38845207073927",
                  "-32.04699312823312",
                  "-29.81920178312614",
                  "-25.95703531067875"
                ],
                [
                  "34",
                  "2022-02-04 00:00:00",
                  "-33.83793770487896",
                  "-30.34714386496366",
                  "-28.012429527452674",
                  "-25.774976637190143",
                  "-22.68880469622032"
                ],
                [
                  "35",
                  "2022-02-05 00:00:00",
                  "-31.100929037257234",
                  "-27.654581769760796",
                  "-25.319318850574568",
                  "-23.015264559397608",
                  "-19.102637996363605"
                ],
                [
                  "36",
                  "2022-02-06 00:00:00",
                  "-17.953004751152594",
                  "-14.12184267080134",
                  "-11.688837434057257",
                  "-9.39490379004439",
                  "-6.006185865003564"
                ],
                [
                  "37",
                  "2022-02-07 00:00:00",
                  "-18.137705502784222",
                  "-14.882279116382314",
                  "-12.68419370699786",
                  "-10.409003201045131",
                  "-6.463271874602584"
                ],
                [
                  "38",
                  "2022-02-08 00:00:00",
                  "-25.861089172445045",
                  "-21.166351287053562",
                  "-18.845895080464402",
                  "-16.629470325364586",
                  "-13.213668249249116"
                ],
                [
                  "39",
                  "2022-02-09 00:00:00",
                  "-29.80970364121278",
                  "-26.2577557094412",
                  "-24.064869231206742",
                  "-21.663238092851582",
                  "-17.72766379336812"
                ],
                [
                  "40",
                  "2022-02-10 00:00:00",
                  "-36.3578614398744",
                  "-32.97610683767827",
                  "-30.509590049705515",
                  "-28.34621944628468",
                  "-24.39694110443426"
                ],
                [
                  "41",
                  "2022-02-11 00:00:00",
                  "-34.05150065257998",
                  "-30.18034518326067",
                  "-27.797126588511695",
                  "-25.723938775116707",
                  "-22.07055733832679"
                ],
                [
                  "42",
                  "2022-02-12 00:00:00",
                  "-25.49941287550993",
                  "-21.77783609368416",
                  "-19.519373524019397",
                  "-17.311185651439605",
                  "-13.259174979340214"
                ],
                [
                  "43",
                  "2022-02-13 00:00:00",
                  "-21.331162589359636",
                  "-17.525247107907827",
                  "-15.341900182752218",
                  "-13.12362390395024",
                  "-9.284233837851827"
                ],
                [
                  "44",
                  "2022-02-14 00:00:00",
                  "-17.38071906033901",
                  "-13.892444775674168",
                  "-11.700916204344297",
                  "-9.245573752701903",
                  "-5.395192460802913"
                ],
                [
                  "45",
                  "2022-02-15 00:00:00",
                  "-23.73567949533786",
                  "-20.509814366329223",
                  "-18.302180898537266",
                  "-15.979059765750357",
                  "-12.231100900785448"
                ],
                [
                  "46",
                  "2022-02-16 00:00:00",
                  "-29.713287000461623",
                  "-25.71241905554929",
                  "-23.469420617384646",
                  "-21.23172466443895",
                  "-17.21006579506951"
                ],
                [
                  "47",
                  "2022-02-17 00:00:00",
                  "-35.71177781830705",
                  "-31.877638311846578",
                  "-29.494256682324917",
                  "-27.150303006492216",
                  "-23.795138451667984"
                ],
                [
                  "48",
                  "2022-02-18 00:00:00",
                  "-33.54038856657571",
                  "-29.70759041736217",
                  "-27.51545436702542",
                  "-25.330231435880357",
                  "-21.820310647290206"
                ],
                [
                  "49",
                  "2022-02-19 00:00:00",
                  "-27.493153160295748",
                  "-23.75908314120179",
                  "-21.32683180547103",
                  "-19.14457098858822",
                  "-15.443896617184325"
                ]
              ],
              "shape": {
                "columns": 6,
                "rows": 100
              }
            },
            "text/html": [
              "<div>\n",
              "<style scoped>\n",
              "    .dataframe tbody tr th:only-of-type {\n",
              "        vertical-align: middle;\n",
              "    }\n",
              "\n",
              "    .dataframe tbody tr th {\n",
              "        vertical-align: top;\n",
              "    }\n",
              "\n",
              "    .dataframe thead th {\n",
              "        text-align: right;\n",
              "    }\n",
              "</style>\n",
              "<table border=\"1\" class=\"dataframe\">\n",
              "  <thead>\n",
              "    <tr style=\"text-align: right;\">\n",
              "      <th></th>\n",
              "      <th>date</th>\n",
              "      <th>prediction_5</th>\n",
              "      <th>prediction_25</th>\n",
              "      <th>prediction</th>\n",
              "      <th>prediction_75</th>\n",
              "      <th>prediction_95</th>\n",
              "    </tr>\n",
              "  </thead>\n",
              "  <tbody>\n",
              "    <tr>\n",
              "      <th>0</th>\n",
              "      <td>2022-01-01</td>\n",
              "      <td>-24.683015</td>\n",
              "      <td>-20.830523</td>\n",
              "      <td>-18.595878</td>\n",
              "      <td>-16.134464</td>\n",
              "      <td>-12.740479</td>\n",
              "    </tr>\n",
              "    <tr>\n",
              "      <th>1</th>\n",
              "      <td>2022-01-02</td>\n",
              "      <td>-26.672280</td>\n",
              "      <td>-23.021408</td>\n",
              "      <td>-20.495362</td>\n",
              "      <td>-17.974727</td>\n",
              "      <td>-13.793323</td>\n",
              "    </tr>\n",
              "    <tr>\n",
              "      <th>2</th>\n",
              "      <td>2022-01-03</td>\n",
              "      <td>-26.396086</td>\n",
              "      <td>-22.379403</td>\n",
              "      <td>-19.988541</td>\n",
              "      <td>-17.355217</td>\n",
              "      <td>-13.626189</td>\n",
              "    </tr>\n",
              "    <tr>\n",
              "      <th>3</th>\n",
              "      <td>2022-01-04</td>\n",
              "      <td>-25.116591</td>\n",
              "      <td>-21.176059</td>\n",
              "      <td>-18.806518</td>\n",
              "      <td>-16.418047</td>\n",
              "      <td>-12.455695</td>\n",
              "    </tr>\n",
              "    <tr>\n",
              "      <th>4</th>\n",
              "      <td>2022-01-05</td>\n",
              "      <td>-26.928664</td>\n",
              "      <td>-22.712882</td>\n",
              "      <td>-20.434940</td>\n",
              "      <td>-17.910603</td>\n",
              "      <td>-14.290843</td>\n",
              "    </tr>\n",
              "    <tr>\n",
              "      <th>...</th>\n",
              "      <td>...</td>\n",
              "      <td>...</td>\n",
              "      <td>...</td>\n",
              "      <td>...</td>\n",
              "      <td>...</td>\n",
              "      <td>...</td>\n",
              "    </tr>\n",
              "    <tr>\n",
              "      <th>95</th>\n",
              "      <td>2022-04-06</td>\n",
              "      <td>-30.556019</td>\n",
              "      <td>-25.434078</td>\n",
              "      <td>-22.271802</td>\n",
              "      <td>-19.084969</td>\n",
              "      <td>-14.091015</td>\n",
              "    </tr>\n",
              "    <tr>\n",
              "      <th>96</th>\n",
              "      <td>2022-04-07</td>\n",
              "      <td>-32.947459</td>\n",
              "      <td>-28.030551</td>\n",
              "      <td>-24.648628</td>\n",
              "      <td>-21.679207</td>\n",
              "      <td>-16.491113</td>\n",
              "    </tr>\n",
              "    <tr>\n",
              "      <th>97</th>\n",
              "      <td>2022-04-08</td>\n",
              "      <td>-31.805353</td>\n",
              "      <td>-27.343419</td>\n",
              "      <td>-24.207213</td>\n",
              "      <td>-21.055632</td>\n",
              "      <td>-16.127917</td>\n",
              "    </tr>\n",
              "    <tr>\n",
              "      <th>98</th>\n",
              "      <td>2022-04-09</td>\n",
              "      <td>-24.174013</td>\n",
              "      <td>-18.344562</td>\n",
              "      <td>-15.289616</td>\n",
              "      <td>-11.990392</td>\n",
              "      <td>-7.011746</td>\n",
              "    </tr>\n",
              "    <tr>\n",
              "      <th>99</th>\n",
              "      <td>2022-04-10</td>\n",
              "      <td>-16.440645</td>\n",
              "      <td>-11.531603</td>\n",
              "      <td>-8.256274</td>\n",
              "      <td>-4.759714</td>\n",
              "      <td>0.479198</td>\n",
              "    </tr>\n",
              "  </tbody>\n",
              "</table>\n",
              "<p>100 rows × 6 columns</p>\n",
              "</div>"
            ],
            "text/plain": [
              "         date  prediction_5  prediction_25  prediction  prediction_75  \\\n",
              "0  2022-01-01    -24.683015     -20.830523  -18.595878     -16.134464   \n",
              "1  2022-01-02    -26.672280     -23.021408  -20.495362     -17.974727   \n",
              "2  2022-01-03    -26.396086     -22.379403  -19.988541     -17.355217   \n",
              "3  2022-01-04    -25.116591     -21.176059  -18.806518     -16.418047   \n",
              "4  2022-01-05    -26.928664     -22.712882  -20.434940     -17.910603   \n",
              "..        ...           ...            ...         ...            ...   \n",
              "95 2022-04-06    -30.556019     -25.434078  -22.271802     -19.084969   \n",
              "96 2022-04-07    -32.947459     -28.030551  -24.648628     -21.679207   \n",
              "97 2022-04-08    -31.805353     -27.343419  -24.207213     -21.055632   \n",
              "98 2022-04-09    -24.174013     -18.344562  -15.289616     -11.990392   \n",
              "99 2022-04-10    -16.440645     -11.531603   -8.256274      -4.759714   \n",
              "\n",
              "    prediction_95  \n",
              "0      -12.740479  \n",
              "1      -13.793323  \n",
              "2      -13.626189  \n",
              "3      -12.455695  \n",
              "4      -14.290843  \n",
              "..            ...  \n",
              "95     -14.091015  \n",
              "96     -16.491113  \n",
              "97     -16.127917  \n",
              "98      -7.011746  \n",
              "99       0.479198  \n",
              "\n",
              "[100 rows x 6 columns]"
            ]
          },
          "execution_count": 31,
          "metadata": {},
          "output_type": "execute_result"
        }
      ],
      "source": [
        "pred_df"
      ]
    },
    {
      "cell_type": "code",
      "execution_count": null,
      "metadata": {},
      "outputs": [],
      "source": []
    }
  ],
  "metadata": {
    "colab": {
      "provenance": []
    },
    "kernelspec": {
      "display_name": "my_env",
      "language": "python",
      "name": "python3"
    },
    "language_info": {
      "codemirror_mode": {
        "name": "ipython",
        "version": 3
      },
      "file_extension": ".py",
      "mimetype": "text/x-python",
      "name": "python",
      "nbconvert_exporter": "python",
      "pygments_lexer": "ipython3",
      "version": "3.10.16"
    }
  },
  "nbformat": 4,
  "nbformat_minor": 0
}
