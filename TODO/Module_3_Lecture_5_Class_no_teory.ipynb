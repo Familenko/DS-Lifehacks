{
 "cells": [
  {
   "cell_type": "code",
   "execution_count": 1,
   "id": "df707fdf",
   "metadata": {},
   "outputs": [
    {
     "name": "stderr",
     "output_type": "stream",
     "text": [
      "/var/folders/7x/q4zhf1wx08z6l2f4bqz5b8dc0000gn/T/ipykernel_73814/3081382395.py:4: TqdmExperimentalWarning: Using `tqdm.autonotebook.tqdm` in notebook mode. Use `tqdm.tqdm` instead to force console mode (e.g. in jupyter console)\n",
      "  from tqdm.autonotebook import tqdm\n"
     ]
    }
   ],
   "source": [
    "import os\n",
    "import random\n",
    "from collections import defaultdict\n",
    "from tqdm.autonotebook import tqdm\n",
    "\n",
    "import pandas as pd\n",
    "import numpy as np\n",
    "\n",
    "import matplotlib.pyplot as plt\n",
    "from mpl_toolkits.axes_grid1 import ImageGrid\n",
    "\n",
    "import cv2\n",
    "from PIL import Image\n",
    "\n",
    "import torch\n",
    "from torch import nn\n",
    "from torch.utils.data import Dataset, DataLoader\n",
    "import torchvision.transforms as T\n",
    "import torch.nn.functional as F\n",
    "\n",
    "from sklearn.metrics import balanced_accuracy_score\n",
    "\n",
    "import warnings\n",
    "# filter warnings\n",
    "warnings.filterwarnings('ignore')"
   ]
  },
  {
   "cell_type": "code",
   "execution_count": 2,
   "id": "c6ffee0b",
   "metadata": {},
   "outputs": [],
   "source": [
    "data_path = '../data/Module_3_Lecture_1_SIGNS_dataset/'\n",
    "splits = ['train', 'test']"
   ]
  },
  {
   "cell_type": "markdown",
   "id": "f3432153",
   "metadata": {},
   "source": [
    "## Baseline"
   ]
  },
  {
   "cell_type": "code",
   "execution_count": 3,
   "id": "93386d71",
   "metadata": {},
   "outputs": [],
   "source": [
    "class SIGNSDataset(Dataset):\n",
    "    def __init__(self, data_dir, transform):      \n",
    "        #store filenames\n",
    "        self.filenames = os.listdir(data_dir)\n",
    "        self.filenames = [os.path.join(data_dir, f) for f in self.filenames if f.endswith('.jpg')]\n",
    "        #the first character of the filename contains the label\n",
    "        self.labels = [int(filename.split('/')[-1][0]) for filename in self.filenames]\n",
    "        self.transform = transform\n",
    "\n",
    "    def __len__(self):\n",
    "        #return size of dataset\n",
    "        return len(self.filenames)\n",
    "\n",
    "    def __getitem__(self, idx):\n",
    "        #open image, apply transforms and return with label\n",
    "        image = Image.open(self.filenames[idx])  # PIL image\n",
    "        image = self.transform(image)\n",
    "        return image, self.labels[idx]"
   ]
  },
  {
   "cell_type": "code",
   "execution_count": 4,
   "id": "fabbf4f3",
   "metadata": {},
   "outputs": [],
   "source": [
    "train_transformer = T.Compose([\n",
    "    T.Resize(64),              # resize the image to 64x64 \n",
    "    T.RandomHorizontalFlip(),  # randomly flip image horizontally\n",
    "    T.ToTensor()])             # transform it into a PyTorch Tensor\n",
    "\n",
    "test_transformer = T.Compose([\n",
    "    T.Resize(64),\n",
    "    T.ToTensor()])"
   ]
  },
  {
   "cell_type": "code",
   "execution_count": 5,
   "id": "f237c9bc",
   "metadata": {},
   "outputs": [],
   "source": [
    "train_dataset = SIGNSDataset(f'{data_path}train_signs/', train_transformer)\n",
    "test_dataset = SIGNSDataset(f'{data_path}test_signs/', test_transformer)"
   ]
  },
  {
   "cell_type": "code",
   "execution_count": 6,
   "id": "c42bb596",
   "metadata": {},
   "outputs": [
    {
     "data": {
      "text/plain": [
       "['../data/Module_3_Lecture_1_SIGNS_dataset/train_signs/5_IMG_5556.jpg',\n",
       " '../data/Module_3_Lecture_1_SIGNS_dataset/train_signs/3_IMG_6138.jpg',\n",
       " '../data/Module_3_Lecture_1_SIGNS_dataset/train_signs/5_IMG_5542.jpg',\n",
       " '../data/Module_3_Lecture_1_SIGNS_dataset/train_signs/3_IMG_6104.jpg',\n",
       " '../data/Module_3_Lecture_1_SIGNS_dataset/train_signs/5_IMG_5595.jpg']"
      ]
     },
     "execution_count": 6,
     "metadata": {},
     "output_type": "execute_result"
    }
   ],
   "source": [
    "train_dataset.filenames[:5]"
   ]
  },
  {
   "cell_type": "code",
   "execution_count": 7,
   "id": "ecf1a2cd",
   "metadata": {
    "code_folding": []
   },
   "outputs": [],
   "source": [
    "class BaselineModel(nn.Module):\n",
    "\n",
    "    def __init__(self, ): \n",
    "        super().__init__()\n",
    "        self.num_channels = 32\n",
    "        \n",
    "        # each of the convolution layers below have the arguments (input_channels, output_channels, filter_size,\n",
    "        # stride, padding). We also include batch normalisation layers that help stabilise training.\n",
    "\n",
    "        self.conv1 = nn.Conv2d(3, self.num_channels, 3, stride=1, padding=1)\n",
    "        self.conv2 = nn.Conv2d(self.num_channels, self.num_channels*2, 3, stride=1, padding=1)\n",
    "        self.conv3 = nn.Conv2d(self.num_channels*2, self.num_channels*4, 3, stride=1, padding=1)\n",
    "\n",
    "        # 2 fully connected layers to transform the output of the convolution layers to the final output\n",
    "        self.fc1 = nn.Linear(8*8*self.num_channels*4, self.num_channels*4)\n",
    "        self.fc2 = nn.Linear(self.num_channels*4, 6)       \n",
    "\n",
    "    def forward(self, s):\n",
    "        #                                                  -> batch_size x 3 x 64 x 64\n",
    "        # we apply the convolution layers, followed by batch normalisation, maxpool and relu x 3\n",
    "        s = self.conv1(s)                                   # batch_size x num_channels x 64 x 64\n",
    "        s = F.relu(F.max_pool2d(s, 2))                      # batch_size x num_channels x 32 x 32\n",
    "        s = self.conv2(s)                                   # batch_size x num_channels*2 x 32 x 32\n",
    "        s = F.relu(F.max_pool2d(s, 2))                      # batch_size x num_channels*2 x 16 x 16\n",
    "        s = self.conv3(s)                                   # batch_size x num_channels*4 x 16 x 16\n",
    "        s = F.relu(F.max_pool2d(s, 2))                      # batch_size x num_channels*4 x 8 x 8\n",
    "\n",
    "        # flatten the output for each image\n",
    "        s = s.view(-1, 8*8*self.num_channels*4)             # batch_size x 8*8*num_channels*4\n",
    "\n",
    "        # apply 2 fully connected layers with dropout\n",
    "        s = F.relu(self.fc1(s))                             # batch_size x self.num_channels*4\n",
    "        s = self.fc2(s)                                     # batch_size x 6\n",
    "\n",
    "        # apply log softmax on each image's output (this is recommended over applying softmax\n",
    "        # since it is numerically more stable)\n",
    "        return F.log_softmax(s, dim=1)\n"
   ]
  },
  {
   "cell_type": "code",
   "execution_count": 9,
   "id": "a63c55db",
   "metadata": {},
   "outputs": [
    {
     "name": "stdout",
     "output_type": "stream",
     "text": [
      "Використовується пристрій: mps\n"
     ]
    }
   ],
   "source": [
    "device = 'mps' if torch.backends.mps.is_available() else 'cpu'\n",
    "print(\"Використовується пристрій:\", device)"
   ]
  },
  {
   "cell_type": "code",
   "execution_count": 10,
   "id": "080735dd",
   "metadata": {},
   "outputs": [],
   "source": [
    "train_dataloader = DataLoader(train_dataset,\n",
    "                              batch_size=32, \n",
    "                              shuffle=True,\n",
    "                              num_workers=0)\n",
    "\n",
    "test_dataloader = DataLoader(test_dataset,\n",
    "                             batch_size=32, \n",
    "                             shuffle=False,\n",
    "                             num_workers=0)"
   ]
  },
  {
   "cell_type": "code",
   "execution_count": 11,
   "id": "4c0026d9",
   "metadata": {},
   "outputs": [],
   "source": [
    "# Define the model and optimizer\n",
    "model = BaselineModel().to(device) \n",
    "optimizer = torch.optim.Adam(model.parameters(), lr=1e-3)"
   ]
  },
  {
   "cell_type": "code",
   "execution_count": 12,
   "id": "6df54f4d",
   "metadata": {},
   "outputs": [
    {
     "data": {
      "text/plain": [
       "BaselineModel(\n",
       "  (conv1): Conv2d(3, 32, kernel_size=(3, 3), stride=(1, 1), padding=(1, 1))\n",
       "  (conv2): Conv2d(32, 64, kernel_size=(3, 3), stride=(1, 1), padding=(1, 1))\n",
       "  (conv3): Conv2d(64, 128, kernel_size=(3, 3), stride=(1, 1), padding=(1, 1))\n",
       "  (fc1): Linear(in_features=8192, out_features=128, bias=True)\n",
       "  (fc2): Linear(in_features=128, out_features=6, bias=True)\n",
       ")"
      ]
     },
     "execution_count": 12,
     "metadata": {},
     "output_type": "execute_result"
    }
   ],
   "source": [
    "model"
   ]
  },
  {
   "cell_type": "code",
   "execution_count": 14,
   "id": "4b23d5c7",
   "metadata": {},
   "outputs": [
    {
     "data": {
      "application/vnd.jupyter.widget-view+json": {
       "model_id": "109cd8e687154611b683fd2037bdb43d",
       "version_major": 2,
       "version_minor": 0
      },
      "text/plain": [
       "  0%|          | 0/15 [00:00<?, ?it/s]"
      ]
     },
     "metadata": {},
     "output_type": "display_data"
    },
    {
     "data": {
      "application/vnd.jupyter.widget-view+json": {
       "model_id": "5e53478dab1c46c9a131e78e34344128",
       "version_major": 2,
       "version_minor": 0
      },
      "text/plain": [
       "0it [00:00, ?it/s]"
      ]
     },
     "metadata": {},
     "output_type": "display_data"
    },
    {
     "name": "stdout",
     "output_type": "stream",
     "text": [
      "Train epoch [1/15], Loss: 1.7945, Acc: 0.17038690476190477\n",
      "Test epoch [1/15], Loss: 1.7797, Acc: 0.1640625\n"
     ]
    },
    {
     "data": {
      "application/vnd.jupyter.widget-view+json": {
       "model_id": "4c2cf3b915954f9da32328d349211a26",
       "version_major": 2,
       "version_minor": 0
      },
      "text/plain": [
       "0it [00:00, ?it/s]"
      ]
     },
     "metadata": {},
     "output_type": "display_data"
    },
    {
     "name": "stdout",
     "output_type": "stream",
     "text": [
      "Train epoch [2/15], Loss: 1.6551, Acc: 0.3530797948956101\n",
      "Test epoch [2/15], Loss: 1.5183, Acc: 0.5507837301587302\n"
     ]
    },
    {
     "data": {
      "application/vnd.jupyter.widget-view+json": {
       "model_id": "11f552dc4e9c4fcc92c9f2bbd7f578b3",
       "version_major": 2,
       "version_minor": 0
      },
      "text/plain": [
       "0it [00:00, ?it/s]"
      ]
     },
     "metadata": {},
     "output_type": "display_data"
    },
    {
     "name": "stdout",
     "output_type": "stream",
     "text": [
      "Train epoch [3/15], Loss: 1.2929, Acc: 0.5747335121145674\n",
      "Test epoch [3/15], Loss: 1.0740, Acc: 0.7186011904761904\n"
     ]
    },
    {
     "data": {
      "application/vnd.jupyter.widget-view+json": {
       "model_id": "c0f382efc13946018998fa97e4162965",
       "version_major": 2,
       "version_minor": 0
      },
      "text/plain": [
       "0it [00:00, ?it/s]"
      ]
     },
     "metadata": {},
     "output_type": "display_data"
    },
    {
     "name": "stdout",
     "output_type": "stream",
     "text": [
      "Train epoch [4/15], Loss: 0.9462, Acc: 0.6857315097756275\n",
      "Test epoch [4/15], Loss: 0.8102, Acc: 0.7088492063492063\n"
     ]
    },
    {
     "data": {
      "application/vnd.jupyter.widget-view+json": {
       "model_id": "5ffcb29458704d31ad976cb889228fcb",
       "version_major": 2,
       "version_minor": 0
      },
      "text/plain": [
       "0it [00:00, ?it/s]"
      ]
     },
     "metadata": {},
     "output_type": "display_data"
    },
    {
     "name": "stdout",
     "output_type": "stream",
     "text": [
      "Train epoch [5/15], Loss: 0.7200, Acc: 0.7800503282120929\n",
      "Test epoch [5/15], Loss: 0.6053, Acc: 0.8230654761904762\n"
     ]
    },
    {
     "data": {
      "application/vnd.jupyter.widget-view+json": {
       "model_id": "626c982d7e354762be6b98d49378e5bf",
       "version_major": 2,
       "version_minor": 0
      },
      "text/plain": [
       "0it [00:00, ?it/s]"
      ]
     },
     "metadata": {},
     "output_type": "display_data"
    },
    {
     "name": "stdout",
     "output_type": "stream",
     "text": [
      "Train epoch [6/15], Loss: 0.5072, Acc: 0.8468220368955663\n",
      "Test epoch [6/15], Loss: 0.4011, Acc: 0.8959160052910052\n"
     ]
    },
    {
     "data": {
      "application/vnd.jupyter.widget-view+json": {
       "model_id": "84ed5350d78d4797a4d0cf93a9a34f03",
       "version_major": 2,
       "version_minor": 0
      },
      "text/plain": [
       "0it [00:00, ?it/s]"
      ]
     },
     "metadata": {},
     "output_type": "display_data"
    },
    {
     "name": "stdout",
     "output_type": "stream",
     "text": [
      "Train epoch [7/15], Loss: 0.4436, Acc: 0.8443538678097501\n",
      "Test epoch [7/15], Loss: 0.3537, Acc: 0.8851957070707072\n"
     ]
    },
    {
     "data": {
      "application/vnd.jupyter.widget-view+json": {
       "model_id": "0688f8ce7efb4811a4f7e5a6d3a5ce50",
       "version_major": 2,
       "version_minor": 0
      },
      "text/plain": [
       "0it [00:00, ?it/s]"
      ]
     },
     "metadata": {},
     "output_type": "display_data"
    },
    {
     "name": "stdout",
     "output_type": "stream",
     "text": [
      "Train epoch [8/15], Loss: 0.3421, Acc: 0.8781937017231135\n",
      "Test epoch [8/15], Loss: 0.3561, Acc: 0.8710813492063492\n"
     ]
    },
    {
     "data": {
      "application/vnd.jupyter.widget-view+json": {
       "model_id": "4bd6d4b7cd224a48a03e491c734302f2",
       "version_major": 2,
       "version_minor": 0
      },
      "text/plain": [
       "0it [00:00, ?it/s]"
      ]
     },
     "metadata": {},
     "output_type": "display_data"
    },
    {
     "name": "stdout",
     "output_type": "stream",
     "text": [
      "Train epoch [9/15], Loss: 0.3283, Acc: 0.8917320968791557\n",
      "Test epoch [9/15], Loss: 0.3369, Acc: 0.8759424603174603\n"
     ]
    },
    {
     "data": {
      "application/vnd.jupyter.widget-view+json": {
       "model_id": "ebc6fea1bfbe415cb251f4c2c27b9e1c",
       "version_major": 2,
       "version_minor": 0
      },
      "text/plain": [
       "0it [00:00, ?it/s]"
      ]
     },
     "metadata": {},
     "output_type": "display_data"
    },
    {
     "name": "stdout",
     "output_type": "stream",
     "text": [
      "Train epoch [10/15], Loss: 0.2514, Acc: 0.9092081529581529\n",
      "Test epoch [10/15], Loss: 0.4154, Acc: 0.8491567460317461\n"
     ]
    },
    {
     "data": {
      "application/vnd.jupyter.widget-view+json": {
       "model_id": "848f35621e0f4ac0ab77eb719ef04a36",
       "version_major": 2,
       "version_minor": 0
      },
      "text/plain": [
       "0it [00:00, ?it/s]"
      ]
     },
     "metadata": {},
     "output_type": "display_data"
    },
    {
     "name": "stdout",
     "output_type": "stream",
     "text": [
      "Train epoch [11/15], Loss: 0.2754, Acc: 0.906491561270973\n",
      "Test epoch [11/15], Loss: 0.2819, Acc: 0.9268518518518519\n"
     ]
    },
    {
     "data": {
      "application/vnd.jupyter.widget-view+json": {
       "model_id": "6e081d9266d946588ebc643b814bf656",
       "version_major": 2,
       "version_minor": 0
      },
      "text/plain": [
       "0it [00:00, ?it/s]"
      ]
     },
     "metadata": {},
     "output_type": "display_data"
    },
    {
     "name": "stdout",
     "output_type": "stream",
     "text": [
      "Train epoch [12/15], Loss: 0.1807, Acc: 0.9413591446679682\n",
      "Test epoch [12/15], Loss: 0.2608, Acc: 0.9137731481481481\n"
     ]
    },
    {
     "data": {
      "application/vnd.jupyter.widget-view+json": {
       "model_id": "ca335bc42f8845648e80a99d3bc2ac03",
       "version_major": 2,
       "version_minor": 0
      },
      "text/plain": [
       "0it [00:00, ?it/s]"
      ]
     },
     "metadata": {},
     "output_type": "display_data"
    },
    {
     "name": "stdout",
     "output_type": "stream",
     "text": [
      "Train epoch [13/15], Loss: 0.1493, Acc: 0.9607646846617435\n",
      "Test epoch [13/15], Loss: 0.2922, Acc: 0.9265211640211639\n"
     ]
    },
    {
     "data": {
      "application/vnd.jupyter.widget-view+json": {
       "model_id": "827f02eb616743aeb65d6ed61d25612d",
       "version_major": 2,
       "version_minor": 0
      },
      "text/plain": [
       "0it [00:00, ?it/s]"
      ]
     },
     "metadata": {},
     "output_type": "display_data"
    },
    {
     "name": "stdout",
     "output_type": "stream",
     "text": [
      "Train epoch [14/15], Loss: 0.1548, Acc: 0.9475256769374418\n",
      "Test epoch [14/15], Loss: 0.2952, Acc: 0.9185846560846561\n"
     ]
    },
    {
     "data": {
      "application/vnd.jupyter.widget-view+json": {
       "model_id": "8879a64ac041401abe0d86912503a54e",
       "version_major": 2,
       "version_minor": 0
      },
      "text/plain": [
       "0it [00:00, ?it/s]"
      ]
     },
     "metadata": {},
     "output_type": "display_data"
    },
    {
     "name": "stdout",
     "output_type": "stream",
     "text": [
      "Train epoch [15/15], Loss: 0.1235, Acc: 0.9593446722123192\n",
      "Test epoch [15/15], Loss: 0.2739, Acc: 0.9370039682539683\n"
     ]
    }
   ],
   "source": [
    "# Train the model\n",
    "criterion = nn.CrossEntropyLoss().to(device)\n",
    "\n",
    "train_losses = []\n",
    "train_accs = []\n",
    "\n",
    "test_losses = []\n",
    "test_accs = []\n",
    "\n",
    "num_epochs = 15\n",
    "\n",
    "for epoch in tqdm(range(num_epochs)):\n",
    "    \n",
    "    # Train step\n",
    "    model.train()\n",
    "    train_epoch_loss = []\n",
    "    train_epoch_acc = []\n",
    "    \n",
    "    for i, (train_batch, labels_batch) in tqdm(enumerate(train_dataloader)):\n",
    "        train_batch, labels_batch = train_batch.to(device), labels_batch.to(device)\n",
    "\n",
    "        # compute model output and loss\n",
    "        output_batch = model(train_batch)\n",
    "        loss = criterion(output_batch, labels_batch)\n",
    "\n",
    "        # clear previous gradients, compute gradients of all variables wrt loss\n",
    "        optimizer.zero_grad()\n",
    "        loss.backward()\n",
    "\n",
    "        # performs updates using calculated gradients\n",
    "        optimizer.step()\n",
    "        \n",
    "        batch_loss = loss.cpu().detach().numpy()\n",
    "        batch_acc = balanced_accuracy_score(np.argmax(output_batch.cpu().detach().numpy(), axis=1),\n",
    "                                            labels_batch.cpu().detach().numpy())\n",
    "        \n",
    "        train_epoch_loss.append(batch_loss)\n",
    "        train_epoch_acc.append(batch_acc)\n",
    "    \n",
    "    print(f'Train epoch [{epoch+1}/{num_epochs}], Loss: {np.mean(train_epoch_loss):.4f}, Acc: {np.mean(train_epoch_acc)}')\n",
    "    train_accs.append(np.mean(train_epoch_acc))\n",
    "    train_losses.append(np.mean(train_epoch_loss))\n",
    "    \n",
    "    # Eval step\n",
    "    model.eval()\n",
    "    test_epoch_loss = []\n",
    "    test_epoch_acc = []\n",
    "    \n",
    "    with torch.no_grad():\n",
    "        for i, (test_batch, labels_batch) in enumerate(test_dataloader):\n",
    "            test_batch, labels_batch = test_batch.to(device), labels_batch.to(device)\n",
    "\n",
    "            # compute model output and loss\n",
    "            output_batch = model(test_batch)\n",
    "            loss = criterion(output_batch, labels_batch)\n",
    "\n",
    "            batch_loss = loss.cpu().detach().numpy()\n",
    "            batch_acc = balanced_accuracy_score(np.argmax(output_batch.cpu().detach().numpy(), axis=1),\n",
    "                                                labels_batch.cpu().detach().numpy())\n",
    "\n",
    "            test_epoch_loss.append(batch_loss)\n",
    "            test_epoch_acc.append(batch_acc)\n",
    "    \n",
    "    print(f'Test epoch [{epoch+1}/{num_epochs}], Loss: {np.mean(test_epoch_loss):.4f}, Acc: {np.mean(test_epoch_acc)}')        \n",
    "    test_accs.append(np.mean(test_epoch_acc))\n",
    "    test_losses.append(np.mean(test_epoch_loss))\n"
   ]
  },
  {
   "cell_type": "code",
   "execution_count": 15,
   "id": "6f3fc669",
   "metadata": {},
   "outputs": [
    {
     "data": {
      "image/png": "[encoded data removed]",
      "text/plain": [
       "<Figure size 400x300 with 1 Axes>"
      ]
     },
     "metadata": {},
     "output_type": "display_data"
    }
   ],
   "source": [
    "plt.figure(figsize=(4, 3))\n",
    "plt.plot(train_losses, label='Train')\n",
    "plt.plot(test_losses, label='Validation')\n",
    "plt.legend(loc='best')\n",
    "plt.xlabel('Epochs')\n",
    "plt.ylabel('Cross-Entropy Loss')\n",
    "plt.title('Training vs Validation Loss')\n",
    "plt.show()"
   ]
  },
  {
   "cell_type": "code",
   "execution_count": 16,
   "id": "762ba214",
   "metadata": {},
   "outputs": [
    {
     "data": {
      "image/png": "[encoded data removed]",
      "text/plain": [
       "<Figure size 400x300 with 1 Axes>"
      ]
     },
     "metadata": {},
     "output_type": "display_data"
    }
   ],
   "source": [
    "plt.figure(figsize=(4, 3))\n",
    "plt.plot(train_accs, label='Train')\n",
    "plt.plot(test_accs, label='Validation')\n",
    "plt.legend(loc='best')\n",
    "plt.xlabel('Epochs')\n",
    "plt.ylabel('Accuracy')\n",
    "plt.title('Training vs Validation Metric')\n",
    "plt.show()"
   ]
  }
 ],
 "metadata": {
  "kernelspec": {
   "display_name": "goit",
   "language": "python",
   "name": "python3"
  },
  "language_info": {
   "codemirror_mode": {
    "name": "ipython",
    "version": 3
   },
   "file_extension": ".py",
   "mimetype": "text/x-python",
   "name": "python",
   "nbconvert_exporter": "python",
   "pygments_lexer": "ipython3",
   "version": "3.10.16"
  },
  "toc": {
   "base_numbering": 1,
   "nav_menu": {},
   "number_sections": true,
   "sideBar": true,
   "skip_h1_title": false,
   "title_cell": "Table of Contents",
   "title_sidebar": "Contents",
   "toc_cell": false,
   "toc_position": {},
   "toc_section_display": true,
   "toc_window_display": false
  }
 },
 "nbformat": 4,
 "nbformat_minor": 5
}
