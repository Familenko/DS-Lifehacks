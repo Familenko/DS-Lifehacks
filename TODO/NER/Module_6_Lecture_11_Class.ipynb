{
 "cells": [
  {
   "cell_type": "markdown",
   "id": "a622191d",
   "metadata": {},
   "source": [
    "# df"
   ]
  },
  {
   "cell_type": "code",
   "execution_count": 1,
   "id": "e676858e",
   "metadata": {},
   "outputs": [],
   "source": [
    "import os\n",
    "import gc\n",
    "import math\n",
    "import random\n",
    "from collections import defaultdict\n",
    "\n",
    "import pandas as pd\n",
    "import numpy as np\n",
    "\n",
    "import matplotlib.pyplot as plt\n",
    "\n",
    "import torch\n",
    "from torch.utils.data import Dataset, DataLoader\n",
    "import torch.nn as nn\n",
    "from torch.nn.utils.rnn import pack_padded_sequence, pad_packed_sequence\n",
    "\n",
    "from torch.optim import Adam\n",
    "from tqdm import tqdm_notebook as tqdm\n",
    "\n",
    "from sklearn.metrics import classification_report, f1_score\n",
    "\n",
    "import warnings\n",
    "warnings.filterwarnings('ignore')"
   ]
  },
  {
   "cell_type": "code",
   "execution_count": null,
   "id": "414003ae",
   "metadata": {},
   "outputs": [],
   "source": [
    "data_path = 'Module_6_Lecture_1_CoNLL2003/'\n",
    "\n",
    "device = torch.device(\"cuda\" if torch.cuda.is_available() else \"cpu\")"
   ]
  },
  {
   "cell_type": "code",
   "execution_count": 3,
   "id": "05b7692f",
   "metadata": {},
   "outputs": [],
   "source": [
    "def load_sentences(filepath):\n",
    "    final = []\n",
    "    sentences = []\n",
    "    with open(filepath, 'r') as f:\n",
    "        for line in f.readlines():\n",
    "            if (line == ('-DOCSTART- -X- -X- O\\n') or line == '\\n'):\n",
    "                if len(sentences) > 0:\n",
    "                    final.append(sentences)\n",
    "                    sentences = []\n",
    "            else:\n",
    "                l = line.split(' ')\n",
    "                sentences.append((l[0], l[3].strip('\\n')))\n",
    "    return final"
   ]
  },
  {
   "cell_type": "code",
   "execution_count": 4,
   "id": "9c997bcc",
   "metadata": {},
   "outputs": [],
   "source": [
    "train_sents = load_sentences(data_path + 'train.txt')\n",
    "test_sents = load_sentences(data_path + 'test.txt')\n",
    "val_sents = load_sentences(data_path + 'valid.txt')"
   ]
  },
  {
   "cell_type": "code",
   "execution_count": 5,
   "id": "c661c043",
   "metadata": {},
   "outputs": [
    {
     "data": {
      "text/plain": [
       "[[('EU', 'B-ORG'),\n",
       "  ('rejects', 'O'),\n",
       "  ('German', 'B-MISC'),\n",
       "  ('call', 'O'),\n",
       "  ('to', 'O'),\n",
       "  ('boycott', 'O'),\n",
       "  ('British', 'B-MISC'),\n",
       "  ('lamb', 'O'),\n",
       "  ('.', 'O')],\n",
       " [('Peter', 'B-PER'), ('Blackburn', 'I-PER')],\n",
       " [('BRUSSELS', 'B-LOC'), ('1996-08-22', 'O')]]"
      ]
     },
     "execution_count": 5,
     "metadata": {},
     "output_type": "execute_result"
    }
   ],
   "source": [
    "train_sents[:3]"
   ]
  },
  {
   "cell_type": "code",
   "execution_count": 6,
   "id": "90f2a186",
   "metadata": {},
   "outputs": [],
   "source": [
    "ner_labels = ['O', 'B-PER', 'I-PER', 'B-ORG', 'I-ORG', 'B-LOC', 'I-LOC', 'B-MISC', 'I-MISC']\n",
    "id2label = {str(i): label for i, label in enumerate(ner_labels)}\n",
    "label2id = {value: int(key) for key, value in id2label.items()}"
   ]
  },
  {
   "cell_type": "code",
   "execution_count": 7,
   "id": "5e7e6493",
   "metadata": {},
   "outputs": [],
   "source": [
    "def get_df(samples):\n",
    "    df,label = [], []\n",
    "    for lines in samples:\n",
    "        cur_line, cur_label = list(zip(*lines))\n",
    "        df.append(list(cur_line))\n",
    "        label.append([label2id[i] for i in cur_label])\n",
    "    return {'text':df, 'label':label}"
   ]
  },
  {
   "cell_type": "code",
   "execution_count": 8,
   "id": "ffba8594",
   "metadata": {},
   "outputs": [],
   "source": [
    "train_df = get_df(train_sents)\n",
    "test_df = get_df(test_sents)\n",
    "val_df = get_df(val_sents)"
   ]
  },
  {
   "cell_type": "code",
   "execution_count": 9,
   "id": "8230216a",
   "metadata": {},
   "outputs": [],
   "source": [
    "word_dict = defaultdict(int)\n",
    "\n",
    "for line in train_df['text']:\n",
    "    for word in line:\n",
    "        word_dict[word] += 1\n",
    "\n",
    "lower_freq_word = []\n",
    "for k,v in word_dict.items():\n",
    "    if v < 2:\n",
    "        lower_freq_word.append(k)\n",
    "\n",
    "for word in lower_freq_word:\n",
    "    del word_dict[word]\n",
    "    \n",
    "word_dict['<UNK>'] = -1\n",
    "word_dict['<PAD>'] = -2\n",
    "\n",
    "word2id = {}\n",
    "\n",
    "for idx, word in enumerate(word_dict.keys()):\n",
    "    word2id[word] = idx"
   ]
  },
  {
   "cell_type": "code",
   "execution_count": null,
   "id": "d02f2dc8",
   "metadata": {},
   "outputs": [],
   "source": [
    "def prepare_sequence(seq, to_ix):\n",
    "    idxs = []\n",
    "    for w in seq:\n",
    "        if w in to_ix.keys():\n",
    "            idxs.append(to_ix[w])\n",
    "        else:\n",
    "            idxs.append(to_ix['<UNK>'])\n",
    "\n",
    "    return idxs"
   ]
  },
  {
   "cell_type": "code",
   "execution_count": 32,
   "id": "8b6190dd",
   "metadata": {},
   "outputs": [
    {
     "name": "stdout",
     "output_type": "stream",
     "text": [
      "Prepared data: [613, 16, 43, 664, 605, 73, 665, 67, 666, 630, 67, 377, 18, 53, 667, 3, 620, 80, 637, 3, 668, 632, 669, 670, 7]\n",
      "Label: [5, 0, 0, 0, 5, 0, 0, 0, 0, 5, 0, 0, 0, 0, 0, 0, 0, 0, 0, 0, 0, 0, 0, 0, 0]\n",
      "Raw data: ['Israel', 'on', 'Wednesday', 'sent', 'Syria', 'a', 'message', ',', 'via', 'Washington', ',', 'saying', 'it', 'was', 'committed', 'to', 'peace', 'and', 'wanted', 'to', 'open', 'negotiations', 'without', 'preconditions', '.']\n",
      "Too raw data: [('Israel', 'B-LOC'), ('on', 'O'), ('Wednesday', 'O'), ('sent', 'O'), ('Syria', 'B-LOC'), ('a', 'O'), ('message', 'O'), (',', 'O'), ('via', 'O'), ('Washington', 'B-LOC'), (',', 'O'), ('saying', 'O'), ('it', 'O'), ('was', 'O'), ('committed', 'O'), ('to', 'O'), ('peace', 'O'), ('and', 'O'), ('wanted', 'O'), ('to', 'O'), ('open', 'O'), ('negotiations', 'O'), ('without', 'O'), ('preconditions', 'O'), ('.', 'O')]\n"
     ]
    }
   ],
   "source": [
    "to_check = 102\n",
    "\n",
    "prepared_data = prepare_sequence(train_df['text'][to_check], word2id)\n",
    "label = train_df['label'][to_check]\n",
    "raw_data = train_df['text'][to_check]\n",
    "too_raw_data = train_sents[to_check]\n",
    "\n",
    "print(f'Prepared data: {prepared_data}')\n",
    "print(f'Label: {label}')\n",
    "print(f'Raw data: {raw_data}')\n",
    "print(f'Too raw data: {too_raw_data}')"
   ]
  },
  {
   "cell_type": "code",
   "execution_count": 11,
   "id": "efd1d0de",
   "metadata": {
    "code_folding": []
   },
   "outputs": [],
   "source": [
    "class CoNLLDataset(Dataset):\n",
    "    def __init__(self, df):\n",
    "        self.texts = df['text']\n",
    "        self.labels = df['label']\n",
    "\n",
    "    def __len__(self):\n",
    "        return len(self.texts)\n",
    "\n",
    "    def __getitem__(self, item):\n",
    "        inputs = prepare_sequence(self.texts[item], word2id)\n",
    "        label = self.labels[item]\n",
    "        return {\n",
    "            'input_ids': inputs,\n",
    "            'labels': label\n",
    "        }\n",
    "\n",
    "class Collate:\n",
    "    def __init__(self, train):\n",
    "        self.train = train\n",
    "\n",
    "    def __call__(self, batch):\n",
    "        output = dict()\n",
    "        output[\"input_ids\"] = [sample[\"input_ids\"] for sample in batch]\n",
    "        if self.train:\n",
    "            output[\"labels\"] = [sample[\"labels\"] for sample in batch]\n",
    "\n",
    "        # calculate max token length of this batch\n",
    "        batch_max = max([len(ids) for ids in output[\"input_ids\"]])\n",
    "\n",
    "        # add padding\n",
    "\n",
    "        output[\"input_ids\"] = [s + (batch_max - len(s)) * [word2id['<PAD>']] for s in output[\"input_ids\"]]\n",
    "        if self.train:\n",
    "            output['labels'] = [s + (batch_max - len(s)) * [-100] for s in output[\"labels\"]]\n",
    "\n",
    "        # convert to tensors\n",
    "        output[\"input_ids\"] = torch.tensor(output[\"input_ids\"], dtype=torch.long)\n",
    "        if self.train:\n",
    "            output[\"labels\"] = torch.tensor(output[\"labels\"], dtype=torch.long)\n",
    "\n",
    "        return output\n",
    "    \n",
    "collate_fn = Collate(True)  "
   ]
  },
  {
   "cell_type": "code",
   "execution_count": 12,
   "id": "8ec9835c",
   "metadata": {
    "code_folding": []
   },
   "outputs": [],
   "source": [
    "class BiLSTMTagger(nn.Module):\n",
    "\n",
    "    def __init__(self, embedding_dim, hidden_dim, vocab_size, output_size, embeddings=None):\n",
    "        super(BiLSTMTagger, self).__init__()\n",
    "        \n",
    "        # 1. Embedding Layer\n",
    "        if embeddings is None:\n",
    "            self.embeddings = nn.Embedding(vocab_size, embedding_dim)\n",
    "        else:\n",
    "            self.embeddings = nn.Embedding.from_pretrained(embeddings)#, freeze=True)\n",
    "        \n",
    "        # 2. LSTM Layer\n",
    "        self.lstm = nn.LSTM(embedding_dim, hidden_dim, bidirectional=True, num_layers=3, batch_first=True)\n",
    "\n",
    "        # 3. Dense Layer\n",
    "        self.fc = nn.Linear(2*hidden_dim, output_size)\n",
    "        \n",
    "    def forward(self, batch_text):\n",
    "\n",
    "        embeddings = self.embeddings(batch_text)\n",
    "        \n",
    "        lstm_output, _ = self.lstm(embeddings) \n",
    "\n",
    "        logits = self.fc(lstm_output)\n",
    "        return logits"
   ]
  },
  {
   "cell_type": "code",
   "execution_count": 13,
   "id": "24351373",
   "metadata": {
    "code_folding": []
   },
   "outputs": [],
   "source": [
    "def remove_predictions_for_masked_items(predicted_labels, correct_labels): \n",
    "\n",
    "    predicted_labels_without_mask = []\n",
    "    correct_labels_without_mask = []\n",
    "        \n",
    "    for p, c in zip(predicted_labels, correct_labels):\n",
    "        if c > 0:\n",
    "            predicted_labels_without_mask.append(p)\n",
    "            correct_labels_without_mask.append(c)\n",
    "            \n",
    "    return predicted_labels_without_mask, correct_labels_without_mask\n",
    "\n",
    "\n",
    "def train(model, train_loader, val_loader, batch_size, max_epochs, num_batches, patience, output_path):\n",
    "    criterion = nn.CrossEntropyLoss(ignore_index=-100)  # we mask the <pad> labels\n",
    "    optimizer = Adam(model.parameters())\n",
    "\n",
    "    train_f_score_history = []\n",
    "    dev_f_score_history = []\n",
    "    no_improvement = 0\n",
    "    # for epoch in range(max_epochs):\n",
    "    for epoch in tqdm(range(max_epochs), desc=\"Epochs\"):\n",
    "\n",
    "        total_loss = 0\n",
    "        predictions, correct = [], []\n",
    "        model.train()\n",
    "        # for batch in tqdm(train_loader, total=num_batches, desc=f\"Epoch {epoch}\"):\n",
    "        for batch in train_loader:\n",
    "            \n",
    "            cur_batch_size, text_length = batch['input_ids'].shape\n",
    "            \n",
    "            pred = model(batch['input_ids'].to(device)).view(cur_batch_size*text_length, NUM_CLASSES)\n",
    "            gold = batch['labels'].to(device).view(cur_batch_size*text_length)\n",
    "            \n",
    "            loss = criterion(pred, gold)\n",
    "            \n",
    "            total_loss += loss.item()\n",
    "            \n",
    "            optimizer.zero_grad()\n",
    "            loss.backward()\n",
    "            optimizer.step()\n",
    "\n",
    "            _, pred_indices = torch.max(pred, 1)\n",
    "            \n",
    "            predicted_labels = list(pred_indices.cpu().numpy())\n",
    "            correct_labels = list(batch['labels'].view(cur_batch_size*text_length).numpy())\n",
    "            \n",
    "            predicted_labels, correct_labels = remove_predictions_for_masked_items(predicted_labels, \n",
    "                                                                                   correct_labels)\n",
    "            \n",
    "            predictions += predicted_labels\n",
    "            correct += correct_labels\n",
    "\n",
    "        train_score = f1_score(correct, predictions, average=\"macro\")\n",
    "        train_f_score_history.append(train_score)\n",
    "            \n",
    "        print(\"Total training loss:\", total_loss)\n",
    "        print(\"Training Macro F1:\", train_score)\n",
    "        \n",
    "        total_loss = 0\n",
    "        predictions, correct = [], []\n",
    "        \n",
    "        model.eval()\n",
    "        with torch.no_grad():\n",
    "            for batch in val_loader:\n",
    "\n",
    "                cur_batch_size, text_length = batch['input_ids'].shape\n",
    "                \n",
    "                pred = model(batch['input_ids'].to(device)).view(cur_batch_size*text_length, NUM_CLASSES)\n",
    "                gold = batch['labels'].to(device).view(cur_batch_size*text_length)\n",
    "                \n",
    "                loss = criterion(pred, gold)\n",
    "                total_loss += loss.item()\n",
    "\n",
    "                _, pred_indices = torch.max(pred, 1)\n",
    "                predicted_labels = list(pred_indices.cpu().numpy())\n",
    "                correct_labels = list(batch['labels'].view(cur_batch_size*text_length).numpy())\n",
    "\n",
    "                predicted_labels, correct_labels = remove_predictions_for_masked_items(predicted_labels, \n",
    "                                                                                       correct_labels)\n",
    "\n",
    "                predictions += predicted_labels\n",
    "                correct += correct_labels\n",
    "\n",
    "        dev_score = f1_score(correct, predictions, average=\"macro\")\n",
    "            \n",
    "        print(\"Total validation loss:\", total_loss)\n",
    "        print(\"Validation Macro F1:\", dev_score)\n",
    "        \n",
    "        dev_f = dev_score\n",
    "        if len(dev_f_score_history) > patience and dev_f < max(dev_f_score_history):\n",
    "            no_improvement += 1\n",
    "\n",
    "        elif len(dev_f_score_history) == 0 or dev_f > max(dev_f_score_history):\n",
    "            print(\"Saving model.\")\n",
    "            torch.save(model, output_path)\n",
    "            no_improvement = 0\n",
    "            \n",
    "        if no_improvement > patience:\n",
    "            print(\"Validation F-score does not improve anymore. Stop training.\")\n",
    "            dev_f_score_history.append(dev_f)\n",
    "            break\n",
    "            \n",
    "        dev_f_score_history.append(dev_f)\n",
    "        \n",
    "    return train_f_score_history, dev_f_score_history"
   ]
  },
  {
   "cell_type": "code",
   "execution_count": 14,
   "id": "eee106f2",
   "metadata": {
    "code_folding": []
   },
   "outputs": [],
   "source": [
    "def test(model, test_iter, batch_size, labels, target_names): \n",
    "    total_loss = 0\n",
    "    predictions, correct = [], []\n",
    "    \n",
    "    model.eval()\n",
    "    with torch.no_grad():    \n",
    "    \n",
    "        for batch in test_iter:\n",
    "\n",
    "            cur_batch_size, text_length = batch['input_ids'].shape\n",
    "\n",
    "            pred = model(batch['input_ids'].to(device)).view(cur_batch_size*text_length, NUM_CLASSES)\n",
    "            gold = batch['labels'].to(device).view(cur_batch_size*text_length)\n",
    "\n",
    "            _, pred_indices = torch.max(pred, 1)\n",
    "            predicted_labels = list(pred_indices.cpu().numpy())\n",
    "            correct_labels = list(batch['labels'].view(cur_batch_size*text_length).numpy())\n",
    "\n",
    "\n",
    "\n",
    "            predicted_labels, correct_labels = remove_predictions_for_masked_items(predicted_labels, \n",
    "                                                                                   correct_labels)\n",
    "\n",
    "            predictions += predicted_labels\n",
    "            correct += correct_labels\n",
    "    \n",
    "    print(classification_report(correct, predictions, labels=labels, target_names=target_names))"
   ]
  },
  {
   "cell_type": "code",
   "execution_count": 15,
   "id": "6c81bae9",
   "metadata": {},
   "outputs": [],
   "source": [
    "EMBEDDING_DIM = 100\n",
    "HIDDEN_DIM = 64\n",
    "NUM_CLASSES = len(id2label)\n",
    "MAX_EPOCHS = 50\n",
    "PATIENCE = 3\n",
    "BATCH_SIZE = 32\n",
    "VOCAB_SIZE = len(word2id)\n",
    "OUTPUT_PATH = \"/tmp/bilstmtagger\"\n",
    "num_batches = math.ceil(len(train_df) / BATCH_SIZE)"
   ]
  },
  {
   "cell_type": "code",
   "execution_count": 16,
   "id": "eb5a959a",
   "metadata": {},
   "outputs": [],
   "source": [
    "train_dataset = CoNLLDataset(train_df)\n",
    "val_dataset = CoNLLDataset(val_df)\n",
    "test_dataset = CoNLLDataset(test_df)"
   ]
  },
  {
   "cell_type": "code",
   "execution_count": 17,
   "id": "5bb47000",
   "metadata": {
    "code_folding": []
   },
   "outputs": [],
   "source": [
    "train_loader = DataLoader(train_dataset,\n",
    "                              batch_size=BATCH_SIZE,\n",
    "                              shuffle=False,\n",
    "                              collate_fn=collate_fn,\n",
    "                              num_workers=0,\n",
    "                              pin_memory=True,\n",
    "                              drop_last=False)\n",
    "\n",
    "val_loader = DataLoader(val_dataset,\n",
    "                              batch_size=BATCH_SIZE,\n",
    "                              shuffle=False,\n",
    "                              collate_fn=collate_fn,\n",
    "                              num_workers=0,\n",
    "                              pin_memory=True,\n",
    "                              drop_last=False)\n",
    "\n",
    "test_loader = DataLoader(test_dataset,\n",
    "                              batch_size=BATCH_SIZE,\n",
    "                              shuffle=False,\n",
    "                              collate_fn=collate_fn,\n",
    "                              num_workers=0,\n",
    "                              pin_memory=True,\n",
    "                              drop_last=False)"
   ]
  },
  {
   "cell_type": "code",
   "execution_count": 18,
   "id": "51d4958c",
   "metadata": {},
   "outputs": [
    {
     "data": {
      "text/plain": [
       "BiLSTMTagger(\n",
       "  (embeddings): Embedding(11986, 100)\n",
       "  (lstm): LSTM(100, 64, num_layers=3, batch_first=True, bidirectional=True)\n",
       "  (fc): Linear(in_features=128, out_features=9, bias=True)\n",
       ")"
      ]
     },
     "execution_count": 18,
     "metadata": {},
     "output_type": "execute_result"
    }
   ],
   "source": [
    "tagger = BiLSTMTagger(EMBEDDING_DIM, HIDDEN_DIM, VOCAB_SIZE+2, NUM_CLASSES) \n",
    "tagger"
   ]
  },
  {
   "cell_type": "code",
   "execution_count": 19,
   "id": "98901cd8",
   "metadata": {
    "scrolled": true
   },
   "outputs": [
    {
     "data": {
      "application/vnd.jupyter.widget-view+json": {
       "model_id": "f4cfa0fb4a934a93aa36e1a894e9e141",
       "version_major": 2,
       "version_minor": 0
      },
      "text/plain": [
       "Epochs:   0%|          | 0/50 [00:00<?, ?it/s]"
      ]
     },
     "metadata": {},
     "output_type": "display_data"
    },
    {
     "name": "stdout",
     "output_type": "stream",
     "text": [
      "Total training loss: 337.196904823184\n",
      "Training Macro F1: 0.035226510071663095\n",
      "Total validation loss: 52.1132005751133\n",
      "Validation Macro F1: 0.18429102239874962\n",
      "Saving model.\n",
      "Total training loss: 159.1492236237973\n",
      "Training Macro F1: 0.35249762541557017\n",
      "Total validation loss: 30.063167622312903\n",
      "Validation Macro F1: 0.40968588031067005\n",
      "Saving model.\n",
      "Total training loss: 89.93668925110251\n",
      "Training Macro F1: 0.5886224096023904\n",
      "Total validation loss: 22.996962933801115\n",
      "Validation Macro F1: 0.6234341999549682\n",
      "Saving model.\n",
      "Total training loss: 54.58377280132845\n",
      "Training Macro F1: 0.7163602217842109\n",
      "Total validation loss: 19.176737124100327\n",
      "Validation Macro F1: 0.6756289233524693\n",
      "Saving model.\n",
      "Total training loss: 35.01707430323586\n",
      "Training Macro F1: 0.7824910679879308\n",
      "Total validation loss: 16.79302114818711\n",
      "Validation Macro F1: 0.7107519525607453\n",
      "Saving model.\n",
      "Total training loss: 22.966040141764097\n",
      "Training Macro F1: 0.8215979854946225\n",
      "Total validation loss: 17.002956366108265\n",
      "Validation Macro F1: 0.7153046456881363\n",
      "Saving model.\n",
      "Total training loss: 16.331026943807956\n",
      "Training Macro F1: 0.8430458354103306\n",
      "Total validation loss: 18.36405162443407\n",
      "Validation Macro F1: 0.7137143975833349\n",
      "Total training loss: 13.261327970598359\n",
      "Training Macro F1: 0.8545536185368242\n",
      "Total validation loss: 19.405368374689715\n",
      "Validation Macro F1: 0.7147880434664616\n",
      "Total training loss: 9.454090532613918\n",
      "Training Macro F1: 0.8635227066234948\n",
      "Total validation loss: 19.30391630998929\n",
      "Validation Macro F1: 0.7265323250824777\n",
      "Saving model.\n",
      "Total training loss: 7.792758405616041\n",
      "Training Macro F1: 0.8690779842885141\n",
      "Total validation loss: 21.41608444439771\n",
      "Validation Macro F1: 0.7167690823471626\n",
      "Total training loss: 6.319524533028016\n",
      "Training Macro F1: 0.8735141451857852\n",
      "Total validation loss: 21.460398317416548\n",
      "Validation Macro F1: 0.7225740146533002\n",
      "Total training loss: 5.7089221223504865\n",
      "Training Macro F1: 0.8752506307323737\n",
      "Total validation loss: 21.59735986441956\n",
      "Validation Macro F1: 0.7264361823866937\n",
      "Total training loss: 4.165911560157838\n",
      "Training Macro F1: 0.8781845338299046\n",
      "Total validation loss: 22.09520639787661\n",
      "Validation Macro F1: 0.7309497363766732\n",
      "Saving model.\n",
      "Total training loss: 3.057125595281832\n",
      "Training Macro F1: 0.8816153236001097\n",
      "Total validation loss: 23.207572938263183\n",
      "Validation Macro F1: 0.7346604579718288\n",
      "Saving model.\n",
      "Total training loss: 3.0712851044700074\n",
      "Training Macro F1: 0.8817147958389564\n",
      "Total validation loss: 23.285051784878306\n",
      "Validation Macro F1: 0.7326399360476691\n",
      "Total training loss: 2.631894562862726\n",
      "Training Macro F1: 0.8823013075575075\n",
      "Total validation loss: 23.913633382322587\n",
      "Validation Macro F1: 0.7348132463220796\n",
      "Saving model.\n",
      "Total training loss: 2.231685554192154\n",
      "Training Macro F1: 0.8843643532180884\n",
      "Total validation loss: 25.67162028711755\n",
      "Validation Macro F1: 0.7255246755905957\n",
      "Total training loss: 2.202603798108612\n",
      "Training Macro F1: 0.883688464052126\n",
      "Total validation loss: 29.65867576654273\n",
      "Validation Macro F1: 0.7136786373154403\n",
      "Total training loss: 2.677413139183045\n",
      "Training Macro F1: 0.8817235976457726\n",
      "Total validation loss: 27.323768282756646\n",
      "Validation Macro F1: 0.7286874250489014\n",
      "Total training loss: 2.4286086451029405\n",
      "Training Macro F1: 0.8831733977828001\n",
      "Total validation loss: 26.35428034276447\n",
      "Validation Macro F1: 0.7370257071451012\n",
      "Saving model.\n",
      "Total training loss: 1.4325328433842515\n",
      "Training Macro F1: 0.8859796909091117\n",
      "Total validation loss: 29.083424485964315\n",
      "Validation Macro F1: 0.7287248736271666\n",
      "Total training loss: 1.2541429653147134\n",
      "Training Macro F1: 0.8866289685160453\n",
      "Total validation loss: 29.225568782037953\n",
      "Validation Macro F1: 0.7336563448454698\n",
      "Total training loss: 0.9679070442389275\n",
      "Training Macro F1: 0.8871879045195694\n",
      "Total validation loss: 28.710358715262373\n",
      "Validation Macro F1: 0.7362306255606891\n",
      "Total training loss: 0.9348570845813811\n",
      "Training Macro F1: 0.887089228874094\n",
      "Total validation loss: 28.30362890100696\n",
      "Validation Macro F1: 0.7357261040277732\n",
      "Validation F-score does not improve anymore. Stop training.\n"
     ]
    }
   ],
   "source": [
    "train_f, dev_f = train(tagger.to(device), train_loader, val_loader, BATCH_SIZE, MAX_EPOCHS, \n",
    "                       num_batches, PATIENCE, OUTPUT_PATH)"
   ]
  },
  {
   "cell_type": "code",
   "execution_count": 20,
   "id": "76c752b4",
   "metadata": {},
   "outputs": [
    {
     "data": {
      "image/png": "[encoded data removed]",
      "text/plain": [
       "<Figure size 640x480 with 1 Axes>"
      ]
     },
     "metadata": {},
     "output_type": "display_data"
    }
   ],
   "source": [
    "df = pd.DataFrame({'epochs': range(0,len(train_f)), \n",
    "                  'train_f1': train_f, \n",
    "                   'dev_f1': dev_f})\n",
    "\n",
    "plt.plot('epochs', 'train_f1', data=df, color='blue', linewidth=2)\n",
    "plt.plot('epochs', 'dev_f1', data=df, color='green', linewidth=2)\n",
    "plt.legend()\n",
    "plt.show()"
   ]
  },
  {
   "cell_type": "code",
   "execution_count": 23,
   "id": "e6e89ad6",
   "metadata": {},
   "outputs": [],
   "source": [
    "# tagger = torch.load(OUTPUT_PATH)"
   ]
  },
  {
   "cell_type": "code",
   "execution_count": 22,
   "id": "68a11561",
   "metadata": {},
   "outputs": [
    {
     "name": "stdout",
     "output_type": "stream",
     "text": [
      "              precision    recall  f1-score   support\n",
      "\n",
      "       B-PER       0.86      0.68      0.76      1617\n",
      "       I-PER       0.90      0.74      0.81      1156\n",
      "       B-ORG       0.80      0.64      0.71      1661\n",
      "       I-ORG       0.84      0.69      0.76       835\n",
      "       B-LOC       0.91      0.76      0.82      1668\n",
      "       I-LOC       0.85      0.63      0.72       257\n",
      "      B-MISC       0.79      0.67      0.72       702\n",
      "      I-MISC       0.74      0.61      0.67       216\n",
      "\n",
      "   micro avg       0.85      0.69      0.76      8112\n",
      "   macro avg       0.84      0.68      0.75      8112\n",
      "weighted avg       0.85      0.69      0.76      8112\n",
      "\n"
     ]
    }
   ],
   "source": [
    "labels = list(label2id.keys())[1:]\n",
    "label_idxs = list(label2id.values())[1:]\n",
    "\n",
    "test(tagger, test_loader, BATCH_SIZE, labels = label_idxs, target_names = labels)"
   ]
  }
 ],
 "metadata": {
  "kernelspec": {
   "display_name": "goit",
   "language": "python",
   "name": "python3"
  },
  "language_info": {
   "codemirror_mode": {
    "name": "ipython",
    "version": 3
   },
   "file_extension": ".py",
   "mimetype": "text/x-python",
   "name": "python",
   "nbconvert_exporter": "python",
   "pygments_lexer": "ipython3",
   "version": "3.10.16"
  },
  "toc": {
   "base_numbering": 1,
   "nav_menu": {},
   "number_sections": true,
   "sideBar": true,
   "skip_h1_title": false,
   "title_cell": "Table of Contents",
   "title_sidebar": "Contents",
   "toc_cell": false,
   "toc_position": {},
   "toc_section_display": true,
   "toc_window_display": false
  }
 },
 "nbformat": 4,
 "nbformat_minor": 5
}
