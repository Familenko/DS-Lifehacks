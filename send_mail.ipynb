{
 "cells": [
  {
   "cell_type": "code",
   "execution_count": null,
   "id": "bb6e97bd",
   "metadata": {},
   "outputs": [],
   "source": [
    "import os\n",
    "import smtplib\n",
    "from email.message import EmailMessage\n",
    "import dotenv"
   ]
  },
  {
   "cell_type": "code",
   "execution_count": null,
   "id": "242f8720",
   "metadata": {},
   "outputs": [],
   "source": [
    "dotenv.load_dotenv()\n",
    "\n",
    "SENDER_EMAIL = os.getenv(\"EMAIL_USER\")\n",
    "SENDER_PASSWORD = os.getenv(\"EMAIL_PASS\")\n",
    "\n",
    "SMTP_PORT = os.getenv(\"SMTP_PORT\", 587)\n",
    "SMTP_SERVER = os.getenv(\"SMTP_SERVER\", \"smtp.office365.com\")"
   ]
  },
  {
   "cell_type": "code",
   "execution_count": null,
   "id": "2115b11b",
   "metadata": {},
   "outputs": [],
   "source": [
    "def send_email_with_attachment(receiver_email, subject, body, file_path=''):\n",
    "\t# Create email message\n",
    "\tmsg = EmailMessage()\n",
    "\tmsg['From'] = SENDER_EMAIL\n",
    "\tmsg['To'] = receiver_email\n",
    "\tmsg['Subject'] = subject\n",
    "\tmsg.set_content(body)\n",
    "\t\n",
    "\t# Attach the file\n",
    "\tif file_path and os.path.isfile(file_path):\n",
    "\t\twith open(file_path, 'rb') as f:\n",
    "\t\t\tfile_data = f.read()\n",
    "\t\t\tfile_name = os.path.basename(file_path)\n",
    "\t\tmsg.add_attachment(file_data, maintype='application', subtype='octet-stream', filename=file_name)\n",
    "\n",
    "\t# Send the email\n",
    "\twith smtplib.SMTP(SMTP_SERVER, SMTP_PORT) as server:\n",
    "\t\tserver.starttls()\n",
    "\t\tserver.login(SENDER_EMAIL, SENDER_PASSWORD)\n",
    "\t\tserver.send_message(msg)"
   ]
  },
  {
   "cell_type": "code",
   "execution_count": null,
   "id": "e5d90172",
   "metadata": {},
   "outputs": [],
   "source": [
    "subject = 'Test Email with Attachment'\n",
    "body = 'This is a test email with an attachment sent from Python'\n",
    "file_path = 'report.xlsx'\n",
    "receiver_email = 'recipient@example.com'\n",
    "\n",
    "send_email_with_attachment(receiver_email, subject, body, file_path)"
   ]
  }
 ],
 "metadata": {
  "kernelspec": {
   "display_name": "my_env",
   "language": "python",
   "name": "python3"
  },
  "language_info": {
   "codemirror_mode": {
    "name": "ipython",
    "version": 3
   },
   "file_extension": ".py",
   "mimetype": "text/x-python",
   "name": "python",
   "nbconvert_exporter": "python",
   "pygments_lexer": "ipython3",
   "version": "3.10.16"
  }
 },
 "nbformat": 4,
 "nbformat_minor": 5
}
